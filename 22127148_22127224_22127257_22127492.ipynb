{
 "cells": [
  {
   "cell_type": "markdown",
   "metadata": {},
   "source": [
    "# Table of contents\n",
    "1. [Team members](#team)\n",
    "2. [Libraries](#libraries)\n",
    "3. [Exploring data](#exploring)\n",
    "4. [Preprocessing data](#preprocessing)\n",
    "5. [Questions](#questions)\n",
    "    - [Question 1](#question-1)\n",
    "    - [Question 2](#question-2)\n",
    "    - [Question 3](#question-3)\n",
    "    - [Question 4](#question-4)\n",
    "    - [Question 5](#question-5)\n",
    "6. [Modelling](#modelling)\n",
    "    - [Data preparation](#modelling_preparation)\n",
    "    - [Models: ](#models)\n",
    "        - [Model 1 (change the number to the name of model. Ex: 1 -> Logistic Regression)](#model1)\n",
    "    - [Evaluation](#evaluation)\n",
    "7. [Reflection](#reflection)\n",
    "    - [Difficulties during the project](#difficulties)\n",
    "    - [Useful things learned](#useful)\n",
    "    - [Plans to improve if have more time](#plans)\n",
    "8. [References](#references)"
   ]
  },
  {
   "cell_type": "markdown",
   "metadata": {},
   "source": [
    "<h1 id = \"team\">1. Team members</h1>\n",
    "<style>\n",
    "  table {\n",
    "    margin: auto;\n",
    "    width: 45%; /* Adjust the width as needed */\n",
    "  }\n",
    "  td {\n",
    "    text-align: center;\n",
    "    padding: 8px; /* Adding padding for better readability */\n",
    "  }\n",
    "  th\n",
    "  {\n",
    "    text-align: center;\n",
    "  }\n",
    "</style>\n",
    "\n",
    "<table>\n",
    "    <tr>\n",
    "        <th> ID </th>\n",
    "        <th> NAME </th>\n",
    "    </tr>\n",
    "    <tr>\n",
    "        <td>22127148</td>\n",
    "        <td>Dương Nhật Huy</td>\n",
    "    </tr>\n",
    "    <tr>\n",
    "        <td>22127224</td>\n",
    "        <td>Trương Thuận Kiệt</td>\n",
    "    </tr>\n",
    "    <tr>\n",
    "        <td>22127257</td>\n",
    "        <td>Phạm Minh Mẫn</td>\n",
    "    </tr>\n",
    "    <tr>\n",
    "        <td>22127492</td>\n",
    "        <td>Hồ Đăng Phúc</td>\n",
    "    </tr>"
   ]
  },
  {
   "cell_type": "markdown",
   "metadata": {},
   "source": [
    "<h1 id = \"libraries\"> 2. Libraries </h1>"
   ]
  },
  {
   "cell_type": "code",
   "execution_count": 1,
   "metadata": {},
   "outputs": [],
   "source": [
    "import numpy as np\n",
    "import matplotlib.pyplot as plt\n",
    "import pandas as pd"
   ]
  },
  {
   "cell_type": "markdown",
   "metadata": {},
   "source": [
    "<h1 id = \"exploring\"> 3. Exploring data</h1>"
   ]
  },
  {
   "cell_type": "code",
   "execution_count": 4,
   "metadata": {},
   "outputs": [],
   "source": [
    "raw_data = pd.read_csv('./Data/full_data.csv')"
   ]
  },
  {
   "cell_type": "code",
   "execution_count": 7,
   "metadata": {},
   "outputs": [
    {
     "data": {
      "text/html": [
       "<div>\n",
       "<style scoped>\n",
       "    .dataframe tbody tr th:only-of-type {\n",
       "        vertical-align: middle;\n",
       "    }\n",
       "\n",
       "    .dataframe tbody tr th {\n",
       "        vertical-align: top;\n",
       "    }\n",
       "\n",
       "    .dataframe thead th {\n",
       "        text-align: right;\n",
       "    }\n",
       "</style>\n",
       "<table border=\"1\" class=\"dataframe\">\n",
       "  <thead>\n",
       "    <tr style=\"text-align: right;\">\n",
       "      <th></th>\n",
       "      <th>Title</th>\n",
       "      <th>CriticScore</th>\n",
       "      <th>UserScore</th>\n",
       "      <th>Link</th>\n",
       "      <th>PlatformReleased</th>\n",
       "      <th>Cast</th>\n",
       "      <th>Director</th>\n",
       "      <th>Genre</th>\n",
       "      <th>Rating</th>\n",
       "      <th>Runtime</th>\n",
       "      <th>Studio</th>\n",
       "      <th>Release Date</th>\n",
       "      <th>Production Budget</th>\n",
       "      <th>Domestic Gross</th>\n",
       "      <th>Worldwide Gross</th>\n",
       "      <th>Formated name</th>\n",
       "      <th>Metascore</th>\n",
       "      <th>Userscore</th>\n",
       "    </tr>\n",
       "  </thead>\n",
       "  <tbody>\n",
       "    <tr>\n",
       "      <th>0</th>\n",
       "      <td>LAConfidential</td>\n",
       "      <td>99%</td>\n",
       "      <td>94%</td>\n",
       "      <td>https://www.rottentomatoes.com/m/la_confidential</td>\n",
       "      <td>Cinema</td>\n",
       "      <td>Kevin Spacey, Russell Crowe, Guy Pearce, James...</td>\n",
       "      <td>Curtis Hanson</td>\n",
       "      <td>Crime, Drama</td>\n",
       "      <td>R</td>\n",
       "      <td>2h 16m</td>\n",
       "      <td>Warner Home Vídeo</td>\n",
       "      <td>Sep 19, 1997</td>\n",
       "      <td>$35,000,000</td>\n",
       "      <td>$64,604,977</td>\n",
       "      <td>$126,204,977</td>\n",
       "      <td>laconfidential</td>\n",
       "      <td>91</td>\n",
       "      <td>8.6</td>\n",
       "    </tr>\n",
       "    <tr>\n",
       "      <th>1</th>\n",
       "      <td>TheGodfather</td>\n",
       "      <td>97%</td>\n",
       "      <td>98%</td>\n",
       "      <td>https://www.rottentomatoes.com/m/the_godfather</td>\n",
       "      <td>Cinema</td>\n",
       "      <td>Marlon Brando, Al Pacino, James Caan, Richard ...</td>\n",
       "      <td>Francis Ford Coppola</td>\n",
       "      <td>Crime, Drama</td>\n",
       "      <td>R</td>\n",
       "      <td>2h 57m</td>\n",
       "      <td>Paramount Pictures</td>\n",
       "      <td>Mar 15, 1972</td>\n",
       "      <td>$7,000,000</td>\n",
       "      <td>$136,479,994</td>\n",
       "      <td>$270,007,394</td>\n",
       "      <td>thegodfather</td>\n",
       "      <td>100</td>\n",
       "      <td>9.3</td>\n",
       "    </tr>\n",
       "    <tr>\n",
       "      <th>2</th>\n",
       "      <td>Casablanca</td>\n",
       "      <td>99%</td>\n",
       "      <td>95%</td>\n",
       "      <td>https://www.rottentomatoes.com/m/1003707-casab...</td>\n",
       "      <td>Cinema</td>\n",
       "      <td>Humphrey Bogart, Ingrid Bergman, Paul Henreid,...</td>\n",
       "      <td>Michael Curtiz</td>\n",
       "      <td>Drama</td>\n",
       "      <td>PG</td>\n",
       "      <td>1h 42m</td>\n",
       "      <td>Warner Bros. Pictures</td>\n",
       "      <td>Jan 23, 1943</td>\n",
       "      <td>$1,039,000</td>\n",
       "      <td>$10,462,500</td>\n",
       "      <td>$10,567,179</td>\n",
       "      <td>casablanca</td>\n",
       "      <td>100</td>\n",
       "      <td>8.7</td>\n",
       "    </tr>\n",
       "    <tr>\n",
       "      <th>3</th>\n",
       "      <td>Parasite</td>\n",
       "      <td>99%</td>\n",
       "      <td>90%</td>\n",
       "      <td>https://www.rottentomatoes.com/m/parasite_2019</td>\n",
       "      <td>Cinema</td>\n",
       "      <td>Song Kang-ho, Lee Sun-kyun, Jo Yeo-jeong, Choi...</td>\n",
       "      <td>Bong Joon Ho</td>\n",
       "      <td>Comedy, Mystery &amp; Thriller, Drama</td>\n",
       "      <td>R</td>\n",
       "      <td>2h 12m</td>\n",
       "      <td>Neon</td>\n",
       "      <td>May 30, 2019</td>\n",
       "      <td>$11,800,000</td>\n",
       "      <td>$53,369,745</td>\n",
       "      <td>$253,267,858</td>\n",
       "      <td>parasite</td>\n",
       "      <td>97</td>\n",
       "      <td>8.9</td>\n",
       "    </tr>\n",
       "    <tr>\n",
       "      <th>4</th>\n",
       "      <td>SchindlersList</td>\n",
       "      <td>98%</td>\n",
       "      <td>97%</td>\n",
       "      <td>https://www.rottentomatoes.com/m/schindlers_list</td>\n",
       "      <td>Cinema</td>\n",
       "      <td>Liam Neeson, Ben Kingsley, Ralph Fiennes, Caro...</td>\n",
       "      <td>Steven Spielberg</td>\n",
       "      <td>History, Drama</td>\n",
       "      <td>R</td>\n",
       "      <td>3h 15m</td>\n",
       "      <td>Universal Pictures</td>\n",
       "      <td>Dec 15, 1993</td>\n",
       "      <td>$25,000,000</td>\n",
       "      <td>$96,898,818</td>\n",
       "      <td>$322,197,130</td>\n",
       "      <td>schindlerslist</td>\n",
       "      <td>95</td>\n",
       "      <td>9.2</td>\n",
       "    </tr>\n",
       "  </tbody>\n",
       "</table>\n",
       "</div>"
      ],
      "text/plain": [
       "            Title CriticScore UserScore  \\\n",
       "0  LAConfidential         99%       94%   \n",
       "1    TheGodfather         97%       98%   \n",
       "2      Casablanca         99%       95%   \n",
       "3        Parasite         99%       90%   \n",
       "4  SchindlersList         98%       97%   \n",
       "\n",
       "                                                Link PlatformReleased  \\\n",
       "0   https://www.rottentomatoes.com/m/la_confidential           Cinema   \n",
       "1     https://www.rottentomatoes.com/m/the_godfather           Cinema   \n",
       "2  https://www.rottentomatoes.com/m/1003707-casab...           Cinema   \n",
       "3     https://www.rottentomatoes.com/m/parasite_2019           Cinema   \n",
       "4   https://www.rottentomatoes.com/m/schindlers_list           Cinema   \n",
       "\n",
       "                                                Cast              Director  \\\n",
       "0  Kevin Spacey, Russell Crowe, Guy Pearce, James...         Curtis Hanson   \n",
       "1  Marlon Brando, Al Pacino, James Caan, Richard ...  Francis Ford Coppola   \n",
       "2  Humphrey Bogart, Ingrid Bergman, Paul Henreid,...        Michael Curtiz   \n",
       "3  Song Kang-ho, Lee Sun-kyun, Jo Yeo-jeong, Choi...          Bong Joon Ho   \n",
       "4  Liam Neeson, Ben Kingsley, Ralph Fiennes, Caro...      Steven Spielberg   \n",
       "\n",
       "                               Genre Rating Runtime                 Studio  \\\n",
       "0                       Crime, Drama      R  2h 16m      Warner Home Vídeo   \n",
       "1                       Crime, Drama      R  2h 57m     Paramount Pictures   \n",
       "2                              Drama     PG  1h 42m  Warner Bros. Pictures   \n",
       "3  Comedy, Mystery & Thriller, Drama      R  2h 12m                   Neon   \n",
       "4                     History, Drama      R  3h 15m     Universal Pictures   \n",
       "\n",
       "   Release Date Production Budget Domestic Gross Worldwide Gross  \\\n",
       "0  Sep 19, 1997       $35,000,000    $64,604,977    $126,204,977   \n",
       "1  Mar 15, 1972        $7,000,000   $136,479,994    $270,007,394   \n",
       "2  Jan 23, 1943        $1,039,000    $10,462,500     $10,567,179   \n",
       "3  May 30, 2019       $11,800,000    $53,369,745    $253,267,858   \n",
       "4  Dec 15, 1993       $25,000,000    $96,898,818    $322,197,130   \n",
       "\n",
       "    Formated name Metascore Userscore  \n",
       "0  laconfidential        91       8.6  \n",
       "1    thegodfather       100       9.3  \n",
       "2      casablanca       100       8.7  \n",
       "3        parasite        97       8.9  \n",
       "4  schindlerslist        95       9.2  "
      ]
     },
     "execution_count": 7,
     "metadata": {},
     "output_type": "execute_result"
    }
   ],
   "source": [
    "raw_data.head()"
   ]
  },
  {
   "cell_type": "markdown",
   "metadata": {},
   "source": [
    "### Number of rows and columns"
   ]
  },
  {
   "cell_type": "code",
   "execution_count": 6,
   "metadata": {},
   "outputs": [
    {
     "data": {
      "text/plain": [
       "(5082, 18)"
      ]
     },
     "execution_count": 6,
     "metadata": {},
     "output_type": "execute_result"
    }
   ],
   "source": [
    "shape = raw_data.shape  \n",
    "shape"
   ]
  },
  {
   "cell_type": "markdown",
   "metadata": {},
   "source": [
    "### The meaning of each line"
   ]
  },
  {
   "cell_type": "markdown",
   "metadata": {},
   "source": [
    "- Each line of the dataset is a record of a movie, and all records include various features of the movie like Name, Genres, Cast, Budget, Revenue, Runtime, etc"
   ]
  },
  {
   "cell_type": "markdown",
   "metadata": {},
   "source": [
    "### Duplicated rows"
   ]
  },
  {
   "cell_type": "code",
   "execution_count": 8,
   "metadata": {},
   "outputs": [
    {
     "data": {
      "text/plain": [
       "0"
      ]
     },
     "execution_count": 8,
     "metadata": {},
     "output_type": "execute_result"
    }
   ],
   "source": [
    "num_duplicates = raw_data.duplicated().sum()\n",
    "num_duplicates"
   ]
  },
  {
   "cell_type": "markdown",
   "metadata": {},
   "source": [
    "Phew, luckily no duplicated rows"
   ]
  },
  {
   "cell_type": "markdown",
   "metadata": {},
   "source": [
    "### The meaning of each column"
   ]
  },
  {
   "cell_type": "code",
   "execution_count": null,
   "metadata": {},
   "outputs": [],
   "source": []
  },
  {
   "cell_type": "markdown",
   "metadata": {},
   "source": [
    "### Data type of each column"
   ]
  },
  {
   "cell_type": "code",
   "execution_count": 9,
   "metadata": {},
   "outputs": [
    {
     "data": {
      "text/plain": [
       "Title                object\n",
       "CriticScore          object\n",
       "UserScore            object\n",
       "Link                 object\n",
       "PlatformReleased     object\n",
       "Cast                 object\n",
       "Director             object\n",
       "Genre                object\n",
       "Rating               object\n",
       "Runtime              object\n",
       "Studio               object\n",
       "Release Date         object\n",
       "Production Budget    object\n",
       "Domestic Gross       object\n",
       "Worldwide Gross      object\n",
       "Formated name        object\n",
       "Metascore            object\n",
       "Userscore            object\n",
       "dtype: object"
      ]
     },
     "execution_count": 9,
     "metadata": {},
     "output_type": "execute_result"
    }
   ],
   "source": [
    "dtype = raw_data.dtypes\n",
    "dtype"
   ]
  },
  {
   "cell_type": "markdown",
   "metadata": {},
   "source": [
    "As can be seen that, all types of each colum are currently objects. Therefore, those needs re-typing"
   ]
  },
  {
   "cell_type": "markdown",
   "metadata": {},
   "source": [
    "### Data retyping"
   ]
  },
  {
   "cell_type": "code",
   "execution_count": 10,
   "metadata": {},
   "outputs": [],
   "source": [
    "# TODO"
   ]
  },
  {
   "cell_type": "markdown",
   "metadata": {},
   "source": [
    "### Numerical column exploration"
   ]
  },
  {
   "cell_type": "markdown",
   "metadata": {},
   "source": [
    "For columns with numeric data types, calculate:\n",
    "- Percentage of missing values (From this and further calculation to propose a suitable approach to fill missing values of that column)\n",
    "- The min\n",
    "- The lower quartile\n",
    "- The median\n",
    "- The upper quartile\n",
    "- The max\n",
    "After calculating, give **visualization** to help get deeper understanding of data, from that graph/chart give some comments on the values' distribution of that column"
   ]
  },
  {
   "cell_type": "code",
   "execution_count": null,
   "metadata": {},
   "outputs": [],
   "source": [
    "# TODO"
   ]
  },
  {
   "cell_type": "markdown",
   "metadata": {},
   "source": [
    "### Categorical column exploration"
   ]
  },
  {
   "cell_type": "markdown",
   "metadata": {},
   "source": [
    "For columns with non-numeric data types, you calculate:\n",
    "- Percentage of missing values (From this and further calculation to propose a suitable approach to fill missing values of that column)\n",
    "- Count no of unique values and no of element of each value (There is a column cast is quite difficult to explore, try to find a way)\n",
    "-  Give **visualization** to help get deeper understanding of data, from that graph/chart or any collected information give some comments on the values' distribution of that column"
   ]
  },
  {
   "cell_type": "code",
   "execution_count": null,
   "metadata": {},
   "outputs": [],
   "source": [
    "# TODO"
   ]
  },
  {
   "cell_type": "markdown",
   "metadata": {},
   "source": [
    "<h1 id = \"preprocessing\"> 4. Preprocessing data </h1>"
   ]
  },
  {
   "cell_type": "code",
   "execution_count": null,
   "metadata": {},
   "outputs": [],
   "source": []
  },
  {
   "cell_type": "markdown",
   "metadata": {},
   "source": [
    "<h1 id = \"questions\"> 5. Questions </h1>"
   ]
  },
  {
   "cell_type": "markdown",
   "metadata": {},
   "source": [
    "<h2 id = question-1>5.1. Question 1</h2> "
   ]
  },
  {
   "cell_type": "markdown",
   "metadata": {},
   "source": []
  },
  {
   "cell_type": "markdown",
   "metadata": {},
   "source": [
    "<h2 id = question-2>5.2. Question 2</h2> "
   ]
  },
  {
   "cell_type": "markdown",
   "metadata": {},
   "source": []
  },
  {
   "cell_type": "markdown",
   "metadata": {},
   "source": [
    "<h2 id = question-3>5.3. Question 3</h2> "
   ]
  },
  {
   "cell_type": "markdown",
   "metadata": {},
   "source": []
  },
  {
   "cell_type": "markdown",
   "metadata": {},
   "source": [
    "<h2 id = question-4>5.4. Question 4</h2> "
   ]
  },
  {
   "cell_type": "markdown",
   "metadata": {},
   "source": []
  },
  {
   "cell_type": "markdown",
   "metadata": {},
   "source": [
    "<h2 id = question-5>5.5. Question 5</h2> "
   ]
  },
  {
   "cell_type": "markdown",
   "metadata": {},
   "source": []
  },
  {
   "cell_type": "markdown",
   "metadata": {},
   "source": [
    "<h1 id = \"modelling\">6. Modelling</h1>"
   ]
  },
  {
   "cell_type": "markdown",
   "metadata": {},
   "source": [
    "<h2 id = \"modelling_preparation\">6.1. Data preparation</h2> "
   ]
  },
  {
   "cell_type": "markdown",
   "metadata": {},
   "source": [
    "<h2 id = \"models\">6.2. Models</h2> "
   ]
  },
  {
   "cell_type": "markdown",
   "metadata": {},
   "source": [
    "<h2 id = \"models\">6.2. Models</h2> "
   ]
  },
  {
   "cell_type": "markdown",
   "metadata": {},
   "source": [
    "<h3 id = \"model1\">6.2.1 Model 1</h3> "
   ]
  },
  {
   "cell_type": "code",
   "execution_count": null,
   "metadata": {},
   "outputs": [],
   "source": []
  },
  {
   "cell_type": "markdown",
   "metadata": {},
   "source": [
    "<h2 id = >"
   ]
  },
  {
   "cell_type": "markdown",
   "metadata": {},
   "source": [
    "<h2 id = \"evaluation\">6.3. Evaluation</h2> "
   ]
  },
  {
   "cell_type": "code",
   "execution_count": null,
   "metadata": {},
   "outputs": [],
   "source": []
  },
  {
   "cell_type": "markdown",
   "metadata": {},
   "source": [
    "<h1 id = \"reflection\">7. Reflection</h1> "
   ]
  },
  {
   "cell_type": "markdown",
   "metadata": {},
   "source": [
    "<h2 id = \"difficulties\">7.1. Difficulties during the project</h2> "
   ]
  },
  {
   "cell_type": "markdown",
   "metadata": {},
   "source": []
  },
  {
   "cell_type": "markdown",
   "metadata": {},
   "source": [
    "<h2 id = \"useful\">7.2. Useful things learned</h2> "
   ]
  },
  {
   "cell_type": "markdown",
   "metadata": {},
   "source": []
  },
  {
   "cell_type": "markdown",
   "metadata": {},
   "source": [
    "<h2 id = \"plans\">7.3. Plans to improve if have more time</h2> "
   ]
  },
  {
   "cell_type": "markdown",
   "metadata": {},
   "source": []
  },
  {
   "cell_type": "markdown",
   "metadata": {},
   "source": [
    "<h1 id = \"references\">8. References</h1> "
   ]
  }
 ],
 "metadata": {
  "kernelspec": {
   "display_name": "min_ds-env",
   "language": "python",
   "name": "python3"
  },
  "language_info": {
   "codemirror_mode": {
    "name": "ipython",
    "version": 3
   },
   "file_extension": ".py",
   "mimetype": "text/x-python",
   "name": "python",
   "nbconvert_exporter": "python",
   "pygments_lexer": "ipython3",
   "version": "3.10.8"
  }
 },
 "nbformat": 4,
 "nbformat_minor": 2
}
