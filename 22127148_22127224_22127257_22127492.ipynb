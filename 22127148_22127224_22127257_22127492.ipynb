{
 "cells": [
  {
   "cell_type": "markdown",
   "metadata": {},
   "source": [
    " Table of contents\n",
    "1. [Team members](#team)\n",
    "2. [Libraries](#libraries)\n",
    "3. [Exploring data](#exploring)\n",
    "4. [Preprocessing data](#preprocessing)\n",
    "5. [Questions](#questions)\n",
    "    - [Question 1](#question-1)\n",
    "    - [Question 2](#question-2)\n",
    "    - [Question 3](#question-3)\n",
    "    - [Question 4](#question-4)\n",
    "    - [Question 5](#question-5)\n",
    "6. [Modelling](#modelling)\n",
    "    - [Data preparation](#modelling_preparation)\n",
    "    - [Models: ](#models)\n",
    "        - [Model 1 (change the number to the name of model. Ex: 1 -> Logistic Regression)](#model1)\n",
    "    - [Evaluation](#evaluation)\n",
    "7. [Reflection](#reflection)\n",
    "    - [Difficulties during the project](#difficulties)\n",
    "    - [Useful things learned](#useful)\n",
    "    - [Plans to improve if have more time](#plans)\n",
    "8. [References](#references)"
   ]
  },
  {
   "cell_type": "markdown",
   "metadata": {},
   "source": [
    "<h1 id = \"team\">1. Team members</h1>\n",
    "<style>\n",
    "  table {\n",
    "    margin: auto;\n",
    "    width: 45%; /* Adjust the width as needed */\n",
    "  }\n",
    "  td {\n",
    "    text-align: center;\n",
    "    padding: 8px; /* Adding padding for better readability */\n",
    "  }\n",
    "  th\n",
    "  {\n",
    "    text-align: center;\n",
    "  }\n",
    "</style>\n",
    "\n",
    "<table>\n",
    "    <tr>\n",
    "        <th> ID </th>\n",
    "        <th> NAME </th>\n",
    "    </tr>\n",
    "    <tr>\n",
    "        <td>22127148</td>\n",
    "        <td>Dương Nhật Huy</td>\n",
    "    </tr>\n",
    "    <tr>\n",
    "        <td>22127224</td>\n",
    "        <td>Trương Thuận Kiệt</td>\n",
    "    </tr>\n",
    "    <tr>\n",
    "        <td>22127257</td>\n",
    "        <td>Phạm Minh Mẫn</td>\n",
    "    </tr>\n",
    "    <tr>\n",
    "        <td>22127492</td>\n",
    "        <td>Hồ Đăng Phúc</td>\n",
    "    </tr>"
   ]
  },
  {
   "cell_type": "markdown",
   "metadata": {},
   "source": [
    "<h1 id = \"libraries\"> 2. Libraries </h1>"
   ]
  },
  {
   "cell_type": "code",
   "execution_count": 74,
   "metadata": {},
   "outputs": [],
   "source": [
    "import numpy as np\n",
    "import matplotlib.pyplot as plt\n",
    "import pandas as pd"
   ]
  },
  {
   "cell_type": "markdown",
   "metadata": {},
   "source": [
    "<h1 id = \"exploring\"> 3. Exploring data</h1>"
   ]
  },
  {
   "cell_type": "code",
   "execution_count": 75,
   "metadata": {},
   "outputs": [],
   "source": [
    "raw_data  = pd.read_csv('./Data/full_data.csv')"
   ]
  },
  {
   "cell_type": "code",
   "execution_count": 76,
   "metadata": {},
   "outputs": [
    {
     "data": {
      "text/html": [
       "<div>\n",
       "<style scoped>\n",
       "    .dataframe tbody tr th:only-of-type {\n",
       "        vertical-align: middle;\n",
       "    }\n",
       "\n",
       "    .dataframe tbody tr th {\n",
       "        vertical-align: top;\n",
       "    }\n",
       "\n",
       "    .dataframe thead th {\n",
       "        text-align: right;\n",
       "    }\n",
       "</style>\n",
       "<table border=\"1\" class=\"dataframe\">\n",
       "  <thead>\n",
       "    <tr style=\"text-align: right;\">\n",
       "      <th></th>\n",
       "      <th>Title</th>\n",
       "      <th>CriticScore</th>\n",
       "      <th>UserScore</th>\n",
       "      <th>Link</th>\n",
       "      <th>PlatformReleased</th>\n",
       "      <th>Cast</th>\n",
       "      <th>Director</th>\n",
       "      <th>Genre</th>\n",
       "      <th>Rating</th>\n",
       "      <th>Runtime</th>\n",
       "      <th>Studio</th>\n",
       "      <th>Release Date</th>\n",
       "      <th>Production Budget</th>\n",
       "      <th>Domestic Gross</th>\n",
       "      <th>Worldwide Gross</th>\n",
       "      <th>Formated name</th>\n",
       "      <th>Metascore</th>\n",
       "      <th>Userscore</th>\n",
       "    </tr>\n",
       "  </thead>\n",
       "  <tbody>\n",
       "    <tr>\n",
       "      <th>0</th>\n",
       "      <td>L.A. Confidential</td>\n",
       "      <td>99%</td>\n",
       "      <td>94%</td>\n",
       "      <td>https://www.rottentomatoes.com/m/la_confidential</td>\n",
       "      <td>Cinema</td>\n",
       "      <td>Kevin Spacey, Russell Crowe, Guy Pearce, James...</td>\n",
       "      <td>Curtis Hanson</td>\n",
       "      <td>Crime, Drama</td>\n",
       "      <td>R</td>\n",
       "      <td>2h 16m</td>\n",
       "      <td>Warner Home Vídeo</td>\n",
       "      <td>Sep 19, 1997</td>\n",
       "      <td>$35,000,000</td>\n",
       "      <td>$64,604,977</td>\n",
       "      <td>$126,204,977</td>\n",
       "      <td>l.a.confidential</td>\n",
       "      <td>91</td>\n",
       "      <td>8.6</td>\n",
       "    </tr>\n",
       "    <tr>\n",
       "      <th>1</th>\n",
       "      <td>The Godfather</td>\n",
       "      <td>97%</td>\n",
       "      <td>98%</td>\n",
       "      <td>https://www.rottentomatoes.com/m/the_godfather</td>\n",
       "      <td>Cinema</td>\n",
       "      <td>Marlon Brando, Al Pacino, James Caan, Richard ...</td>\n",
       "      <td>Francis Ford Coppola</td>\n",
       "      <td>Crime, Drama</td>\n",
       "      <td>R</td>\n",
       "      <td>2h 57m</td>\n",
       "      <td>Paramount Pictures</td>\n",
       "      <td>Mar 15, 1972</td>\n",
       "      <td>$7,000,000</td>\n",
       "      <td>$136,479,994</td>\n",
       "      <td>$270,007,394</td>\n",
       "      <td>thegodfather</td>\n",
       "      <td>100</td>\n",
       "      <td>9.3</td>\n",
       "    </tr>\n",
       "    <tr>\n",
       "      <th>2</th>\n",
       "      <td>Casablanca</td>\n",
       "      <td>99%</td>\n",
       "      <td>95%</td>\n",
       "      <td>https://www.rottentomatoes.com/m/1003707-casab...</td>\n",
       "      <td>Cinema</td>\n",
       "      <td>Humphrey Bogart, Ingrid Bergman, Paul Henreid,...</td>\n",
       "      <td>Michael Curtiz</td>\n",
       "      <td>Drama</td>\n",
       "      <td>PG</td>\n",
       "      <td>1h 42m</td>\n",
       "      <td>Warner Bros. Pictures</td>\n",
       "      <td>Jan 23, 1943</td>\n",
       "      <td>$1,039,000</td>\n",
       "      <td>$10,462,500</td>\n",
       "      <td>$10,567,179</td>\n",
       "      <td>casablanca</td>\n",
       "      <td>100</td>\n",
       "      <td>8.7</td>\n",
       "    </tr>\n",
       "    <tr>\n",
       "      <th>3</th>\n",
       "      <td>Parasite</td>\n",
       "      <td>99%</td>\n",
       "      <td>90%</td>\n",
       "      <td>https://www.rottentomatoes.com/m/parasite_2019</td>\n",
       "      <td>Cinema</td>\n",
       "      <td>Song Kang-ho, Lee Sun-kyun, Jo Yeo-jeong, Choi...</td>\n",
       "      <td>Bong Joon Ho</td>\n",
       "      <td>Comedy, Mystery &amp; Thriller, Drama</td>\n",
       "      <td>R</td>\n",
       "      <td>2h 12m</td>\n",
       "      <td>Neon</td>\n",
       "      <td>May 30, 2019</td>\n",
       "      <td>$11,800,000</td>\n",
       "      <td>$53,369,745</td>\n",
       "      <td>$253,267,858</td>\n",
       "      <td>parasite</td>\n",
       "      <td>97</td>\n",
       "      <td>8.9</td>\n",
       "    </tr>\n",
       "    <tr>\n",
       "      <th>4</th>\n",
       "      <td>Top Gun: Maverick</td>\n",
       "      <td>96%</td>\n",
       "      <td>99%</td>\n",
       "      <td>https://www.rottentomatoes.com/m/top_gun_maverick</td>\n",
       "      <td>Cinema</td>\n",
       "      <td>Tom Cruise, Miles Teller, Jennifer Connelly, J...</td>\n",
       "      <td>Joseph Kosinski</td>\n",
       "      <td>Action, Adventure</td>\n",
       "      <td>PG-13</td>\n",
       "      <td>2h 11m</td>\n",
       "      <td>Paramount Pictures</td>\n",
       "      <td>May 20, 2022</td>\n",
       "      <td>$170,000,000</td>\n",
       "      <td>$718,732,821</td>\n",
       "      <td>$1,464,400,233</td>\n",
       "      <td>topgun:maverick</td>\n",
       "      <td>78</td>\n",
       "      <td>8.4</td>\n",
       "    </tr>\n",
       "  </tbody>\n",
       "</table>\n",
       "</div>"
      ],
      "text/plain": [
       "               Title CriticScore UserScore  \\\n",
       "0  L.A. Confidential         99%       94%   \n",
       "1      The Godfather         97%       98%   \n",
       "2         Casablanca         99%       95%   \n",
       "3           Parasite         99%       90%   \n",
       "4  Top Gun: Maverick         96%       99%   \n",
       "\n",
       "                                                Link PlatformReleased  \\\n",
       "0   https://www.rottentomatoes.com/m/la_confidential           Cinema   \n",
       "1     https://www.rottentomatoes.com/m/the_godfather           Cinema   \n",
       "2  https://www.rottentomatoes.com/m/1003707-casab...           Cinema   \n",
       "3     https://www.rottentomatoes.com/m/parasite_2019           Cinema   \n",
       "4  https://www.rottentomatoes.com/m/top_gun_maverick           Cinema   \n",
       "\n",
       "                                                Cast              Director  \\\n",
       "0  Kevin Spacey, Russell Crowe, Guy Pearce, James...         Curtis Hanson   \n",
       "1  Marlon Brando, Al Pacino, James Caan, Richard ...  Francis Ford Coppola   \n",
       "2  Humphrey Bogart, Ingrid Bergman, Paul Henreid,...        Michael Curtiz   \n",
       "3  Song Kang-ho, Lee Sun-kyun, Jo Yeo-jeong, Choi...          Bong Joon Ho   \n",
       "4  Tom Cruise, Miles Teller, Jennifer Connelly, J...       Joseph Kosinski   \n",
       "\n",
       "                               Genre Rating Runtime                 Studio  \\\n",
       "0                       Crime, Drama      R  2h 16m      Warner Home Vídeo   \n",
       "1                       Crime, Drama      R  2h 57m     Paramount Pictures   \n",
       "2                              Drama     PG  1h 42m  Warner Bros. Pictures   \n",
       "3  Comedy, Mystery & Thriller, Drama      R  2h 12m                   Neon   \n",
       "4                  Action, Adventure  PG-13  2h 11m     Paramount Pictures   \n",
       "\n",
       "   Release Date Production Budget Domestic Gross Worldwide Gross  \\\n",
       "0  Sep 19, 1997       $35,000,000    $64,604,977    $126,204,977   \n",
       "1  Mar 15, 1972        $7,000,000   $136,479,994    $270,007,394   \n",
       "2  Jan 23, 1943        $1,039,000    $10,462,500     $10,567,179   \n",
       "3  May 30, 2019       $11,800,000    $53,369,745    $253,267,858   \n",
       "4  May 20, 2022      $170,000,000   $718,732,821  $1,464,400,233   \n",
       "\n",
       "      Formated name Metascore Userscore  \n",
       "0  l.a.confidential        91       8.6  \n",
       "1      thegodfather       100       9.3  \n",
       "2        casablanca       100       8.7  \n",
       "3          parasite        97       8.9  \n",
       "4   topgun:maverick        78       8.4  "
      ]
     },
     "execution_count": 76,
     "metadata": {},
     "output_type": "execute_result"
    }
   ],
   "source": [
    "raw_data.head()"
   ]
  },
  {
   "cell_type": "markdown",
   "metadata": {},
   "source": [
    "### Number of rows and columns"
   ]
  },
  {
   "cell_type": "code",
   "execution_count": 77,
   "metadata": {},
   "outputs": [
    {
     "data": {
      "text/plain": [
       "(5106, 18)"
      ]
     },
     "execution_count": 77,
     "metadata": {},
     "output_type": "execute_result"
    }
   ],
   "source": [
    "shape = raw_data.shape  \n",
    "shape"
   ]
  },
  {
   "cell_type": "markdown",
   "metadata": {},
   "source": [
    "### The meaning of each line"
   ]
  },
  {
   "cell_type": "markdown",
   "metadata": {},
   "source": [
    "- Each line of the dataset is a record of a movie, and all records include various features of the movie like Name, Genres, Cast, Budget, Revenue, Runtime, etc"
   ]
  },
  {
   "cell_type": "markdown",
   "metadata": {},
   "source": [
    "### Duplicated rows"
   ]
  },
  {
   "cell_type": "code",
   "execution_count": 78,
   "metadata": {},
   "outputs": [
    {
     "data": {
      "text/plain": [
       "np.int64(0)"
      ]
     },
     "execution_count": 78,
     "metadata": {},
     "output_type": "execute_result"
    }
   ],
   "source": [
    "num_duplicates = raw_data.duplicated().sum()\n",
    "num_duplicates"
   ]
  },
  {
   "cell_type": "markdown",
   "metadata": {},
   "source": [
    "Phew, luckily no duplicated rows"
   ]
  },
  {
   "cell_type": "markdown",
   "metadata": {},
   "source": [
    "### The meaning of each column\n",
    "- Title: The film title.\n",
    "- CriticScore and UserScore: Percentage-based scores from critics and users, respectively.\n",
    "- Link: URLs to movie pages.\n",
    "- PlatformReleased: Indicates release platforms, such as Cinema.\n",
    "- Cast and Director: Names of the main cast members and director.\n",
    "- Genre, Rating, and Runtime: Film genre, content rating (e.g., PG, R), and runtime.\n",
    "- Studio: The studio responsible for production or distribution.\n",
    "- Release Date: Specific release date.\n",
    "- Production Budget, Domestic Gross, and Worldwide Gross: Financial details in terms of budget and revenue.\n",
    "- Metascore and Usescore: Average scores given by critics and users on Metacritic website."
   ]
  },
  {
   "cell_type": "code",
   "execution_count": null,
   "metadata": {},
   "outputs": [],
   "source": []
  },
  {
   "cell_type": "code",
   "execution_count": null,
   "metadata": {},
   "outputs": [],
   "source": []
  },
  {
   "cell_type": "markdown",
   "metadata": {},
   "source": [
    "### Data type of each column"
   ]
  },
  {
   "cell_type": "code",
   "execution_count": 79,
   "metadata": {},
   "outputs": [
    {
     "data": {
      "text/plain": [
       "Title                object\n",
       "CriticScore          object\n",
       "UserScore            object\n",
       "Link                 object\n",
       "PlatformReleased     object\n",
       "Cast                 object\n",
       "Director             object\n",
       "Genre                object\n",
       "Rating               object\n",
       "Runtime              object\n",
       "Studio               object\n",
       "Release Date         object\n",
       "Production Budget    object\n",
       "Domestic Gross       object\n",
       "Worldwide Gross      object\n",
       "Formated name        object\n",
       "Metascore            object\n",
       "Userscore            object\n",
       "dtype: object"
      ]
     },
     "execution_count": 79,
     "metadata": {},
     "output_type": "execute_result"
    }
   ],
   "source": [
    "dtype = raw_data.dtypes\n",
    "dtype"
   ]
  },
  {
   "cell_type": "markdown",
   "metadata": {},
   "source": [
    "As can be seen that, all types of each colum are currently objects. Therefore, those needs re-typing"
   ]
  },
  {
   "cell_type": "markdown",
   "metadata": {},
   "source": [
    "### Data retyping"
   ]
  },
  {
   "cell_type": "code",
   "execution_count": null,
   "metadata": {},
   "outputs": [],
   "source": [
    "# TODO"
   ]
  },
  {
   "cell_type": "markdown",
   "metadata": {},
   "source": [
    "### Numerical column exploration"
   ]
  },
  {
   "cell_type": "markdown",
   "metadata": {},
   "source": [
    "For columns with numeric data types, calculate:\n",
    "- Percentage of missing values (From this and further calculation to propose a suitable approach to fill missing values of that column)\n",
    "- The min\n",
    "- The lower quartile\n",
    "- The median\n",
    "- The upper quartile\n",
    "- The max\n",
    "After calculating, give **visualization** to help get deeper understanding of data, from that graph/chart give some comments on the values' distribution of that column"
   ]
  },
  {
   "cell_type": "code",
   "execution_count": null,
   "metadata": {},
   "outputs": [],
   "source": [
    "# TODO"
   ]
  },
  {
   "cell_type": "markdown",
   "metadata": {},
   "source": [
    "### Categorical column exploration"
   ]
  },
  {
   "cell_type": "markdown",
   "metadata": {},
   "source": [
    "For columns with non-numeric data types, you calculate:\n",
    "- Percentage of missing values (From this and further calculation to propose a suitable approach to fill missing values of that column)\n",
    "- Count no of unique values and no of element of each value (There is a column cast is quite difficult to explore, try to find a way)\n",
    "- Give **visualization** to help get deeper understanding of data, from that graph/chart or any collected information give some comments on the values' distribution of that column"
   ]
  },
  {
   "cell_type": "markdown",
   "metadata": {},
   "source": [
    "<h4>Platform Released Column<h4>"
   ]
  },
  {
   "cell_type": "code",
   "execution_count": null,
   "metadata": {},
   "outputs": [],
   "source": []
  },
  {
   "cell_type": "markdown",
   "metadata": {},
   "source": [
    "<h4>Cast Column<h4>"
   ]
  },
  {
   "cell_type": "code",
   "execution_count": null,
   "metadata": {},
   "outputs": [],
   "source": []
  },
  {
   "cell_type": "markdown",
   "metadata": {},
   "source": [
    "Additional function to analyze categorical columns"
   ]
  },
  {
   "cell_type": "code",
   "execution_count": null,
   "metadata": {},
   "outputs": [],
   "source": [
    "import matplotlib.pyplot as plt\n",
    "import seaborn as sns\n",
    "\n",
    "# Set theme\n",
    "sns.set_theme(style=\"whitegrid\")\n",
    "\n",
    "data = raw_data.copy()\n",
    "\n",
    "def general_column_analysis(df, column_name, split_values=True, delimiter=', '):\n",
    "    # Percentage of missing values\n",
    "    missing_percentage = df[column_name].isnull().mean() * 100\n",
    "    \n",
    "    if split_values:\n",
    "        # Handle NaN values\n",
    "        all_values = df[column_name].fillna('')\n",
    "        \n",
    "        # Split and count\n",
    "        all_values = all_values.str.split(delimiter).explode()\n",
    "        # Remove empty strings\n",
    "        all_values = all_values[all_values != '']\n",
    "        \n",
    "        unique_values = all_values.value_counts()\n",
    "        unique_count = unique_values.size\n",
    "    else:\n",
    "        # Original counting method for non-split columns\n",
    "        unique_values = df[column_name].value_counts()\n",
    "        unique_count = unique_values.size\n",
    "    \n",
    "    plt.figure(figsize=(12, 6))\n",
    "    plot_data = unique_values.head(10)\n",
    "    \n",
    "    # Create horizontal bar plot\n",
    "    plt.barh(y=range(len(plot_data)), width=plot_data.values, \n",
    "            color=sns.color_palette(\"viridis\", 10))\n",
    "    plt.yticks(range(len(plot_data)), plot_data.index)\n",
    "    \n",
    "    # Layout\n",
    "    plt.title(f\"Top 10 Most Common Values in '{column_name}'\")\n",
    "    plt.xlabel(\"Frequency\")\n",
    "    plt.ylabel(column_name)\n",
    "    plt.tight_layout()\n",
    "    plt.show()\n",
    "    \n",
    "    # top 10 genres and their counts\n",
    "    print(\"\\nTop 10 most common values:\")\n",
    "    print(unique_values.head(10).to_frame('Count'))\n",
    "\n",
    "    return {\n",
    "        \"missing_percentage\": f\"{missing_percentage.round(3)}%\",\n",
    "        \"unique_count\": unique_count,\n",
    "        \"unique_values\": unique_values\n",
    "    }\n"
   ]
  },
  {
   "cell_type": "markdown",
   "metadata": {},
   "source": [
    "<h4>Director Column<h4>"
   ]
  },
  {
   "cell_type": "code",
   "execution_count": 92,
   "metadata": {},
   "outputs": [
    {
     "name": "stdout",
     "output_type": "stream",
     "text": [
      "unique_count: 3013\n"
     ]
    },
    {
     "data": {
      "image/png": "[encoded data removed]",
      "text/plain": [
       "<Figure size 1200x600 with 1 Axes>"
      ]
     },
     "metadata": {},
     "output_type": "display_data"
    },
    {
     "name": "stdout",
     "output_type": "stream",
     "text": [
      "\n",
      "Top 10 most common values:\n",
      "                   Count\n",
      "Director                \n",
      "Steven Spielberg      23\n",
      "Clint Eastwood        21\n",
      "Woody Allen           20\n",
      "Ridley Scott          17\n",
      "Martin Scorsese       14\n",
      "Spike Lee             13\n",
      "Robert Rodriguez      12\n",
      "Ron Howard            11\n",
      "Renny Harlin          11\n",
      "Steven Soderbergh     11\n"
     ]
    },
    {
     "data": {
      "text/plain": [
       "{'missing_percentage': '0.685%',\n",
       " 'unique_count': 3013,\n",
       " 'unique_values': Director\n",
       " Steven Spielberg    23\n",
       " Clint Eastwood      21\n",
       " Woody Allen         20\n",
       " Ridley Scott        17\n",
       " Martin Scorsese     14\n",
       "                     ..\n",
       " T. Hee               1\n",
       " Chinami Namba        1\n",
       " Howard Hawks         1\n",
       " Orson Welles         1\n",
       " Madoka Raine         1\n",
       " Name: count, Length: 3013, dtype: int64}"
      ]
     },
     "execution_count": 92,
     "metadata": {},
     "output_type": "execute_result"
    }
   ],
   "source": [
    "director_analysis = general_column_analysis(data, 'Director')\n",
    "director_analysis"
   ]
  },
  {
   "cell_type": "markdown",
   "metadata": {},
   "source": [
    "#### Directors analysis\n",
    "\n",
    "Key findings\n",
    " 1. Top 10 Most Frequent Directors\n",
    "The dataset reveals that a small group of directors has a significantly higher representation. Here are the top ten directors by count:\n",
    "\n",
    "- **Steven Spielberg**: 23 entries\n",
    "- **Clint Eastwood**: 21 entries\n",
    "- **Woody Allen**: 20 entries\n",
    "- **Ridley Scott**: 17 entries\n",
    "- **Martin Scorsese**: 14 entries\n",
    "- **Spike Lee**: 13 entries\n",
    "- **Robert Rodriguez**: 12 entries\n",
    "- **Ron Howard**: 11 entries\n",
    "- **Renny Harlin**: 11 entries\n",
    "- **Steven Soderbergh**: 11 entries\n",
    "\n",
    "    These directors represent a significant portion of the dataset, suggesting either their prolific careers or a dataset emphasis on well-known or frequently analyzed directors.\n",
    "\n",
    " 2. Data Diversity\n",
    "- **Unique Count**: There are **3,013 unique directors** in the dataset, reflecting substantial diversity with many lesser-known or single-appearance directors.\n",
    "- **Distribution**: While a few directors appear frequently, the majority appear only once, as seen in examples like T. Hee, Chinami Namba, Howard Hawks, Orson Welles, and Madoka Raine.\n",
    "\n",
    " 3. Missing Data\n",
    "- **Missing Percentage**: The dataset has a minimal missing percentage of **0.685%**. This low rate indicates good data quality, with nearly all director entries present.\n",
    "\n",
    "---\n",
    "\n",
    " Insights and Recommendations\n",
    "\n",
    "- **Data Skewness**: The distribution shows that while many unique directors are represented, a few prominent figures dominate the dataset. This skewness could influence analyses of director influence or trends, as findings may skew toward more popular directors.\n",
    "- **Analysis of Underrepresented Directors**: Given the diversity of directors, further analysis could focus on examining trends among those with only one entry. This might uncover patterns in niche genres, regional cinema, or emerging directors.\n",
    "- **Considerations for Comprehensive Analysis**: If the dataset is to be used for generalizing director trends, it might be beneficial to account for the dominance of high-frequency directors, perhaps by weighting entries or segmenting by frequency categories.\n",
    "\n",
    "---\n",
    "\n",
    "Conclusion\n",
    "\n",
    "The dataset offers a valuable resource for analyzing directors, with strong representation from both high-profile directors and lesser-known names. The minimal missing data ensures reliability, and the diversity in director representation opens possibilities for both mainstream and niche analyses. Further examination may benefit from separating high-frequency and single-entry directors to gain insights across the spectrum.\n"
   ]
  },
  {
   "cell_type": "markdown",
   "metadata": {},
   "source": [
    "<h4>Genre Column<h4>"
   ]
  },
  {
   "cell_type": "code",
   "execution_count": null,
   "metadata": {},
   "outputs": [
    {
     "data": {
      "image/png": "[encoded data removed]",
      "text/plain": [
       "<Figure size 1200x600 with 1 Axes>"
      ]
     },
     "metadata": {},
     "output_type": "display_data"
    },
    {
     "name": "stdout",
     "output_type": "stream",
     "text": [
      "\n",
      "Top 10 most common values:\n",
      "                    Count\n",
      "Genre                    \n",
      "Drama                2107\n",
      "Comedy               1704\n",
      "Mystery & Thriller    968\n",
      "Action                890\n",
      "Adventure             759\n",
      "Horror                502\n",
      "Romance               457\n",
      "Fantasy               434\n",
      "Kids & Family         408\n",
      "Sci-Fi                395\n"
     ]
    },
    {
     "data": {
      "text/plain": [
       "{'missing_percentage': '0.901%',\n",
       " 'unique_count': 26,\n",
       " 'unique_values': Genre\n",
       " Drama                   2107\n",
       " Comedy                  1704\n",
       " Mystery & Thriller       968\n",
       " Action                   890\n",
       " Adventure                759\n",
       " Horror                   502\n",
       " Romance                  457\n",
       " Fantasy                  434\n",
       " Kids & Family            408\n",
       " Sci-Fi                   395\n",
       " Animation                276\n",
       " Crime                    258\n",
       " Biography                198\n",
       " History                  194\n",
       " Documentary              162\n",
       " Musical                  122\n",
       " War                      100\n",
       " LGBTQ+                    83\n",
       " Western                   77\n",
       " Holiday                   76\n",
       " Music                     38\n",
       " Anime                      8\n",
       " Foreign                    1\n",
       " Sports                     1\n",
       " Faith & Spirituality       1\n",
       " Other                      1\n",
       " Name: count, dtype: int64}"
      ]
     },
     "execution_count": 90,
     "metadata": {},
     "output_type": "execute_result"
    }
   ],
   "source": [
    "genre_analysis = general_column_analysis(data, 'Genre')\n",
    "genre_analysis   "
   ]
  },
  {
   "cell_type": "markdown",
   "metadata": {},
   "source": [
    "#### Genre Analysis\n",
    " \n",
    " Key Findings\n",
    "1. Top 10 Most Frequent Genres\n",
    "The dataset shows a strong concentration in a few popular genres. Here are the top ten genres by frequency:\n",
    "\n",
    "- **Drama**: 2,107 entries\n",
    "- **Comedy**: 1,704 entries\n",
    "- **Mystery & Thriller**: 968 entries\n",
    "- **Action**: 890 entries\n",
    "- **Adventure**: 759 entries\n",
    "- **Horror**: 502 entries\n",
    "- **Romance**: 457 entries\n",
    "- **Fantasy**: 434 entries\n",
    "- **Kids & Family**: 408 entries\n",
    "- **Sci-Fi**: 395 entries\n",
    "\n",
    "    These top genres make up a significant portion of the dataset, highlighting an emphasis on mainstream genres that appeal broadly to audiences.\n",
    "\n",
    " 2. Data Diversity\n",
    "- **Unique Count**: The dataset includes **26 unique genres**, suggesting a moderate level of diversity.\n",
    "- **Distribution**: While certain genres are highly prevalent, others, such as *Foreign*, *Sports*, and *Faith & Spirituality*, have minimal representation (1 entry each). This distribution indicates that niche genres are underrepresented compared to popular categories like Drama and Comedy.\n",
    "\n",
    " 3. Missing Data\n",
    "- **Missing Percentage**: The dataset has a low missing percentage of **0.901%**, indicating that the genre data is largely complete and reliable.\n",
    "\n",
    "---\n",
    "\n",
    " Insights and Recommendations\n",
    "\n",
    "- **Data Skewness**: The dataset is skewed towards mainstream genres like Drama and Comedy, which could influence analyses on genre popularity or trends, favoring these popular genres over niche ones.\n",
    "- **Analysis of Underrepresented Genres**: Niche genres with few entries, such as *Foreign* and *Sports*, might benefit from separate analysis. Examining these genres could uncover unique trends and appeal factors within less common categories.\n",
    "- **Considerations for Generalization**: If the dataset is used for broad genre analysis, it's essential to account for the imbalance by potentially weighting genres or segmenting analyses to prevent dominant genres from overshadowing niche insights.\n",
    "\n",
    "---\n",
    "\n",
    "Conclusion\n",
    "\n",
    "The dataset provides a valuable resource for genre analysis, with solid representation of mainstream genres and a lower presence of niche categories. The low missing data ensures data reliability, and the range of genres offers potential for both mainstream and niche analyses. For a comprehensive view, further segmentation by genre frequency could yield deeper insights into both widely enjoyed and specialized genres.\n"
   ]
  },
  {
   "cell_type": "markdown",
   "metadata": {},
   "source": [
    "<h4>Rating Column<h4>"
   ]
  },
  {
   "cell_type": "code",
   "execution_count": 85,
   "metadata": {},
   "outputs": [
    {
     "data": {
      "image/png": "[encoded data removed]",
      "text/plain": [
       "<Figure size 1200x600 with 1 Axes>"
      ]
     },
     "metadata": {},
     "output_type": "display_data"
    },
    {
     "name": "stdout",
     "output_type": "stream",
     "text": [
      "\n",
      "Top 10 most common values:\n",
      "        Count\n",
      "Rating       \n",
      "R        1886\n",
      "PG-13    1282\n",
      "PG        680\n",
      "G         111\n",
      "TV-PG      19\n",
      "TV-14      14\n",
      "TV-MA       9\n",
      "TV-G        7\n",
      "NC-17       7\n"
     ]
    },
    {
     "data": {
      "text/plain": [
       "{'missing_percentage': '21.367%',\n",
       " 'unique_count': 9,\n",
       " 'unique_values': Rating\n",
       " R        1886\n",
       " PG-13    1282\n",
       " PG        680\n",
       " G         111\n",
       " TV-PG      19\n",
       " TV-14      14\n",
       " TV-MA       9\n",
       " TV-G        7\n",
       " NC-17       7\n",
       " Name: count, dtype: int64}"
      ]
     },
     "execution_count": 85,
     "metadata": {},
     "output_type": "execute_result"
    }
   ],
   "source": [
    "rating_analysis = general_column_analysis(data, 'Rating')\n",
    "rating_analysis"
   ]
  },
  {
   "cell_type": "markdown",
   "metadata": {},
   "source": [
    "#### Rating Analysis\n",
    "\n",
    "Key Findings\n",
    "\n",
    "1. Top 10 Most Frequent Ratings\n",
    "The dataset shows a strong concentration of content rated for mature audiences. Here are the most frequent ratings by count:\n",
    "\n",
    "- **R**: 1,886 entries\n",
    "- **PG-13**: 1,282 entries\n",
    "- **PG**: 680 entries\n",
    "- **G**: 111 entries\n",
    "- **TV-PG**: 19 entries\n",
    "- **TV-14**: 14 entries\n",
    "- **TV-MA**: 9 entries\n",
    "- **TV-G**: 7 entries\n",
    "- **NC-17**: 7 entries\n",
    "\n",
    "    The predominance of *R* and *PG-13* ratings suggests the dataset leans towards content designed for older audiences.\n",
    "\n",
    "2. Data Diversity\n",
    "- **Unique Count**: There are **9 unique ratings** within the dataset, which covers a range of audience suitability from *G* to *NC-17*.\n",
    "- **Distribution**: The bulk of entries are rated *R* and *PG-13*, while *TV* ratings (*TV-PG*, *TV-14*, *TV-MA*, *TV-G*) and *NC-17* are less represented. This distribution suggests an emphasis on theatrical releases or mature-themed content over family or TV-oriented programming.\n",
    "\n",
    "3. Missing Data\n",
    "- **Missing Percentage**: The dataset has a relatively high missing percentage of **21.367%** for ratings. This indicates that over a fifth of the entries lack rating information, potentially limiting the reliability of analyses focused on content suitability or audience targeting.\n",
    "\n",
    "---\n",
    "\n",
    "Insights and Recommendations\n",
    "\n",
    "- **Data Skewness**: With *R* and *PG-13* accounting for the majority of entries, the dataset may not reflect a balanced view of family-friendly or universally suitable content.\n",
    "- **Analysis of TV and Restricted Ratings**: The dataset includes a small portion of *TV* ratings (e.g., *TV-PG*, *TV-14*, *TV-MA*), suggesting limited representation of TV-exclusive content. If these ratings are of interest, supplementing the dataset with additional entries could provide a fuller picture of TV programming trends.\n",
    "- **Addressing Missing Ratings**: The high missing percentage may impact analyses on content rating trends. To enhance accuracy, it is recommended to either impute missing ratings where possible or treat missing data separately to avoid skewed insights.\n",
    "\n",
    "---\n",
    "\n",
    "Conclusion\n",
    "\n",
    "The dataset provides insights primarily into mature-rated and theatrically released content, with limited representation of family-friendly or TV-specific programming. The high missing data percentage suggests caution when interpreting rating distributions, as the absence of information may impact certain analyses. To create a more balanced dataset, additional entries in family and TV categories could be considered, alongside methods to address the missing ratings.\n"
   ]
  },
  {
   "cell_type": "markdown",
   "metadata": {},
   "source": [
    "<h4>Studio Column<h4>"
   ]
  },
  {
   "cell_type": "code",
   "execution_count": null,
   "metadata": {},
   "outputs": [],
   "source": []
  },
  {
   "cell_type": "code",
   "execution_count": null,
   "metadata": {},
   "outputs": [],
   "source": []
  },
  {
   "cell_type": "code",
   "execution_count": null,
   "metadata": {},
   "outputs": [],
   "source": [
    "# TODO"
   ]
  },
  {
   "cell_type": "markdown",
   "metadata": {},
   "source": [
    "<h1 id = \"preprocessing\"> 4. Preprocessing data </h1>"
   ]
  },
  {
   "cell_type": "code",
   "execution_count": null,
   "metadata": {},
   "outputs": [],
   "source": []
  },
  {
   "cell_type": "markdown",
   "metadata": {},
   "source": [
    "<h1 id = \"questions\"> 5. Questions </h1>"
   ]
  },
  {
   "cell_type": "markdown",
   "metadata": {},
   "source": [
    "<h2 id = question-1>5.1. Question 1</h2> "
   ]
  },
  {
   "cell_type": "markdown",
   "metadata": {},
   "source": []
  },
  {
   "cell_type": "markdown",
   "metadata": {},
   "source": [
    "<h2 id = question-2>5.2. Question 2</h2> "
   ]
  },
  {
   "cell_type": "markdown",
   "metadata": {},
   "source": []
  },
  {
   "cell_type": "markdown",
   "metadata": {},
   "source": [
    "<h2 id = question-3>5.3. Question 3</h2> "
   ]
  },
  {
   "cell_type": "markdown",
   "metadata": {},
   "source": []
  },
  {
   "cell_type": "markdown",
   "metadata": {},
   "source": [
    "<h2 id = question-4>5.4. Question 4</h2> "
   ]
  },
  {
   "cell_type": "markdown",
   "metadata": {},
   "source": []
  },
  {
   "cell_type": "markdown",
   "metadata": {},
   "source": [
    "<h2 id = question-5>5.5. Question 5</h2> "
   ]
  },
  {
   "cell_type": "markdown",
   "metadata": {},
   "source": []
  },
  {
   "cell_type": "markdown",
   "metadata": {},
   "source": [
    "<h1 id = \"modelling\">6. Modelling</h1>"
   ]
  },
  {
   "cell_type": "markdown",
   "metadata": {},
   "source": [
    "<h2 id = \"modelling_preparation\">6.1. Data preparation</h2> "
   ]
  },
  {
   "cell_type": "markdown",
   "metadata": {},
   "source": [
    "<h2 id = \"models\">6.2. Models</h2> "
   ]
  },
  {
   "cell_type": "markdown",
   "metadata": {},
   "source": [
    "<h2 id = \"models\">6.2. Models</h2> "
   ]
  },
  {
   "cell_type": "markdown",
   "metadata": {},
   "source": [
    "<h3 id = \"model1\">6.2.1 Model 1</h3> "
   ]
  },
  {
   "cell_type": "code",
   "execution_count": null,
   "metadata": {},
   "outputs": [],
   "source": []
  },
  {
   "cell_type": "markdown",
   "metadata": {},
   "source": [
    "<h2 id = >"
   ]
  },
  {
   "cell_type": "markdown",
   "metadata": {},
   "source": [
    "<h2 id = \"evaluation\">6.3. Evaluation</h2> "
   ]
  },
  {
   "cell_type": "code",
   "execution_count": null,
   "metadata": {},
   "outputs": [],
   "source": []
  },
  {
   "cell_type": "markdown",
   "metadata": {},
   "source": [
    "<h1 id = \"reflection\">7. Reflection</h1> "
   ]
  },
  {
   "cell_type": "markdown",
   "metadata": {},
   "source": [
    "<h2 id = \"difficulties\">7.1. Difficulties during the project</h2> "
   ]
  },
  {
   "cell_type": "markdown",
   "metadata": {},
   "source": []
  },
  {
   "cell_type": "markdown",
   "metadata": {},
   "source": [
    "<h2 id = \"useful\">7.2. Useful things learned</h2> "
   ]
  },
  {
   "cell_type": "markdown",
   "metadata": {},
   "source": []
  },
  {
   "cell_type": "markdown",
   "metadata": {},
   "source": [
    "<h2 id = \"plans\">7.3. Plans to improve if have more time</h2> "
   ]
  },
  {
   "cell_type": "markdown",
   "metadata": {},
   "source": []
  },
  {
   "cell_type": "markdown",
   "metadata": {},
   "source": [
    "<h1 id = \"references\">8. References</h1> "
   ]
  }
 ],
 "metadata": {
  "kernelspec": {
   "display_name": "Python 3",
   "language": "python",
   "name": "python3"
  },
  "language_info": {
   "codemirror_mode": {
    "name": "ipython",
    "version": 3
   },
   "file_extension": ".py",
   "mimetype": "text/x-python",
   "name": "python",
   "nbconvert_exporter": "python",
   "pygments_lexer": "ipython3",
   "version": "3.12.7"
  }
 },
 "nbformat": 4,
 "nbformat_minor": 2
}
