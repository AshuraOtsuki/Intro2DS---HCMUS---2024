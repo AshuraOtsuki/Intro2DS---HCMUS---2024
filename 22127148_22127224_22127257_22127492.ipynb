{
 "cells": [
  {
   "cell_type": "markdown",
   "metadata": {},
   "source": [
    "# Table of contents\n",
    "1. [Team members](#team)\n",
    "2. [Libraries](#libraries)\n",
    "3. [Exploring data](#exploring)\n",
    "4. [Preprocessing data](#preprocessing)\n",
    "5. [Questions](#questions)\n",
    "    - [Question 1](#question-1)\n",
    "    - [Question 2](#question-2)\n",
    "    - [Question 3](#question-3)\n",
    "    - [Question 4](#question-4)\n",
    "    - [Question 5](#question-5)\n",
    "6. [Modelling](#modelling)\n",
    "    - [Data preparation](#modelling_preparation)\n",
    "    - [Models: ](#models)\n",
    "        - [Model 1 (change the number to the name of model. Ex: 1 -> Logistic Regression)](#model1)\n",
    "    - [Evaluation](#evaluation)\n",
    "7. [Reflection](#reflection)\n",
    "    - [Difficulties during the project](#difficulties)\n",
    "    - [Useful things learned](#useful)\n",
    "    - [Plans to improve if have more time](#plans)\n",
    "8. [References](#references)"
   ]
  },
  {
   "cell_type": "markdown",
   "metadata": {},
   "source": [
    "<h1 id = \"team\">1. Team members</h1>\n",
    "<style>\n",
    "  table {\n",
    "    margin: auto;\n",
    "    width: 45%; /* Adjust the width as needed */\n",
    "  }\n",
    "  td {\n",
    "    text-align: center;\n",
    "    padding: 8px; /* Adding padding for better readability */\n",
    "  }\n",
    "  th\n",
    "  {\n",
    "    text-align: center;\n",
    "  }\n",
    "</style>\n",
    "\n",
    "<table>\n",
    "    <tr>\n",
    "        <th> ID </th>\n",
    "        <th> NAME </th>\n",
    "    </tr>\n",
    "    <tr>\n",
    "        <td>22127148</td>\n",
    "        <td>Dương Nhật Huy</td>\n",
    "    </tr>\n",
    "    <tr>\n",
    "        <td>22127224</td>\n",
    "        <td>Trương Thuận Kiệt</td>\n",
    "    </tr>\n",
    "    <tr>\n",
    "        <td>22127257</td>\n",
    "        <td>Phạm Minh Mẫn</td>\n",
    "    </tr>\n",
    "    <tr>\n",
    "        <td>22127492</td>\n",
    "        <td>Hồ Đăng Phúc</td>\n",
    "    </tr>"
   ]
  },
  {
   "cell_type": "markdown",
   "metadata": {},
   "source": [
    "<h1 id = \"libraries\"> 2. Libraries </h1>"
   ]
  },
  {
   "cell_type": "code",
   "execution_count": 130,
   "metadata": {},
   "outputs": [],
   "source": [
    "import numpy as np\n",
    "import matplotlib.pyplot as plt\n",
    "import pandas as pd\n",
    "import re"
   ]
  },
  {
   "cell_type": "markdown",
   "metadata": {},
   "source": [
    "<h1 id = \"exploring\"> 3. Exploring data</h1>"
   ]
  },
  {
   "cell_type": "code",
   "execution_count": 131,
   "metadata": {},
   "outputs": [],
   "source": [
    "raw_data  = pd.read_csv('./Data/full_data.csv')"
   ]
  },
  {
   "cell_type": "code",
   "execution_count": 132,
   "metadata": {},
   "outputs": [
    {
     "data": {
      "text/html": [
       "<div>\n",
       "<style scoped>\n",
       "    .dataframe tbody tr th:only-of-type {\n",
       "        vertical-align: middle;\n",
       "    }\n",
       "\n",
       "    .dataframe tbody tr th {\n",
       "        vertical-align: top;\n",
       "    }\n",
       "\n",
       "    .dataframe thead th {\n",
       "        text-align: right;\n",
       "    }\n",
       "</style>\n",
       "<table border=\"1\" class=\"dataframe\">\n",
       "  <thead>\n",
       "    <tr style=\"text-align: right;\">\n",
       "      <th></th>\n",
       "      <th>Title</th>\n",
       "      <th>CriticScore</th>\n",
       "      <th>UserScore</th>\n",
       "      <th>Link</th>\n",
       "      <th>PlatformReleased</th>\n",
       "      <th>Cast</th>\n",
       "      <th>Director</th>\n",
       "      <th>Genre</th>\n",
       "      <th>Rating</th>\n",
       "      <th>Runtime</th>\n",
       "      <th>Studio</th>\n",
       "      <th>Release Date</th>\n",
       "      <th>Production Budget</th>\n",
       "      <th>Domestic Gross</th>\n",
       "      <th>Worldwide Gross</th>\n",
       "      <th>Formated name</th>\n",
       "      <th>Metascore</th>\n",
       "      <th>Userscore</th>\n",
       "    </tr>\n",
       "  </thead>\n",
       "  <tbody>\n",
       "    <tr>\n",
       "      <th>0</th>\n",
       "      <td>L.A. Confidential</td>\n",
       "      <td>99%</td>\n",
       "      <td>94%</td>\n",
       "      <td>https://www.rottentomatoes.com/m/la_confidential</td>\n",
       "      <td>Cinema</td>\n",
       "      <td>Kevin Spacey, Russell Crowe, Guy Pearce, James...</td>\n",
       "      <td>Curtis Hanson</td>\n",
       "      <td>Crime, Drama</td>\n",
       "      <td>R</td>\n",
       "      <td>2h 16m</td>\n",
       "      <td>Warner Home Vídeo</td>\n",
       "      <td>Sep 19, 1997</td>\n",
       "      <td>$35,000,000</td>\n",
       "      <td>$64,604,977</td>\n",
       "      <td>$126,204,977</td>\n",
       "      <td>l.a.confidential</td>\n",
       "      <td>91</td>\n",
       "      <td>8.6</td>\n",
       "    </tr>\n",
       "    <tr>\n",
       "      <th>1</th>\n",
       "      <td>The Godfather</td>\n",
       "      <td>97%</td>\n",
       "      <td>98%</td>\n",
       "      <td>https://www.rottentomatoes.com/m/the_godfather</td>\n",
       "      <td>Cinema</td>\n",
       "      <td>Marlon Brando, Al Pacino, James Caan, Richard ...</td>\n",
       "      <td>Francis Ford Coppola</td>\n",
       "      <td>Crime, Drama</td>\n",
       "      <td>R</td>\n",
       "      <td>2h 57m</td>\n",
       "      <td>Paramount Pictures</td>\n",
       "      <td>Mar 15, 1972</td>\n",
       "      <td>$7,000,000</td>\n",
       "      <td>$136,479,994</td>\n",
       "      <td>$270,007,394</td>\n",
       "      <td>thegodfather</td>\n",
       "      <td>100</td>\n",
       "      <td>9.3</td>\n",
       "    </tr>\n",
       "    <tr>\n",
       "      <th>2</th>\n",
       "      <td>Casablanca</td>\n",
       "      <td>99%</td>\n",
       "      <td>95%</td>\n",
       "      <td>https://www.rottentomatoes.com/m/1003707-casab...</td>\n",
       "      <td>Cinema</td>\n",
       "      <td>Humphrey Bogart, Ingrid Bergman, Paul Henreid,...</td>\n",
       "      <td>Michael Curtiz</td>\n",
       "      <td>Drama</td>\n",
       "      <td>PG</td>\n",
       "      <td>1h 42m</td>\n",
       "      <td>Warner Bros. Pictures</td>\n",
       "      <td>Jan 23, 1943</td>\n",
       "      <td>$1,039,000</td>\n",
       "      <td>$10,462,500</td>\n",
       "      <td>$10,567,179</td>\n",
       "      <td>casablanca</td>\n",
       "      <td>100</td>\n",
       "      <td>8.7</td>\n",
       "    </tr>\n",
       "    <tr>\n",
       "      <th>3</th>\n",
       "      <td>Parasite</td>\n",
       "      <td>99%</td>\n",
       "      <td>90%</td>\n",
       "      <td>https://www.rottentomatoes.com/m/parasite_2019</td>\n",
       "      <td>Cinema</td>\n",
       "      <td>Song Kang-ho, Lee Sun-kyun, Jo Yeo-jeong, Choi...</td>\n",
       "      <td>Bong Joon Ho</td>\n",
       "      <td>Comedy, Mystery &amp; Thriller, Drama</td>\n",
       "      <td>R</td>\n",
       "      <td>2h 12m</td>\n",
       "      <td>Neon</td>\n",
       "      <td>May 30, 2019</td>\n",
       "      <td>$11,800,000</td>\n",
       "      <td>$53,369,745</td>\n",
       "      <td>$253,267,858</td>\n",
       "      <td>parasite</td>\n",
       "      <td>97</td>\n",
       "      <td>8.9</td>\n",
       "    </tr>\n",
       "    <tr>\n",
       "      <th>4</th>\n",
       "      <td>Top Gun: Maverick</td>\n",
       "      <td>96%</td>\n",
       "      <td>99%</td>\n",
       "      <td>https://www.rottentomatoes.com/m/top_gun_maverick</td>\n",
       "      <td>Cinema</td>\n",
       "      <td>Tom Cruise, Miles Teller, Jennifer Connelly, J...</td>\n",
       "      <td>Joseph Kosinski</td>\n",
       "      <td>Action, Adventure</td>\n",
       "      <td>PG-13</td>\n",
       "      <td>2h 11m</td>\n",
       "      <td>Paramount Pictures</td>\n",
       "      <td>May 20, 2022</td>\n",
       "      <td>$170,000,000</td>\n",
       "      <td>$718,732,821</td>\n",
       "      <td>$1,464,400,233</td>\n",
       "      <td>topgun:maverick</td>\n",
       "      <td>78</td>\n",
       "      <td>8.4</td>\n",
       "    </tr>\n",
       "  </tbody>\n",
       "</table>\n",
       "</div>"
      ],
      "text/plain": [
       "               Title CriticScore UserScore  \\\n",
       "0  L.A. Confidential         99%       94%   \n",
       "1      The Godfather         97%       98%   \n",
       "2         Casablanca         99%       95%   \n",
       "3           Parasite         99%       90%   \n",
       "4  Top Gun: Maverick         96%       99%   \n",
       "\n",
       "                                                Link PlatformReleased  \\\n",
       "0   https://www.rottentomatoes.com/m/la_confidential           Cinema   \n",
       "1     https://www.rottentomatoes.com/m/the_godfather           Cinema   \n",
       "2  https://www.rottentomatoes.com/m/1003707-casab...           Cinema   \n",
       "3     https://www.rottentomatoes.com/m/parasite_2019           Cinema   \n",
       "4  https://www.rottentomatoes.com/m/top_gun_maverick           Cinema   \n",
       "\n",
       "                                                Cast              Director  \\\n",
       "0  Kevin Spacey, Russell Crowe, Guy Pearce, James...         Curtis Hanson   \n",
       "1  Marlon Brando, Al Pacino, James Caan, Richard ...  Francis Ford Coppola   \n",
       "2  Humphrey Bogart, Ingrid Bergman, Paul Henreid,...        Michael Curtiz   \n",
       "3  Song Kang-ho, Lee Sun-kyun, Jo Yeo-jeong, Choi...          Bong Joon Ho   \n",
       "4  Tom Cruise, Miles Teller, Jennifer Connelly, J...       Joseph Kosinski   \n",
       "\n",
       "                               Genre Rating Runtime                 Studio  \\\n",
       "0                       Crime, Drama      R  2h 16m      Warner Home Vídeo   \n",
       "1                       Crime, Drama      R  2h 57m     Paramount Pictures   \n",
       "2                              Drama     PG  1h 42m  Warner Bros. Pictures   \n",
       "3  Comedy, Mystery & Thriller, Drama      R  2h 12m                   Neon   \n",
       "4                  Action, Adventure  PG-13  2h 11m     Paramount Pictures   \n",
       "\n",
       "   Release Date Production Budget Domestic Gross Worldwide Gross  \\\n",
       "0  Sep 19, 1997       $35,000,000    $64,604,977    $126,204,977   \n",
       "1  Mar 15, 1972        $7,000,000   $136,479,994    $270,007,394   \n",
       "2  Jan 23, 1943        $1,039,000    $10,462,500     $10,567,179   \n",
       "3  May 30, 2019       $11,800,000    $53,369,745    $253,267,858   \n",
       "4  May 20, 2022      $170,000,000   $718,732,821  $1,464,400,233   \n",
       "\n",
       "      Formated name Metascore Userscore  \n",
       "0  l.a.confidential        91       8.6  \n",
       "1      thegodfather       100       9.3  \n",
       "2        casablanca       100       8.7  \n",
       "3          parasite        97       8.9  \n",
       "4   topgun:maverick        78       8.4  "
      ]
     },
     "execution_count": 132,
     "metadata": {},
     "output_type": "execute_result"
    }
   ],
   "source": [
    "raw_data.head()"
   ]
  },
  {
   "cell_type": "markdown",
   "metadata": {},
   "source": [
    "### Number of rows and columns"
   ]
  },
  {
   "cell_type": "code",
   "execution_count": 133,
   "metadata": {},
   "outputs": [
    {
     "data": {
      "text/plain": [
       "(5106, 18)"
      ]
     },
     "execution_count": 133,
     "metadata": {},
     "output_type": "execute_result"
    }
   ],
   "source": [
    "shape = raw_data.shape  \n",
    "shape"
   ]
  },
  {
   "cell_type": "markdown",
   "metadata": {},
   "source": [
    "### The meaning of each line"
   ]
  },
  {
   "cell_type": "markdown",
   "metadata": {},
   "source": [
    "- Each line of the dataset is a record of a movie, and all records include various features of the movie like Name, Genres, Cast, Budget, Revenue, Runtime, etc"
   ]
  },
  {
   "cell_type": "markdown",
   "metadata": {},
   "source": [
    "### Duplicated rows"
   ]
  },
  {
   "cell_type": "code",
   "execution_count": 134,
   "metadata": {},
   "outputs": [
    {
     "data": {
      "text/plain": [
       "0"
      ]
     },
     "execution_count": 134,
     "metadata": {},
     "output_type": "execute_result"
    }
   ],
   "source": [
    "num_duplicates = raw_data.duplicated().sum()\n",
    "num_duplicates"
   ]
  },
  {
   "cell_type": "markdown",
   "metadata": {},
   "source": [
    "Phew, luckily no duplicated rows"
   ]
  },
  {
   "cell_type": "markdown",
   "metadata": {},
   "source": [
    "### The meaning of each column"
   ]
  },
  {
   "cell_type": "code",
   "execution_count": null,
   "metadata": {},
   "outputs": [],
   "source": []
  },
  {
   "cell_type": "markdown",
   "metadata": {},
   "source": [
    "### Data type of each column"
   ]
  },
  {
   "cell_type": "code",
   "execution_count": 135,
   "metadata": {},
   "outputs": [
    {
     "data": {
      "text/plain": [
       "Title                object\n",
       "CriticScore          object\n",
       "UserScore            object\n",
       "Link                 object\n",
       "PlatformReleased     object\n",
       "Cast                 object\n",
       "Director             object\n",
       "Genre                object\n",
       "Rating               object\n",
       "Runtime              object\n",
       "Studio               object\n",
       "Release Date         object\n",
       "Production Budget    object\n",
       "Domestic Gross       object\n",
       "Worldwide Gross      object\n",
       "Formated name        object\n",
       "Metascore            object\n",
       "Userscore            object\n",
       "dtype: object"
      ]
     },
     "execution_count": 135,
     "metadata": {},
     "output_type": "execute_result"
    }
   ],
   "source": [
    "dtype = raw_data.dtypes\n",
    "dtype"
   ]
  },
  {
   "cell_type": "markdown",
   "metadata": {},
   "source": [
    "As can be seen that, all types of each colum are currently objects. Therefore, those needs re-typing"
   ]
  },
  {
   "cell_type": "markdown",
   "metadata": {},
   "source": [
    "### Data retyping"
   ]
  },
  {
   "cell_type": "markdown",
   "metadata": {},
   "source": [
    "+ Title, Link, PlatformReleased, Studio : These are meant to be string, so there no need to convert it"
   ]
  },
  {
   "cell_type": "markdown",
   "metadata": {},
   "source": [
    "+ CriticScore and UserScore are numbers, therfore we convert them into numerical datatype"
   ]
  },
  {
   "cell_type": "markdown",
   "metadata": {},
   "source": [
    "Note : All numerical value are kept in float not interger because numpy require float to store nan"
   ]
  },
  {
   "cell_type": "code",
   "execution_count": 136,
   "metadata": {},
   "outputs": [],
   "source": [
    "#Remove '%' notation and keep the score\n",
    "def get_score_percentage(score_str):\n",
    "    if pd.isna(score_str) or score_str == 'nan' or score_str == 'NaN':\n",
    "        return np.nan\n",
    "    elif re.match(r'^\\d{1,3}%$', score_str):\n",
    "            return float(score_str[:-1])\n",
    "    return np.nan\n",
    "\n",
    "raw_data['CriticScore'] = raw_data['CriticScore'].apply(get_score_percentage)\n",
    "raw_data['UserScore'] = raw_data['UserScore'].apply(get_score_percentage)"
   ]
  },
  {
   "cell_type": "markdown",
   "metadata": {},
   "source": [
    "+ Convert MetaScore and UserScore into Numerical datatype too"
   ]
  },
  {
   "cell_type": "code",
   "execution_count": 137,
   "metadata": {},
   "outputs": [],
   "source": [
    "#Check if a string is a valid number because there are invalid value in Metascore and Userscore\n",
    "def get_score(score_str):\n",
    "    if pd.isna(score_str) or score_str == 'nan' or score_str == 'NaN':\n",
    "        return np.nan\n",
    "    elif re.match(r'^-?\\d+(\\.\\d+)?$', score_str):\n",
    "        return float(score_str)\n",
    "    return np.nan\n",
    "    \n",
    "raw_data['Metascore'] = raw_data['Metascore'].apply(get_score)\n",
    "raw_data['Userscore'] = raw_data['Userscore'].apply(get_score)\n"
   ]
  },
  {
   "cell_type": "markdown",
   "metadata": {},
   "source": [
    "+ Because a movie may have many Actors, many Director and different Gern, we split them and store into a list"
   ]
  },
  {
   "cell_type": "code",
   "execution_count": 138,
   "metadata": {},
   "outputs": [],
   "source": [
    "#Split string by comma seperated\n",
    "def split_item(string):\n",
    "    if pd.isna(string) or string == 'nan' or string == 'NaN':\n",
    "        return pd.NA\n",
    "    else:\n",
    "        return string.split(', ')\n",
    "    \n",
    "raw_data['Cast'] = raw_data['Cast'].apply(split_item)\n",
    "raw_data['Genre'] = raw_data['Genre'].apply(split_item)\n",
    "raw_data['Director'] = raw_data['Director'].apply(split_item)"
   ]
  },
  {
   "cell_type": "markdown",
   "metadata": {},
   "source": [
    "+ There are 10 different ratings, so we convert them into Pandas Categorial"
   ]
  },
  {
   "cell_type": "code",
   "execution_count": 139,
   "metadata": {},
   "outputs": [],
   "source": [
    "raw_data['Rating'] = raw_data['Rating'].astype('category')"
   ]
  },
  {
   "cell_type": "markdown",
   "metadata": {},
   "source": [
    "+ We convert Runtime into dictionary consists of hours and minutes for easier operating"
   ]
  },
  {
   "cell_type": "code",
   "execution_count": 140,
   "metadata": {},
   "outputs": [],
   "source": [
    "\n",
    "\n",
    "# Collect runtime information and convert it into dictionary\n",
    "def get_runtime(runtime_str):\n",
    "    if pd.isna(runtime_str) or runtime_str == 'nan' or runtime_str == 'NaN':\n",
    "        return pd.NA\n",
    "    else:\n",
    "        runtime = runtime_str.split()\n",
    "\n",
    "        if 'h' in runtime[0]:   \n",
    "            hours = int(runtime[0].split('h')[0])\n",
    "            minutes = int(runtime[1].split('m')[0])\n",
    "        else:\n",
    "            hours = 0\n",
    "            minutes = int(runtime[0].split('m')[0])\n",
    "        return {'hours' : hours, 'minutes': minutes}\n",
    "\n",
    "raw_data['Runtime'] = raw_data['Runtime'].apply(get_runtime)\n"
   ]
  },
  {
   "cell_type": "markdown",
   "metadata": {},
   "source": [
    "+ We convert release date into Pandas Datetime"
   ]
  },
  {
   "cell_type": "code",
   "execution_count": 141,
   "metadata": {},
   "outputs": [],
   "source": [
    "month_dict = {'Jan' : 1, 'Feb' : 2, 'Mar' : 3, 'Apr' : 4, 'May' : 5, 'Jun' : 6, 'Jul' : 7, 'Aug' : 8, 'Sep' : 9, 'Oct' : 10, 'Nov' : 11, 'Dec' : 12}\n",
    "\n",
    "# Collect date string and store it into datetime format\n",
    "def parse_datetime(date_str):\n",
    "    if pd.isna(date_str) or date_str == 'nan' or date_str == 'NaN' or date_str == 'Unknown':\n",
    "        return pd.NaT\n",
    "    else:\n",
    "        date = date_str.replace(',','').split()\n",
    "        if len(date) == 1:\n",
    "            year = int(date[0])\n",
    "            return pd.to_datetime(year, format ='%Y')\n",
    "        elif len(date) == 2:\n",
    "            month = month_dict[date[0]]\n",
    "            year = int(date[1])\n",
    "            day = 1\n",
    "            return pd.to_datetime(f'{year}-{month}-{day}', format='%Y-%m-%d')\n",
    "        else:\n",
    "            month = month_dict[date[0]]\n",
    "            day = int(date[1])\n",
    "            year = int(date[2])\n",
    "            return pd.to_datetime(f'{year}-{month}-{day}', format='%Y-%m-%d')\n",
    "\n",
    "raw_data['Release Date'] = raw_data['Release Date'].apply(parse_datetime)\n",
    "    "
   ]
  },
  {
   "cell_type": "markdown",
   "metadata": {},
   "source": [
    "+ Finally, convert Budgets and Grossess into numerical datatype and we are done"
   ]
  },
  {
   "cell_type": "code",
   "execution_count": 142,
   "metadata": {},
   "outputs": [],
   "source": [
    "# Replace $ notation, replace comma and get the value\n",
    "def parse_money(money_str):\n",
    "    if pd.isna(money_str) or money_str == 'nan' or money_str == 'NaN':\n",
    "        return np.nan\n",
    "    else:\n",
    "        money_str = money_str.replace('$','').replace(',','')\n",
    "        return float(money_str)\n",
    "\n",
    "raw_data['Production Budget'] = raw_data['Production Budget'].apply(parse_money)         \n",
    "raw_data['Domestic Gross'] = raw_data['Domestic Gross'].apply(parse_money)\n",
    "raw_data['Worldwide Gross'] = raw_data['Worldwide Gross'].apply(parse_money)"
   ]
  },
  {
   "cell_type": "code",
   "execution_count": 143,
   "metadata": {},
   "outputs": [
    {
     "name": "stdout",
     "output_type": "stream",
     "text": [
      "<class 'pandas.core.frame.DataFrame'>\n",
      "RangeIndex: 5106 entries, 0 to 5105\n",
      "Data columns (total 18 columns):\n",
      " #   Column             Non-Null Count  Dtype         \n",
      "---  ------             --------------  -----         \n",
      " 0   Title              5106 non-null   object        \n",
      " 1   CriticScore        4129 non-null   float64       \n",
      " 2   UserScore          4523 non-null   float64       \n",
      " 3   Link               5106 non-null   object        \n",
      " 4   PlatformReleased   5106 non-null   object        \n",
      " 5   Cast               5074 non-null   object        \n",
      " 6   Director           5071 non-null   object        \n",
      " 7   Genre              5060 non-null   object        \n",
      " 8   Rating             4015 non-null   category      \n",
      " 9   Runtime            5036 non-null   object        \n",
      " 10  Studio             5059 non-null   object        \n",
      " 11  Release Date       5031 non-null   datetime64[ns]\n",
      " 12  Production Budget  5106 non-null   float64       \n",
      " 13  Domestic Gross     5106 non-null   float64       \n",
      " 14  Worldwide Gross    5106 non-null   float64       \n",
      " 15  Formated name      5106 non-null   object        \n",
      " 16  Metascore          4353 non-null   float64       \n",
      " 17  Userscore          4186 non-null   float64       \n",
      "dtypes: category(1), datetime64[ns](1), float64(7), object(9)\n",
      "memory usage: 683.6+ KB\n"
     ]
    }
   ],
   "source": [
    "raw_data.info()"
   ]
  },
  {
   "cell_type": "code",
   "execution_count": 144,
   "metadata": {},
   "outputs": [
    {
     "data": {
      "text/html": [
       "<div>\n",
       "<style scoped>\n",
       "    .dataframe tbody tr th:only-of-type {\n",
       "        vertical-align: middle;\n",
       "    }\n",
       "\n",
       "    .dataframe tbody tr th {\n",
       "        vertical-align: top;\n",
       "    }\n",
       "\n",
       "    .dataframe thead th {\n",
       "        text-align: right;\n",
       "    }\n",
       "</style>\n",
       "<table border=\"1\" class=\"dataframe\">\n",
       "  <thead>\n",
       "    <tr style=\"text-align: right;\">\n",
       "      <th></th>\n",
       "      <th>Title</th>\n",
       "      <th>CriticScore</th>\n",
       "      <th>UserScore</th>\n",
       "      <th>Link</th>\n",
       "      <th>PlatformReleased</th>\n",
       "      <th>Cast</th>\n",
       "      <th>Director</th>\n",
       "      <th>Genre</th>\n",
       "      <th>Rating</th>\n",
       "      <th>Runtime</th>\n",
       "      <th>Studio</th>\n",
       "      <th>Release Date</th>\n",
       "      <th>Production Budget</th>\n",
       "      <th>Domestic Gross</th>\n",
       "      <th>Worldwide Gross</th>\n",
       "      <th>Formated name</th>\n",
       "      <th>Metascore</th>\n",
       "      <th>Userscore</th>\n",
       "    </tr>\n",
       "  </thead>\n",
       "  <tbody>\n",
       "    <tr>\n",
       "      <th>0</th>\n",
       "      <td>L.A. Confidential</td>\n",
       "      <td>99.0</td>\n",
       "      <td>94.0</td>\n",
       "      <td>https://www.rottentomatoes.com/m/la_confidential</td>\n",
       "      <td>Cinema</td>\n",
       "      <td>[Kevin Spacey, Russell Crowe, Guy Pearce, Jame...</td>\n",
       "      <td>[Curtis Hanson]</td>\n",
       "      <td>[Crime, Drama]</td>\n",
       "      <td>R</td>\n",
       "      <td>{'hours': 2, 'minutes': 16}</td>\n",
       "      <td>Warner Home Vídeo</td>\n",
       "      <td>1997-09-19</td>\n",
       "      <td>35000000.0</td>\n",
       "      <td>64604977.0</td>\n",
       "      <td>1.262050e+08</td>\n",
       "      <td>l.a.confidential</td>\n",
       "      <td>91.0</td>\n",
       "      <td>8.6</td>\n",
       "    </tr>\n",
       "    <tr>\n",
       "      <th>1</th>\n",
       "      <td>The Godfather</td>\n",
       "      <td>97.0</td>\n",
       "      <td>98.0</td>\n",
       "      <td>https://www.rottentomatoes.com/m/the_godfather</td>\n",
       "      <td>Cinema</td>\n",
       "      <td>[Marlon Brando, Al Pacino, James Caan, Richard...</td>\n",
       "      <td>[Francis Ford Coppola]</td>\n",
       "      <td>[Crime, Drama]</td>\n",
       "      <td>R</td>\n",
       "      <td>{'hours': 2, 'minutes': 57}</td>\n",
       "      <td>Paramount Pictures</td>\n",
       "      <td>1972-03-15</td>\n",
       "      <td>7000000.0</td>\n",
       "      <td>136479994.0</td>\n",
       "      <td>2.700074e+08</td>\n",
       "      <td>thegodfather</td>\n",
       "      <td>100.0</td>\n",
       "      <td>9.3</td>\n",
       "    </tr>\n",
       "    <tr>\n",
       "      <th>2</th>\n",
       "      <td>Casablanca</td>\n",
       "      <td>99.0</td>\n",
       "      <td>95.0</td>\n",
       "      <td>https://www.rottentomatoes.com/m/1003707-casab...</td>\n",
       "      <td>Cinema</td>\n",
       "      <td>[Humphrey Bogart, Ingrid Bergman, Paul Henreid...</td>\n",
       "      <td>[Michael Curtiz]</td>\n",
       "      <td>[Drama]</td>\n",
       "      <td>PG</td>\n",
       "      <td>{'hours': 1, 'minutes': 42}</td>\n",
       "      <td>Warner Bros. Pictures</td>\n",
       "      <td>1943-01-23</td>\n",
       "      <td>1039000.0</td>\n",
       "      <td>10462500.0</td>\n",
       "      <td>1.056718e+07</td>\n",
       "      <td>casablanca</td>\n",
       "      <td>100.0</td>\n",
       "      <td>8.7</td>\n",
       "    </tr>\n",
       "    <tr>\n",
       "      <th>3</th>\n",
       "      <td>Parasite</td>\n",
       "      <td>99.0</td>\n",
       "      <td>90.0</td>\n",
       "      <td>https://www.rottentomatoes.com/m/parasite_2019</td>\n",
       "      <td>Cinema</td>\n",
       "      <td>[Song Kang-ho, Lee Sun-kyun, Jo Yeo-jeong, Cho...</td>\n",
       "      <td>[Bong Joon Ho]</td>\n",
       "      <td>[Comedy, Mystery &amp; Thriller, Drama]</td>\n",
       "      <td>R</td>\n",
       "      <td>{'hours': 2, 'minutes': 12}</td>\n",
       "      <td>Neon</td>\n",
       "      <td>2019-05-30</td>\n",
       "      <td>11800000.0</td>\n",
       "      <td>53369745.0</td>\n",
       "      <td>2.532679e+08</td>\n",
       "      <td>parasite</td>\n",
       "      <td>97.0</td>\n",
       "      <td>8.9</td>\n",
       "    </tr>\n",
       "    <tr>\n",
       "      <th>4</th>\n",
       "      <td>Top Gun: Maverick</td>\n",
       "      <td>96.0</td>\n",
       "      <td>99.0</td>\n",
       "      <td>https://www.rottentomatoes.com/m/top_gun_maverick</td>\n",
       "      <td>Cinema</td>\n",
       "      <td>[Tom Cruise, Miles Teller, Jennifer Connelly, ...</td>\n",
       "      <td>[Joseph Kosinski]</td>\n",
       "      <td>[Action, Adventure]</td>\n",
       "      <td>PG-13</td>\n",
       "      <td>{'hours': 2, 'minutes': 11}</td>\n",
       "      <td>Paramount Pictures</td>\n",
       "      <td>2022-05-20</td>\n",
       "      <td>170000000.0</td>\n",
       "      <td>718732821.0</td>\n",
       "      <td>1.464400e+09</td>\n",
       "      <td>topgun:maverick</td>\n",
       "      <td>78.0</td>\n",
       "      <td>8.4</td>\n",
       "    </tr>\n",
       "  </tbody>\n",
       "</table>\n",
       "</div>"
      ],
      "text/plain": [
       "               Title  CriticScore  UserScore  \\\n",
       "0  L.A. Confidential         99.0       94.0   \n",
       "1      The Godfather         97.0       98.0   \n",
       "2         Casablanca         99.0       95.0   \n",
       "3           Parasite         99.0       90.0   \n",
       "4  Top Gun: Maverick         96.0       99.0   \n",
       "\n",
       "                                                Link PlatformReleased  \\\n",
       "0   https://www.rottentomatoes.com/m/la_confidential           Cinema   \n",
       "1     https://www.rottentomatoes.com/m/the_godfather           Cinema   \n",
       "2  https://www.rottentomatoes.com/m/1003707-casab...           Cinema   \n",
       "3     https://www.rottentomatoes.com/m/parasite_2019           Cinema   \n",
       "4  https://www.rottentomatoes.com/m/top_gun_maverick           Cinema   \n",
       "\n",
       "                                                Cast                Director  \\\n",
       "0  [Kevin Spacey, Russell Crowe, Guy Pearce, Jame...         [Curtis Hanson]   \n",
       "1  [Marlon Brando, Al Pacino, James Caan, Richard...  [Francis Ford Coppola]   \n",
       "2  [Humphrey Bogart, Ingrid Bergman, Paul Henreid...        [Michael Curtiz]   \n",
       "3  [Song Kang-ho, Lee Sun-kyun, Jo Yeo-jeong, Cho...          [Bong Joon Ho]   \n",
       "4  [Tom Cruise, Miles Teller, Jennifer Connelly, ...       [Joseph Kosinski]   \n",
       "\n",
       "                                 Genre Rating                      Runtime  \\\n",
       "0                       [Crime, Drama]      R  {'hours': 2, 'minutes': 16}   \n",
       "1                       [Crime, Drama]      R  {'hours': 2, 'minutes': 57}   \n",
       "2                              [Drama]     PG  {'hours': 1, 'minutes': 42}   \n",
       "3  [Comedy, Mystery & Thriller, Drama]      R  {'hours': 2, 'minutes': 12}   \n",
       "4                  [Action, Adventure]  PG-13  {'hours': 2, 'minutes': 11}   \n",
       "\n",
       "                  Studio Release Date  Production Budget  Domestic Gross  \\\n",
       "0      Warner Home Vídeo   1997-09-19         35000000.0      64604977.0   \n",
       "1     Paramount Pictures   1972-03-15          7000000.0     136479994.0   \n",
       "2  Warner Bros. Pictures   1943-01-23          1039000.0      10462500.0   \n",
       "3                   Neon   2019-05-30         11800000.0      53369745.0   \n",
       "4     Paramount Pictures   2022-05-20        170000000.0     718732821.0   \n",
       "\n",
       "   Worldwide Gross     Formated name  Metascore  Userscore  \n",
       "0     1.262050e+08  l.a.confidential       91.0        8.6  \n",
       "1     2.700074e+08      thegodfather      100.0        9.3  \n",
       "2     1.056718e+07        casablanca      100.0        8.7  \n",
       "3     2.532679e+08          parasite       97.0        8.9  \n",
       "4     1.464400e+09   topgun:maverick       78.0        8.4  "
      ]
     },
     "execution_count": 144,
     "metadata": {},
     "output_type": "execute_result"
    }
   ],
   "source": [
    "raw_data.head()"
   ]
  },
  {
   "cell_type": "markdown",
   "metadata": {},
   "source": [
    "### Numerical column exploration"
   ]
  },
  {
   "cell_type": "markdown",
   "metadata": {},
   "source": [
    "For columns with numeric data types, calculate:\n",
    "- Percentage of missing values (From this and further calculation to propose a suitable approach to fill missing values of that column)\n",
    "- The min\n",
    "- The lower quartile\n",
    "- The median\n",
    "- The upper quartile\n",
    "- The max\n",
    "After calculating, give **visualization** to help get deeper understanding of data, from that graph/chart give some comments on the values' distribution of that column"
   ]
  },
  {
   "cell_type": "code",
   "execution_count": 145,
   "metadata": {},
   "outputs": [],
   "source": [
    "# TODO"
   ]
  },
  {
   "cell_type": "markdown",
   "metadata": {},
   "source": [
    "### Categorical column exploration"
   ]
  },
  {
   "cell_type": "markdown",
   "metadata": {},
   "source": [
    "For columns with non-numeric data types, you calculate:\n",
    "- Percentage of missing values (From this and further calculation to propose a suitable approach to fill missing values of that column)\n",
    "- Count no of unique values and no of element of each value (There is a column cast is quite difficult to explore, try to find a way)\n",
    "-  Give **visualization** to help get deeper understanding of data, from that graph/chart or any collected information give some comments on the values' distribution of that column"
   ]
  },
  {
   "cell_type": "code",
   "execution_count": 146,
   "metadata": {},
   "outputs": [],
   "source": [
    "# TODO"
   ]
  },
  {
   "cell_type": "markdown",
   "metadata": {},
   "source": [
    "<h1 id = \"preprocessing\"> 4. Preprocessing data </h1>"
   ]
  },
  {
   "cell_type": "code",
   "execution_count": null,
   "metadata": {},
   "outputs": [],
   "source": []
  },
  {
   "cell_type": "markdown",
   "metadata": {},
   "source": [
    "<h1 id = \"questions\"> 5. Questions </h1>"
   ]
  },
  {
   "cell_type": "markdown",
   "metadata": {},
   "source": [
    "<h2 id = question-1>5.1. Question 1</h2> "
   ]
  },
  {
   "cell_type": "markdown",
   "metadata": {},
   "source": []
  },
  {
   "cell_type": "markdown",
   "metadata": {},
   "source": [
    "<h2 id = question-2>5.2. Question 2</h2> "
   ]
  },
  {
   "cell_type": "markdown",
   "metadata": {},
   "source": []
  },
  {
   "cell_type": "markdown",
   "metadata": {},
   "source": [
    "<h2 id = question-3>5.3. Question 3</h2> "
   ]
  },
  {
   "cell_type": "markdown",
   "metadata": {},
   "source": []
  },
  {
   "cell_type": "markdown",
   "metadata": {},
   "source": [
    "<h2 id = question-4>5.4. Question 4</h2> "
   ]
  },
  {
   "cell_type": "markdown",
   "metadata": {},
   "source": []
  },
  {
   "cell_type": "markdown",
   "metadata": {},
   "source": [
    "<h2 id = question-5>5.5. Question 5</h2> "
   ]
  },
  {
   "cell_type": "markdown",
   "metadata": {},
   "source": []
  },
  {
   "cell_type": "markdown",
   "metadata": {},
   "source": [
    "<h1 id = \"modelling\">6. Modelling</h1>"
   ]
  },
  {
   "cell_type": "markdown",
   "metadata": {},
   "source": [
    "<h2 id = \"modelling_preparation\">6.1. Data preparation</h2> "
   ]
  },
  {
   "cell_type": "markdown",
   "metadata": {},
   "source": [
    "<h2 id = \"models\">6.2. Models</h2> "
   ]
  },
  {
   "cell_type": "markdown",
   "metadata": {},
   "source": [
    "<h2 id = \"models\">6.2. Models</h2> "
   ]
  },
  {
   "cell_type": "markdown",
   "metadata": {},
   "source": [
    "<h3 id = \"model1\">6.2.1 Model 1</h3> "
   ]
  },
  {
   "cell_type": "code",
   "execution_count": null,
   "metadata": {},
   "outputs": [],
   "source": []
  },
  {
   "cell_type": "markdown",
   "metadata": {},
   "source": [
    "<h2 id = >"
   ]
  },
  {
   "cell_type": "markdown",
   "metadata": {},
   "source": [
    "<h2 id = \"evaluation\">6.3. Evaluation</h2> "
   ]
  },
  {
   "cell_type": "code",
   "execution_count": null,
   "metadata": {},
   "outputs": [],
   "source": []
  },
  {
   "cell_type": "markdown",
   "metadata": {},
   "source": [
    "<h1 id = \"reflection\">7. Reflection</h1> "
   ]
  },
  {
   "cell_type": "markdown",
   "metadata": {},
   "source": [
    "<h2 id = \"difficulties\">7.1. Difficulties during the project</h2> "
   ]
  },
  {
   "cell_type": "markdown",
   "metadata": {},
   "source": []
  },
  {
   "cell_type": "markdown",
   "metadata": {},
   "source": [
    "<h2 id = \"useful\">7.2. Useful things learned</h2> "
   ]
  },
  {
   "cell_type": "markdown",
   "metadata": {},
   "source": []
  },
  {
   "cell_type": "markdown",
   "metadata": {},
   "source": [
    "<h2 id = \"plans\">7.3. Plans to improve if have more time</h2> "
   ]
  },
  {
   "cell_type": "markdown",
   "metadata": {},
   "source": []
  },
  {
   "cell_type": "markdown",
   "metadata": {},
   "source": [
    "<h1 id = \"references\">8. References</h1> "
   ]
  }
 ],
 "metadata": {
  "kernelspec": {
   "display_name": "base",
   "language": "python",
   "name": "python3"
  },
  "language_info": {
   "codemirror_mode": {
    "name": "ipython",
    "version": 3
   },
   "file_extension": ".py",
   "mimetype": "text/x-python",
   "name": "python",
   "nbconvert_exporter": "python",
   "pygments_lexer": "ipython3",
   "version": "3.12.4"
  }
 },
 "nbformat": 4,
 "nbformat_minor": 2
}
