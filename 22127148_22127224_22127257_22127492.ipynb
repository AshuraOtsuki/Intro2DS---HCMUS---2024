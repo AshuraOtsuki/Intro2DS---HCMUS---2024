{
 "cells": [
  {
   "cell_type": "markdown",
   "metadata": {},
   "source": [
    "# Table of contents\n",
    "1. [Team members](#team)\n",
    "2. [Libraries](#libraries)\n",
    "3. [Exploring data](#exploring)\n",
    "4. [Preprocessing data](#preprocessing)\n",
    "5. [Questions](#questions)\n",
    "    - [Question 1](#question-1)\n",
    "    - [Question 2](#question-2)\n",
    "    - [Question 3](#question-3)\n",
    "    - [Question 4](#question-4)\n",
    "    - [Question 5](#question-5)\n",
    "6. [Modelling](#modelling)\n",
    "    - [Data preparation](#modelling_preparation)\n",
    "    - [Models: ](#models)\n",
    "        - [Model 1 (change the number to the name of model. Ex: 1 -> Logistic Regression)](#model1)\n",
    "    - [Evaluation](#evaluation)\n",
    "7. [Reflection](#reflection)\n",
    "    - [Difficulties during the project](#difficulties)\n",
    "    - [Useful things learned](#useful)\n",
    "    - [Plans to improve if have more time](#plans)\n",
    "8. [References](#references)"
   ]
  },
  {
   "cell_type": "markdown",
   "metadata": {},
   "source": [
    "<h1 id = \"team\">1. Team members</h1>\n",
    "<style>\n",
    "  table {\n",
    "    margin: auto;\n",
    "    width: 45%; /* Adjust the width as needed */\n",
    "  }\n",
    "  td {\n",
    "    text-align: center;\n",
    "    padding: 8px; /* Adding padding for better readability */\n",
    "  }\n",
    "  th\n",
    "  {\n",
    "    text-align: center;\n",
    "  }\n",
    "</style>\n",
    "\n",
    "<table>\n",
    "    <tr>\n",
    "        <th> ID </th>\n",
    "        <th> NAME </th>\n",
    "    </tr>\n",
    "    <tr>\n",
    "        <td>22127148</td>\n",
    "        <td>Dương Nhật Huy</td>\n",
    "    </tr>\n",
    "    <tr>\n",
    "        <td>22127224</td>\n",
    "        <td>Trương Thuận Kiệt</td>\n",
    "    </tr>\n",
    "    <tr>\n",
    "        <td>22127257</td>\n",
    "        <td>Phạm Minh Mẫn</td>\n",
    "    </tr>\n",
    "    <tr>\n",
    "        <td>22127492</td>\n",
    "        <td>Hồ Đăng Phúc</td>\n",
    "    </tr>"
   ]
  },
  {
   "cell_type": "markdown",
   "metadata": {},
   "source": [
    "<h1 id = \"libraries\"> 2. Libraries </h1>"
   ]
  },
  {
   "cell_type": "code",
   "execution_count": 45,
   "metadata": {},
   "outputs": [],
   "source": [
    "import numpy as np\n",
    "import matplotlib.pyplot as plt\n",
    "import pandas as pd\n",
    "import re\n",
    "import seaborn as sns"
   ]
  },
  {
   "cell_type": "markdown",
   "metadata": {},
   "source": [
    "<h1 id = \"exploring\"> 3. Exploring data</h1>"
   ]
  },
  {
   "cell_type": "code",
   "execution_count": 2,
   "metadata": {},
   "outputs": [],
   "source": [
    "raw_data  = pd.read_csv('./Data/full_data.csv')"
   ]
  },
  {
   "cell_type": "code",
   "execution_count": 3,
   "metadata": {},
   "outputs": [
    {
     "data": {
      "text/html": [
       "<div>\n",
       "<style scoped>\n",
       "    .dataframe tbody tr th:only-of-type {\n",
       "        vertical-align: middle;\n",
       "    }\n",
       "\n",
       "    .dataframe tbody tr th {\n",
       "        vertical-align: top;\n",
       "    }\n",
       "\n",
       "    .dataframe thead th {\n",
       "        text-align: right;\n",
       "    }\n",
       "</style>\n",
       "<table border=\"1\" class=\"dataframe\">\n",
       "  <thead>\n",
       "    <tr style=\"text-align: right;\">\n",
       "      <th></th>\n",
       "      <th>Title</th>\n",
       "      <th>CriticScore</th>\n",
       "      <th>UserScore</th>\n",
       "      <th>Link</th>\n",
       "      <th>PlatformReleased</th>\n",
       "      <th>Cast</th>\n",
       "      <th>Director</th>\n",
       "      <th>Genre</th>\n",
       "      <th>Rating</th>\n",
       "      <th>Runtime</th>\n",
       "      <th>Studio</th>\n",
       "      <th>Release Date</th>\n",
       "      <th>Production Budget</th>\n",
       "      <th>Domestic Gross</th>\n",
       "      <th>Worldwide Gross</th>\n",
       "      <th>Formated name</th>\n",
       "      <th>Metascore</th>\n",
       "      <th>Userscore</th>\n",
       "    </tr>\n",
       "  </thead>\n",
       "  <tbody>\n",
       "    <tr>\n",
       "      <th>0</th>\n",
       "      <td>L.A. Confidential</td>\n",
       "      <td>99%</td>\n",
       "      <td>94%</td>\n",
       "      <td>https://www.rottentomatoes.com/m/la_confidential</td>\n",
       "      <td>Cinema</td>\n",
       "      <td>Kevin Spacey, Russell Crowe, Guy Pearce, James...</td>\n",
       "      <td>Curtis Hanson</td>\n",
       "      <td>Crime, Drama</td>\n",
       "      <td>R</td>\n",
       "      <td>2h 16m</td>\n",
       "      <td>Warner Home Vídeo</td>\n",
       "      <td>Sep 19, 1997</td>\n",
       "      <td>$35,000,000</td>\n",
       "      <td>$64,604,977</td>\n",
       "      <td>$126,204,977</td>\n",
       "      <td>l.a.confidential</td>\n",
       "      <td>91</td>\n",
       "      <td>8.6</td>\n",
       "    </tr>\n",
       "    <tr>\n",
       "      <th>1</th>\n",
       "      <td>The Godfather</td>\n",
       "      <td>97%</td>\n",
       "      <td>98%</td>\n",
       "      <td>https://www.rottentomatoes.com/m/the_godfather</td>\n",
       "      <td>Cinema</td>\n",
       "      <td>Marlon Brando, Al Pacino, James Caan, Richard ...</td>\n",
       "      <td>Francis Ford Coppola</td>\n",
       "      <td>Crime, Drama</td>\n",
       "      <td>R</td>\n",
       "      <td>2h 57m</td>\n",
       "      <td>Paramount Pictures</td>\n",
       "      <td>Mar 15, 1972</td>\n",
       "      <td>$7,000,000</td>\n",
       "      <td>$136,479,994</td>\n",
       "      <td>$270,007,394</td>\n",
       "      <td>thegodfather</td>\n",
       "      <td>100</td>\n",
       "      <td>9.3</td>\n",
       "    </tr>\n",
       "    <tr>\n",
       "      <th>2</th>\n",
       "      <td>Casablanca</td>\n",
       "      <td>99%</td>\n",
       "      <td>95%</td>\n",
       "      <td>https://www.rottentomatoes.com/m/1003707-casab...</td>\n",
       "      <td>Cinema</td>\n",
       "      <td>Humphrey Bogart, Ingrid Bergman, Paul Henreid,...</td>\n",
       "      <td>Michael Curtiz</td>\n",
       "      <td>Drama</td>\n",
       "      <td>PG</td>\n",
       "      <td>1h 42m</td>\n",
       "      <td>Warner Bros. Pictures</td>\n",
       "      <td>Jan 23, 1943</td>\n",
       "      <td>$1,039,000</td>\n",
       "      <td>$10,462,500</td>\n",
       "      <td>$10,567,179</td>\n",
       "      <td>casablanca</td>\n",
       "      <td>100</td>\n",
       "      <td>8.7</td>\n",
       "    </tr>\n",
       "    <tr>\n",
       "      <th>3</th>\n",
       "      <td>Parasite</td>\n",
       "      <td>99%</td>\n",
       "      <td>90%</td>\n",
       "      <td>https://www.rottentomatoes.com/m/parasite_2019</td>\n",
       "      <td>Cinema</td>\n",
       "      <td>Song Kang-ho, Lee Sun-kyun, Jo Yeo-jeong, Choi...</td>\n",
       "      <td>Bong Joon Ho</td>\n",
       "      <td>Comedy, Mystery &amp; Thriller, Drama</td>\n",
       "      <td>R</td>\n",
       "      <td>2h 12m</td>\n",
       "      <td>Neon</td>\n",
       "      <td>May 30, 2019</td>\n",
       "      <td>$11,800,000</td>\n",
       "      <td>$53,369,745</td>\n",
       "      <td>$253,267,858</td>\n",
       "      <td>parasite</td>\n",
       "      <td>97</td>\n",
       "      <td>8.9</td>\n",
       "    </tr>\n",
       "    <tr>\n",
       "      <th>4</th>\n",
       "      <td>Top Gun: Maverick</td>\n",
       "      <td>96%</td>\n",
       "      <td>99%</td>\n",
       "      <td>https://www.rottentomatoes.com/m/top_gun_maverick</td>\n",
       "      <td>Cinema</td>\n",
       "      <td>Tom Cruise, Miles Teller, Jennifer Connelly, J...</td>\n",
       "      <td>Joseph Kosinski</td>\n",
       "      <td>Action, Adventure</td>\n",
       "      <td>PG-13</td>\n",
       "      <td>2h 11m</td>\n",
       "      <td>Paramount Pictures</td>\n",
       "      <td>May 20, 2022</td>\n",
       "      <td>$170,000,000</td>\n",
       "      <td>$718,732,821</td>\n",
       "      <td>$1,464,400,233</td>\n",
       "      <td>topgun:maverick</td>\n",
       "      <td>78</td>\n",
       "      <td>8.4</td>\n",
       "    </tr>\n",
       "  </tbody>\n",
       "</table>\n",
       "</div>"
      ],
      "text/plain": [
       "               Title CriticScore UserScore  \\\n",
       "0  L.A. Confidential         99%       94%   \n",
       "1      The Godfather         97%       98%   \n",
       "2         Casablanca         99%       95%   \n",
       "3           Parasite         99%       90%   \n",
       "4  Top Gun: Maverick         96%       99%   \n",
       "\n",
       "                                                Link PlatformReleased  \\\n",
       "0   https://www.rottentomatoes.com/m/la_confidential           Cinema   \n",
       "1     https://www.rottentomatoes.com/m/the_godfather           Cinema   \n",
       "2  https://www.rottentomatoes.com/m/1003707-casab...           Cinema   \n",
       "3     https://www.rottentomatoes.com/m/parasite_2019           Cinema   \n",
       "4  https://www.rottentomatoes.com/m/top_gun_maverick           Cinema   \n",
       "\n",
       "                                                Cast              Director  \\\n",
       "0  Kevin Spacey, Russell Crowe, Guy Pearce, James...         Curtis Hanson   \n",
       "1  Marlon Brando, Al Pacino, James Caan, Richard ...  Francis Ford Coppola   \n",
       "2  Humphrey Bogart, Ingrid Bergman, Paul Henreid,...        Michael Curtiz   \n",
       "3  Song Kang-ho, Lee Sun-kyun, Jo Yeo-jeong, Choi...          Bong Joon Ho   \n",
       "4  Tom Cruise, Miles Teller, Jennifer Connelly, J...       Joseph Kosinski   \n",
       "\n",
       "                               Genre Rating Runtime                 Studio  \\\n",
       "0                       Crime, Drama      R  2h 16m      Warner Home Vídeo   \n",
       "1                       Crime, Drama      R  2h 57m     Paramount Pictures   \n",
       "2                              Drama     PG  1h 42m  Warner Bros. Pictures   \n",
       "3  Comedy, Mystery & Thriller, Drama      R  2h 12m                   Neon   \n",
       "4                  Action, Adventure  PG-13  2h 11m     Paramount Pictures   \n",
       "\n",
       "   Release Date Production Budget Domestic Gross Worldwide Gross  \\\n",
       "0  Sep 19, 1997       $35,000,000    $64,604,977    $126,204,977   \n",
       "1  Mar 15, 1972        $7,000,000   $136,479,994    $270,007,394   \n",
       "2  Jan 23, 1943        $1,039,000    $10,462,500     $10,567,179   \n",
       "3  May 30, 2019       $11,800,000    $53,369,745    $253,267,858   \n",
       "4  May 20, 2022      $170,000,000   $718,732,821  $1,464,400,233   \n",
       "\n",
       "      Formated name Metascore Userscore  \n",
       "0  l.a.confidential        91       8.6  \n",
       "1      thegodfather       100       9.3  \n",
       "2        casablanca       100       8.7  \n",
       "3          parasite        97       8.9  \n",
       "4   topgun:maverick        78       8.4  "
      ]
     },
     "execution_count": 3,
     "metadata": {},
     "output_type": "execute_result"
    }
   ],
   "source": [
    "raw_data.head()"
   ]
  },
  {
   "cell_type": "markdown",
   "metadata": {},
   "source": [
    "### Number of rows and columns"
   ]
  },
  {
   "cell_type": "code",
   "execution_count": 4,
   "metadata": {},
   "outputs": [
    {
     "data": {
      "text/plain": [
       "(5106, 18)"
      ]
     },
     "execution_count": 4,
     "metadata": {},
     "output_type": "execute_result"
    }
   ],
   "source": [
    "shape = raw_data.shape  \n",
    "shape"
   ]
  },
  {
   "cell_type": "markdown",
   "metadata": {},
   "source": [
    "### The meaning of each line"
   ]
  },
  {
   "cell_type": "markdown",
   "metadata": {},
   "source": [
    "- Each line of the dataset is a record of a movie, and all records include various features of the movie like Name, Genres, Cast, Budget, Revenue, Runtime, etc"
   ]
  },
  {
   "cell_type": "markdown",
   "metadata": {},
   "source": [
    "### Duplicated rows"
   ]
  },
  {
   "cell_type": "code",
   "execution_count": 5,
   "metadata": {},
   "outputs": [
    {
     "data": {
      "text/plain": [
       "0"
      ]
     },
     "execution_count": 5,
     "metadata": {},
     "output_type": "execute_result"
    }
   ],
   "source": [
    "num_duplicates = raw_data.duplicated().sum()\n",
    "num_duplicates"
   ]
  },
  {
   "cell_type": "markdown",
   "metadata": {},
   "source": [
    "Phew, luckily no duplicated rows"
   ]
  },
  {
   "cell_type": "markdown",
   "metadata": {},
   "source": [
    "### The meaning of each column"
   ]
  },
  {
   "cell_type": "code",
   "execution_count": null,
   "metadata": {},
   "outputs": [],
   "source": []
  },
  {
   "cell_type": "markdown",
   "metadata": {},
   "source": [
    "### Data type of each column"
   ]
  },
  {
   "cell_type": "code",
   "execution_count": 6,
   "metadata": {},
   "outputs": [
    {
     "data": {
      "text/plain": [
       "Title                object\n",
       "CriticScore          object\n",
       "UserScore            object\n",
       "Link                 object\n",
       "PlatformReleased     object\n",
       "Cast                 object\n",
       "Director             object\n",
       "Genre                object\n",
       "Rating               object\n",
       "Runtime              object\n",
       "Studio               object\n",
       "Release Date         object\n",
       "Production Budget    object\n",
       "Domestic Gross       object\n",
       "Worldwide Gross      object\n",
       "Formated name        object\n",
       "Metascore            object\n",
       "Userscore            object\n",
       "dtype: object"
      ]
     },
     "execution_count": 6,
     "metadata": {},
     "output_type": "execute_result"
    }
   ],
   "source": [
    "dtype = raw_data.dtypes\n",
    "dtype"
   ]
  },
  {
   "cell_type": "markdown",
   "metadata": {},
   "source": [
    "As can be seen that, all types of each colum are currently objects. Therefore, those needs re-typing"
   ]
  },
  {
   "cell_type": "markdown",
   "metadata": {},
   "source": [
    "### Data retyping"
   ]
  },
  {
   "cell_type": "markdown",
   "metadata": {},
   "source": [
    "+ Title, Link, PlatformReleased, Studio : These are meant to be string, so there no need to convert it"
   ]
  },
  {
   "cell_type": "markdown",
   "metadata": {},
   "source": [
    "+ CriticScore and UserScore are numbers, therfore we convert them into numerical datatype"
   ]
  },
  {
   "cell_type": "markdown",
   "metadata": {},
   "source": [
    "Note : All numerical value are kept in float not interger because numpy require float to store nan"
   ]
  },
  {
   "cell_type": "code",
   "execution_count": 7,
   "metadata": {},
   "outputs": [],
   "source": [
    "#Remove '%' notation and keep the score\n",
    "def get_score_percentage(score_str):\n",
    "    if pd.isna(score_str) or score_str == 'nan' or score_str == 'NaN':\n",
    "        return np.nan\n",
    "    elif re.match(r'^\\d{1,3}%$', score_str):\n",
    "            return float(score_str[:-1])\n",
    "    return np.nan\n",
    "\n",
    "raw_data['CriticScore'] = raw_data['CriticScore'].apply(get_score_percentage)\n",
    "raw_data['UserScore'] = raw_data['UserScore'].apply(get_score_percentage)"
   ]
  },
  {
   "cell_type": "markdown",
   "metadata": {},
   "source": [
    "+ Convert MetaScore and UserScore into Numerical datatype too"
   ]
  },
  {
   "cell_type": "code",
   "execution_count": 8,
   "metadata": {},
   "outputs": [],
   "source": [
    "#Check if a string is a valid number because there are invalid value in Metascore and Userscore\n",
    "def get_score(score_str):\n",
    "    if pd.isna(score_str) or score_str == 'nan' or score_str == 'NaN':\n",
    "        return np.nan\n",
    "    elif re.match(r'^-?\\d+(\\.\\d+)?$', score_str):\n",
    "        return float(score_str)\n",
    "    return np.nan\n",
    "    \n",
    "raw_data['Metascore'] = raw_data['Metascore'].apply(get_score)\n",
    "raw_data['Userscore'] = raw_data['Userscore'].apply(get_score)\n"
   ]
  },
  {
   "cell_type": "markdown",
   "metadata": {},
   "source": [
    "+ Because a movie may have many Actors, many Director and different Gern, we split them and store into a list"
   ]
  },
  {
   "cell_type": "code",
   "execution_count": 9,
   "metadata": {},
   "outputs": [],
   "source": [
    "#Split string by comma seperated\n",
    "def split_item(string):\n",
    "    if pd.isna(string) or string == 'nan' or string == 'NaN':\n",
    "        return pd.NA\n",
    "    else:\n",
    "        return string.split(', ')\n",
    "    \n",
    "raw_data['Cast'] = raw_data['Cast'].apply(split_item)\n",
    "raw_data['Genre'] = raw_data['Genre'].apply(split_item)\n",
    "raw_data['Director'] = raw_data['Director'].apply(split_item)"
   ]
  },
  {
   "cell_type": "markdown",
   "metadata": {},
   "source": [
    "+ There are 10 different ratings, so we convert them into Pandas Categorial"
   ]
  },
  {
   "cell_type": "code",
   "execution_count": 10,
   "metadata": {},
   "outputs": [],
   "source": [
    "raw_data['Rating'] = raw_data['Rating'].astype('category')"
   ]
  },
  {
   "cell_type": "markdown",
   "metadata": {},
   "source": [
    "+ We convert Runtime into dictionary consists of hours and minutes for easier operating"
   ]
  },
  {
   "cell_type": "code",
   "execution_count": 11,
   "metadata": {},
   "outputs": [],
   "source": [
    "\n",
    "\n",
    "# Collect runtime information and convert it into dictionary\n",
    "def get_runtime(runtime_str):\n",
    "    if pd.isna(runtime_str) or runtime_str == 'nan' or runtime_str == 'NaN':\n",
    "        return pd.NA\n",
    "    else:\n",
    "        runtime = runtime_str.split()\n",
    "\n",
    "        if 'h' in runtime[0]:   \n",
    "            hours = int(runtime[0].split('h')[0])\n",
    "            minutes = int(runtime[1].split('m')[0])\n",
    "        else:\n",
    "            hours = 0\n",
    "            minutes = int(runtime[0].split('m')[0])\n",
    "        return {'hours' : hours, 'minutes': minutes}\n",
    "\n",
    "raw_data['Runtime'] = raw_data['Runtime'].apply(get_runtime)\n"
   ]
  },
  {
   "cell_type": "markdown",
   "metadata": {},
   "source": [
    "+ We convert release date into Pandas Datetime"
   ]
  },
  {
   "cell_type": "code",
   "execution_count": 12,
   "metadata": {},
   "outputs": [],
   "source": [
    "month_dict = {'Jan' : 1, 'Feb' : 2, 'Mar' : 3, 'Apr' : 4, 'May' : 5, 'Jun' : 6, 'Jul' : 7, 'Aug' : 8, 'Sep' : 9, 'Oct' : 10, 'Nov' : 11, 'Dec' : 12}\n",
    "\n",
    "# Collect date string and store it into datetime format\n",
    "def parse_datetime(date_str):\n",
    "    if pd.isna(date_str) or date_str == 'nan' or date_str == 'NaN' or date_str == 'Unknown':\n",
    "        return pd.NaT\n",
    "    else:\n",
    "        date = date_str.replace(',','').split()\n",
    "        if len(date) == 1:\n",
    "            year = int(date[0])\n",
    "            return pd.to_datetime(year, format ='%Y')\n",
    "        elif len(date) == 2:\n",
    "            month = month_dict[date[0]]\n",
    "            year = int(date[1])\n",
    "            day = 1\n",
    "            return pd.to_datetime(f'{year}-{month}-{day}', format='%Y-%m-%d')\n",
    "        else:\n",
    "            month = month_dict[date[0]]\n",
    "            day = int(date[1])\n",
    "            year = int(date[2])\n",
    "            return pd.to_datetime(f'{year}-{month}-{day}', format='%Y-%m-%d')\n",
    "\n",
    "raw_data['Release Date'] = raw_data['Release Date'].apply(parse_datetime)\n",
    "    "
   ]
  },
  {
   "cell_type": "markdown",
   "metadata": {},
   "source": [
    "+ Finally, convert Budgets and Grossess into numerical datatype and we are done"
   ]
  },
  {
   "cell_type": "code",
   "execution_count": 13,
   "metadata": {},
   "outputs": [],
   "source": [
    "# Replace $ notation, replace comma and get the value\n",
    "def parse_money(money_str):\n",
    "    if pd.isna(money_str) or money_str == 'nan' or money_str == 'NaN':\n",
    "        return np.nan\n",
    "    else:\n",
    "        money_str = money_str.replace('$','').replace(',','')\n",
    "        return float(money_str)\n",
    "\n",
    "raw_data['Production Budget'] = raw_data['Production Budget'].apply(parse_money)         \n",
    "raw_data['Domestic Gross'] = raw_data['Domestic Gross'].apply(parse_money)\n",
    "raw_data['Worldwide Gross'] = raw_data['Worldwide Gross'].apply(parse_money)"
   ]
  },
  {
   "cell_type": "markdown",
   "metadata": {},
   "source": [
    "+ Rename UserScore, Userscrore columns and drop Formated name columns because we dont use it"
   ]
  },
  {
   "cell_type": "code",
   "execution_count": 14,
   "metadata": {},
   "outputs": [],
   "source": [
    "raw_data.rename(columns={'UserScore' : 'Tomatoes UserScore', 'Userscore' : 'Meta UserScore', 'CriticScore' : 'Tomatoes CriticScore', 'MetaScore': 'Meta CriticScore'}, inplace=True)\n",
    "\n",
    "raw_data = raw_data.drop('Formated name', axis=1)"
   ]
  },
  {
   "cell_type": "code",
   "execution_count": 15,
   "metadata": {},
   "outputs": [
    {
     "name": "stdout",
     "output_type": "stream",
     "text": [
      "<class 'pandas.core.frame.DataFrame'>\n",
      "RangeIndex: 5106 entries, 0 to 5105\n",
      "Data columns (total 17 columns):\n",
      " #   Column                Non-Null Count  Dtype         \n",
      "---  ------                --------------  -----         \n",
      " 0   Title                 5106 non-null   object        \n",
      " 1   Tomatoes CriticScore  4129 non-null   float64       \n",
      " 2   Tomatoes UserScore    4523 non-null   float64       \n",
      " 3   Link                  5106 non-null   object        \n",
      " 4   PlatformReleased      5106 non-null   object        \n",
      " 5   Cast                  5074 non-null   object        \n",
      " 6   Director              5071 non-null   object        \n",
      " 7   Genre                 5060 non-null   object        \n",
      " 8   Rating                4015 non-null   category      \n",
      " 9   Runtime               5036 non-null   object        \n",
      " 10  Studio                5059 non-null   object        \n",
      " 11  Release Date          5031 non-null   datetime64[ns]\n",
      " 12  Production Budget     5106 non-null   float64       \n",
      " 13  Domestic Gross        5106 non-null   float64       \n",
      " 14  Worldwide Gross       5106 non-null   float64       \n",
      " 15  Metascore             4353 non-null   float64       \n",
      " 16  Meta UserScore        4186 non-null   float64       \n",
      "dtypes: category(1), datetime64[ns](1), float64(7), object(8)\n",
      "memory usage: 643.7+ KB\n"
     ]
    }
   ],
   "source": [
    "raw_data.info()"
   ]
  },
  {
   "cell_type": "code",
   "execution_count": 16,
   "metadata": {},
   "outputs": [
    {
     "data": {
      "text/html": [
       "<div>\n",
       "<style scoped>\n",
       "    .dataframe tbody tr th:only-of-type {\n",
       "        vertical-align: middle;\n",
       "    }\n",
       "\n",
       "    .dataframe tbody tr th {\n",
       "        vertical-align: top;\n",
       "    }\n",
       "\n",
       "    .dataframe thead th {\n",
       "        text-align: right;\n",
       "    }\n",
       "</style>\n",
       "<table border=\"1\" class=\"dataframe\">\n",
       "  <thead>\n",
       "    <tr style=\"text-align: right;\">\n",
       "      <th></th>\n",
       "      <th>Title</th>\n",
       "      <th>Tomatoes CriticScore</th>\n",
       "      <th>Tomatoes UserScore</th>\n",
       "      <th>Link</th>\n",
       "      <th>PlatformReleased</th>\n",
       "      <th>Cast</th>\n",
       "      <th>Director</th>\n",
       "      <th>Genre</th>\n",
       "      <th>Rating</th>\n",
       "      <th>Runtime</th>\n",
       "      <th>Studio</th>\n",
       "      <th>Release Date</th>\n",
       "      <th>Production Budget</th>\n",
       "      <th>Domestic Gross</th>\n",
       "      <th>Worldwide Gross</th>\n",
       "      <th>Metascore</th>\n",
       "      <th>Meta UserScore</th>\n",
       "    </tr>\n",
       "  </thead>\n",
       "  <tbody>\n",
       "    <tr>\n",
       "      <th>0</th>\n",
       "      <td>L.A. Confidential</td>\n",
       "      <td>99.0</td>\n",
       "      <td>94.0</td>\n",
       "      <td>https://www.rottentomatoes.com/m/la_confidential</td>\n",
       "      <td>Cinema</td>\n",
       "      <td>[Kevin Spacey, Russell Crowe, Guy Pearce, Jame...</td>\n",
       "      <td>[Curtis Hanson]</td>\n",
       "      <td>[Crime, Drama]</td>\n",
       "      <td>R</td>\n",
       "      <td>{'hours': 2, 'minutes': 16}</td>\n",
       "      <td>Warner Home Vídeo</td>\n",
       "      <td>1997-09-19</td>\n",
       "      <td>35000000.0</td>\n",
       "      <td>64604977.0</td>\n",
       "      <td>1.262050e+08</td>\n",
       "      <td>91.0</td>\n",
       "      <td>8.6</td>\n",
       "    </tr>\n",
       "    <tr>\n",
       "      <th>1</th>\n",
       "      <td>The Godfather</td>\n",
       "      <td>97.0</td>\n",
       "      <td>98.0</td>\n",
       "      <td>https://www.rottentomatoes.com/m/the_godfather</td>\n",
       "      <td>Cinema</td>\n",
       "      <td>[Marlon Brando, Al Pacino, James Caan, Richard...</td>\n",
       "      <td>[Francis Ford Coppola]</td>\n",
       "      <td>[Crime, Drama]</td>\n",
       "      <td>R</td>\n",
       "      <td>{'hours': 2, 'minutes': 57}</td>\n",
       "      <td>Paramount Pictures</td>\n",
       "      <td>1972-03-15</td>\n",
       "      <td>7000000.0</td>\n",
       "      <td>136479994.0</td>\n",
       "      <td>2.700074e+08</td>\n",
       "      <td>100.0</td>\n",
       "      <td>9.3</td>\n",
       "    </tr>\n",
       "    <tr>\n",
       "      <th>2</th>\n",
       "      <td>Casablanca</td>\n",
       "      <td>99.0</td>\n",
       "      <td>95.0</td>\n",
       "      <td>https://www.rottentomatoes.com/m/1003707-casab...</td>\n",
       "      <td>Cinema</td>\n",
       "      <td>[Humphrey Bogart, Ingrid Bergman, Paul Henreid...</td>\n",
       "      <td>[Michael Curtiz]</td>\n",
       "      <td>[Drama]</td>\n",
       "      <td>PG</td>\n",
       "      <td>{'hours': 1, 'minutes': 42}</td>\n",
       "      <td>Warner Bros. Pictures</td>\n",
       "      <td>1943-01-23</td>\n",
       "      <td>1039000.0</td>\n",
       "      <td>10462500.0</td>\n",
       "      <td>1.056718e+07</td>\n",
       "      <td>100.0</td>\n",
       "      <td>8.7</td>\n",
       "    </tr>\n",
       "    <tr>\n",
       "      <th>3</th>\n",
       "      <td>Parasite</td>\n",
       "      <td>99.0</td>\n",
       "      <td>90.0</td>\n",
       "      <td>https://www.rottentomatoes.com/m/parasite_2019</td>\n",
       "      <td>Cinema</td>\n",
       "      <td>[Song Kang-ho, Lee Sun-kyun, Jo Yeo-jeong, Cho...</td>\n",
       "      <td>[Bong Joon Ho]</td>\n",
       "      <td>[Comedy, Mystery &amp; Thriller, Drama]</td>\n",
       "      <td>R</td>\n",
       "      <td>{'hours': 2, 'minutes': 12}</td>\n",
       "      <td>Neon</td>\n",
       "      <td>2019-05-30</td>\n",
       "      <td>11800000.0</td>\n",
       "      <td>53369745.0</td>\n",
       "      <td>2.532679e+08</td>\n",
       "      <td>97.0</td>\n",
       "      <td>8.9</td>\n",
       "    </tr>\n",
       "    <tr>\n",
       "      <th>4</th>\n",
       "      <td>Top Gun: Maverick</td>\n",
       "      <td>96.0</td>\n",
       "      <td>99.0</td>\n",
       "      <td>https://www.rottentomatoes.com/m/top_gun_maverick</td>\n",
       "      <td>Cinema</td>\n",
       "      <td>[Tom Cruise, Miles Teller, Jennifer Connelly, ...</td>\n",
       "      <td>[Joseph Kosinski]</td>\n",
       "      <td>[Action, Adventure]</td>\n",
       "      <td>PG-13</td>\n",
       "      <td>{'hours': 2, 'minutes': 11}</td>\n",
       "      <td>Paramount Pictures</td>\n",
       "      <td>2022-05-20</td>\n",
       "      <td>170000000.0</td>\n",
       "      <td>718732821.0</td>\n",
       "      <td>1.464400e+09</td>\n",
       "      <td>78.0</td>\n",
       "      <td>8.4</td>\n",
       "    </tr>\n",
       "  </tbody>\n",
       "</table>\n",
       "</div>"
      ],
      "text/plain": [
       "               Title  Tomatoes CriticScore  Tomatoes UserScore  \\\n",
       "0  L.A. Confidential                  99.0                94.0   \n",
       "1      The Godfather                  97.0                98.0   \n",
       "2         Casablanca                  99.0                95.0   \n",
       "3           Parasite                  99.0                90.0   \n",
       "4  Top Gun: Maverick                  96.0                99.0   \n",
       "\n",
       "                                                Link PlatformReleased  \\\n",
       "0   https://www.rottentomatoes.com/m/la_confidential           Cinema   \n",
       "1     https://www.rottentomatoes.com/m/the_godfather           Cinema   \n",
       "2  https://www.rottentomatoes.com/m/1003707-casab...           Cinema   \n",
       "3     https://www.rottentomatoes.com/m/parasite_2019           Cinema   \n",
       "4  https://www.rottentomatoes.com/m/top_gun_maverick           Cinema   \n",
       "\n",
       "                                                Cast                Director  \\\n",
       "0  [Kevin Spacey, Russell Crowe, Guy Pearce, Jame...         [Curtis Hanson]   \n",
       "1  [Marlon Brando, Al Pacino, James Caan, Richard...  [Francis Ford Coppola]   \n",
       "2  [Humphrey Bogart, Ingrid Bergman, Paul Henreid...        [Michael Curtiz]   \n",
       "3  [Song Kang-ho, Lee Sun-kyun, Jo Yeo-jeong, Cho...          [Bong Joon Ho]   \n",
       "4  [Tom Cruise, Miles Teller, Jennifer Connelly, ...       [Joseph Kosinski]   \n",
       "\n",
       "                                 Genre Rating                      Runtime  \\\n",
       "0                       [Crime, Drama]      R  {'hours': 2, 'minutes': 16}   \n",
       "1                       [Crime, Drama]      R  {'hours': 2, 'minutes': 57}   \n",
       "2                              [Drama]     PG  {'hours': 1, 'minutes': 42}   \n",
       "3  [Comedy, Mystery & Thriller, Drama]      R  {'hours': 2, 'minutes': 12}   \n",
       "4                  [Action, Adventure]  PG-13  {'hours': 2, 'minutes': 11}   \n",
       "\n",
       "                  Studio Release Date  Production Budget  Domestic Gross  \\\n",
       "0      Warner Home Vídeo   1997-09-19         35000000.0      64604977.0   \n",
       "1     Paramount Pictures   1972-03-15          7000000.0     136479994.0   \n",
       "2  Warner Bros. Pictures   1943-01-23          1039000.0      10462500.0   \n",
       "3                   Neon   2019-05-30         11800000.0      53369745.0   \n",
       "4     Paramount Pictures   2022-05-20        170000000.0     718732821.0   \n",
       "\n",
       "   Worldwide Gross  Metascore  Meta UserScore  \n",
       "0     1.262050e+08       91.0             8.6  \n",
       "1     2.700074e+08      100.0             9.3  \n",
       "2     1.056718e+07      100.0             8.7  \n",
       "3     2.532679e+08       97.0             8.9  \n",
       "4     1.464400e+09       78.0             8.4  "
      ]
     },
     "execution_count": 16,
     "metadata": {},
     "output_type": "execute_result"
    }
   ],
   "source": [
    "raw_data.head()"
   ]
  },
  {
   "cell_type": "markdown",
   "metadata": {},
   "source": [
    "### Numerical column exploration"
   ]
  },
  {
   "cell_type": "markdown",
   "metadata": {},
   "source": [
    "For columns with numeric data types, calculate:\n",
    "- Percentage of missing values (From this and further calculation to propose a suitable approach to fill missing values of that column)\n",
    "- The min\n",
    "- The lower quartile\n",
    "- The median\n",
    "- The upper quartile\n",
    "- The max\n",
    "After calculating, give **visualization** to help get deeper understanding of data, from that graph/chart give some comments on the values' distribution of that column"
   ]
  },
  {
   "cell_type": "code",
   "execution_count": 32,
   "metadata": {},
   "outputs": [
    {
     "data": {
      "text/plain": [
       "Index(['Tomatoes CriticScore', 'Tomatoes UserScore', 'Production Budget',\n",
       "       'Domestic Gross', 'Worldwide Gross', 'Metascore', 'Meta UserScore'],\n",
       "      dtype='object')"
      ]
     },
     "execution_count": 32,
     "metadata": {},
     "output_type": "execute_result"
    }
   ],
   "source": [
    "numerical_cols = raw_data.select_dtypes(include=['number']).columns\n",
    "numerical_cols"
   ]
  },
  {
   "cell_type": "markdown",
   "metadata": {},
   "source": [
    "# Tomatoes CriticsScore"
   ]
  },
  {
   "cell_type": "markdown",
   "metadata": {},
   "source": [
    "- Missing Ratio"
   ]
  },
  {
   "cell_type": "code",
   "execution_count": 17,
   "metadata": {},
   "outputs": [
    {
     "name": "stdout",
     "output_type": "stream",
     "text": [
      "Percentage of missing values:  19.134351743047397\n"
     ]
    }
   ],
   "source": [
    "print(\"Percentage of missing values: \", raw_data['Tomatoes CriticScore'].isna().mean()*100)"
   ]
  },
  {
   "cell_type": "markdown",
   "metadata": {},
   "source": [
    "- Correlation among other numerical features"
   ]
  },
  {
   "cell_type": "code",
   "execution_count": 18,
   "metadata": {},
   "outputs": [
    {
     "name": "stdout",
     "output_type": "stream",
     "text": [
      "T-test p-values between missing and non-missing groups for 'Tomatoes CriticScore':\n",
      "                  Column        pvalue\n",
      "8              Animation  7.757713e-01\n",
      "9                  Anime  6.331468e-01\n",
      "29                Sports  6.267054e-01\n",
      "15  Faith & Spirituality  6.267054e-01\n",
      "17               Foreign  6.267054e-01\n",
      "19               Holiday  2.981110e-01\n",
      "20                Horror  2.793797e-01\n",
      "39          Rating_TV-MA  2.785175e-01\n",
      "24               Musical  2.132383e-01\n",
      "33          Rating_NC-17  1.978649e-01\n",
      "14                 Drama  1.974160e-01\n",
      "25    Mystery & Thriller  1.968717e-01\n",
      "12                 Crime  6.487590e-02\n",
      "26                 Other  3.979249e-02\n",
      "30                   War  3.676100e-02\n",
      "32              Rating_G  2.419578e-02\n",
      "31               Western  1.580981e-02\n",
      "38           Rating_TV-G  1.051493e-02\n",
      "23                 Music  9.429270e-03\n",
      "22                LGBTQ+  5.428654e-03\n",
      "27               Romance  3.474896e-03\n",
      "4              Metascore  2.863810e-03\n",
      "18               History  2.695654e-03\n",
      "5         Meta UserScore  6.894735e-04\n",
      "10             Biography  5.453796e-05\n",
      "13           Documentary  1.991623e-05\n",
      "21         Kids & Family  4.126167e-06\n",
      "28                Sci-Fi  1.083583e-06\n",
      "37          Rating_TV-14  6.166028e-07\n",
      "16               Fantasy  4.045428e-09\n",
      "6                 Action  2.586245e-10\n",
      "1      Production Budget  7.696162e-12\n",
      "3        Worldwide Gross  4.222063e-12\n",
      "7              Adventure  4.475178e-13\n",
      "34             Rating_PG  7.160356e-15\n",
      "2         Domestic Gross  1.207758e-15\n",
      "40          Rating_TV-PG  2.039005e-19\n",
      "11                Comedy  1.127241e-29\n",
      "0     Tomatoes UserScore  4.315098e-50\n",
      "35          Rating_PG-13  2.670126e-69\n",
      "36              Rating_R  1.444951e-79\n",
      "Proportion of significant features: 0.68\n"
     ]
    }
   ],
   "source": [
    "from sklearn.preprocessing import MultiLabelBinarizer\n",
    "from scipy.stats import ttest_ind\n",
    "\n",
    "mlb = MultiLabelBinarizer()\n",
    "raw_data_tmp = raw_data.copy()\n",
    "raw_data_tmp['Genre'] = raw_data_tmp['Genre'].fillna(\"\")\n",
    "genre_onehot = pd.DataFrame(mlb.fit_transform(raw_data_tmp['Genre']), columns=mlb.classes_, index=raw_data_tmp.index)\n",
    "\n",
    "rating_onehot = pd.get_dummies(raw_data_tmp['Rating'], prefix='Rating').astype(int)\n",
    "\n",
    "raw_data_tmp = pd.concat([raw_data_tmp, genre_onehot, rating_onehot], axis=1)\n",
    "raw_data_tmp = raw_data_tmp.drop(['Genre', 'Rating'], axis=1)\n",
    "\n",
    "# Conduct t-tests between missing and non-missing groups for 'Tomatoes CriticScore'\n",
    "p_values = {}\n",
    "for column in raw_data_tmp.columns:\n",
    "    if column != 'Tomatoes CriticScore' and np.issubdtype(raw_data_tmp[column].dtype, np.number):\n",
    "        missing_group = raw_data_tmp[raw_data_tmp['Tomatoes CriticScore'].isna()][column]\n",
    "        non_missing_group = raw_data_tmp[~raw_data_tmp['Tomatoes CriticScore'].isna()][column]\n",
    "\n",
    "        if len(missing_group) > 0 and len(non_missing_group) > 0:\n",
    "            ttest_result = ttest_ind(missing_group, non_missing_group, nan_policy='omit')\n",
    "            p_values[column] = ttest_result.pvalue\n",
    "\n",
    "# Convert p-values to a DataFrame and sort for easy viewing\n",
    "p_values_df = pd.DataFrame(list(p_values.items()), columns=['Column', 'pvalue'])\n",
    "p_values_sorted = p_values_df.sort_values(by='pvalue', ascending=False)\n",
    "print(\"T-test p-values between missing and non-missing groups for 'Tomatoes CriticScore':\")\n",
    "print(p_values_sorted)\n",
    "\n",
    "significant_features = p_values_sorted[p_values_sorted['pvalue'] < 0.05]\n",
    "num_significant = significant_features.shape[0]\n",
    "total_features = p_values_sorted.shape[0]\n",
    "\n",
    "# Calculate the proportion of significant features\n",
    "proportion_significant = num_significant / total_features\n",
    "\n",
    "print(f\"Proportion of significant features: {proportion_significant:.2f}\")"
   ]
  },
  {
   "cell_type": "markdown",
   "metadata": {},
   "source": [
    "Most of p-values are < 0.05, suggesting that there is no significant difference between the groups with and without Tomatoes CriticScore and rate of p-values is 0.66, which is quite high<br>\n",
    "It is likely that the missingness of Tomatoes CriticScore is **MAR** "
   ]
  },
  {
   "cell_type": "markdown",
   "metadata": {},
   "source": [
    "- Distribution of values"
   ]
  },
  {
   "cell_type": "code",
   "execution_count": 19,
   "metadata": {},
   "outputs": [
    {
     "data": {
      "text/plain": [
       "<Axes: title={'center': 'Tomatoes Critic Score'}, ylabel='Frequency'>"
      ]
     },
     "execution_count": 19,
     "metadata": {},
     "output_type": "execute_result"
    },
    {
     "data": {
      "image/png": "[encoded data removed]",
      "text/plain": [
       "<Figure size 1500x1000 with 1 Axes>"
      ]
     },
     "metadata": {},
     "output_type": "display_data"
    }
   ],
   "source": [
    "# Bar chart of scores\n",
    "fig, ax = plt.subplots(1, 1, figsize=(15, 10))\n",
    "raw_data['Tomatoes CriticScore'].plot(kind='hist', title='Tomatoes Critic Score', bins=20)\n"
   ]
  },
  {
   "cell_type": "markdown",
   "metadata": {},
   "source": [
    "- Descriptive Statistics"
   ]
  },
  {
   "cell_type": "code",
   "execution_count": 20,
   "metadata": {},
   "outputs": [
    {
     "name": "stdout",
     "output_type": "stream",
     "text": [
      "Mean:  58.367885686606925\n",
      "Median:  62.0\n",
      "Mode:  93.0\n",
      "Quartiles:  [35. 62. 83.]\n",
      "Percentiles:  [17. 93.]\n",
      "Deciles:  [17. 29. 41. 51. 62. 71. 80. 87. 93.]\n",
      "Range:  [0.0, 100.0]\n"
     ]
    }
   ],
   "source": [
    "# The mean of Critics_Score\n",
    "from scipy.stats import skew, kurtosis, sem\n",
    "\n",
    "# Load necessary data from raw_data['CriticScore'] \n",
    "scores = raw_data['Tomatoes CriticScore']\n",
    "\n",
    "# Basic Measures\n",
    "mean = scores.mean()                                # Arithmetic Mean\n",
    "median = scores.median()                            # Median\n",
    "mode = scores.mode().values[0] if not scores.mode().empty else None  # Mode (if exists)\n",
    "\n",
    "# Quantiles\n",
    "quartiles = scores.quantile([0.25, 0.5, 0.75]).values  # Quartiles (Q1, Q2 (median), Q3)\n",
    "percentiles = scores.quantile([0.1, 0.9]).values       # 10th and 90th Percentiles\n",
    "deciles = scores.quantile([i/10 for i in range(1, 10)]).values  # Deciles (10th to 90th percentiles)\n",
    "\n",
    "# Range and IQR\n",
    "data_range = [scores.min(), scores.max()]\n",
    "\n",
    "# Standard Error of the Mean\n",
    "standard_error = sem(scores)\n",
    "\n",
    "print(\"Mean: \", mean)\n",
    "print(\"Median: \", median)\n",
    "print(\"Mode: \", mode)\n",
    "print(\"Quartiles: \", quartiles)\n",
    "print(\"Percentiles: \", percentiles)\n",
    "print(\"Deciles: \", deciles)\n",
    "print(\"Range: \", data_range)\n"
   ]
  },
  {
   "cell_type": "markdown",
   "metadata": {},
   "source": [
    "**Mean (58.37):** On average, movies tend to receive a critic score around 58.37 out of 100.\n",
    "\n",
    "**Median (62):** The median being higher than the mean suggests a positive skew in the distribution, meaning there are more movies with lower scores compared to higher scores.\n",
    "\n",
    "**Mode (93):** The most frequent critic score is 93. This could be due to a few movies that received exceptionally high ratings.\n",
    "\n",
    "**Quartiles:**\n",
    "\n",
    "-   Q1 (35): 25% of the movies have a critic score of 35 or lower.\n",
    "-   Q2 (Median, 62): 50% of the movies have a critic score of 62 or lower.\n",
    "-   Q3 (83): 75% of the movies have a critic score of 83 or lower.\n",
    "    \n",
    "**Percentiles:**\n",
    "\n",
    "- P10 (17): 10% of the movies have a critic score of 17 or lower.\n",
    "- P90 (93): 90% of the movies have a critic score of 93 or lower.\n",
    "\n",
    "**Deciles:** Movies tend to receive quite equal user scores from rotten tomatoes.\n",
    "\n",
    "**Range (0-100):** This indicates that the critic scores range from 0 to 100, which is expected for a rating system.\n",
    "\n",
    "**Overall, the summary statistics suggest a distribution that is skewed towards lower scores, with a few outliers on the higher end.**"
   ]
  },
  {
   "cell_type": "markdown",
   "metadata": {},
   "source": [
    "# Tomatoes UserScore"
   ]
  },
  {
   "cell_type": "markdown",
   "metadata": {},
   "source": [
    "- Missing Ratio"
   ]
  },
  {
   "cell_type": "code",
   "execution_count": 21,
   "metadata": {},
   "outputs": [
    {
     "name": "stdout",
     "output_type": "stream",
     "text": [
      "Percentage of missing values:  11.417939678809244\n"
     ]
    }
   ],
   "source": [
    "print(\"Percentage of missing values: \", raw_data['Tomatoes UserScore'].isna().mean()*100)"
   ]
  },
  {
   "cell_type": "markdown",
   "metadata": {},
   "source": [
    "- Correlation among other numerical features"
   ]
  },
  {
   "cell_type": "code",
   "execution_count": 22,
   "metadata": {},
   "outputs": [
    {
     "name": "stdout",
     "output_type": "stream",
     "text": [
      "T-test p-values between missing and non-missing groups for 'Tomatoes CriticScore':\n",
      "                  Column        pvalue\n",
      "39          Rating_TV-MA  9.768950e-01\n",
      "38           Rating_TV-G  8.113520e-01\n",
      "24               Musical  7.887967e-01\n",
      "15  Faith & Spirituality  7.196164e-01\n",
      "29                Sports  7.196164e-01\n",
      "37          Rating_TV-14  6.145822e-01\n",
      "8              Animation  4.942390e-01\n",
      "33          Rating_NC-17  3.419376e-01\n",
      "19               Holiday  3.306256e-01\n",
      "4              Metascore  3.132494e-01\n",
      "9                  Anime  3.095978e-01\n",
      "12                 Crime  1.945396e-01\n",
      "31               Western  6.005794e-02\n",
      "32              Rating_G  4.403612e-02\n",
      "30                   War  4.154914e-02\n",
      "27               Romance  2.883157e-02\n",
      "23                 Music  2.632155e-02\n",
      "0   Tomatoes CriticScore  1.996478e-02\n",
      "5         Meta UserScore  1.207926e-02\n",
      "25    Mystery & Thriller  1.143898e-02\n",
      "22                LGBTQ+  9.267475e-03\n",
      "17               Foreign  5.336372e-03\n",
      "26                 Other  5.336372e-03\n",
      "18               History  2.465838e-03\n",
      "10             Biography  1.921051e-03\n",
      "20                Horror  9.688976e-04\n",
      "1      Production Budget  7.650332e-04\n",
      "40          Rating_TV-PG  4.787673e-04\n",
      "14                 Drama  4.856959e-05\n",
      "3        Worldwide Gross  2.497898e-05\n",
      "21         Kids & Family  1.579157e-05\n",
      "2         Domestic Gross  5.207599e-06\n",
      "28                Sci-Fi  3.617841e-06\n",
      "16               Fantasy  4.792263e-08\n",
      "6                 Action  4.102980e-09\n",
      "13           Documentary  3.435885e-09\n",
      "7              Adventure  7.606321e-10\n",
      "34             Rating_PG  2.644687e-14\n",
      "11                Comedy  1.775212e-21\n",
      "35          Rating_PG-13  2.993163e-48\n",
      "36              Rating_R  3.511901e-70\n",
      "28\n",
      "Proportion of significant features: 0.68\n"
     ]
    }
   ],
   "source": [
    "p_values = {}\n",
    "\n",
    "for column in raw_data_tmp.columns:\n",
    "    if column != 'Tomatoes UserScore' and np.issubdtype(raw_data_tmp[column].dtype, np.number):\n",
    "        missing_group = raw_data_tmp[raw_data_tmp['Tomatoes UserScore'].isna()][column]\n",
    "        non_missing_group = raw_data_tmp[~raw_data_tmp['Tomatoes UserScore'].isna()][column]\n",
    "\n",
    "        if len(missing_group) > 0 and len(non_missing_group) > 0:\n",
    "            # Perform the t-test\n",
    "            ttest_result = ttest_ind(missing_group, non_missing_group, nan_policy='omit')\n",
    "            # Store the p-value in the dictionary\n",
    "            p_values[column] = ttest_result.pvalue\n",
    "\n",
    "# Convert the dictionary to a DataFrame for easier sorting\n",
    "p_values_df = pd.DataFrame(list(p_values.items()), columns=['Column', 'pvalue'])\n",
    "print(\"T-test p-values between missing and non-missing groups for 'Tomatoes CriticScore':\")\n",
    "\n",
    "# Sort the DataFrame by p-value\n",
    "p_values_sorted = p_values_df.sort_values(by='pvalue', ascending=False)\n",
    "\n",
    "# Print the sorted p-values\n",
    "print(p_values_sorted)\n",
    "significant_features = p_values_sorted[p_values_sorted['pvalue'] < 0.05]\n",
    "print(len(significant_features))\n",
    "num_significant = significant_features.shape[0]\n",
    "total_features = p_values_sorted.shape[0]\n",
    "\n",
    "# Calculate the proportion of significant features\n",
    "proportion_significant = num_significant / total_features\n",
    "\n",
    "print(f\"Proportion of significant features: {proportion_significant:.2f}\")"
   ]
  },
  {
   "cell_type": "markdown",
   "metadata": {},
   "source": [
    "Most of p-values are < 0.05, suggesting that there is no significant difference between the groups with and without Tomatoes CriticScore and rate of p-values is 0.72, which is quite high<br>\n",
    "It is likely that the missingness of Tomatoes UserScore is **MAR** "
   ]
  },
  {
   "cell_type": "markdown",
   "metadata": {},
   "source": [
    "- Distribution of values"
   ]
  },
  {
   "cell_type": "code",
   "execution_count": 23,
   "metadata": {},
   "outputs": [
    {
     "data": {
      "text/plain": [
       "<Axes: title={'center': 'Tomatoes User Score'}, ylabel='Frequency'>"
      ]
     },
     "execution_count": 23,
     "metadata": {},
     "output_type": "execute_result"
    },
    {
     "data": {
      "image/png": "[encoded data removed]",
      "text/plain": [
       "<Figure size 1500x1000 with 1 Axes>"
      ]
     },
     "metadata": {},
     "output_type": "display_data"
    }
   ],
   "source": [
    "# Bar chart of scores\n",
    "fig, ax = plt.subplots(1, 1, figsize=(15, 10))\n",
    "raw_data['Tomatoes UserScore'].plot(kind='hist', title='Tomatoes User Score', bins=20)\n"
   ]
  },
  {
   "cell_type": "markdown",
   "metadata": {},
   "source": [
    "- Descriptive Statistics"
   ]
  },
  {
   "cell_type": "code",
   "execution_count": 24,
   "metadata": {},
   "outputs": [
    {
     "name": "stdout",
     "output_type": "stream",
     "text": [
      "Mean:  62.45743975237674\n",
      "Median:  65.0\n",
      "Mode:  79.0\n",
      "Quartiles:  [47. 65. 80.]\n",
      "Percentiles:  [33. 89.]\n",
      "Deciles:  [33. 43. 51. 58. 65. 71. 77. 83. 89.]\n",
      "Range:  [0.0, 100.0]\n"
     ]
    }
   ],
   "source": [
    "\n",
    "# Load necessary data from raw_data['CriticScore'] \n",
    "scores = raw_data['Tomatoes UserScore']\n",
    "\n",
    "# Basic Measures\n",
    "mean = scores.mean()                                # Arithmetic Mean\n",
    "median = scores.median()                            # Median\n",
    "mode = scores.mode().values[0] if not scores.mode().empty else None  # Mode (if exists)\n",
    "\n",
    "# Quantiles\n",
    "quartiles = scores.quantile([0.25, 0.5, 0.75]).values  # Quartiles (Q1, Q2 (median), Q3)\n",
    "percentiles = scores.quantile([0.1, 0.9]).values       # 10th and 90th Percentiles\n",
    "deciles = scores.quantile([i/10 for i in range(1, 10)]).values  # Deciles (10th to 90th percentiles)\n",
    "\n",
    "# Range\n",
    "data_range = [scores.min(), scores.max()]\n",
    "\n",
    "print(\"Mean: \", mean)\n",
    "print(\"Median: \", median)\n",
    "print(\"Mode: \", mode)\n",
    "print(\"Quartiles: \", quartiles)\n",
    "print(\"Percentiles: \", percentiles)\n",
    "print(\"Deciles: \", deciles)\n",
    "print(\"Range: \", data_range)\n"
   ]
  },
  {
   "cell_type": "markdown",
   "metadata": {},
   "source": [
    "**Mean (62.45):** On average, movies tend to receive a user score around 62.45 out of 100.\n",
    "\n",
    "**Median (65):** The median being higher than the mean suggests a positive skew in the distribution, meaning there are more movies with lower scores compared to higher scores.\n",
    "\n",
    "**&rarr; The mean (62.46) and median (65.0) values are relatively high, especially when considering a scoring scale that ranges from 0 to 100. This suggests that, on average, users are rating items above the midpoint (50), indicating a general tendency to rate positively**\n",
    "\n",
    "**Mode (79):** The most frequent critic score is 79. This could be due to a few movies that received exceptionally high ratings.\n",
    "\n",
    "**&rarr; A significant number of users have rated items favorably, as scores in the upper range are generally seen as positive**\n",
    "\n",
    "**Quartiles:**\n",
    "\n",
    "-   Q1 (47): 25% of the movies have a critic score of 47 or lower.\n",
    "-   Q2 (Median, 65): 50% of the movies have a critic score of 65 or lower.\n",
    "-   Q3 (80): 75% of the movies have a critic score of 89 or lower.\n",
    "    \n",
    "**&rarr; Many users are giving high ratings**\n",
    " \n",
    "**Percentiles:**\n",
    "\n",
    "- P10 (33): 10% of the movies have a critic score of 33 or lower.\n",
    "- P90 (89): 90% of the movies have a critic score of 89 or lower.\n",
    "\n",
    "**Deciles:** Movies tend to receive quite equal user score from rotten tomatoes.\n",
    "\n",
    "**Range (0-100):** This indicates that the critic scores range from 0 to 100, which is expected for a rating system.\n",
    "\n",
    "**While the presence of low scores does indicate that not all ratings are high, the overall trend in the statistics shows a clustering of scores towards the upper end. This is a common pattern seen in products or content that are generally well-received.**"
   ]
  },
  {
   "cell_type": "markdown",
   "metadata": {},
   "source": [
    "# Production Budget"
   ]
  },
  {
   "cell_type": "markdown",
   "metadata": {},
   "source": [
    "- Missing Ratio"
   ]
  },
  {
   "cell_type": "code",
   "execution_count": 25,
   "metadata": {},
   "outputs": [
    {
     "name": "stdout",
     "output_type": "stream",
     "text": [
      "Percentage of missing values:  0.0\n"
     ]
    }
   ],
   "source": [
    "print(\"Percentage of missing values: \", raw_data['Production Budget'].isna().mean()*100)"
   ]
  },
  {
   "cell_type": "markdown",
   "metadata": {},
   "source": [
    "Luckily, no missing values"
   ]
  },
  {
   "cell_type": "markdown",
   "metadata": {},
   "source": [
    "- Distribution of values"
   ]
  },
  {
   "cell_type": "code",
   "execution_count": 26,
   "metadata": {},
   "outputs": [
    {
     "data": {
      "text/plain": [
       "<Axes: title={'center': 'Production Budget Over Time'}, xlabel='Release Date'>"
      ]
     },
     "execution_count": 26,
     "metadata": {},
     "output_type": "execute_result"
    },
    {
     "data": {
      "image/png": "[encoded data removed]",
      "text/plain": [
       "<Figure size 1500x1000 with 1 Axes>"
      ]
     },
     "metadata": {},
     "output_type": "display_data"
    }
   ],
   "source": [
    "# Line graph of production budget over time\n",
    "fig, ax = plt.subplots(1, 1, figsize=(15, 10))\n",
    "raw_data.groupby('Release Date')['Production Budget'].mean().plot(title='Production Budget Over Time', ax=ax)\n"
   ]
  },
  {
   "cell_type": "markdown",
   "metadata": {},
   "source": [
    "- Descriptive Statistics"
   ]
  },
  {
   "cell_type": "code",
   "execution_count": 27,
   "metadata": {},
   "outputs": [
    {
     "name": "stdout",
     "output_type": "stream",
     "text": [
      "Mean:  33937859.52781042\n",
      "Median:  18000000.0\n",
      "Mode:  20000000.0\n",
      "Quartiles:  [ 5000000. 18000000. 43750000.]\n",
      "Percentiles:  [ 1200000. 85000000.]\n",
      "Deciles:  [ 1200000.  3750000.  7000000. 12000000. 18000000. 25000000. 35000000.\n",
      " 52000000. 85000000.]\n",
      "Range:  [86.0, 460000000.0]\n"
     ]
    }
   ],
   "source": [
    "\n",
    "# Load necessary data from raw_data['CriticScore'] \n",
    "scores = raw_data['Production Budget']\n",
    "\n",
    "# Basic Measures\n",
    "mean = scores.mean()                                # Arithmetic Mean\n",
    "median = scores.median()                            # Median\n",
    "mode = scores.mode().values[0] if not scores.mode().empty else None  # Mode (if exists)\n",
    "\n",
    "# Quantiles\n",
    "quartiles = scores.quantile([0.25, 0.5, 0.75]).values  # Quartiles (Q1, Q2 (median), Q3)\n",
    "percentiles = scores.quantile([0.1, 0.9]).values       # 10th and 90th Percentiles\n",
    "deciles = scores.quantile([i/10 for i in range(1, 10)]).values  # Deciles (10th to 90th percentiles)\n",
    "\n",
    "# Range\n",
    "data_range = [scores.min(), scores.max()]\n",
    "\n",
    "print(\"Mean: \", mean)\n",
    "print(\"Median: \", median)\n",
    "print(\"Mode: \", mode)\n",
    "print(\"Quartiles: \", quartiles)\n",
    "print(\"Percentiles: \", percentiles)\n",
    "print(\"Deciles: \", deciles)\n",
    "print(\"Range: \", data_range)\n"
   ]
  },
  {
   "cell_type": "markdown",
   "metadata": {},
   "source": [
    "**Mean (33,937,859.53):** The average production budget is approximately 33,937,859.53. This indicates that, on average, films are funded at a substantial level, suggesting a significant investment in movie production.\n",
    "\n",
    "**Median (18,000,000.0):** The median budget being 18,000,000.0 is notably lower than the mean, indicating a positive skew in the distribution. This suggests that while there are some films with very high budgets, many productions operate with more modest funding levels.\n",
    "\n",
    "**→ The mean (33,937,859.53) and median (18,000,000.0) values suggest that while there are high-budget films, a significant number of productions are budgeted below the average, highlighting a diverse range of film financing.**\n",
    "\n",
    "**Mode (20,000,000.0):** The mode of 20,000,000.0 indicates that this is the most common budget level among films. This clustering suggests a popular threshold for many productions, potentially reflecting industry standards or target funding levels.\n",
    "\n",
    "**&rarr; A considerable number of films are being funded around this budget mark, indicating a trend in production financing.**\n",
    "\n",
    "**Quartiles:**\n",
    "\n",
    "- Q1 (5,000,000): 25% of films have budgets of 5,000,000 or lower, illustrating that a notable portion of productions are budget-conscious.\n",
    "- Q2 (Median, 18,000,000): 50% of productions have budgets of 18,000,000 or lower, reinforcing that half of the films operate with relatively lower funding.\n",
    "- Q3 (43,750,000): 75% of films have budgets below 43,750,000, suggesting that a significant number of productions are still well below the high-budget threshold.\n",
    "\n",
    "**&rarr;** The quartile data indicates a wide range of budgets across the industry, with a substantial number of films receiving moderate to high levels of funding.\n",
    "\n",
    "**Percentiles:**\n",
    "\n",
    "P10 (1,200,000): 10% of films have budgets of 1,200,000 or lower, indicating that there are some very low-budget projects in the market.\n",
    "P90 (85,000,000): 90% of films are budgeted below 85,000,000, showcasing that while high-budget films exist, the majority still fall within a lower range.\n",
    "\n",
    "**Deciles:** The decile analysis indicates a fairly even distribution of budgets, suggesting that production funding is relatively accessible across a spectrum of films.\n",
    "\n",
    "**Range (0-460,000,000):** The range of budgets from 86.0 to 460,000,000.0 confirms the presence of extreme outliers, reflecting the diversity in production financing strategies.\n",
    "\n",
    "**Overall, while the presence of low budgets indicates that not all productions are highly funded, the majority of the data reflects a tendency towards higher investment in film production. This suggests a competitive landscape where a mix of both high-budget and lower-budget films coexist, potentially allowing for varied audience engagement and market opportunities.**"
   ]
  },
  {
   "cell_type": "markdown",
   "metadata": {},
   "source": [
    "# Domestic Gross"
   ]
  },
  {
   "cell_type": "markdown",
   "metadata": {},
   "source": [
    "- Missing Ratio"
   ]
  },
  {
   "cell_type": "code",
   "execution_count": 28,
   "metadata": {},
   "outputs": [
    {
     "name": "stdout",
     "output_type": "stream",
     "text": [
      "Percentage of missing values:  0.0\n"
     ]
    }
   ],
   "source": [
    "print(\"Percentage of missing values: \", raw_data['Domestic Gross'].isna().mean()*100)"
   ]
  },
  {
   "cell_type": "markdown",
   "metadata": {},
   "source": [
    "Luckily, no missing values"
   ]
  },
  {
   "cell_type": "markdown",
   "metadata": {},
   "source": [
    "- Distribution of values"
   ]
  },
  {
   "cell_type": "code",
   "execution_count": 63,
   "metadata": {},
   "outputs": [
    {
     "data": {
      "text/plain": [
       "<Axes: title={'center': 'Domestic Gross Over Time'}, xlabel='Release Date'>"
      ]
     },
     "execution_count": 63,
     "metadata": {},
     "output_type": "execute_result"
    },
    {
     "data": {
      "image/png": "[encoded data removed]",
      "text/plain": [
       "<Figure size 1500x1000 with 1 Axes>"
      ]
     },
     "metadata": {},
     "output_type": "display_data"
    }
   ],
   "source": [
    "# Line graph of production budget over time\n",
    "fig, ax = plt.subplots(1, 1, figsize=(15, 10))\n",
    "raw_data.groupby('Release Date')['Domestic Gross'].mean().plot(title='Domestic Gross Over Time', ax=ax)\n"
   ]
  },
  {
   "cell_type": "markdown",
   "metadata": {},
   "source": [
    "Luckily, no missing values"
   ]
  },
  {
   "cell_type": "markdown",
   "metadata": {},
   "source": [
    "- Descriptive Statistics"
   ]
  },
  {
   "cell_type": "code",
   "execution_count": 30,
   "metadata": {},
   "outputs": [
    {
     "name": "stdout",
     "output_type": "stream",
     "text": [
      "Mean:  43825054.271053664\n",
      "Median:  17672451.0\n",
      "Mode:  0.0\n",
      "Quartiles:  [ 1431370.5 17672451.  54141177.5]\n",
      "Percentiles:  [0.00000000e+00 1.16729653e+08]\n",
      "Deciles:  [0.00000000e+00 4.09862000e+05 3.49233450e+06 9.63939000e+06\n",
      " 1.76724510e+07 2.95000000e+07 4.45632045e+07 6.61840510e+07\n",
      " 1.16729653e+08]\n",
      "Range:  [0.0, 858373000.0]\n"
     ]
    }
   ],
   "source": [
    "scores = raw_data['Domestic Gross']\n",
    "\n",
    "# Basic Measures\n",
    "mean = scores.mean()                                # Arithmetic Mean\n",
    "median = scores.median()                            # Median\n",
    "mode = scores.mode().values[0] if not scores.mode().empty else None  # Mode (if exists)\n",
    "\n",
    "# Quantiles\n",
    "quartiles = scores.quantile([0.25, 0.5, 0.75]).values  # Quartiles (Q1, Q2 (median), Q3)\n",
    "percentiles = scores.quantile([0.1, 0.9]).values       # 10th and 90th Percentiles\n",
    "deciles = scores.quantile([i/10 for i in range(1, 10)]).values  # Deciles (10th to 90th percentiles)\n",
    "\n",
    "# Range\n",
    "data_range = [scores.min(), scores.max()]\n",
    "\n",
    "print(\"Mean: \", mean)\n",
    "print(\"Median: \", median)\n",
    "print(\"Mode: \", mode)\n",
    "print(\"Quartiles: \", quartiles)\n",
    "print(\"Percentiles: \", percentiles)\n",
    "print(\"Deciles: \", deciles)\n",
    "print(\"Range: \", data_range)\n"
   ]
  },
  {
   "cell_type": "markdown",
   "metadata": {},
   "source": [
    "**Mean (43,825,054.27):** The average domestic gross is approximately 43,825,054.27. This indicates that, on average, a reasonable return of films on domestic earnings across the production budget.\n",
    "\n",
    "**Median (17,672,451.0):** The median budget being 17,672,451.0 is notably lower than the mean, indicating a positive skew in the distribution. This suggests that where a small number of films exceptionally high.\n",
    "\n",
    "**→ Mean (43,825,054.27) and median (17,672,451.0) values suggest that while a few movies perform vary well domestically, the typical domestic gross is at very modest level**\n",
    "\n",
    "**Mode (0.0):** The mode of 0.0 indicates that a number of films do not generate any domestic revenue, possibly due to limited or no domestic release.\n",
    "\n",
    "**&rarr; This indicates that while many films have strong domestic performance, a portion either fails to secure domestic earnings or is released only internationally.**\n",
    "\n",
    "**Quartiles:**\n",
    "\n",
    "- Q1 (1,431,370.5): 25% of films have domestic return of 1,431,370.5 or lower, illustrating that a quarter of productions achieve limited domestic earnings.\n",
    "- Q2 (Median, 17,672,451.0): 50% of domestic gross of 17,672,451.0 or lower, reinforcing the trend of moderate earnings for the majority.\n",
    "- Q3 (54,141,177.5): 75% of films have budgets below 54,141,177.5, suggesting that only minority of film achieves high domestic success.\n",
    "\n",
    "**&rarr;** The quartile data reflects a broad range of domestic gross figures, with most films falling below the highest-grossing tier.\n",
    "\n",
    "**Percentiles:**\n",
    "\n",
    "P10 (0.0): 10% of films can not generate domestic gross, reinforcing the mode value.\n",
    "P90 (116,729,653): 90% of films gross are lower than 85,000,000, very high earnings are rare and achieved by a select few films.\n",
    "\n",
    "**Deciles:** The decile analysis indicates a fairly consistent distribution of domestic gross, across the lower earnings tiers, with a significant increase only in the top deciles, highlighting the influence of high-grossing outliers.\n",
    "\n",
    "**Range (0.0-858,373,000.0):** Underscores the variability in domestic gross potential, with a few films grossing exceptionally high amounts while others generate none.\n",
    "\n",
    "**Overall, the descriptive statistics and the graph show a film industry where a small number of movies achieve high domestic grosses, while most perform modestly at the box office. The increase in domestic grosses over time reflects the industry's growing focus on blockbuster movies and larger theatrical releases, which tend to generate higher revenue. However, the strong skewness suggests that blockbuster successes are exceptions rather than the norm, highlighting the industry's reliance on a few high-grossing films to drive overall box office performance.**"
   ]
  },
  {
   "cell_type": "markdown",
   "metadata": {},
   "source": [
    "**Mean (33,937,859.53):** The average production budget is approximately 33,937,859.53. This indicates that, on average, films are funded at a substantial level, suggesting a significant investment in movie production.\n",
    "\n",
    "**Median (18,000,000.0):** The median budget being 18,000,000.0 is notably lower than the mean, indicating a positive skew in the distribution. This suggests that while there are some films with very high budgets, many productions operate with more modest funding levels.\n",
    "\n",
    "**→ The mean (33,937,859.53) and median (18,000,000.0) values suggest that while there are high-budget films, a significant number of productions are budgeted below the average, highlighting a diverse range of film financing.**\n",
    "\n",
    "**Mode (20,000,000.0):** The mode of 20,000,000.0 indicates that this is the most common budget level among films. This clustering suggests a popular threshold for many productions, potentially reflecting industry standards or target funding levels.\n",
    "\n",
    "**&rarr; A considerable number of films are being funded around this budget mark, indicating a trend in production financing.**\n",
    "\n",
    "**Quartiles:**\n",
    "\n",
    "- Q1 (5,000,000): 25% of films have budgets of 5,000,000 or lower, illustrating that a notable portion of productions are budget-conscious.\n",
    "- Q2 (Median, 18,000,000): 50% of productions have budgets of 18,000,000 or lower, reinforcing that half of the films operate with relatively lower funding.\n",
    "- Q3 (43,750,000): 75% of films have budgets below 43,750,000, suggesting that a significant number of productions are still well below the high-budget threshold.\n",
    "\n",
    "**&rarr;** The quartile data indicates a wide range of budgets across the industry, with a substantial number of films receiving moderate to high levels of funding.\n",
    "\n",
    "**Percentiles:**\n",
    "\n",
    "P10 (1,200,000): 10% of films have budgets of 1,200,000 or lower, indicating that there are some very low-budget projects in the market.\n",
    "P90 (85,000,000): 90% of films are budgeted below 85,000,000, showcasing that while high-budget films exist, the majority still fall within a lower range.\n",
    "\n",
    "**Deciles:** The decile analysis indicates a fairly even distribution of budgets, suggesting that production funding is relatively accessible across a spectrum of films.\n",
    "\n",
    "**Range (0-460,000,000):** The range of budgets from 86.0 to 460,000,000.0 confirms the presence of extreme outliers, reflecting the diversity in production financing strategies.\n",
    "\n",
    "**Overall, while the presence of low budgets indicates that not all productions are highly funded, the majority of the data reflects a tendency towards higher investment in film production. This suggests a competitive landscape where a mix of both high-budget and lower-budget films coexist, potentially allowing for varied audience engagement and market opportunities.**"
   ]
  },
  {
   "cell_type": "markdown",
   "metadata": {},
   "source": [
    "# Worldwide Gross"
   ]
  },
  {
   "cell_type": "markdown",
   "metadata": {},
   "source": [
    "+ Missing ratio"
   ]
  },
  {
   "cell_type": "code",
   "execution_count": 37,
   "metadata": {},
   "outputs": [
    {
     "name": "stdout",
     "output_type": "stream",
     "text": [
      "Percentage of missing value:  0.0 %\n"
     ]
    }
   ],
   "source": [
    "missing = raw_data['Worldwide Gross'].isnull().sum() / len(raw_data['Worldwide Gross']) * 100\n",
    "print(\"Percentage of missing value: \", missing, '%')"
   ]
  },
  {
   "cell_type": "markdown",
   "metadata": {},
   "source": [
    "Phew, there is no missing value"
   ]
  },
  {
   "cell_type": "markdown",
   "metadata": {},
   "source": [
    "+ Value Distribution"
   ]
  },
  {
   "cell_type": "code",
   "execution_count": 40,
   "metadata": {},
   "outputs": [
    {
     "name": "stdout",
     "output_type": "stream",
     "text": [
      "<class 'pandas.core.frame.DataFrame'>\n",
      "RangeIndex: 5106 entries, 0 to 5105\n",
      "Data columns (total 17 columns):\n",
      " #   Column                Non-Null Count  Dtype         \n",
      "---  ------                --------------  -----         \n",
      " 0   Title                 5106 non-null   object        \n",
      " 1   Tomatoes CriticScore  4129 non-null   float64       \n",
      " 2   Tomatoes UserScore    4523 non-null   float64       \n",
      " 3   Link                  5106 non-null   object        \n",
      " 4   PlatformReleased      5106 non-null   object        \n",
      " 5   Cast                  5074 non-null   object        \n",
      " 6   Director              5071 non-null   object        \n",
      " 7   Genre                 5060 non-null   object        \n",
      " 8   Rating                4015 non-null   category      \n",
      " 9   Runtime               5036 non-null   object        \n",
      " 10  Studio                5059 non-null   object        \n",
      " 11  Release Date          5031 non-null   datetime64[ns]\n",
      " 12  Production Budget     5106 non-null   float64       \n",
      " 13  Domestic Gross        5106 non-null   float64       \n",
      " 14  Worldwide Gross       5106 non-null   float64       \n",
      " 15  Metascore             4353 non-null   float64       \n",
      " 16  Meta UserScore        4186 non-null   float64       \n",
      "dtypes: category(1), datetime64[ns](1), float64(7), object(8)\n",
      "memory usage: 643.7+ KB\n"
     ]
    }
   ],
   "source": [
    "raw_data.info()"
   ]
  },
  {
   "cell_type": "code",
   "execution_count": 104,
   "metadata": {},
   "outputs": [
    {
     "data": {
      "text/html": [
       "<div>\n",
       "<style scoped>\n",
       "    .dataframe tbody tr th:only-of-type {\n",
       "        vertical-align: middle;\n",
       "    }\n",
       "\n",
       "    .dataframe tbody tr th {\n",
       "        vertical-align: top;\n",
       "    }\n",
       "\n",
       "    .dataframe thead th {\n",
       "        text-align: right;\n",
       "    }\n",
       "</style>\n",
       "<table border=\"1\" class=\"dataframe\">\n",
       "  <thead>\n",
       "    <tr style=\"text-align: right;\">\n",
       "      <th></th>\n",
       "      <th>Title</th>\n",
       "      <th>Tomatoes CriticScore</th>\n",
       "      <th>Tomatoes UserScore</th>\n",
       "      <th>Link</th>\n",
       "      <th>PlatformReleased</th>\n",
       "      <th>Cast</th>\n",
       "      <th>Director</th>\n",
       "      <th>Genre</th>\n",
       "      <th>Rating</th>\n",
       "      <th>Runtime</th>\n",
       "      <th>Studio</th>\n",
       "      <th>Release Date</th>\n",
       "      <th>Production Budget</th>\n",
       "      <th>Domestic Gross</th>\n",
       "      <th>Worldwide Gross</th>\n",
       "      <th>Metascore</th>\n",
       "      <th>Meta UserScore</th>\n",
       "      <th>Release Year</th>\n",
       "    </tr>\n",
       "  </thead>\n",
       "  <tbody>\n",
       "    <tr>\n",
       "      <th>41</th>\n",
       "      <td>Minari</td>\n",
       "      <td>98.0</td>\n",
       "      <td>87.0</td>\n",
       "      <td>https://www.rottentomatoes.com/m/minari</td>\n",
       "      <td>Cinema</td>\n",
       "      <td>[Steven Yeun, Han Ye-ri, Youn Yuh-jung, Will P...</td>\n",
       "      <td>[Lee Isaac Chung]</td>\n",
       "      <td>[Drama]</td>\n",
       "      <td>PG-13</td>\n",
       "      <td>{'hours': 1, 'minutes': 55}</td>\n",
       "      <td>A24</td>\n",
       "      <td>2020-12-11</td>\n",
       "      <td>2000000.0</td>\n",
       "      <td>2964816.0</td>\n",
       "      <td>15474659.0</td>\n",
       "      <td>89.0</td>\n",
       "      <td>8.0</td>\n",
       "      <td>2020.0</td>\n",
       "    </tr>\n",
       "    <tr>\n",
       "      <th>179</th>\n",
       "      <td>Wolfwalkers</td>\n",
       "      <td>99.0</td>\n",
       "      <td>98.0</td>\n",
       "      <td>https://www.rottentomatoes.com/m/wolfwalkers</td>\n",
       "      <td>Cinema</td>\n",
       "      <td>[Sean Bean, Honor Kneafsey, Eva Whittaker, Sim...</td>\n",
       "      <td>[Ross Stewart]</td>\n",
       "      <td>[Fantasy, Adventure, Animation]</td>\n",
       "      <td>PG</td>\n",
       "      <td>{'hours': 1, 'minutes': 43}</td>\n",
       "      <td>GKIDS</td>\n",
       "      <td>2020-10-30</td>\n",
       "      <td>11250000.0</td>\n",
       "      <td>0.0</td>\n",
       "      <td>3241142.0</td>\n",
       "      <td>87.0</td>\n",
       "      <td>8.6</td>\n",
       "      <td>2020.0</td>\n",
       "    </tr>\n",
       "    <tr>\n",
       "      <th>194</th>\n",
       "      <td>The Father</td>\n",
       "      <td>NaN</td>\n",
       "      <td>NaN</td>\n",
       "      <td>https://www.rottentomatoes.com/m/the_father</td>\n",
       "      <td>Cinema</td>\n",
       "      <td>[Reuven Bar, J.J. Cohen, Yona Elian-Keshet, Ta...</td>\n",
       "      <td>[Alfred Steinhardt]</td>\n",
       "      <td>[Drama]</td>\n",
       "      <td>NaN</td>\n",
       "      <td>{'hours': 1, 'minutes': 40}</td>\n",
       "      <td>Hebrew</td>\n",
       "      <td>2020-12-25</td>\n",
       "      <td>6000000.0</td>\n",
       "      <td>2120992.0</td>\n",
       "      <td>36427155.0</td>\n",
       "      <td>88.0</td>\n",
       "      <td>8.6</td>\n",
       "      <td>2020.0</td>\n",
       "    </tr>\n",
       "    <tr>\n",
       "      <th>197</th>\n",
       "      <td>The Hunt</td>\n",
       "      <td>NaN</td>\n",
       "      <td>NaN</td>\n",
       "      <td>https://www.rottentomatoes.com/m/the_hunt</td>\n",
       "      <td>Cinema</td>\n",
       "      <td>[Marina Vlady, Fausto Tozzi, Gerard Landry, Co...</td>\n",
       "      <td>[Giuseppe Bennati]</td>\n",
       "      <td>[Mystery &amp; Thriller]</td>\n",
       "      <td>NaN</td>\n",
       "      <td>{'hours': 1, 'minutes': 26}</td>\n",
       "      <td>Italian</td>\n",
       "      <td>2020-03-12</td>\n",
       "      <td>18200000.0</td>\n",
       "      <td>5812500.0</td>\n",
       "      <td>12400979.0</td>\n",
       "      <td>77.0</td>\n",
       "      <td>8.4</td>\n",
       "      <td>2020.0</td>\n",
       "    </tr>\n",
       "    <tr>\n",
       "      <th>241</th>\n",
       "      <td>Mulan</td>\n",
       "      <td>86.0</td>\n",
       "      <td>85.0</td>\n",
       "      <td>https://www.rottentomatoes.com/m/mulan</td>\n",
       "      <td>Cinema</td>\n",
       "      <td>[Ming-Na Wen, Eddie Murphy, BD Wong, Miguel Fe...</td>\n",
       "      <td>[Tony Bancroft]</td>\n",
       "      <td>[Kids &amp; Family, Musical, Animation]</td>\n",
       "      <td>G</td>\n",
       "      <td>{'hours': 1, 'minutes': 28}</td>\n",
       "      <td>Buena Vista Pictures</td>\n",
       "      <td>2020-09-04</td>\n",
       "      <td>200000000.0</td>\n",
       "      <td>0.0</td>\n",
       "      <td>69973540.0</td>\n",
       "      <td>72.0</td>\n",
       "      <td>8.2</td>\n",
       "      <td>2020.0</td>\n",
       "    </tr>\n",
       "    <tr>\n",
       "      <th>...</th>\n",
       "      <td>...</td>\n",
       "      <td>...</td>\n",
       "      <td>...</td>\n",
       "      <td>...</td>\n",
       "      <td>...</td>\n",
       "      <td>...</td>\n",
       "      <td>...</td>\n",
       "      <td>...</td>\n",
       "      <td>...</td>\n",
       "      <td>...</td>\n",
       "      <td>...</td>\n",
       "      <td>...</td>\n",
       "      <td>...</td>\n",
       "      <td>...</td>\n",
       "      <td>...</td>\n",
       "      <td>...</td>\n",
       "      <td>...</td>\n",
       "      <td>...</td>\n",
       "    </tr>\n",
       "    <tr>\n",
       "      <th>4600</th>\n",
       "      <td>El Principe</td>\n",
       "      <td>NaN</td>\n",
       "      <td>NaN</td>\n",
       "      <td>https://www.rottentomatoes.com/m/el_principe</td>\n",
       "      <td>Cinema</td>\n",
       "      <td>[Juan Carlos Maldonado, Alfredo Castro, Gastón...</td>\n",
       "      <td>[Sebastian Muñoz]</td>\n",
       "      <td>[Drama]</td>\n",
       "      <td>NaN</td>\n",
       "      <td>{'hours': 1, 'minutes': 36}</td>\n",
       "      <td>Doco Digital</td>\n",
       "      <td>2020-01-10</td>\n",
       "      <td>400000.0</td>\n",
       "      <td>0.0</td>\n",
       "      <td>663.0</td>\n",
       "      <td>NaN</td>\n",
       "      <td>NaN</td>\n",
       "      <td>2020.0</td>\n",
       "    </tr>\n",
       "    <tr>\n",
       "      <th>4727</th>\n",
       "      <td>The Wretched</td>\n",
       "      <td>67.0</td>\n",
       "      <td>38.0</td>\n",
       "      <td>https://www.rottentomatoes.com/m/the_wretched</td>\n",
       "      <td>Cinema</td>\n",
       "      <td>[Nawazuddin Siddiqui, Shweta Tripathi, Irrfan ...</td>\n",
       "      <td>[Shlok Sharma]</td>\n",
       "      <td>[Drama]</td>\n",
       "      <td>NaN</td>\n",
       "      <td>{'hours': 2, 'minutes': 18}</td>\n",
       "      <td>Hindi</td>\n",
       "      <td>2020-05-01</td>\n",
       "      <td>66000.0</td>\n",
       "      <td>1815440.0</td>\n",
       "      <td>4594221.0</td>\n",
       "      <td>61.0</td>\n",
       "      <td>6.1</td>\n",
       "      <td>2020.0</td>\n",
       "    </tr>\n",
       "    <tr>\n",
       "      <th>4748</th>\n",
       "      <td>Host</td>\n",
       "      <td>93.0</td>\n",
       "      <td>72.0</td>\n",
       "      <td>https://www.rottentomatoes.com/m/host</td>\n",
       "      <td>Cinema</td>\n",
       "      <td>[Song Kang-ho, Byun Hee-bong, Park Hae-il, Bae...</td>\n",
       "      <td>[Bong Joon Ho]</td>\n",
       "      <td>[Horror, Comedy]</td>\n",
       "      <td>R</td>\n",
       "      <td>{'hours': 1, 'minutes': 59}</td>\n",
       "      <td>Magnolia Films</td>\n",
       "      <td>2020-12-01</td>\n",
       "      <td>35000.0</td>\n",
       "      <td>0.0</td>\n",
       "      <td>436536.0</td>\n",
       "      <td>73.0</td>\n",
       "      <td>6.0</td>\n",
       "      <td>2020.0</td>\n",
       "    </tr>\n",
       "    <tr>\n",
       "      <th>4750</th>\n",
       "      <td>The Killing of Two Lovers</td>\n",
       "      <td>93.0</td>\n",
       "      <td>69.0</td>\n",
       "      <td>https://www.rottentomatoes.com/m/the_killing_o...</td>\n",
       "      <td>Cinema</td>\n",
       "      <td>[Clayne Crawford, Sepideh Moafi, Chris Coy, Av...</td>\n",
       "      <td>[Robert Machoian]</td>\n",
       "      <td>[Drama]</td>\n",
       "      <td>R</td>\n",
       "      <td>{'hours': 1, 'minutes': 25}</td>\n",
       "      <td>NEON</td>\n",
       "      <td>2020-09-08</td>\n",
       "      <td>32000.0</td>\n",
       "      <td>72110.0</td>\n",
       "      <td>105195.0</td>\n",
       "      <td>82.0</td>\n",
       "      <td>7.7</td>\n",
       "      <td>2020.0</td>\n",
       "    </tr>\n",
       "    <tr>\n",
       "      <th>4792</th>\n",
       "      <td>Wonder Woman 1984</td>\n",
       "      <td>58.0</td>\n",
       "      <td>73.0</td>\n",
       "      <td>https://www.rottentomatoes.com/m/wonder_woman_...</td>\n",
       "      <td>Cinema</td>\n",
       "      <td>[Gal Gadot, Chris Pine, Kristen Wiig, Pedro Pa...</td>\n",
       "      <td>[Patty Jenkins]</td>\n",
       "      <td>[Action, Adventure, Fantasy]</td>\n",
       "      <td>PG-13</td>\n",
       "      <td>{'hours': 2, 'minutes': 31}</td>\n",
       "      <td>Warner Bros. Pictures</td>\n",
       "      <td>2020-12-16</td>\n",
       "      <td>200000000.0</td>\n",
       "      <td>46801036.0</td>\n",
       "      <td>166360232.0</td>\n",
       "      <td>60.0</td>\n",
       "      <td>4.1</td>\n",
       "      <td>2020.0</td>\n",
       "    </tr>\n",
       "  </tbody>\n",
       "</table>\n",
       "<p>69 rows × 18 columns</p>\n",
       "</div>"
      ],
      "text/plain": [
       "                          Title  Tomatoes CriticScore  Tomatoes UserScore  \\\n",
       "41                       Minari                  98.0                87.0   \n",
       "179                 Wolfwalkers                  99.0                98.0   \n",
       "194                  The Father                   NaN                 NaN   \n",
       "197                    The Hunt                   NaN                 NaN   \n",
       "241                       Mulan                  86.0                85.0   \n",
       "...                         ...                   ...                 ...   \n",
       "4600                El Principe                   NaN                 NaN   \n",
       "4727               The Wretched                  67.0                38.0   \n",
       "4748                       Host                  93.0                72.0   \n",
       "4750  The Killing of Two Lovers                  93.0                69.0   \n",
       "4792          Wonder Woman 1984                  58.0                73.0   \n",
       "\n",
       "                                                   Link PlatformReleased  \\\n",
       "41              https://www.rottentomatoes.com/m/minari           Cinema   \n",
       "179        https://www.rottentomatoes.com/m/wolfwalkers           Cinema   \n",
       "194         https://www.rottentomatoes.com/m/the_father           Cinema   \n",
       "197           https://www.rottentomatoes.com/m/the_hunt           Cinema   \n",
       "241              https://www.rottentomatoes.com/m/mulan           Cinema   \n",
       "...                                                 ...              ...   \n",
       "4600       https://www.rottentomatoes.com/m/el_principe           Cinema   \n",
       "4727      https://www.rottentomatoes.com/m/the_wretched           Cinema   \n",
       "4748              https://www.rottentomatoes.com/m/host           Cinema   \n",
       "4750  https://www.rottentomatoes.com/m/the_killing_o...           Cinema   \n",
       "4792  https://www.rottentomatoes.com/m/wonder_woman_...           Cinema   \n",
       "\n",
       "                                                   Cast             Director  \\\n",
       "41    [Steven Yeun, Han Ye-ri, Youn Yuh-jung, Will P...    [Lee Isaac Chung]   \n",
       "179   [Sean Bean, Honor Kneafsey, Eva Whittaker, Sim...       [Ross Stewart]   \n",
       "194   [Reuven Bar, J.J. Cohen, Yona Elian-Keshet, Ta...  [Alfred Steinhardt]   \n",
       "197   [Marina Vlady, Fausto Tozzi, Gerard Landry, Co...   [Giuseppe Bennati]   \n",
       "241   [Ming-Na Wen, Eddie Murphy, BD Wong, Miguel Fe...      [Tony Bancroft]   \n",
       "...                                                 ...                  ...   \n",
       "4600  [Juan Carlos Maldonado, Alfredo Castro, Gastón...    [Sebastian Muñoz]   \n",
       "4727  [Nawazuddin Siddiqui, Shweta Tripathi, Irrfan ...       [Shlok Sharma]   \n",
       "4748  [Song Kang-ho, Byun Hee-bong, Park Hae-il, Bae...       [Bong Joon Ho]   \n",
       "4750  [Clayne Crawford, Sepideh Moafi, Chris Coy, Av...    [Robert Machoian]   \n",
       "4792  [Gal Gadot, Chris Pine, Kristen Wiig, Pedro Pa...      [Patty Jenkins]   \n",
       "\n",
       "                                    Genre Rating                      Runtime  \\\n",
       "41                                [Drama]  PG-13  {'hours': 1, 'minutes': 55}   \n",
       "179       [Fantasy, Adventure, Animation]     PG  {'hours': 1, 'minutes': 43}   \n",
       "194                               [Drama]    NaN  {'hours': 1, 'minutes': 40}   \n",
       "197                  [Mystery & Thriller]    NaN  {'hours': 1, 'minutes': 26}   \n",
       "241   [Kids & Family, Musical, Animation]      G  {'hours': 1, 'minutes': 28}   \n",
       "...                                   ...    ...                          ...   \n",
       "4600                              [Drama]    NaN  {'hours': 1, 'minutes': 36}   \n",
       "4727                              [Drama]    NaN  {'hours': 2, 'minutes': 18}   \n",
       "4748                     [Horror, Comedy]      R  {'hours': 1, 'minutes': 59}   \n",
       "4750                              [Drama]      R  {'hours': 1, 'minutes': 25}   \n",
       "4792         [Action, Adventure, Fantasy]  PG-13  {'hours': 2, 'minutes': 31}   \n",
       "\n",
       "                     Studio Release Date  Production Budget  Domestic Gross  \\\n",
       "41                      A24   2020-12-11          2000000.0       2964816.0   \n",
       "179                   GKIDS   2020-10-30         11250000.0             0.0   \n",
       "194                  Hebrew   2020-12-25          6000000.0       2120992.0   \n",
       "197                 Italian   2020-03-12         18200000.0       5812500.0   \n",
       "241    Buena Vista Pictures   2020-09-04        200000000.0             0.0   \n",
       "...                     ...          ...                ...             ...   \n",
       "4600           Doco Digital   2020-01-10           400000.0             0.0   \n",
       "4727                  Hindi   2020-05-01            66000.0       1815440.0   \n",
       "4748         Magnolia Films   2020-12-01            35000.0             0.0   \n",
       "4750                   NEON   2020-09-08            32000.0         72110.0   \n",
       "4792  Warner Bros. Pictures   2020-12-16        200000000.0      46801036.0   \n",
       "\n",
       "      Worldwide Gross  Metascore  Meta UserScore  Release Year  \n",
       "41         15474659.0       89.0             8.0        2020.0  \n",
       "179         3241142.0       87.0             8.6        2020.0  \n",
       "194        36427155.0       88.0             8.6        2020.0  \n",
       "197        12400979.0       77.0             8.4        2020.0  \n",
       "241        69973540.0       72.0             8.2        2020.0  \n",
       "...               ...        ...             ...           ...  \n",
       "4600            663.0        NaN             NaN        2020.0  \n",
       "4727        4594221.0       61.0             6.1        2020.0  \n",
       "4748         436536.0       73.0             6.0        2020.0  \n",
       "4750         105195.0       82.0             7.7        2020.0  \n",
       "4792      166360232.0       60.0             4.1        2020.0  \n",
       "\n",
       "[69 rows x 18 columns]"
      ]
     },
     "execution_count": 104,
     "metadata": {},
     "output_type": "execute_result"
    }
   ],
   "source": [
    "raw_data[raw_data['Release Year'] == 2020]"
   ]
  },
  {
   "cell_type": "code",
   "execution_count": 99,
   "metadata": {},
   "outputs": [
    {
     "data": {
      "text/plain": [
       "<Axes: xlabel='Release Year'>"
      ]
     },
     "execution_count": 99,
     "metadata": {},
     "output_type": "execute_result"
    },
    {
     "data": {
      "image/png": "[encoded data removed]",
      "text/plain": [
       "<Figure size 640x480 with 1 Axes>"
      ]
     },
     "metadata": {},
     "output_type": "display_data"
    }
   ],
   "source": [
    "\n"
   ]
  },
  {
   "cell_type": "code",
   "execution_count": 85,
   "metadata": {},
   "outputs": [
    {
     "data": {
      "text/plain": [
       "<Axes: xlabel='Release Year'>"
      ]
     },
     "execution_count": 85,
     "metadata": {},
     "output_type": "execute_result"
    },
    {
     "data": {
      "image/png": "[encoded data removed]",
      "text/plain": [
       "<Figure size 640x480 with 1 Axes>"
      ]
     },
     "metadata": {},
     "output_type": "display_data"
    }
   ],
   "source": [
    "raw_data.groupby('Release Year')[['Worldwide Gross']].mean().plot()\n",
    "\n"
   ]
  },
  {
   "cell_type": "markdown",
   "metadata": {},
   "source": [
    "# Metascore"
   ]
  },
  {
   "cell_type": "code",
   "execution_count": null,
   "metadata": {},
   "outputs": [],
   "source": []
  },
  {
   "cell_type": "markdown",
   "metadata": {},
   "source": [
    "# Meta UserScore"
   ]
  },
  {
   "cell_type": "code",
   "execution_count": null,
   "metadata": {},
   "outputs": [],
   "source": []
  },
  {
   "cell_type": "markdown",
   "metadata": {},
   "source": [
    "### Categorical column exploration"
   ]
  },
  {
   "cell_type": "markdown",
   "metadata": {},
   "source": [
    "For columns with non-numeric data types, you calculate:\n",
    "- Percentage of missing values (From this and further calculation to propose a suitable approach to fill missing values of that column)\n",
    "- Count no of unique values and no of element of each value (There is a column cast is quite difficult to explore, try to find a way)\n",
    "-  Give **visualization** to help get deeper understanding of data, from that graph/chart or any collected information give some comments on the values' distribution of that column"
   ]
  },
  {
   "cell_type": "code",
   "execution_count": 31,
   "metadata": {},
   "outputs": [],
   "source": [
    "# TODO"
   ]
  },
  {
   "cell_type": "markdown",
   "metadata": {},
   "source": [
    "<h1 id = \"preprocessing\"> 4. Preprocessing data </h1>"
   ]
  },
  {
   "cell_type": "code",
   "execution_count": null,
   "metadata": {},
   "outputs": [],
   "source": []
  },
  {
   "cell_type": "markdown",
   "metadata": {},
   "source": [
    "<h1 id = \"questions\"> 5. Questions </h1>"
   ]
  },
  {
   "cell_type": "markdown",
   "metadata": {},
   "source": [
    "<h2 id = question-1>5.1. Question 1</h2> "
   ]
  },
  {
   "cell_type": "markdown",
   "metadata": {},
   "source": []
  },
  {
   "cell_type": "markdown",
   "metadata": {},
   "source": [
    "<h2 id = question-2>5.2. Question 2</h2> "
   ]
  },
  {
   "cell_type": "markdown",
   "metadata": {},
   "source": []
  },
  {
   "cell_type": "markdown",
   "metadata": {},
   "source": [
    "<h2 id = question-3>5.3. Question 3</h2> "
   ]
  },
  {
   "cell_type": "markdown",
   "metadata": {},
   "source": []
  },
  {
   "cell_type": "markdown",
   "metadata": {},
   "source": [
    "<h2 id = question-4>5.4. Question 4</h2> "
   ]
  },
  {
   "cell_type": "markdown",
   "metadata": {},
   "source": []
  },
  {
   "cell_type": "markdown",
   "metadata": {},
   "source": [
    "<h2 id = question-5>5.5. Question 5</h2> "
   ]
  },
  {
   "cell_type": "markdown",
   "metadata": {},
   "source": []
  },
  {
   "cell_type": "markdown",
   "metadata": {},
   "source": [
    "<h1 id = \"modelling\">6. Modelling</h1>"
   ]
  },
  {
   "cell_type": "markdown",
   "metadata": {},
   "source": [
    "<h2 id = \"modelling_preparation\">6.1. Data preparation</h2> "
   ]
  },
  {
   "cell_type": "markdown",
   "metadata": {},
   "source": [
    "<h2 id = \"models\">6.2. Models</h2> "
   ]
  },
  {
   "cell_type": "markdown",
   "metadata": {},
   "source": [
    "<h2 id = \"models\">6.2. Models</h2> "
   ]
  },
  {
   "cell_type": "markdown",
   "metadata": {},
   "source": [
    "<h3 id = \"model1\">6.2.1 Model 1</h3> "
   ]
  },
  {
   "cell_type": "code",
   "execution_count": null,
   "metadata": {},
   "outputs": [],
   "source": []
  },
  {
   "cell_type": "markdown",
   "metadata": {},
   "source": [
    "<h2 id = >"
   ]
  },
  {
   "cell_type": "markdown",
   "metadata": {},
   "source": [
    "<h2 id = \"evaluation\">6.3. Evaluation</h2> "
   ]
  },
  {
   "cell_type": "code",
   "execution_count": null,
   "metadata": {},
   "outputs": [],
   "source": []
  },
  {
   "cell_type": "markdown",
   "metadata": {},
   "source": [
    "<h1 id = \"reflection\">7. Reflection</h1> "
   ]
  },
  {
   "cell_type": "markdown",
   "metadata": {},
   "source": [
    "<h2 id = \"difficulties\">7.1. Difficulties during the project</h2> "
   ]
  },
  {
   "cell_type": "markdown",
   "metadata": {},
   "source": []
  },
  {
   "cell_type": "markdown",
   "metadata": {},
   "source": [
    "<h2 id = \"useful\">7.2. Useful things learned</h2> "
   ]
  },
  {
   "cell_type": "markdown",
   "metadata": {},
   "source": []
  },
  {
   "cell_type": "markdown",
   "metadata": {},
   "source": [
    "<h2 id = \"plans\">7.3. Plans to improve if have more time</h2> "
   ]
  },
  {
   "cell_type": "markdown",
   "metadata": {},
   "source": []
  },
  {
   "cell_type": "markdown",
   "metadata": {},
   "source": [
    "<h1 id = \"references\">8. References</h1> "
   ]
  }
 ],
 "metadata": {
  "kernelspec": {
   "display_name": "base",
   "language": "python",
   "name": "python3"
  },
  "language_info": {
   "codemirror_mode": {
    "name": "ipython",
    "version": 3
   },
   "file_extension": ".py",
   "mimetype": "text/x-python",
   "name": "python",
   "nbconvert_exporter": "python",
   "pygments_lexer": "ipython3",
   "version": "3.12.4"
  }
 },
 "nbformat": 4,
 "nbformat_minor": 2
}
