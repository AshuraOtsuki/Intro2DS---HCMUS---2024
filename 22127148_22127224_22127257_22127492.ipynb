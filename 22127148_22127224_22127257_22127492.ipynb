{
 "cells": [
  {
   "cell_type": "markdown",
   "metadata": {},
   "source": [
    "# Table of contents\n",
    "1. [Team members](#team)\n",
    "2. [Libraries](#libraries)\n",
    "3. [Exploring data](#exploring)\n",
    "4. [Preprocessing data](#preprocessing)\n",
    "5. [Questions](#questions)\n",
    "    - [Question 1](#question-1)\n",
    "    - [Question 2](#question-2)\n",
    "    - [Question 3](#question-3)\n",
    "    - [Question 4](#question-4)\n",
    "    - [Question 5](#question-5)\n",
    "6. [Modelling](#modelling)\n",
    "    - [Data preparation](#modelling_preparation)\n",
    "    - [Models: ](#models)\n",
    "        - [Model 1 (change the number to the name of model. Ex: 1 -> Logistic Regression)](#model1)\n",
    "    - [Evaluation](#evaluation)\n",
    "7. [Reflection](#reflection)\n",
    "    - [Difficulties during the project](#difficulties)\n",
    "    - [Useful things learned](#useful)\n",
    "    - [Plans to improve if have more time](#plans)\n",
    "8. [References](#references)"
   ]
  },
  {
   "cell_type": "markdown",
   "metadata": {},
   "source": [
    "<h1 id = \"team\">1. Team members</h1>\n",
    "<style>\n",
    "  table {\n",
    "    margin: auto;\n",
    "    width: 45%; /* Adjust the width as needed */\n",
    "  }\n",
    "  td {\n",
    "    text-align: center;\n",
    "    padding: 8px; /* Adding padding for better readability */\n",
    "  }\n",
    "  th\n",
    "  {\n",
    "    text-align: center;\n",
    "  }\n",
    "</style>\n",
    "\n",
    "<table>\n",
    "    <tr>\n",
    "        <th> ID </th>\n",
    "        <th> NAME </th>\n",
    "    </tr>\n",
    "    <tr>\n",
    "        <td>22127148</td>\n",
    "        <td>Dương Nhật Huy</td>\n",
    "    </tr>\n",
    "    <tr>\n",
    "        <td>22127224</td>\n",
    "        <td>Trương Thuận Kiệt</td>\n",
    "    </tr>\n",
    "    <tr>\n",
    "        <td>22127257</td>\n",
    "        <td>Phạm Minh Mẫn</td>\n",
    "    </tr>\n",
    "    <tr>\n",
    "        <td>22127492</td>\n",
    "        <td>Hồ Đăng Phúc</td>\n",
    "    </tr>"
   ]
  },
  {
   "cell_type": "markdown",
   "metadata": {},
   "source": [
    "<h1 id = \"libraries\"> 2. Libraries </h1>"
   ]
  },
  {
   "cell_type": "code",
   "execution_count": 2,
   "metadata": {},
   "outputs": [],
   "source": [
    "import numpy as np\n",
    "import matplotlib.pyplot as plt\n",
    "import pandas as pd\n",
    "import re\n",
    "import seaborn as sns\n",
    "from scipy.stats import sem\n"
   ]
  },
  {
   "cell_type": "code",
   "execution_count": 3,
   "metadata": {},
   "outputs": [],
   "source": [
    "from sklearn.preprocessing import MultiLabelBinarizer\n",
    "from scipy.stats import ttest_ind"
   ]
  },
  {
   "cell_type": "markdown",
   "metadata": {},
   "source": [
    "<h1 id = \"exploring\"> 3. Exploring data</h1>"
   ]
  },
  {
   "cell_type": "code",
   "execution_count": 4,
   "metadata": {},
   "outputs": [],
   "source": [
    "raw_data  = pd.read_csv('./Data/full_data.csv')"
   ]
  },
  {
   "cell_type": "code",
   "execution_count": 5,
   "metadata": {},
   "outputs": [
    {
     "data": {
      "text/html": [
       "<div>\n",
       "<style scoped>\n",
       "    .dataframe tbody tr th:only-of-type {\n",
       "        vertical-align: middle;\n",
       "    }\n",
       "\n",
       "    .dataframe tbody tr th {\n",
       "        vertical-align: top;\n",
       "    }\n",
       "\n",
       "    .dataframe thead th {\n",
       "        text-align: right;\n",
       "    }\n",
       "</style>\n",
       "<table border=\"1\" class=\"dataframe\">\n",
       "  <thead>\n",
       "    <tr style=\"text-align: right;\">\n",
       "      <th></th>\n",
       "      <th>Title</th>\n",
       "      <th>CriticScore</th>\n",
       "      <th>UserScore</th>\n",
       "      <th>Link</th>\n",
       "      <th>PlatformReleased</th>\n",
       "      <th>Cast</th>\n",
       "      <th>Director</th>\n",
       "      <th>Genre</th>\n",
       "      <th>Rating</th>\n",
       "      <th>Runtime</th>\n",
       "      <th>Studio</th>\n",
       "      <th>Release Date</th>\n",
       "      <th>Production Budget</th>\n",
       "      <th>Domestic Gross</th>\n",
       "      <th>Worldwide Gross</th>\n",
       "      <th>Formated name</th>\n",
       "      <th>Metascore</th>\n",
       "      <th>Userscore</th>\n",
       "    </tr>\n",
       "  </thead>\n",
       "  <tbody>\n",
       "    <tr>\n",
       "      <th>0</th>\n",
       "      <td>L.A. Confidential</td>\n",
       "      <td>99%</td>\n",
       "      <td>94%</td>\n",
       "      <td>https://www.rottentomatoes.com/m/la_confidential</td>\n",
       "      <td>Cinema</td>\n",
       "      <td>Kevin Spacey, Russell Crowe, Guy Pearce, James...</td>\n",
       "      <td>Curtis Hanson</td>\n",
       "      <td>Crime, Drama</td>\n",
       "      <td>R</td>\n",
       "      <td>2h 16m</td>\n",
       "      <td>Warner Home Vídeo</td>\n",
       "      <td>Sep 19, 1997</td>\n",
       "      <td>$35,000,000</td>\n",
       "      <td>$64,604,977</td>\n",
       "      <td>$126,204,977</td>\n",
       "      <td>l.a.confidential</td>\n",
       "      <td>91</td>\n",
       "      <td>8.6</td>\n",
       "    </tr>\n",
       "    <tr>\n",
       "      <th>1</th>\n",
       "      <td>The Godfather</td>\n",
       "      <td>97%</td>\n",
       "      <td>98%</td>\n",
       "      <td>https://www.rottentomatoes.com/m/the_godfather</td>\n",
       "      <td>Cinema</td>\n",
       "      <td>Marlon Brando, Al Pacino, James Caan, Richard ...</td>\n",
       "      <td>Francis Ford Coppola</td>\n",
       "      <td>Crime, Drama</td>\n",
       "      <td>R</td>\n",
       "      <td>2h 57m</td>\n",
       "      <td>Paramount Pictures</td>\n",
       "      <td>Mar 15, 1972</td>\n",
       "      <td>$7,000,000</td>\n",
       "      <td>$136,479,994</td>\n",
       "      <td>$270,007,394</td>\n",
       "      <td>thegodfather</td>\n",
       "      <td>100</td>\n",
       "      <td>9.3</td>\n",
       "    </tr>\n",
       "    <tr>\n",
       "      <th>2</th>\n",
       "      <td>Casablanca</td>\n",
       "      <td>99%</td>\n",
       "      <td>95%</td>\n",
       "      <td>https://www.rottentomatoes.com/m/1003707-casab...</td>\n",
       "      <td>Cinema</td>\n",
       "      <td>Humphrey Bogart, Ingrid Bergman, Paul Henreid,...</td>\n",
       "      <td>Michael Curtiz</td>\n",
       "      <td>Drama</td>\n",
       "      <td>PG</td>\n",
       "      <td>1h 42m</td>\n",
       "      <td>Warner Bros. Pictures</td>\n",
       "      <td>Jan 23, 1943</td>\n",
       "      <td>$1,039,000</td>\n",
       "      <td>$10,462,500</td>\n",
       "      <td>$10,567,179</td>\n",
       "      <td>casablanca</td>\n",
       "      <td>100</td>\n",
       "      <td>8.7</td>\n",
       "    </tr>\n",
       "    <tr>\n",
       "      <th>3</th>\n",
       "      <td>Parasite</td>\n",
       "      <td>99%</td>\n",
       "      <td>90%</td>\n",
       "      <td>https://www.rottentomatoes.com/m/parasite_2019</td>\n",
       "      <td>Cinema</td>\n",
       "      <td>Song Kang-ho, Lee Sun-kyun, Jo Yeo-jeong, Choi...</td>\n",
       "      <td>Bong Joon Ho</td>\n",
       "      <td>Comedy, Mystery &amp; Thriller, Drama</td>\n",
       "      <td>R</td>\n",
       "      <td>2h 12m</td>\n",
       "      <td>Neon</td>\n",
       "      <td>May 30, 2019</td>\n",
       "      <td>$11,800,000</td>\n",
       "      <td>$53,369,745</td>\n",
       "      <td>$253,267,858</td>\n",
       "      <td>parasite</td>\n",
       "      <td>97</td>\n",
       "      <td>8.9</td>\n",
       "    </tr>\n",
       "    <tr>\n",
       "      <th>4</th>\n",
       "      <td>Top Gun: Maverick</td>\n",
       "      <td>96%</td>\n",
       "      <td>99%</td>\n",
       "      <td>https://www.rottentomatoes.com/m/top_gun_maverick</td>\n",
       "      <td>Cinema</td>\n",
       "      <td>Tom Cruise, Miles Teller, Jennifer Connelly, J...</td>\n",
       "      <td>Joseph Kosinski</td>\n",
       "      <td>Action, Adventure</td>\n",
       "      <td>PG-13</td>\n",
       "      <td>2h 11m</td>\n",
       "      <td>Paramount Pictures</td>\n",
       "      <td>May 20, 2022</td>\n",
       "      <td>$170,000,000</td>\n",
       "      <td>$718,732,821</td>\n",
       "      <td>$1,464,400,233</td>\n",
       "      <td>topgun:maverick</td>\n",
       "      <td>78</td>\n",
       "      <td>8.4</td>\n",
       "    </tr>\n",
       "  </tbody>\n",
       "</table>\n",
       "</div>"
      ],
      "text/plain": [
       "               Title CriticScore UserScore  \\\n",
       "0  L.A. Confidential         99%       94%   \n",
       "1      The Godfather         97%       98%   \n",
       "2         Casablanca         99%       95%   \n",
       "3           Parasite         99%       90%   \n",
       "4  Top Gun: Maverick         96%       99%   \n",
       "\n",
       "                                                Link PlatformReleased  \\\n",
       "0   https://www.rottentomatoes.com/m/la_confidential           Cinema   \n",
       "1     https://www.rottentomatoes.com/m/the_godfather           Cinema   \n",
       "2  https://www.rottentomatoes.com/m/1003707-casab...           Cinema   \n",
       "3     https://www.rottentomatoes.com/m/parasite_2019           Cinema   \n",
       "4  https://www.rottentomatoes.com/m/top_gun_maverick           Cinema   \n",
       "\n",
       "                                                Cast              Director  \\\n",
       "0  Kevin Spacey, Russell Crowe, Guy Pearce, James...         Curtis Hanson   \n",
       "1  Marlon Brando, Al Pacino, James Caan, Richard ...  Francis Ford Coppola   \n",
       "2  Humphrey Bogart, Ingrid Bergman, Paul Henreid,...        Michael Curtiz   \n",
       "3  Song Kang-ho, Lee Sun-kyun, Jo Yeo-jeong, Choi...          Bong Joon Ho   \n",
       "4  Tom Cruise, Miles Teller, Jennifer Connelly, J...       Joseph Kosinski   \n",
       "\n",
       "                               Genre Rating Runtime                 Studio  \\\n",
       "0                       Crime, Drama      R  2h 16m      Warner Home Vídeo   \n",
       "1                       Crime, Drama      R  2h 57m     Paramount Pictures   \n",
       "2                              Drama     PG  1h 42m  Warner Bros. Pictures   \n",
       "3  Comedy, Mystery & Thriller, Drama      R  2h 12m                   Neon   \n",
       "4                  Action, Adventure  PG-13  2h 11m     Paramount Pictures   \n",
       "\n",
       "   Release Date Production Budget Domestic Gross Worldwide Gross  \\\n",
       "0  Sep 19, 1997       $35,000,000    $64,604,977    $126,204,977   \n",
       "1  Mar 15, 1972        $7,000,000   $136,479,994    $270,007,394   \n",
       "2  Jan 23, 1943        $1,039,000    $10,462,500     $10,567,179   \n",
       "3  May 30, 2019       $11,800,000    $53,369,745    $253,267,858   \n",
       "4  May 20, 2022      $170,000,000   $718,732,821  $1,464,400,233   \n",
       "\n",
       "      Formated name Metascore Userscore  \n",
       "0  l.a.confidential        91       8.6  \n",
       "1      thegodfather       100       9.3  \n",
       "2        casablanca       100       8.7  \n",
       "3          parasite        97       8.9  \n",
       "4   topgun:maverick        78       8.4  "
      ]
     },
     "execution_count": 5,
     "metadata": {},
     "output_type": "execute_result"
    }
   ],
   "source": [
    "raw_data.head()"
   ]
  },
  {
   "cell_type": "markdown",
   "metadata": {},
   "source": [
    "### Number of rows and columns"
   ]
  },
  {
   "cell_type": "code",
   "execution_count": 6,
   "metadata": {},
   "outputs": [
    {
     "data": {
      "text/plain": [
       "(5106, 18)"
      ]
     },
     "execution_count": 6,
     "metadata": {},
     "output_type": "execute_result"
    }
   ],
   "source": [
    "shape = raw_data.shape  \n",
    "shape"
   ]
  },
  {
   "cell_type": "markdown",
   "metadata": {},
   "source": [
    "### The meaning of each line"
   ]
  },
  {
   "cell_type": "markdown",
   "metadata": {},
   "source": [
    "- Each line of the dataset is a record of a movie, and all records include various features of the movie like Name, Genres, Cast, Budget, Revenue, Runtime, etc"
   ]
  },
  {
   "cell_type": "markdown",
   "metadata": {},
   "source": [
    "### Duplicated rows"
   ]
  },
  {
   "cell_type": "code",
   "execution_count": 7,
   "metadata": {},
   "outputs": [
    {
     "data": {
      "text/plain": [
       "0"
      ]
     },
     "execution_count": 7,
     "metadata": {},
     "output_type": "execute_result"
    }
   ],
   "source": [
    "num_duplicates = raw_data.duplicated().sum()\n",
    "num_duplicates"
   ]
  },
  {
   "cell_type": "markdown",
   "metadata": {},
   "source": [
    "Phew, luckily no duplicated rows"
   ]
  },
  {
   "cell_type": "markdown",
   "metadata": {},
   "source": [
    "### The meaning of each column"
   ]
  },
  {
   "cell_type": "code",
   "execution_count": null,
   "metadata": {},
   "outputs": [],
   "source": []
  },
  {
   "cell_type": "markdown",
   "metadata": {},
   "source": [
    "### Data type of each column"
   ]
  },
  {
   "cell_type": "code",
   "execution_count": 8,
   "metadata": {},
   "outputs": [
    {
     "data": {
      "text/plain": [
       "Title                object\n",
       "CriticScore          object\n",
       "UserScore            object\n",
       "Link                 object\n",
       "PlatformReleased     object\n",
       "Cast                 object\n",
       "Director             object\n",
       "Genre                object\n",
       "Rating               object\n",
       "Runtime              object\n",
       "Studio               object\n",
       "Release Date         object\n",
       "Production Budget    object\n",
       "Domestic Gross       object\n",
       "Worldwide Gross      object\n",
       "Formated name        object\n",
       "Metascore            object\n",
       "Userscore            object\n",
       "dtype: object"
      ]
     },
     "execution_count": 8,
     "metadata": {},
     "output_type": "execute_result"
    }
   ],
   "source": [
    "dtype = raw_data.dtypes\n",
    "dtype"
   ]
  },
  {
   "cell_type": "markdown",
   "metadata": {},
   "source": [
    "As can be seen that, all types of each colum are currently objects. Therefore, those needs re-typing"
   ]
  },
  {
   "cell_type": "markdown",
   "metadata": {},
   "source": [
    "### Data retyping"
   ]
  },
  {
   "cell_type": "markdown",
   "metadata": {},
   "source": [
    "+ Title, Link, PlatformReleased, Studio : These are meant to be string, so there no need to convert it"
   ]
  },
  {
   "cell_type": "markdown",
   "metadata": {},
   "source": [
    "+ CriticScore and UserScore are numbers, therfore we convert them into numerical datatype"
   ]
  },
  {
   "cell_type": "markdown",
   "metadata": {},
   "source": [
    "Note : All numerical value are kept in float not interger because numpy require float to store nan"
   ]
  },
  {
   "cell_type": "code",
   "execution_count": 9,
   "metadata": {},
   "outputs": [],
   "source": [
    "#Remove '%' notation and keep the score\n",
    "def get_score_percentage(score_str):\n",
    "    if pd.isna(score_str) or score_str == 'nan' or score_str == 'NaN':\n",
    "        return np.nan\n",
    "    elif re.match(r'^\\d{1,3}%$', score_str):\n",
    "            return float(score_str[:-1])\n",
    "    return np.nan\n",
    "\n",
    "raw_data['CriticScore'] = raw_data['CriticScore'].apply(get_score_percentage)\n",
    "raw_data['UserScore'] = raw_data['UserScore'].apply(get_score_percentage)"
   ]
  },
  {
   "cell_type": "markdown",
   "metadata": {},
   "source": [
    "+ Convert MetaScore and UserScore into Numerical datatype too"
   ]
  },
  {
   "cell_type": "code",
   "execution_count": 10,
   "metadata": {},
   "outputs": [],
   "source": [
    "#Check if a string is a valid number because there are invalid value in Metascore and Userscore\n",
    "def get_score(score_str):\n",
    "    if pd.isna(score_str) or score_str == 'nan' or score_str == 'NaN':\n",
    "        return np.nan\n",
    "    elif re.match(r'^-?\\d+(\\.\\d+)?$', score_str):\n",
    "        return float(score_str)\n",
    "    return np.nan\n",
    "    \n",
    "raw_data['Metascore'] = raw_data['Metascore'].apply(get_score)\n",
    "raw_data['Userscore'] = raw_data['Userscore'].apply(get_score)\n"
   ]
  },
  {
   "cell_type": "markdown",
   "metadata": {},
   "source": [
    "+ Because a movie may have many Actors, many Director and different Gern, we split them and store into a list"
   ]
  },
  {
   "cell_type": "code",
   "execution_count": 11,
   "metadata": {},
   "outputs": [],
   "source": [
    "#Split string by comma seperated\n",
    "def split_item(string):\n",
    "    if pd.isna(string) or string == 'nan' or string == 'NaN':\n",
    "        return pd.NA\n",
    "    else:\n",
    "        return string.split(', ')\n",
    "    \n",
    "raw_data['Cast'] = raw_data['Cast'].apply(split_item)\n",
    "raw_data['Genre'] = raw_data['Genre'].apply(split_item)\n",
    "raw_data['Director'] = raw_data['Director'].apply(split_item)"
   ]
  },
  {
   "cell_type": "markdown",
   "metadata": {},
   "source": [
    "+ There are 10 different ratings, so we convert them into Pandas Categorial"
   ]
  },
  {
   "cell_type": "code",
   "execution_count": 12,
   "metadata": {},
   "outputs": [],
   "source": [
    "raw_data['Rating'] = raw_data['Rating'].astype('category')"
   ]
  },
  {
   "cell_type": "markdown",
   "metadata": {},
   "source": [
    "+ We convert Runtime into dictionary consists of hours and minutes for easier operating"
   ]
  },
  {
   "cell_type": "code",
   "execution_count": 13,
   "metadata": {},
   "outputs": [],
   "source": [
    "\n",
    "\n",
    "# Collect runtime information and convert it into dictionary\n",
    "def get_runtime(runtime_str):\n",
    "    if pd.isna(runtime_str) or runtime_str == 'nan' or runtime_str == 'NaN':\n",
    "        return pd.NA\n",
    "    else:\n",
    "        runtime = runtime_str.split()\n",
    "\n",
    "        if 'h' in runtime[0]:   \n",
    "            hours = int(runtime[0].split('h')[0])\n",
    "            minutes = int(runtime[1].split('m')[0])\n",
    "        else:\n",
    "            hours = 0\n",
    "            minutes = int(runtime[0].split('m')[0])\n",
    "        return {'hours' : hours, 'minutes': minutes}\n",
    "\n",
    "raw_data['Runtime'] = raw_data['Runtime'].apply(get_runtime)\n"
   ]
  },
  {
   "cell_type": "markdown",
   "metadata": {},
   "source": [
    "+ We convert release date into Pandas Datetime"
   ]
  },
  {
   "cell_type": "code",
   "execution_count": 14,
   "metadata": {},
   "outputs": [],
   "source": [
    "month_dict = {'Jan' : 1, 'Feb' : 2, 'Mar' : 3, 'Apr' : 4, 'May' : 5, 'Jun' : 6, 'Jul' : 7, 'Aug' : 8, 'Sep' : 9, 'Oct' : 10, 'Nov' : 11, 'Dec' : 12}\n",
    "\n",
    "# Collect date string and store it into datetime format\n",
    "def parse_datetime(date_str):\n",
    "    if pd.isna(date_str) or date_str == 'nan' or date_str == 'NaN' or date_str == 'Unknown':\n",
    "        return pd.NaT\n",
    "    else:\n",
    "        date = date_str.replace(',','').split()\n",
    "        if len(date) == 1:\n",
    "            year = int(date[0])\n",
    "            return pd.to_datetime(year, format ='%Y')\n",
    "        elif len(date) == 2:\n",
    "            month = month_dict[date[0]]\n",
    "            year = int(date[1])\n",
    "            day = 1\n",
    "            return pd.to_datetime(f'{year}-{month}-{day}', format='%Y-%m-%d')\n",
    "        else:\n",
    "            month = month_dict[date[0]]\n",
    "            day = int(date[1])\n",
    "            year = int(date[2])\n",
    "            return pd.to_datetime(f'{year}-{month}-{day}', format='%Y-%m-%d')\n",
    "\n",
    "raw_data['Release Date'] = raw_data['Release Date'].apply(parse_datetime)\n",
    "    "
   ]
  },
  {
   "cell_type": "markdown",
   "metadata": {},
   "source": [
    "+ Finally, convert Budgets and Grossess into numerical datatype and we are done"
   ]
  },
  {
   "cell_type": "code",
   "execution_count": 15,
   "metadata": {},
   "outputs": [],
   "source": [
    "# Replace $ notation, replace comma and get the value\n",
    "def parse_money(money_str):\n",
    "    if pd.isna(money_str) or money_str == 'nan' or money_str == 'NaN':\n",
    "        return np.nan\n",
    "    else:\n",
    "        money_str = money_str.replace('$','').replace(',','')\n",
    "        return float(money_str)\n",
    "\n",
    "raw_data['Production Budget'] = raw_data['Production Budget'].apply(parse_money)         \n",
    "raw_data['Domestic Gross'] = raw_data['Domestic Gross'].apply(parse_money)\n",
    "raw_data['Worldwide Gross'] = raw_data['Worldwide Gross'].apply(parse_money)"
   ]
  },
  {
   "cell_type": "markdown",
   "metadata": {},
   "source": [
    "+ Rename UserScore, Userscrore columns and drop Formated name columns because we dont use it"
   ]
  },
  {
   "cell_type": "code",
   "execution_count": 16,
   "metadata": {},
   "outputs": [],
   "source": [
    "raw_data.rename(columns={'UserScore' : 'Tomatoes UserScore', 'Userscore' : 'Meta UserScore', 'CriticScore' : 'Tomatoes CriticScore', 'MetaScore': 'Meta CriticScore'}, inplace=True)\n",
    "\n",
    "raw_data = raw_data.drop('Formated name', axis=1)"
   ]
  },
  {
   "cell_type": "code",
   "execution_count": 17,
   "metadata": {},
   "outputs": [
    {
     "name": "stdout",
     "output_type": "stream",
     "text": [
      "<class 'pandas.core.frame.DataFrame'>\n",
      "RangeIndex: 5106 entries, 0 to 5105\n",
      "Data columns (total 17 columns):\n",
      " #   Column                Non-Null Count  Dtype         \n",
      "---  ------                --------------  -----         \n",
      " 0   Title                 5106 non-null   object        \n",
      " 1   Tomatoes CriticScore  4129 non-null   float64       \n",
      " 2   Tomatoes UserScore    4523 non-null   float64       \n",
      " 3   Link                  5106 non-null   object        \n",
      " 4   PlatformReleased      5106 non-null   object        \n",
      " 5   Cast                  5074 non-null   object        \n",
      " 6   Director              5071 non-null   object        \n",
      " 7   Genre                 5060 non-null   object        \n",
      " 8   Rating                4015 non-null   category      \n",
      " 9   Runtime               5036 non-null   object        \n",
      " 10  Studio                5059 non-null   object        \n",
      " 11  Release Date          5031 non-null   datetime64[ns]\n",
      " 12  Production Budget     5106 non-null   float64       \n",
      " 13  Domestic Gross        5106 non-null   float64       \n",
      " 14  Worldwide Gross       5106 non-null   float64       \n",
      " 15  Metascore             4353 non-null   float64       \n",
      " 16  Meta UserScore        4186 non-null   float64       \n",
      "dtypes: category(1), datetime64[ns](1), float64(7), object(8)\n",
      "memory usage: 643.7+ KB\n"
     ]
    }
   ],
   "source": [
    "raw_data.info()"
   ]
  },
  {
   "cell_type": "code",
   "execution_count": 18,
   "metadata": {},
   "outputs": [
    {
     "data": {
      "text/html": [
       "<div>\n",
       "<style scoped>\n",
       "    .dataframe tbody tr th:only-of-type {\n",
       "        vertical-align: middle;\n",
       "    }\n",
       "\n",
       "    .dataframe tbody tr th {\n",
       "        vertical-align: top;\n",
       "    }\n",
       "\n",
       "    .dataframe thead th {\n",
       "        text-align: right;\n",
       "    }\n",
       "</style>\n",
       "<table border=\"1\" class=\"dataframe\">\n",
       "  <thead>\n",
       "    <tr style=\"text-align: right;\">\n",
       "      <th></th>\n",
       "      <th>Title</th>\n",
       "      <th>Tomatoes CriticScore</th>\n",
       "      <th>Tomatoes UserScore</th>\n",
       "      <th>Link</th>\n",
       "      <th>PlatformReleased</th>\n",
       "      <th>Cast</th>\n",
       "      <th>Director</th>\n",
       "      <th>Genre</th>\n",
       "      <th>Rating</th>\n",
       "      <th>Runtime</th>\n",
       "      <th>Studio</th>\n",
       "      <th>Release Date</th>\n",
       "      <th>Production Budget</th>\n",
       "      <th>Domestic Gross</th>\n",
       "      <th>Worldwide Gross</th>\n",
       "      <th>Metascore</th>\n",
       "      <th>Meta UserScore</th>\n",
       "    </tr>\n",
       "  </thead>\n",
       "  <tbody>\n",
       "    <tr>\n",
       "      <th>0</th>\n",
       "      <td>L.A. Confidential</td>\n",
       "      <td>99.0</td>\n",
       "      <td>94.0</td>\n",
       "      <td>https://www.rottentomatoes.com/m/la_confidential</td>\n",
       "      <td>Cinema</td>\n",
       "      <td>[Kevin Spacey, Russell Crowe, Guy Pearce, Jame...</td>\n",
       "      <td>[Curtis Hanson]</td>\n",
       "      <td>[Crime, Drama]</td>\n",
       "      <td>R</td>\n",
       "      <td>{'hours': 2, 'minutes': 16}</td>\n",
       "      <td>Warner Home Vídeo</td>\n",
       "      <td>1997-09-19</td>\n",
       "      <td>35000000.0</td>\n",
       "      <td>64604977.0</td>\n",
       "      <td>1.262050e+08</td>\n",
       "      <td>91.0</td>\n",
       "      <td>8.6</td>\n",
       "    </tr>\n",
       "    <tr>\n",
       "      <th>1</th>\n",
       "      <td>The Godfather</td>\n",
       "      <td>97.0</td>\n",
       "      <td>98.0</td>\n",
       "      <td>https://www.rottentomatoes.com/m/the_godfather</td>\n",
       "      <td>Cinema</td>\n",
       "      <td>[Marlon Brando, Al Pacino, James Caan, Richard...</td>\n",
       "      <td>[Francis Ford Coppola]</td>\n",
       "      <td>[Crime, Drama]</td>\n",
       "      <td>R</td>\n",
       "      <td>{'hours': 2, 'minutes': 57}</td>\n",
       "      <td>Paramount Pictures</td>\n",
       "      <td>1972-03-15</td>\n",
       "      <td>7000000.0</td>\n",
       "      <td>136479994.0</td>\n",
       "      <td>2.700074e+08</td>\n",
       "      <td>100.0</td>\n",
       "      <td>9.3</td>\n",
       "    </tr>\n",
       "    <tr>\n",
       "      <th>2</th>\n",
       "      <td>Casablanca</td>\n",
       "      <td>99.0</td>\n",
       "      <td>95.0</td>\n",
       "      <td>https://www.rottentomatoes.com/m/1003707-casab...</td>\n",
       "      <td>Cinema</td>\n",
       "      <td>[Humphrey Bogart, Ingrid Bergman, Paul Henreid...</td>\n",
       "      <td>[Michael Curtiz]</td>\n",
       "      <td>[Drama]</td>\n",
       "      <td>PG</td>\n",
       "      <td>{'hours': 1, 'minutes': 42}</td>\n",
       "      <td>Warner Bros. Pictures</td>\n",
       "      <td>1943-01-23</td>\n",
       "      <td>1039000.0</td>\n",
       "      <td>10462500.0</td>\n",
       "      <td>1.056718e+07</td>\n",
       "      <td>100.0</td>\n",
       "      <td>8.7</td>\n",
       "    </tr>\n",
       "    <tr>\n",
       "      <th>3</th>\n",
       "      <td>Parasite</td>\n",
       "      <td>99.0</td>\n",
       "      <td>90.0</td>\n",
       "      <td>https://www.rottentomatoes.com/m/parasite_2019</td>\n",
       "      <td>Cinema</td>\n",
       "      <td>[Song Kang-ho, Lee Sun-kyun, Jo Yeo-jeong, Cho...</td>\n",
       "      <td>[Bong Joon Ho]</td>\n",
       "      <td>[Comedy, Mystery &amp; Thriller, Drama]</td>\n",
       "      <td>R</td>\n",
       "      <td>{'hours': 2, 'minutes': 12}</td>\n",
       "      <td>Neon</td>\n",
       "      <td>2019-05-30</td>\n",
       "      <td>11800000.0</td>\n",
       "      <td>53369745.0</td>\n",
       "      <td>2.532679e+08</td>\n",
       "      <td>97.0</td>\n",
       "      <td>8.9</td>\n",
       "    </tr>\n",
       "    <tr>\n",
       "      <th>4</th>\n",
       "      <td>Top Gun: Maverick</td>\n",
       "      <td>96.0</td>\n",
       "      <td>99.0</td>\n",
       "      <td>https://www.rottentomatoes.com/m/top_gun_maverick</td>\n",
       "      <td>Cinema</td>\n",
       "      <td>[Tom Cruise, Miles Teller, Jennifer Connelly, ...</td>\n",
       "      <td>[Joseph Kosinski]</td>\n",
       "      <td>[Action, Adventure]</td>\n",
       "      <td>PG-13</td>\n",
       "      <td>{'hours': 2, 'minutes': 11}</td>\n",
       "      <td>Paramount Pictures</td>\n",
       "      <td>2022-05-20</td>\n",
       "      <td>170000000.0</td>\n",
       "      <td>718732821.0</td>\n",
       "      <td>1.464400e+09</td>\n",
       "      <td>78.0</td>\n",
       "      <td>8.4</td>\n",
       "    </tr>\n",
       "  </tbody>\n",
       "</table>\n",
       "</div>"
      ],
      "text/plain": [
       "               Title  Tomatoes CriticScore  Tomatoes UserScore  \\\n",
       "0  L.A. Confidential                  99.0                94.0   \n",
       "1      The Godfather                  97.0                98.0   \n",
       "2         Casablanca                  99.0                95.0   \n",
       "3           Parasite                  99.0                90.0   \n",
       "4  Top Gun: Maverick                  96.0                99.0   \n",
       "\n",
       "                                                Link PlatformReleased  \\\n",
       "0   https://www.rottentomatoes.com/m/la_confidential           Cinema   \n",
       "1     https://www.rottentomatoes.com/m/the_godfather           Cinema   \n",
       "2  https://www.rottentomatoes.com/m/1003707-casab...           Cinema   \n",
       "3     https://www.rottentomatoes.com/m/parasite_2019           Cinema   \n",
       "4  https://www.rottentomatoes.com/m/top_gun_maverick           Cinema   \n",
       "\n",
       "                                                Cast                Director  \\\n",
       "0  [Kevin Spacey, Russell Crowe, Guy Pearce, Jame...         [Curtis Hanson]   \n",
       "1  [Marlon Brando, Al Pacino, James Caan, Richard...  [Francis Ford Coppola]   \n",
       "2  [Humphrey Bogart, Ingrid Bergman, Paul Henreid...        [Michael Curtiz]   \n",
       "3  [Song Kang-ho, Lee Sun-kyun, Jo Yeo-jeong, Cho...          [Bong Joon Ho]   \n",
       "4  [Tom Cruise, Miles Teller, Jennifer Connelly, ...       [Joseph Kosinski]   \n",
       "\n",
       "                                 Genre Rating                      Runtime  \\\n",
       "0                       [Crime, Drama]      R  {'hours': 2, 'minutes': 16}   \n",
       "1                       [Crime, Drama]      R  {'hours': 2, 'minutes': 57}   \n",
       "2                              [Drama]     PG  {'hours': 1, 'minutes': 42}   \n",
       "3  [Comedy, Mystery & Thriller, Drama]      R  {'hours': 2, 'minutes': 12}   \n",
       "4                  [Action, Adventure]  PG-13  {'hours': 2, 'minutes': 11}   \n",
       "\n",
       "                  Studio Release Date  Production Budget  Domestic Gross  \\\n",
       "0      Warner Home Vídeo   1997-09-19         35000000.0      64604977.0   \n",
       "1     Paramount Pictures   1972-03-15          7000000.0     136479994.0   \n",
       "2  Warner Bros. Pictures   1943-01-23          1039000.0      10462500.0   \n",
       "3                   Neon   2019-05-30         11800000.0      53369745.0   \n",
       "4     Paramount Pictures   2022-05-20        170000000.0     718732821.0   \n",
       "\n",
       "   Worldwide Gross  Metascore  Meta UserScore  \n",
       "0     1.262050e+08       91.0             8.6  \n",
       "1     2.700074e+08      100.0             9.3  \n",
       "2     1.056718e+07      100.0             8.7  \n",
       "3     2.532679e+08       97.0             8.9  \n",
       "4     1.464400e+09       78.0             8.4  "
      ]
     },
     "execution_count": 18,
     "metadata": {},
     "output_type": "execute_result"
    }
   ],
   "source": [
    "raw_data.head()"
   ]
  },
  {
   "cell_type": "markdown",
   "metadata": {},
   "source": [
    "### Numerical column exploration"
   ]
  },
  {
   "cell_type": "markdown",
   "metadata": {},
   "source": [
    "For columns with numeric data types, calculate:\n",
    "- Percentage of missing values (From this and further calculation to propose a suitable approach to fill missing values of that column)\n",
    "- The min\n",
    "- The lower quartile\n",
    "- The median\n",
    "- The upper quartile\n",
    "- The max\n",
    "After calculating, give **visualization** to help get deeper understanding of data, from that graph/chart give some comments on the values' distribution of that column"
   ]
  },
  {
   "cell_type": "code",
   "execution_count": 19,
   "metadata": {},
   "outputs": [
    {
     "data": {
      "text/plain": [
       "Index(['Tomatoes CriticScore', 'Tomatoes UserScore', 'Production Budget',\n",
       "       'Domestic Gross', 'Worldwide Gross', 'Metascore', 'Meta UserScore'],\n",
       "      dtype='object')"
      ]
     },
     "execution_count": 19,
     "metadata": {},
     "output_type": "execute_result"
    }
   ],
   "source": [
    "numerical_cols = raw_data.select_dtypes(include=['number']).columns\n",
    "numerical_cols"
   ]
  },
  {
   "cell_type": "code",
   "execution_count": 48,
   "metadata": {},
   "outputs": [
    {
     "data": {
      "text/plain": [
       "pandas.core.series.Series"
      ]
     },
     "execution_count": 48,
     "metadata": {},
     "output_type": "execute_result"
    }
   ],
   "source": [
    "type(raw_data['Metascore'])"
   ]
  },
  {
   "cell_type": "markdown",
   "metadata": {},
   "source": [
    "### Support Function"
   ]
  },
  {
   "cell_type": "code",
   "execution_count": 20,
   "metadata": {},
   "outputs": [],
   "source": [
    "def descriptive_stats(col : pd.core.series.Series):\n",
    "    ''' \n",
    "    Function to calculate descriptive statistics for a given column\n",
    "    Input:\n",
    "        col : pd.core.series.Series : A pandas series object\n",
    "    Output:\n",
    "        dict : A dictionary containing the descriptive statistics\n",
    "    \n",
    "    '''\n",
    "\n",
    "    mean = col.mean()\n",
    "    median = col.median()\n",
    "    mode = col.mode().values[0] if len(col.mode()) > 0 else None\n",
    "    quartiles = col.quantile([0.25, 0.5, 0.75]).values\n",
    "    percentiles = col.quantile([0.1, 0.9]).values\n",
    "    deciles = col.quantile([i/10 for i in range(1, 10)]).values\n",
    "    min_val = col.min()\n",
    "    max_val = col.max()\n",
    "\n",
    "    return {'mean': mean, 'median': median, 'mode': mode, 'quartiles': quartiles, 'percentiles': percentiles, 'deciles': deciles, 'min': min_val, 'max': max_val}\n",
    "\n",
    "\n",
    "def histogram_plot(data = [], title = '', xlabel = '', ylabel = '', color = '', mean_line = False, median_line = False, bins = range(0, 100, 20)):\n",
    "    ''' \n",
    "    Function to plot a histogram of a given dataset\n",
    "    Input:\n",
    "        data : list : A list of numerical values\n",
    "        title : str : Title of the plot\n",
    "        xlabel : str : Label for the x-axis\n",
    "        ylabel : str : Label for the y-axis\n",
    "        color : str : Color of the histogram\n",
    "        mean_line : bool : Whether to plot a line for the mean\n",
    "        median_line : bool : Whether to plot a line for the median\n",
    "        bins : list : List of bin edges for the histogram\n",
    "    '''\n",
    "\n",
    "\n",
    "    plt.figure(figsize=(8,8))\n",
    "    sns.histplot(data, bins=bins, color=color)\n",
    "    plt.xticks(bins)\n",
    "\n",
    "    if mean_line:\n",
    "        mean_val = data.mean()\n",
    "        plt.axvline(mean_val, color='blue', linestyle='-', linewidth=1.5, label=f\"Mean: {mean_val:.1f}\")\n",
    "    if median_line:\n",
    "        median_val = data.median()\n",
    "        plt.axvline(median_val, color='red', linestyle='-', linewidth=1.5, label=f\"Median: {median_val:.1f}\")\n",
    "\n",
    "    plt.title(title, fontweight='bold')\n",
    "    plt.xlabel(xlabel, fontweight='bold')\n",
    "    plt.ylabel(ylabel, fontweight = 'bold')\n",
    "    plt.legend()\n",
    "    plt.show()\n",
    "\n",
    "\n",
    "\n",
    "mlb = MultiLabelBinarizer()\n",
    "raw_data_tmp = raw_data.copy()\n",
    "raw_data_tmp['Genre'] = raw_data_tmp['Genre'].fillna(\"\")\n",
    "genre_onehot = pd.DataFrame(mlb.fit_transform(raw_data_tmp['Genre']), columns=mlb.classes_, index=raw_data_tmp.index)\n",
    "\n",
    "rating_onehot = pd.get_dummies(raw_data_tmp['Rating'], prefix='Rating').astype(int)\n",
    "\n",
    "raw_data_tmp = pd.concat([raw_data_tmp, genre_onehot, rating_onehot], axis=1)\n",
    "raw_data_tmp = raw_data_tmp.drop(['Genre', 'Rating'], axis=1)\n",
    "\n",
    "# Conduct t-test between missing and non missing groups for target column\n",
    "def missing_ttest(target_col, data = raw_data_tmp):\n",
    "    ''' \n",
    "    Function to conduct t-test between missing and non-missing groups for each numerical column\n",
    "    Input:\n",
    "        target_col : str : The target column to check for missing values\n",
    "        data : pd.DataFrame : The dataframe containing the data\n",
    "    Output:\n",
    "        p_values_sorted : pd.DataFrame : A dataframe containing the p-values sorted in ascending order\n",
    "        proportion_significant : float : The proportion of significant features\n",
    "    '''\n",
    "\n",
    "    p_values = {}\n",
    "\n",
    "    for col in data.columns:\n",
    "        if col != target_col and np.issubdtype(data[col].dtype, np.number):\n",
    "            missing_group = data[data[target_col].isna()][col]\n",
    "            non_missing_group = data[~data[target_col].isna()][col]\n",
    "\n",
    "            if len(missing_group) > 0 and len(non_missing_group) > 0:\n",
    "                ttest_result = ttest_ind(missing_group, non_missing_group, nan_policy='omit')\n",
    "                p_values[col] = ttest_result.pvalue\n",
    "\n",
    "    # Convert p-values to dataframe and sort by p-value for easy viewing\n",
    "    p_values_df = pd.DataFrame(list(p_values.items()), columns=['Column', 'pvalue'])\n",
    "    p_values_sorted = p_values_df.sort_values(by='pvalue', ascending=False)\n",
    "\n",
    "    # Calculate proportion of significant features\n",
    "    significant_features = p_values_sorted[p_values_sorted['pvalue'] < 0.05]\n",
    "    proportion_significant = significant_features.shape[0] / p_values_sorted.shape[0]\n",
    "\n",
    "    return p_values_sorted, proportion_significant\n"
   ]
  },
  {
   "cell_type": "markdown",
   "metadata": {},
   "source": [
    "# Tomatoes CriticsScore"
   ]
  },
  {
   "cell_type": "markdown",
   "metadata": {},
   "source": [
    "- Missing Ratio"
   ]
  },
  {
   "cell_type": "code",
   "execution_count": 21,
   "metadata": {},
   "outputs": [
    {
     "name": "stdout",
     "output_type": "stream",
     "text": [
      "Percentage of missing values:  19.134351743047397\n"
     ]
    }
   ],
   "source": [
    "print(\"Percentage of missing values: \", raw_data['Tomatoes CriticScore'].isna().mean()*100)"
   ]
  },
  {
   "cell_type": "markdown",
   "metadata": {},
   "source": [
    "- Correlation among other numerical features"
   ]
  },
  {
   "cell_type": "code",
   "execution_count": 22,
   "metadata": {},
   "outputs": [
    {
     "name": "stdout",
     "output_type": "stream",
     "text": [
      "T-test p-values between missing and non-missing groups for 'Tomatoes CriticScore':\n",
      "                  Column        pvalue\n",
      "8              Animation  7.757713e-01\n",
      "9                  Anime  6.331468e-01\n",
      "29                Sports  6.267054e-01\n",
      "15  Faith & Spirituality  6.267054e-01\n",
      "17               Foreign  6.267054e-01\n",
      "19               Holiday  2.981110e-01\n",
      "20                Horror  2.793797e-01\n",
      "39          Rating_TV-MA  2.785175e-01\n",
      "24               Musical  2.132383e-01\n",
      "33          Rating_NC-17  1.978649e-01\n",
      "14                 Drama  1.974160e-01\n",
      "25    Mystery & Thriller  1.968717e-01\n",
      "12                 Crime  6.487590e-02\n",
      "26                 Other  3.979249e-02\n",
      "30                   War  3.676100e-02\n",
      "32              Rating_G  2.419578e-02\n",
      "31               Western  1.580981e-02\n",
      "38           Rating_TV-G  1.051493e-02\n",
      "23                 Music  9.429270e-03\n",
      "22                LGBTQ+  5.428654e-03\n",
      "27               Romance  3.474896e-03\n",
      "4              Metascore  2.863810e-03\n",
      "18               History  2.695654e-03\n",
      "5         Meta UserScore  6.894735e-04\n",
      "10             Biography  5.453796e-05\n",
      "13           Documentary  1.991623e-05\n",
      "21         Kids & Family  4.126167e-06\n",
      "28                Sci-Fi  1.083583e-06\n",
      "37          Rating_TV-14  6.166028e-07\n",
      "16               Fantasy  4.045428e-09\n",
      "6                 Action  2.586245e-10\n",
      "1      Production Budget  7.696162e-12\n",
      "3        Worldwide Gross  4.222063e-12\n",
      "7              Adventure  4.475178e-13\n",
      "34             Rating_PG  7.160356e-15\n",
      "2         Domestic Gross  1.207758e-15\n",
      "40          Rating_TV-PG  2.039005e-19\n",
      "11                Comedy  1.127241e-29\n",
      "0     Tomatoes UserScore  4.315098e-50\n",
      "35          Rating_PG-13  2.670126e-69\n",
      "36              Rating_R  1.444951e-79\n",
      "Proportion of significant features: 0.68\n"
     ]
    }
   ],
   "source": [
    "# conduct t-test between missing and non-missing groups for 'Tomatoes CriticScore'\n",
    "p_values_sorted, proportion_significant = missing_ttest(target_col='Tomatoes CriticScore')\n",
    "\n",
    "# Display results\n",
    "print(\"T-test p-values between missing and non-missing groups for 'Tomatoes CriticScore':\")\n",
    "print(p_values_sorted)\n",
    "\n",
    "print(f\"Proportion of significant features: {proportion_significant:.2f}\")"
   ]
  },
  {
   "cell_type": "markdown",
   "metadata": {},
   "source": [
    "Most of p-values are < 0.05, suggesting that there is no significant difference between the groups with and without Tomatoes CriticScore and rate of p-values is 0.66, which is quite high<br>\n",
    "It is likely that the missingness of Tomatoes CriticScore is **MAR** "
   ]
  },
  {
   "cell_type": "markdown",
   "metadata": {},
   "source": [
    "- Distribution of values"
   ]
  },
  {
   "cell_type": "code",
   "execution_count": 23,
   "metadata": {},
   "outputs": [
    {
     "data": {
      "image/png": "[encoded data removed]",
      "text/plain": [
       "<Figure size 800x800 with 1 Axes>"
      ]
     },
     "metadata": {},
     "output_type": "display_data"
    }
   ],
   "source": [
    "min_score = raw_data['Tomatoes CriticScore'].min()\n",
    "max_score = raw_data['Tomatoes CriticScore'].max()\n",
    "\n",
    "# Plot histogram of 'Tomatoes CriticScore'\n",
    "histogram_plot(data = raw_data['Tomatoes CriticScore'], title = 'Tomatoes Critic Score', xlabel = 'Score', ylabel = 'Frequency', color = 'skyblue', mean_line = True, median_line = True, bins = range(int(min_score), int(max_score)+1, 5))"
   ]
  },
  {
   "cell_type": "markdown",
   "metadata": {},
   "source": [
    "- Descriptive Statistics"
   ]
  },
  {
   "cell_type": "code",
   "execution_count": 24,
   "metadata": {},
   "outputs": [
    {
     "name": "stdout",
     "output_type": "stream",
     "text": [
      "Mean:  58.367885686606925\n",
      "Median:  62.0\n",
      "Mode:  93.0\n",
      "Quartiles:  [35. 62. 83.]\n",
      "Percentiles:  [17. 93.]\n",
      "Deciles:  [17. 29. 41. 51. 62. 71. 80. 87. 93.]\n",
      "Range:  [0.0, 100.0]\n"
     ]
    }
   ],
   "source": [
    "#Descriptive statistics of the 'Tomatoes CriticScore'\n",
    "stats = descriptive_stats(raw_data['Tomatoes CriticScore'])\n",
    "\n",
    "#Range\n",
    "data_range = [stats['min'], stats['max']]\n",
    "\n",
    "print(\"Mean: \", stats['mean'])\n",
    "print(\"Median: \", stats['median'])\n",
    "print(\"Mode: \", stats['mode'])\n",
    "print(\"Quartiles: \", stats['quartiles'])\n",
    "print(\"Percentiles: \", stats['percentiles'])\n",
    "print(\"Deciles: \", stats['deciles'])\n",
    "print(\"Range: \", data_range)\n"
   ]
  },
  {
   "cell_type": "markdown",
   "metadata": {},
   "source": [
    "**Mean (58.37):** On average, movies tend to receive a critic score around 58.37 out of 100.\n",
    "\n",
    "**Median (62):** The median being higher than the mean suggests a positive skew in the distribution, meaning there are more movies with lower scores compared to higher scores.\n",
    "\n",
    "**Mode (93):** The most frequent critic score is 93. This could be due to a few movies that received exceptionally high ratings.\n",
    "\n",
    "**Quartiles:**\n",
    "\n",
    "-   Q1 (35): 25% of the movies have a critic score of 35 or lower.\n",
    "-   Q2 (Median, 62): 50% of the movies have a critic score of 62 or lower.\n",
    "-   Q3 (83): 75% of the movies have a critic score of 83 or lower.\n",
    "    \n",
    "**Percentiles:**\n",
    "\n",
    "- P10 (17): 10% of the movies have a critic score of 17 or lower.\n",
    "- P90 (93): 90% of the movies have a critic score of 93 or lower.\n",
    "\n",
    "**Deciles:** Movies tend to receive quite equal user scores from rotten tomatoes.\n",
    "\n",
    "**Range (0-100):** This indicates that the critic scores range from 0 to 100, which is expected for a rating system.\n",
    "\n",
    "**Overall, the summary statistics suggest a distribution that is skewed towards lower scores, with a few outliers on the higher end.**"
   ]
  },
  {
   "cell_type": "markdown",
   "metadata": {},
   "source": [
    "# Tomatoes UserScore"
   ]
  },
  {
   "cell_type": "markdown",
   "metadata": {},
   "source": [
    "- Missing Ratio"
   ]
  },
  {
   "cell_type": "code",
   "execution_count": 25,
   "metadata": {},
   "outputs": [
    {
     "name": "stdout",
     "output_type": "stream",
     "text": [
      "Percentage of missing values:  11.417939678809244\n"
     ]
    }
   ],
   "source": [
    "print(\"Percentage of missing values: \", raw_data['Tomatoes UserScore'].isna().mean()*100)"
   ]
  },
  {
   "cell_type": "markdown",
   "metadata": {},
   "source": [
    "- Correlation among other numerical features"
   ]
  },
  {
   "cell_type": "code",
   "execution_count": 26,
   "metadata": {},
   "outputs": [
    {
     "name": "stdout",
     "output_type": "stream",
     "text": [
      "T-test p-values between missing and non-missing groups for 'Tomatoes UserScore':\n",
      "                  Column        pvalue\n",
      "39          Rating_TV-MA  9.768950e-01\n",
      "38           Rating_TV-G  8.113520e-01\n",
      "24               Musical  7.887967e-01\n",
      "15  Faith & Spirituality  7.196164e-01\n",
      "29                Sports  7.196164e-01\n",
      "37          Rating_TV-14  6.145822e-01\n",
      "8              Animation  4.942390e-01\n",
      "33          Rating_NC-17  3.419376e-01\n",
      "19               Holiday  3.306256e-01\n",
      "4              Metascore  3.132494e-01\n",
      "9                  Anime  3.095978e-01\n",
      "12                 Crime  1.945396e-01\n",
      "31               Western  6.005794e-02\n",
      "32              Rating_G  4.403612e-02\n",
      "30                   War  4.154914e-02\n",
      "27               Romance  2.883157e-02\n",
      "23                 Music  2.632155e-02\n",
      "0   Tomatoes CriticScore  1.996478e-02\n",
      "5         Meta UserScore  1.207926e-02\n",
      "25    Mystery & Thriller  1.143898e-02\n",
      "22                LGBTQ+  9.267475e-03\n",
      "17               Foreign  5.336372e-03\n",
      "26                 Other  5.336372e-03\n",
      "18               History  2.465838e-03\n",
      "10             Biography  1.921051e-03\n",
      "20                Horror  9.688976e-04\n",
      "1      Production Budget  7.650332e-04\n",
      "40          Rating_TV-PG  4.787673e-04\n",
      "14                 Drama  4.856959e-05\n",
      "3        Worldwide Gross  2.497898e-05\n",
      "21         Kids & Family  1.579157e-05\n",
      "2         Domestic Gross  5.207599e-06\n",
      "28                Sci-Fi  3.617841e-06\n",
      "16               Fantasy  4.792263e-08\n",
      "6                 Action  4.102980e-09\n",
      "13           Documentary  3.435885e-09\n",
      "7              Adventure  7.606321e-10\n",
      "34             Rating_PG  2.644687e-14\n",
      "11                Comedy  1.775212e-21\n",
      "35          Rating_PG-13  2.993163e-48\n",
      "36              Rating_R  3.511901e-70\n",
      "Proportion of significant features: 0.68\n"
     ]
    }
   ],
   "source": [
    "# conduct t-test between missing and non-missing groups for 'Tomatoes UserScore'\n",
    "p_values_sorted, proportion_significant = missing_ttest(target_col='Tomatoes UserScore')\n",
    "\n",
    "# Display results\n",
    "print(\"T-test p-values between missing and non-missing groups for 'Tomatoes UserScore':\")\n",
    "print(p_values_sorted)\n",
    "\n",
    "print(f\"Proportion of significant features: {proportion_significant:.2f}\")\n"
   ]
  },
  {
   "cell_type": "markdown",
   "metadata": {},
   "source": [
    "Most of p-values are < 0.05, suggesting that there is no significant difference between the groups with and without Tomatoes CriticScore and rate of p-values is 0.72, which is quite high<br>\n",
    "It is likely that the missingness of Tomatoes UserScore is **MAR** "
   ]
  },
  {
   "cell_type": "markdown",
   "metadata": {},
   "source": [
    "- Distribution of values"
   ]
  },
  {
   "cell_type": "code",
   "execution_count": 27,
   "metadata": {},
   "outputs": [
    {
     "data": {
      "image/png": "[encoded data removed]",
      "text/plain": [
       "<Figure size 800x800 with 1 Axes>"
      ]
     },
     "metadata": {},
     "output_type": "display_data"
    }
   ],
   "source": [
    "# Bar chart of scores\n",
    "histogram_plot(data = raw_data['Tomatoes UserScore'], title = 'Tomatoes User Score', xlabel = 'Score', ylabel = 'Frequency', color = 'skyblue', mean_line = True, median_line = True, bins = range(0, 100, 5))"
   ]
  },
  {
   "cell_type": "markdown",
   "metadata": {},
   "source": [
    "- Descriptive Statistics"
   ]
  },
  {
   "cell_type": "code",
   "execution_count": 28,
   "metadata": {},
   "outputs": [
    {
     "name": "stdout",
     "output_type": "stream",
     "text": [
      "Mean:  62.45743975237674\n",
      "Median:  65.0\n",
      "Mode:  79.0\n",
      "Quartiles:  [47. 65. 80.]\n",
      "Percentiles:  [33. 89.]\n",
      "Deciles:  [33. 43. 51. 58. 65. 71. 77. 83. 89.]\n",
      "Range:  [0.0, 100.0]\n"
     ]
    }
   ],
   "source": [
    "#Descriptive statistics of the 'Tomatoes UserScore'\n",
    "stats = descriptive_stats(raw_data['Tomatoes UserScore'])\n",
    "\n",
    "#Range\n",
    "data_range = [stats['min'], stats['max']]\n",
    "\n",
    "print(\"Mean: \", stats['mean'])\n",
    "print(\"Median: \", stats['median'])\n",
    "print(\"Mode: \", stats['mode'])\n",
    "print(\"Quartiles: \", stats['quartiles'])\n",
    "print(\"Percentiles: \", stats['percentiles'])\n",
    "print(\"Deciles: \", stats['deciles'])\n",
    "print(\"Range: \", data_range)\n"
   ]
  },
  {
   "cell_type": "markdown",
   "metadata": {},
   "source": [
    "**Mean (62.45):** On average, movies tend to receive a user score around 62.45 out of 100.\n",
    "\n",
    "**Median (65):** The median being higher than the mean suggests a positive skew in the distribution, meaning there are more movies with lower scores compared to higher scores.\n",
    "\n",
    "**&rarr; The mean (62.46) and median (65.0) values are relatively high, especially when considering a scoring scale that ranges from 0 to 100. This suggests that, on average, users are rating items above the midpoint (50), indicating a general tendency to rate positively**\n",
    "\n",
    "**Mode (79):** The most frequent critic score is 79. This could be due to a few movies that received exceptionally high ratings.\n",
    "\n",
    "**&rarr; A significant number of users have rated items favorably, as scores in the upper range are generally seen as positive**\n",
    "\n",
    "**Quartiles:**\n",
    "\n",
    "-   Q1 (47): 25% of the movies have a critic score of 47 or lower.\n",
    "-   Q2 (Median, 65): 50% of the movies have a critic score of 65 or lower.\n",
    "-   Q3 (80): 75% of the movies have a critic score of 89 or lower.\n",
    "    \n",
    "**&rarr; Many users are giving high ratings**\n",
    " \n",
    "**Percentiles:**\n",
    "\n",
    "- P10 (33): 10% of the movies have a critic score of 33 or lower.\n",
    "- P90 (89): 90% of the movies have a critic score of 89 or lower.\n",
    "\n",
    "**Deciles:** Movies tend to receive quite equal user score from rotten tomatoes.\n",
    "\n",
    "**Range (0-100):** This indicates that the critic scores range from 0 to 100, which is expected for a rating system.\n",
    "\n",
    "**While the presence of low scores does indicate that not all ratings are high, the overall trend in the statistics shows a clustering of scores towards the upper end. This is a common pattern seen in products or content that are generally well-received.**"
   ]
  },
  {
   "cell_type": "markdown",
   "metadata": {},
   "source": [
    "# Production Budget"
   ]
  },
  {
   "cell_type": "markdown",
   "metadata": {},
   "source": [
    "- Missing Ratio"
   ]
  },
  {
   "cell_type": "code",
   "execution_count": 29,
   "metadata": {},
   "outputs": [
    {
     "name": "stdout",
     "output_type": "stream",
     "text": [
      "Percentage of missing values:  0.0\n"
     ]
    }
   ],
   "source": [
    "print(\"Percentage of missing values: \", raw_data['Production Budget'].isna().mean()*100)"
   ]
  },
  {
   "cell_type": "markdown",
   "metadata": {},
   "source": [
    "Luckily, no missing values"
   ]
  },
  {
   "cell_type": "markdown",
   "metadata": {},
   "source": [
    "- Distribution of values"
   ]
  },
  {
   "cell_type": "code",
   "execution_count": 30,
   "metadata": {},
   "outputs": [
    {
     "data": {
      "text/plain": [
       "<Axes: title={'center': 'Production Budget Over Time'}, xlabel='Release Date'>"
      ]
     },
     "execution_count": 30,
     "metadata": {},
     "output_type": "execute_result"
    },
    {
     "data": {
      "image/png": "[encoded data removed]",
      "text/plain": [
       "<Figure size 1500x1000 with 1 Axes>"
      ]
     },
     "metadata": {},
     "output_type": "display_data"
    }
   ],
   "source": [
    "# Line graph of production budget over time\n",
    "fig, ax = plt.subplots(1, 1, figsize=(15, 10))\n",
    "raw_data.groupby('Release Date')['Production Budget'].mean().plot(title='Production Budget Over Time', ax=ax)\n"
   ]
  },
  {
   "cell_type": "markdown",
   "metadata": {},
   "source": [
    "- Descriptive Statistics"
   ]
  },
  {
   "cell_type": "code",
   "execution_count": 31,
   "metadata": {},
   "outputs": [
    {
     "name": "stdout",
     "output_type": "stream",
     "text": [
      "Mean:  33937859.52781042\n",
      "Median:  18000000.0\n",
      "Mode:  20000000.0\n",
      "Quartiles:  [ 5000000. 18000000. 43750000.]\n",
      "Percentiles:  [ 1200000. 85000000.]\n",
      "Deciles:  [ 1200000.  3750000.  7000000. 12000000. 18000000. 25000000. 35000000.\n",
      " 52000000. 85000000.]\n",
      "Range:  [86.0, 460000000.0]\n"
     ]
    }
   ],
   "source": [
    "#Descriptive statistics of the 'Production Budget'\n",
    "stats = descriptive_stats(raw_data['Production Budget'])\n",
    "\n",
    "#Range\n",
    "data_range = [stats['min'], stats['max']]\n",
    "\n",
    "print(\"Mean: \", stats['mean'])\n",
    "print(\"Median: \", stats['median'])\n",
    "print(\"Mode: \", stats['mode'])\n",
    "print(\"Quartiles: \", stats['quartiles'])\n",
    "print(\"Percentiles: \", stats['percentiles'])\n",
    "print(\"Deciles: \", stats['deciles'])\n",
    "print(\"Range: \", data_range)\n",
    "\n",
    "\n"
   ]
  },
  {
   "cell_type": "markdown",
   "metadata": {},
   "source": [
    "**Mean (33,937,859.53):** The average production budget is approximately 33,937,859.53. This indicates that, on average, films are funded at a substantial level, suggesting a significant investment in movie production.\n",
    "\n",
    "**Median (18,000,000.0):** The median budget being 18,000,000.0 is notably lower than the mean, indicating a positive skew in the distribution. This suggests that while there are some films with very high budgets, many productions operate with more modest funding levels.\n",
    "\n",
    "**→ The mean (33,937,859.53) and median (18,000,000.0) values suggest that while there are high-budget films, a significant number of productions are budgeted below the average, highlighting a diverse range of film financing.**\n",
    "\n",
    "**Mode (20,000,000.0):** The mode of 20,000,000.0 indicates that this is the most common budget level among films. This clustering suggests a popular threshold for many productions, potentially reflecting industry standards or target funding levels.\n",
    "\n",
    "**&rarr; A considerable number of films are being funded around this budget mark, indicating a trend in production financing.**\n",
    "\n",
    "**Quartiles:**\n",
    "\n",
    "- Q1 (5,000,000): 25% of films have budgets of 5,000,000 or lower, illustrating that a notable portion of productions are budget-conscious.\n",
    "- Q2 (Median, 18,000,000): 50% of productions have budgets of 18,000,000 or lower, reinforcing that half of the films operate with relatively lower funding.\n",
    "- Q3 (43,750,000): 75% of films have budgets below 43,750,000, suggesting that a significant number of productions are still well below the high-budget threshold.\n",
    "\n",
    "**&rarr;** The quartile data indicates a wide range of budgets across the industry, with a substantial number of films receiving moderate to high levels of funding.\n",
    "\n",
    "**Percentiles:**\n",
    "\n",
    "P10 (1,200,000): 10% of films have budgets of 1,200,000 or lower, indicating that there are some very low-budget projects in the market.\n",
    "P90 (85,000,000): 90% of films are budgeted below 85,000,000, showcasing that while high-budget films exist, the majority still fall within a lower range.\n",
    "\n",
    "**Deciles:** The decile analysis indicates a fairly even distribution of budgets, suggesting that production funding is relatively accessible across a spectrum of films.\n",
    "\n",
    "**Range (0-460,000,000):** The range of budgets from 86.0 to 460,000,000.0 confirms the presence of extreme outliers, reflecting the diversity in production financing strategies.\n",
    "\n",
    "**Overall, while the presence of low budgets indicates that not all productions are highly funded, the majority of the data reflects a tendency towards higher investment in film production. This suggests a competitive landscape where a mix of both high-budget and lower-budget films coexist, potentially allowing for varied audience engagement and market opportunities.**"
   ]
  },
  {
   "cell_type": "markdown",
   "metadata": {},
   "source": [
    "# Domestic Gross"
   ]
  },
  {
   "cell_type": "markdown",
   "metadata": {},
   "source": [
    "- Missing Ratio"
   ]
  },
  {
   "cell_type": "code",
   "execution_count": 32,
   "metadata": {},
   "outputs": [
    {
     "name": "stdout",
     "output_type": "stream",
     "text": [
      "Percentage of missing values:  0.0\n"
     ]
    }
   ],
   "source": [
    "print(\"Percentage of missing values: \", raw_data['Domestic Gross'].isna().mean()*100)"
   ]
  },
  {
   "cell_type": "markdown",
   "metadata": {},
   "source": [
    "Luckily, no missing values"
   ]
  },
  {
   "cell_type": "markdown",
   "metadata": {},
   "source": [
    "- Distribution of values"
   ]
  },
  {
   "cell_type": "code",
   "execution_count": 33,
   "metadata": {},
   "outputs": [
    {
     "data": {
      "text/plain": [
       "<Axes: title={'center': 'Domestic Gross Over Time'}, xlabel='Release Date'>"
      ]
     },
     "execution_count": 33,
     "metadata": {},
     "output_type": "execute_result"
    },
    {
     "data": {
      "image/png": "[encoded data removed]",
      "text/plain": [
       "<Figure size 1500x1000 with 1 Axes>"
      ]
     },
     "metadata": {},
     "output_type": "display_data"
    }
   ],
   "source": [
    "# Line graph of production budget over time\n",
    "fig, ax = plt.subplots(1, 1, figsize=(15, 10))\n",
    "raw_data.groupby('Release Date')['Domestic Gross'].mean().plot(title='Domestic Gross Over Time', ax=ax)\n"
   ]
  },
  {
   "cell_type": "markdown",
   "metadata": {},
   "source": [
    "Luckily, no missing values"
   ]
  },
  {
   "cell_type": "markdown",
   "metadata": {},
   "source": [
    "- Descriptive Statistics"
   ]
  },
  {
   "cell_type": "code",
   "execution_count": 34,
   "metadata": {},
   "outputs": [
    {
     "name": "stdout",
     "output_type": "stream",
     "text": [
      "Mean:  43825054.271053664\n",
      "Median:  17672451.0\n",
      "Mode:  0.0\n",
      "Quartiles:  [ 1431370.5 17672451.  54141177.5]\n",
      "Percentiles:  [0.00000000e+00 1.16729653e+08]\n",
      "Deciles:  [0.00000000e+00 4.09862000e+05 3.49233450e+06 9.63939000e+06\n",
      " 1.76724510e+07 2.95000000e+07 4.45632045e+07 6.61840510e+07\n",
      " 1.16729653e+08]\n",
      "Range:  [0.0, 858373000.0]\n"
     ]
    }
   ],
   "source": [
    "#Descriptive statistics of the 'Domestic Gross'\n",
    "stats = descriptive_stats(raw_data['Domestic Gross'])\n",
    "\n",
    "#Range\n",
    "data_range = [stats['min'], stats['max']]\n",
    "\n",
    "print(\"Mean: \", stats['mean'])\n",
    "print(\"Median: \", stats['median'])\n",
    "print(\"Mode: \", stats['mode'])\n",
    "print(\"Quartiles: \", stats['quartiles'])\n",
    "print(\"Percentiles: \", stats['percentiles'])\n",
    "print(\"Deciles: \", stats['deciles'])\n",
    "print(\"Range: \", data_range)\n",
    "\n"
   ]
  },
  {
   "cell_type": "markdown",
   "metadata": {},
   "source": [
    "**Mean (43,825,054.27):** The average domestic gross is approximately 43,825,054.27. This indicates that, on average, a reasonable return of films on domestic earnings across the production budget.\n",
    "\n",
    "**Median (17,672,451.0):** The median budget being 17,672,451.0 is notably lower than the mean, indicating a positive skew in the distribution. This suggests that where a small number of films exceptionally high.\n",
    "\n",
    "**→ Mean (43,825,054.27) and median (17,672,451.0) values suggest that while a few movies perform vary well domestically, the typical domestic gross is at very modest level**\n",
    "\n",
    "**Mode (0.0):** The mode of 0.0 indicates that a number of films do not generate any domestic revenue, possibly due to limited or no domestic release.\n",
    "\n",
    "**&rarr; This indicates that while many films have strong domestic performance, a portion either fails to secure domestic earnings or is released only internationally.**\n",
    "\n",
    "**Quartiles:**\n",
    "\n",
    "- Q1 (1,431,370.5): 25% of films have domestic return of 1,431,370.5 or lower, illustrating that a quarter of productions achieve limited domestic earnings.\n",
    "- Q2 (Median, 17,672,451.0): 50% of domestic gross of 17,672,451.0 or lower, reinforcing the trend of moderate earnings for the majority.\n",
    "- Q3 (54,141,177.5): 75% of films have budgets below 54,141,177.5, suggesting that only minority of film achieves high domestic success.\n",
    "\n",
    "**&rarr;** The quartile data reflects a broad range of domestic gross figures, with most films falling below the highest-grossing tier.\n",
    "\n",
    "**Percentiles:**\n",
    "\n",
    "P10 (0.0): 10% of films can not generate domestic gross, reinforcing the mode value.\n",
    "P90 (116,729,653): 90% of films gross are lower than 85,000,000, very high earnings are rare and achieved by a select few films.\n",
    "\n",
    "**Deciles:** The decile analysis indicates a fairly consistent distribution of domestic gross, across the lower earnings tiers, with a significant increase only in the top deciles, highlighting the influence of high-grossing outliers.\n",
    "\n",
    "**Range (0.0-858,373,000.0):** Underscores the variability in domestic gross potential, with a few films grossing exceptionally high amounts while others generate none.\n",
    "\n",
    "**Overall, the descriptive statistics and the graph show a film industry where a small number of movies achieve high domestic grosses, while most perform modestly at the box office. The increase in domestic grosses over time reflects the industry's growing focus on blockbuster movies and larger theatrical releases, which tend to generate higher revenue. However, the strong skewness suggests that blockbuster successes are exceptions rather than the norm, highlighting the industry's reliance on a few high-grossing films to drive overall box office performance.**"
   ]
  },
  {
   "cell_type": "markdown",
   "metadata": {},
   "source": [
    "# Worldwide Gross"
   ]
  },
  {
   "cell_type": "markdown",
   "metadata": {},
   "source": [
    "+ Missing ratio"
   ]
  },
  {
   "cell_type": "code",
   "execution_count": 35,
   "metadata": {},
   "outputs": [
    {
     "name": "stdout",
     "output_type": "stream",
     "text": [
      "Percentage of missing value:  0.0 %\n"
     ]
    }
   ],
   "source": [
    "# Percentage of missing values in 'Worldwide Gross'\n",
    "missing = raw_data['Worldwide Gross'].isnull().sum() / len(raw_data['Worldwide Gross']) * 100\n",
    "print(\"Percentage of missing value: \", missing, '%')"
   ]
  },
  {
   "cell_type": "markdown",
   "metadata": {},
   "source": [
    "+ Value Distribution"
   ]
  },
  {
   "cell_type": "code",
   "execution_count": 36,
   "metadata": {},
   "outputs": [
    {
     "data": {
      "text/plain": [
       "<Axes: title={'center': 'Worldwide Gross Over Time'}, xlabel='Release Date'>"
      ]
     },
     "execution_count": 36,
     "metadata": {},
     "output_type": "execute_result"
    },
    {
     "data": {
      "image/png": "[encoded data removed]",
      "text/plain": [
       "<Figure size 1500x1000 with 1 Axes>"
      ]
     },
     "metadata": {},
     "output_type": "display_data"
    }
   ],
   "source": [
    "# Distribution of world wide gross through year\n",
    "raw_data.groupby('Release Date')['Worldwide Gross'].mean().plot(title='Worldwide Gross Over Time', figsize=(15, 10))"
   ]
  },
  {
   "cell_type": "markdown",
   "metadata": {},
   "source": [
    "Phew, there is no missing value"
   ]
  },
  {
   "cell_type": "markdown",
   "metadata": {},
   "source": [
    "+ Descriptive Statistic"
   ]
  },
  {
   "cell_type": "code",
   "execution_count": 37,
   "metadata": {},
   "outputs": [
    {
     "name": "stdout",
     "output_type": "stream",
     "text": [
      "Mean:  97545727.49823737\n",
      "Median:  29591157.0\n",
      "Mode:  0.0\n",
      "Quartiles:  [4.29443850e+06 2.95911570e+07 1.02198945e+08]\n",
      "Percentiles:  [6.30970000e+04 2.59869102e+08]\n",
      "Deciles:  [6.30970000e+04 1.70328100e+06 7.23547100e+06 1.59350680e+07\n",
      " 2.95911570e+07 4.89772330e+07 8.00672835e+07 1.35406280e+08\n",
      " 2.59869102e+08]\n",
      "Range:  [0.0, 2923706026.0]\n"
     ]
    }
   ],
   "source": [
    "# Descriptive statistics of the 'Worldwide Gross'\n",
    "stats = descriptive_stats(raw_data['Worldwide Gross'])\n",
    "\n",
    "# Range\n",
    "data_range = [stats['min'], stats['max']]\n",
    "\n",
    "print(\"Mean: \", stats['mean'])\n",
    "print(\"Median: \", stats['median'])\n",
    "print(\"Mode: \", stats['mode'])\n",
    "print(\"Quartiles: \", stats['quartiles'])\n",
    "print(\"Percentiles: \", stats['percentiles'])\n",
    "print(\"Deciles: \", stats['deciles'])\n",
    "print(\"Range: \", data_range)\n",
    "\n"
   ]
  },
  {
   "cell_type": "markdown",
   "metadata": {},
   "source": [
    "**Mean (Average):** The mean worldwide gross is approximately $97.5 million, suggesting that, on average, movies have generated significant revenue globally.\n",
    "\n",
    "**Median:** The median worldwide gross is around $29.6 million. This show that half of the movies made less than this amount and the other half made more then this amount.\n",
    "\n",
    "**&rarr; Mean is far higher than Median indicating that there are a few extremely high-grossing movies pulling the average up.**\n",
    "\n",
    "**Mode:** The mode is $0, which likely means that some movies generated no revenue worldwide. The reason could be movies that were not released, were not successed or error in the crawled data\n",
    "\n",
    "**Quartiles:**\n",
    "+ First Quartile (Q1): About $4.3 million. This suggests that 25% of movies earned less than this amount.\n",
    "\n",
    "+ Second Quartile (Median/Q2): $29.6 million.\n",
    "\n",
    "+ Third Quartile (Q3): Around $102 million, indicating that 75% of movies made less than this amount, and only the top 25% grossed more.\n",
    "\n",
    "**Percentiles:** The 1st percentile around $63,097 and the 99th percentile around $2.6 billion. This illustrates an extensive range in earnings, with the highest-grossing movies making much more than the vast majority.\n",
    "\n",
    "**Deciles:** \n",
    "+ 10th percentile: About $63,097\n",
    "+ 50th percentile (Median): $29.6 million\n",
    "+ 90th percentile: $259.9 million\n",
    "This shows that only a small percentage of movies reach the highest levels of worldwide gross.\n",
    "\n",
    "**Range:** From $0 to $2.9 billion, indicating a substantial difference between the least and most successful movies in terms of revenue.\n",
    "\n",
    "Overall, the data indicates a highly right skewed distribution with many movies earning relatively low revenue, while a small number reach extreme success, greatly affecting the mean."
   ]
  },
  {
   "cell_type": "markdown",
   "metadata": {},
   "source": [
    "# Metascore"
   ]
  },
  {
   "cell_type": "markdown",
   "metadata": {},
   "source": [
    "+ Missing Ratio"
   ]
  },
  {
   "cell_type": "code",
   "execution_count": 38,
   "metadata": {},
   "outputs": [
    {
     "name": "stdout",
     "output_type": "stream",
     "text": [
      "Percentage of missing values:  14.747356051703878\n"
     ]
    }
   ],
   "source": [
    "print(\"Percentage of missing values: \", raw_data['Metascore'].isna().mean()*100)"
   ]
  },
  {
   "cell_type": "markdown",
   "metadata": {},
   "source": [
    "+ Correlation among other numerical features"
   ]
  },
  {
   "cell_type": "code",
   "execution_count": 39,
   "metadata": {},
   "outputs": [
    {
     "name": "stdout",
     "output_type": "stream",
     "text": [
      "T-test p-values between missing and non-missing groups for 'Metascore':\n",
      "                  Column        pvalue\n",
      "32              Rating_G  9.203470e-01\n",
      "5         Meta UserScore  8.895964e-01\n",
      "22                LGBTQ+  8.126169e-01\n",
      "39          Rating_TV-MA  7.581949e-01\n",
      "18               History  7.396881e-01\n",
      "27               Romance  7.188325e-01\n",
      "29                Sports  6.775153e-01\n",
      "8              Animation  6.371936e-01\n",
      "28                Sci-Fi  6.309997e-01\n",
      "11                Comedy  5.983550e-01\n",
      "12                 Crime  5.829132e-01\n",
      "37          Rating_TV-14  4.802849e-01\n",
      "23                 Music  4.614731e-01\n",
      "30                   War  4.340041e-01\n",
      "20                Horror  4.289557e-01\n",
      "9                  Anime  4.131798e-01\n",
      "16               Fantasy  3.216959e-01\n",
      "21         Kids & Family  2.967850e-01\n",
      "34             Rating_PG  2.810211e-01\n",
      "33          Rating_NC-17  2.709163e-01\n",
      "0   Tomatoes CriticScore  2.402726e-01\n",
      "40          Rating_TV-PG  1.542788e-01\n",
      "6                 Action  1.382169e-01\n",
      "19               Holiday  1.183551e-01\n",
      "31               Western  6.757483e-02\n",
      "25    Mystery & Thriller  5.898667e-02\n",
      "13           Documentary  2.281947e-02\n",
      "26                 Other  1.618694e-02\n",
      "15  Faith & Spirituality  1.618694e-02\n",
      "17               Foreign  1.618694e-02\n",
      "10             Biography  6.960479e-03\n",
      "14                 Drama  5.362631e-03\n",
      "24               Musical  4.435538e-03\n",
      "7              Adventure  1.323717e-03\n",
      "38           Rating_TV-G  2.285839e-05\n",
      "36              Rating_R  2.922474e-06\n",
      "35          Rating_PG-13  1.703324e-14\n",
      "1     Tomatoes UserScore  1.191584e-15\n",
      "4        Worldwide Gross  3.350318e-20\n",
      "3         Domestic Gross  2.621584e-30\n",
      "2      Production Budget  1.212717e-30\n",
      "Proportion of significant features: 0.37\n"
     ]
    }
   ],
   "source": [
    "# conduct t-test between missing and non-missing groups for 'Metascore'\n",
    "p_values_sorted, proportion_significant = missing_ttest(target_col='Metascore')\n",
    "\n",
    "# Display results\n",
    "print(\"T-test p-values between missing and non-missing groups for 'Metascore':\")\n",
    "print(p_values_sorted)\n",
    "\n",
    "print(f\"Proportion of significant features: {proportion_significant:.2f}\")"
   ]
  },
  {
   "cell_type": "markdown",
   "metadata": {},
   "source": [
    "**Sumary**: Around 37% of features showed significant differences(p-value < 0.05) between the group with missing and non-missing Meta Score. Therefore, the data may not entirely missing at random. "
   ]
  },
  {
   "cell_type": "markdown",
   "metadata": {},
   "source": [
    "+ Distribution of values"
   ]
  },
  {
   "cell_type": "code",
   "execution_count": 40,
   "metadata": {},
   "outputs": [
    {
     "data": {
      "image/png": "[encoded data removed]",
      "text/plain": [
       "<Figure size 800x800 with 1 Axes>"
      ]
     },
     "metadata": {},
     "output_type": "display_data"
    }
   ],
   "source": [
    "# Plot histogram of 'Metascore'\n",
    "histogram_plot(data = raw_data['Metascore'], title = 'Metascore', xlabel = 'Score', ylabel = 'Frequency', color = 'skyblue', mean_line = True, median_line = True, bins = range(0, 100, 5))"
   ]
  },
  {
   "cell_type": "markdown",
   "metadata": {},
   "source": [
    "+ Descriptive Statistic"
   ]
  },
  {
   "cell_type": "code",
   "execution_count": 41,
   "metadata": {},
   "outputs": [
    {
     "name": "stdout",
     "output_type": "stream",
     "text": [
      "Mean:  55.60509993108201\n",
      "Median:  55.0\n",
      "Mode:  53.0\n",
      "Quartiles:  [42. 55. 69.]\n",
      "Percentiles:  [31. 81.]\n",
      "Deciles:  [31. 39. 45. 50. 55. 61. 66. 72. 81.]\n",
      "Range:  [1.0, 100.0]\n"
     ]
    }
   ],
   "source": [
    "# Descriptive statistics of the 'Metascore'\n",
    "stats = descriptive_stats(raw_data['Metascore'])\n",
    "\n",
    "# Range\n",
    "data_range = [stats['min'], stats['max']]\n",
    "\n",
    "print(\"Mean: \", stats['mean'])\n",
    "print(\"Median: \", stats['median'])\n",
    "print(\"Mode: \", stats['mode'])\n",
    "print(\"Quartiles: \", stats['quartiles'])\n",
    "print(\"Percentiles: \", stats['percentiles'])\n",
    "print(\"Deciles: \", stats['deciles'])\n",
    "print(\"Range: \", data_range)\n",
    "\n"
   ]
  },
  {
   "cell_type": "markdown",
   "metadata": {},
   "source": [
    "**Mean(Average):** The mean of the 'Metascore' is approximately 55.61. This indicates that the average Metascore across the dataset is around 56, with a slight tendency towards the higher end of the scale.\n",
    "\n",
    "**Median:** The median is 55, which is very close to the mean. This suggests that the distribution of Metascore values is fairly symmetric, with half of the movies having scores below 55 and half above.\n",
    "\n",
    "**Mode:** The mode is 53, which means that the most frequent Metascore value in the dataset is 53.\n",
    "\n",
    "**Since the mode is close to Mean and Median (A little lower than them both), the data is slightly right skewed**\n",
    "\n",
    "**Quartiles:**\n",
    "+ First Quartile (Q1): 42, indicating that 25% of movies have a Metascore below 42.\n",
    "+ Second Quartile (Q2, Median): 55, indicating that 50% of the movies have a score less than or equal to 55.\n",
    "+ Third Quartile (Q3): 69, meaning 75% of movies have a Metascore below 69.\n",
    "\n",
    "**Percentiles:**\n",
    "+ The 1st percentile is 31, meaning 1% of movies have a Metascore below this value.\n",
    "+ The 99th percentile is 81, showing that 99% of movies have a Metascore below this value. This highlights that while the bulk of movies cluster in the middle, there are some with significantly higher ratings.\n",
    "\n",
    "**Deciles:** The deciles give a more granular view of the distribution, with scores ranging from 31 at the 10th percentile to 81 at the 90th percentile. The scores show a gradual increase across the deciles, reflecting a fairly uniform spread of Metascore values across the movies.\n",
    "\n",
    "**Range:** The Metascore values range from 1 to 100, indicating that the scoring system spans the entire possible range, with some movies receiving extremely low scores and others near perfect ratings.\n",
    "\n",
    "**Overall, The Metascore have a good distribution suggests that most movies fall into the middle of the scale, with fewer outliers at the end**\n",
    "\n"
   ]
  },
  {
   "cell_type": "markdown",
   "metadata": {},
   "source": [
    "# Meta UserScore"
   ]
  },
  {
   "cell_type": "markdown",
   "metadata": {},
   "source": [
    "+ Missing values Ratio"
   ]
  },
  {
   "cell_type": "code",
   "execution_count": 43,
   "metadata": {},
   "outputs": [
    {
     "name": "stdout",
     "output_type": "stream",
     "text": [
      "Percentage of missing values:  18.01801801801802\n"
     ]
    }
   ],
   "source": [
    "print(\"Percentage of missing values: \", raw_data['Meta UserScore'].isna().mean()*100)"
   ]
  },
  {
   "cell_type": "markdown",
   "metadata": {},
   "source": [
    "+ Missing Correlation"
   ]
  },
  {
   "cell_type": "code",
   "execution_count": 44,
   "metadata": {},
   "outputs": [
    {
     "name": "stdout",
     "output_type": "stream",
     "text": [
      "T-test p-values between missing and non-missing groups for 'Meta UserScore':\n",
      "                  Column        pvalue\n",
      "27               Romance  7.651687e-01\n",
      "22                LGBTQ+  7.635354e-01\n",
      "37          Rating_TV-14  7.160335e-01\n",
      "18               History  7.097091e-01\n",
      "19               Holiday  6.945291e-01\n",
      "29                Sports  6.392531e-01\n",
      "9                  Anime  6.071795e-01\n",
      "39          Rating_TV-MA  5.895559e-01\n",
      "20                Horror  5.863439e-01\n",
      "23                 Music  4.340575e-01\n",
      "40          Rating_TV-PG  3.458631e-01\n",
      "32              Rating_G  3.180088e-01\n",
      "11                Comedy  2.459802e-01\n",
      "33          Rating_NC-17  2.146101e-01\n",
      "30                   War  1.873719e-01\n",
      "34             Rating_PG  1.796573e-01\n",
      "5              Metascore  1.711005e-01\n",
      "0   Tomatoes CriticScore  1.624914e-01\n",
      "28                Sci-Fi  1.279216e-01\n",
      "31               Western  1.256830e-01\n",
      "14                 Drama  9.407414e-02\n",
      "12                 Crime  8.131438e-02\n",
      "8              Animation  5.893545e-02\n",
      "26                 Other  3.290546e-02\n",
      "15  Faith & Spirituality  3.290546e-02\n",
      "17               Foreign  3.290546e-02\n",
      "10             Biography  1.681525e-02\n",
      "16               Fantasy  5.637838e-03\n",
      "21         Kids & Family  3.858468e-03\n",
      "24               Musical  8.278504e-04\n",
      "38           Rating_TV-G  2.324964e-04\n",
      "25    Mystery & Thriller  5.454796e-05\n",
      "6                 Action  3.123652e-05\n",
      "7              Adventure  9.945647e-07\n",
      "36              Rating_R  9.837774e-07\n",
      "1     Tomatoes UserScore  4.933520e-13\n",
      "13           Documentary  4.210247e-13\n",
      "35          Rating_PG-13  3.657372e-17\n",
      "4        Worldwide Gross  6.753829e-30\n",
      "3         Domestic Gross  1.772137e-42\n",
      "2      Production Budget  6.374317e-48\n",
      "Proportion of significant features: 0.44\n"
     ]
    }
   ],
   "source": [
    "# conduct t-test between missing and non-missing groups for 'Meta UserScore'\n",
    "p_values_sorted, proportion_significant = missing_ttest(target_col='Meta UserScore')\n",
    "\n",
    "# Display results\n",
    "print(\"T-test p-values between missing and non-missing groups for 'Meta UserScore':\")\n",
    "print(p_values_sorted)\n",
    "\n",
    "print(f\"Proportion of significant features: {proportion_significant:.2f}\")"
   ]
  },
  {
   "cell_type": "markdown",
   "metadata": {},
   "source": [
    "**Sumary:** Around 44% of features showed significant differences(p-value < 0.05) between the group with missing and non-missing Meta UserScore. Therefore, the Meta UserScore may not entirely missing at random. "
   ]
  },
  {
   "cell_type": "markdown",
   "metadata": {},
   "source": [
    "+ Distribution of values"
   ]
  },
  {
   "cell_type": "code",
   "execution_count": 45,
   "metadata": {},
   "outputs": [
    {
     "data": {
      "image/png": "[encoded data removed]",
      "text/plain": [
       "<Figure size 800x800 with 1 Axes>"
      ]
     },
     "metadata": {},
     "output_type": "display_data"
    }
   ],
   "source": [
    "# Plot histogram of 'Meta UserScore'\n",
    "histogram_plot(data = raw_data['Meta UserScore'], title = 'Meta User Score', xlabel = 'Score', ylabel = 'Frequency', color = 'skyblue', mean_line = True, median_line = True, bins = range(0, 10, 1))"
   ]
  },
  {
   "cell_type": "markdown",
   "metadata": {},
   "source": [
    "+ Descriptive Statistic"
   ]
  },
  {
   "cell_type": "code",
   "execution_count": 46,
   "metadata": {},
   "outputs": [
    {
     "name": "stdout",
     "output_type": "stream",
     "text": [
      "Mean:  6.493979933110368\n",
      "Median:  6.6\n",
      "Mode:  6.8\n",
      "Quartiles:  [5.7 6.6 7.4]\n",
      "Percentiles:  [4.8 8. ]\n",
      "Deciles:  [4.8 5.5 6.  6.3 6.6 6.9 7.2 7.5 8. ]\n",
      "Range:  [0.8, 10.0]\n"
     ]
    }
   ],
   "source": [
    "# Descriptive statistics of the 'Meta UserScore'\n",
    "stats = descriptive_stats(raw_data['Meta UserScore'])\n",
    "\n",
    "# Range\n",
    "data_range = [stats['min'], stats['max']]\n",
    "\n",
    "print(\"Mean: \", stats['mean'])\n",
    "print(\"Median: \", stats['median'])\n",
    "print(\"Mode: \", stats['mode'])\n",
    "print(\"Quartiles: \", stats['quartiles'])\n",
    "print(\"Percentiles: \", stats['percentiles'])\n",
    "print(\"Deciles: \", stats['deciles'])\n",
    "print(\"Range: \", data_range);\n",
    "\n"
   ]
  },
  {
   "cell_type": "markdown",
   "metadata": {},
   "source": [
    "**Mean(Average):** The mean of the 'Meta UserScore' is approximately 6.49, indicating that the average score across the dataset is just around 6.5.\n",
    "\n",
    "**Median:**The median is 6.6, which is close to the mean. This suggests that the data is fairly symmetric, with half of the movies having scores below 6.6 and half above.\n",
    "\n",
    "**Mode:**The mode is 6.8, meaning that the most frequent Meta UserScore value in the dataset is 6.8.\n",
    "\n",
    "**Given the close values of mean and median, and the mode being slightly higher, this suggests a slightly left-skewed distribution (leaning towards higher scores).**\n",
    "\n",
    "**Quartiles:**\n",
    "+ First Quartile (Q1): 5.7, indicating that 25% of movies have a Meta UserScore below 5.7.\n",
    "+ Second Quartile (Q2, Median): 6.6, meaning that 50% of the movies have a score less than or equal to 6.6.\n",
    "+ Third Quartile (Q3): 7.4, meaning that 75% of movies have a Meta UserScore below 7.4.\n",
    "\n",
    "**Percentiles:**\n",
    "+ The 1st percentile is 4.8, meaning 1% of movies have a Meta UserScore below 4.8.\n",
    "+ The 99th percentile is 8, meaning that 99% of movies have a score below this value, showing a fairly narrow distribution at the higher end of the scale.\n",
    "\n",
    "**Deciles**:\n",
    "+ The first decile is 4.8, and the ninth decile is 8, with values gradually increasing across the deciles.\n",
    "+ The data is fairly evenly spread, though most movies score between 5.5 and 7.5.\n",
    "\n",
    "**Range**: The range of Meta UserScore is from 0.8 to 10.0, meaning that while most scores cluster around the middle, there are some extreme low and high ratings.\n",
    "\n",
    "**Overall, The Meta UserScore have a fairly balanced distribution with a little skew to the left, showing that the majority of movies have mid-range scores, with some outliers at both ends.**\n"
   ]
  },
  {
   "cell_type": "markdown",
   "metadata": {},
   "source": [
    "### Categorical column exploration"
   ]
  },
  {
   "cell_type": "markdown",
   "metadata": {},
   "source": [
    "For columns with non-numeric data types, you calculate:\n",
    "- Percentage of missing values (From this and further calculation to propose a suitable approach to fill missing values of that column)\n",
    "- Count no of unique values and no of element of each value (There is a column cast is quite difficult to explore, try to find a way)\n",
    "-  Give **visualization** to help get deeper understanding of data, from that graph/chart or any collected information give some comments on the values' distribution of that column"
   ]
  },
  {
   "cell_type": "code",
   "execution_count": 47,
   "metadata": {},
   "outputs": [],
   "source": [
    "# TODO"
   ]
  },
  {
   "cell_type": "markdown",
   "metadata": {},
   "source": [
    "<h1 id = \"preprocessing\"> 4. Preprocessing data </h1>"
   ]
  },
  {
   "cell_type": "code",
   "execution_count": null,
   "metadata": {},
   "outputs": [],
   "source": []
  },
  {
   "cell_type": "markdown",
   "metadata": {},
   "source": [
    "<h1 id = \"questions\"> 5. Questions </h1>"
   ]
  },
  {
   "cell_type": "markdown",
   "metadata": {},
   "source": [
    "<h2 id = question-1>5.1. Question 1</h2> "
   ]
  },
  {
   "cell_type": "markdown",
   "metadata": {},
   "source": []
  },
  {
   "cell_type": "markdown",
   "metadata": {},
   "source": [
    "<h2 id = question-2>5.2. Question 2</h2> "
   ]
  },
  {
   "cell_type": "markdown",
   "metadata": {},
   "source": []
  },
  {
   "cell_type": "markdown",
   "metadata": {},
   "source": [
    "<h2 id = question-3>5.3. Question 3</h2> "
   ]
  },
  {
   "cell_type": "markdown",
   "metadata": {},
   "source": []
  },
  {
   "cell_type": "markdown",
   "metadata": {},
   "source": [
    "<h2 id = question-4>5.4. Question 4</h2> "
   ]
  },
  {
   "cell_type": "markdown",
   "metadata": {},
   "source": []
  },
  {
   "cell_type": "markdown",
   "metadata": {},
   "source": [
    "<h2 id = question-5>5.5. Question 5</h2> "
   ]
  },
  {
   "cell_type": "markdown",
   "metadata": {},
   "source": []
  },
  {
   "cell_type": "markdown",
   "metadata": {},
   "source": [
    "<h1 id = \"modelling\">6. Modelling</h1>"
   ]
  },
  {
   "cell_type": "markdown",
   "metadata": {},
   "source": [
    "<h2 id = \"modelling_preparation\">6.1. Data preparation</h2> "
   ]
  },
  {
   "cell_type": "markdown",
   "metadata": {},
   "source": [
    "<h2 id = \"models\">6.2. Models</h2> "
   ]
  },
  {
   "cell_type": "markdown",
   "metadata": {},
   "source": [
    "<h2 id = \"models\">6.2. Models</h2> "
   ]
  },
  {
   "cell_type": "markdown",
   "metadata": {},
   "source": [
    "<h3 id = \"model1\">6.2.1 Model 1</h3> "
   ]
  },
  {
   "cell_type": "code",
   "execution_count": null,
   "metadata": {},
   "outputs": [],
   "source": []
  },
  {
   "cell_type": "markdown",
   "metadata": {},
   "source": [
    "<h2 id = >"
   ]
  },
  {
   "cell_type": "markdown",
   "metadata": {},
   "source": [
    "<h2 id = \"evaluation\">6.3. Evaluation</h2> "
   ]
  },
  {
   "cell_type": "code",
   "execution_count": null,
   "metadata": {},
   "outputs": [],
   "source": []
  },
  {
   "cell_type": "markdown",
   "metadata": {},
   "source": [
    "<h1 id = \"reflection\">7. Reflection</h1> "
   ]
  },
  {
   "cell_type": "markdown",
   "metadata": {},
   "source": [
    "<h2 id = \"difficulties\">7.1. Difficulties during the project</h2> "
   ]
  },
  {
   "cell_type": "markdown",
   "metadata": {},
   "source": []
  },
  {
   "cell_type": "markdown",
   "metadata": {},
   "source": [
    "<h2 id = \"useful\">7.2. Useful things learned</h2> "
   ]
  },
  {
   "cell_type": "markdown",
   "metadata": {},
   "source": []
  },
  {
   "cell_type": "markdown",
   "metadata": {},
   "source": [
    "<h2 id = \"plans\">7.3. Plans to improve if have more time</h2> "
   ]
  },
  {
   "cell_type": "markdown",
   "metadata": {},
   "source": []
  },
  {
   "cell_type": "markdown",
   "metadata": {},
   "source": [
    "<h1 id = \"references\">8. References</h1> "
   ]
  }
 ],
 "metadata": {
  "kernelspec": {
   "display_name": "base",
   "language": "python",
   "name": "python3"
  },
  "language_info": {
   "codemirror_mode": {
    "name": "ipython",
    "version": 3
   },
   "file_extension": ".py",
   "mimetype": "text/x-python",
   "name": "python",
   "nbconvert_exporter": "python",
   "pygments_lexer": "ipython3",
   "version": "3.12.4"
  }
 },
 "nbformat": 4,
 "nbformat_minor": 2
}
