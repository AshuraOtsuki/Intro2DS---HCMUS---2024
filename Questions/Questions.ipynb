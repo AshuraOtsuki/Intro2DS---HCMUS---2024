{
 "cells": [
  {
   "cell_type": "markdown",
   "metadata": {},
   "source": [
    "# Table of contents\n",
    "1. [Libraries](#libraries)\n",
    "2. [Questions](#quesions)\n",
    "    - [2.1 Question 1](#question1)\n",
    "        - [2.1.1 Preprocessing](#preprocessing1)\n",
    "        - [2.1.2 Analysis](#analysis1)\n",
    "        - [2.1.3 Conclusion](#conclusion1)\n",
    "    - [2.2 Question 2](#question2)\n",
    "        - [2.2.1 Preprocessing](#preprocessing2)\n",
    "        - [2.2.2 Analysis](#analysis2)\n",
    "        - [2.2.3 Conclusion](#conclusion2)\n",
    "    - [2.3 Question 3](#question3)\n",
    "        - [2.3.1 Preprocessing](#preprocessing3)\n",
    "        - [2.3.2 Analysis](#analysis3)\n",
    "        - [2.3.3 Conclusion](#conclusion3)\n",
    "    - [2.4 Question 4](#question4)\n",
    "        - [2.4.1 Preprocessing](#preprocessing4)\n",
    "        - [2.4.2 Analysis](#analysis4)\n",
    "        - [2.4.3 Conclusion](#conclusion4)\n",
    "    - [2.5 Question 5](#question5)\n",
    "        - [2.5.1 Preprocessing](#preprocessing5)\n",
    "        - [2.5.2 Analysis](#analysis5)\n",
    "        - [2.5.3 Conclusion](#conclusion5)\n",
    "\n"
   ]
  },
  {
   "cell_type": "markdown",
   "metadata": {},
   "source": [
    "<h1 id = \"libraries\"> 1. Libraries </h1>"
   ]
  },
  {
   "cell_type": "code",
   "execution_count": 4,
   "metadata": {},
   "outputs": [],
   "source": [
    "import numpy as np\n",
    "import matplotlib.pyplot as plt\n",
    "import pandas as pd\n",
    "import seaborn as sns"
   ]
  },
  {
   "cell_type": "code",
   "execution_count": 5,
   "metadata": {},
   "outputs": [
    {
     "data": {
      "text/html": [
       "<div>\n",
       "<style scoped>\n",
       "    .dataframe tbody tr th:only-of-type {\n",
       "        vertical-align: middle;\n",
       "    }\n",
       "\n",
       "    .dataframe tbody tr th {\n",
       "        vertical-align: top;\n",
       "    }\n",
       "\n",
       "    .dataframe thead th {\n",
       "        text-align: right;\n",
       "    }\n",
       "</style>\n",
       "<table border=\"1\" class=\"dataframe\">\n",
       "  <thead>\n",
       "    <tr style=\"text-align: right;\">\n",
       "      <th></th>\n",
       "      <th>Title</th>\n",
       "      <th>Tomatoes CriticScore</th>\n",
       "      <th>Tomatoes UserScore</th>\n",
       "      <th>Cast</th>\n",
       "      <th>Director</th>\n",
       "      <th>Genre</th>\n",
       "      <th>Rating</th>\n",
       "      <th>Studio</th>\n",
       "      <th>Release Date</th>\n",
       "      <th>Production Budget</th>\n",
       "      <th>Domestic Gross</th>\n",
       "      <th>Worldwide Gross</th>\n",
       "      <th>Metascore</th>\n",
       "      <th>Meta UserScore</th>\n",
       "    </tr>\n",
       "  </thead>\n",
       "  <tbody>\n",
       "    <tr>\n",
       "      <th>0</th>\n",
       "      <td>L.A. Confidential</td>\n",
       "      <td>99.000000</td>\n",
       "      <td>94.00000</td>\n",
       "      <td>['Kevin Spacey', 'Russell Crowe', 'Guy Pearce'...</td>\n",
       "      <td>['Curtis Hanson']</td>\n",
       "      <td>['Crime', 'Drama']</td>\n",
       "      <td>R</td>\n",
       "      <td>Warner Home Vídeo</td>\n",
       "      <td>1997-01-01</td>\n",
       "      <td>35000000.0</td>\n",
       "      <td>64604977.0</td>\n",
       "      <td>1.262050e+08</td>\n",
       "      <td>91.0000</td>\n",
       "      <td>86.000000</td>\n",
       "    </tr>\n",
       "    <tr>\n",
       "      <th>1</th>\n",
       "      <td>The Godfather</td>\n",
       "      <td>97.000000</td>\n",
       "      <td>98.00000</td>\n",
       "      <td>['Marlon Brando', 'Al Pacino', 'James Caan', '...</td>\n",
       "      <td>['Francis Ford Coppola']</td>\n",
       "      <td>['Crime', 'Drama']</td>\n",
       "      <td>R</td>\n",
       "      <td>Paramount Pictures</td>\n",
       "      <td>1972-01-01</td>\n",
       "      <td>7000000.0</td>\n",
       "      <td>136479994.0</td>\n",
       "      <td>2.700074e+08</td>\n",
       "      <td>100.0000</td>\n",
       "      <td>93.000000</td>\n",
       "    </tr>\n",
       "    <tr>\n",
       "      <th>2</th>\n",
       "      <td>Casablanca</td>\n",
       "      <td>99.000000</td>\n",
       "      <td>95.00000</td>\n",
       "      <td>['Humphrey Bogart', 'Ingrid Bergman', 'Paul He...</td>\n",
       "      <td>['Michael Curtiz']</td>\n",
       "      <td>['Drama']</td>\n",
       "      <td>PG</td>\n",
       "      <td>Warner Bros. Pictures</td>\n",
       "      <td>1943-01-01</td>\n",
       "      <td>1039000.0</td>\n",
       "      <td>10462500.0</td>\n",
       "      <td>1.056718e+07</td>\n",
       "      <td>100.0000</td>\n",
       "      <td>87.000000</td>\n",
       "    </tr>\n",
       "    <tr>\n",
       "      <th>3</th>\n",
       "      <td>Parasite</td>\n",
       "      <td>99.000000</td>\n",
       "      <td>90.00000</td>\n",
       "      <td>['Song Kang-ho', 'Lee Sun-kyun', 'Jo Yeo-jeong...</td>\n",
       "      <td>['Bong Joon Ho']</td>\n",
       "      <td>['Comedy', 'Mystery &amp; Thriller', 'Drama']</td>\n",
       "      <td>R</td>\n",
       "      <td>Neon</td>\n",
       "      <td>2019-01-01</td>\n",
       "      <td>11800000.0</td>\n",
       "      <td>53369745.0</td>\n",
       "      <td>2.532679e+08</td>\n",
       "      <td>97.0000</td>\n",
       "      <td>89.000000</td>\n",
       "    </tr>\n",
       "    <tr>\n",
       "      <th>4</th>\n",
       "      <td>Top Gun: Maverick</td>\n",
       "      <td>96.000000</td>\n",
       "      <td>99.00000</td>\n",
       "      <td>['Tom Cruise', 'Miles Teller', 'Jennifer Conne...</td>\n",
       "      <td>['Joseph Kosinski']</td>\n",
       "      <td>['Action', 'Adventure']</td>\n",
       "      <td>PG-13</td>\n",
       "      <td>Paramount Pictures</td>\n",
       "      <td>2022-01-01</td>\n",
       "      <td>170000000.0</td>\n",
       "      <td>718732821.0</td>\n",
       "      <td>1.464400e+09</td>\n",
       "      <td>78.0000</td>\n",
       "      <td>84.000000</td>\n",
       "    </tr>\n",
       "    <tr>\n",
       "      <th>...</th>\n",
       "      <td>...</td>\n",
       "      <td>...</td>\n",
       "      <td>...</td>\n",
       "      <td>...</td>\n",
       "      <td>...</td>\n",
       "      <td>...</td>\n",
       "      <td>...</td>\n",
       "      <td>...</td>\n",
       "      <td>...</td>\n",
       "      <td>...</td>\n",
       "      <td>...</td>\n",
       "      <td>...</td>\n",
       "      <td>...</td>\n",
       "      <td>...</td>\n",
       "    </tr>\n",
       "    <tr>\n",
       "      <th>5101</th>\n",
       "      <td>Antarctic Edge: 70 South</td>\n",
       "      <td>57.000000</td>\n",
       "      <td>50.00000</td>\n",
       "      <td>['Dena Seidel', 'Richard Ludescher', 'Dena Sei...</td>\n",
       "      <td>['Dena Seidel']</td>\n",
       "      <td>['Documentary', 'Adventure']</td>\n",
       "      <td>Unknown</td>\n",
       "      <td>First Run</td>\n",
       "      <td>2015-01-01</td>\n",
       "      <td>150000.0</td>\n",
       "      <td>7193.0</td>\n",
       "      <td>7.193000e+03</td>\n",
       "      <td>62.0000</td>\n",
       "      <td>67.400000</td>\n",
       "    </tr>\n",
       "    <tr>\n",
       "      <th>5102</th>\n",
       "      <td>8 Days to Hell</td>\n",
       "      <td>58.367886</td>\n",
       "      <td>62.45744</td>\n",
       "      <td>['Eric Roberts', 'Shane Woodson', 'Drew Hale',...</td>\n",
       "      <td>['Shane Woodson']</td>\n",
       "      <td>['Horror']</td>\n",
       "      <td>Unknown</td>\n",
       "      <td>Pegasus Flying Films</td>\n",
       "      <td>2021-01-01</td>\n",
       "      <td>100000.0</td>\n",
       "      <td>0.0</td>\n",
       "      <td>0.000000e+00</td>\n",
       "      <td>55.6051</td>\n",
       "      <td>64.939799</td>\n",
       "    </tr>\n",
       "    <tr>\n",
       "      <th>5103</th>\n",
       "      <td>20 Dates</td>\n",
       "      <td>35.000000</td>\n",
       "      <td>47.00000</td>\n",
       "      <td>['Myles Berkowitz', 'Elisabeth Wagner', 'Richa...</td>\n",
       "      <td>['Myles Berkowitz']</td>\n",
       "      <td>['Comedy', 'Romance']</td>\n",
       "      <td>R</td>\n",
       "      <td>Fox</td>\n",
       "      <td>1999-01-01</td>\n",
       "      <td>66000.0</td>\n",
       "      <td>541636.0</td>\n",
       "      <td>6.029200e+05</td>\n",
       "      <td>35.0000</td>\n",
       "      <td>56.400000</td>\n",
       "    </tr>\n",
       "    <tr>\n",
       "      <th>5104</th>\n",
       "      <td>Happy 40th</td>\n",
       "      <td>58.367886</td>\n",
       "      <td>62.45744</td>\n",
       "      <td>['Fernando Acosta', 'Jenni Blong', 'Robyn Cohe...</td>\n",
       "      <td>['Madoka Raine']</td>\n",
       "      <td>['Drama']</td>\n",
       "      <td>Unknown</td>\n",
       "      <td>English</td>\n",
       "      <td>2015-01-01</td>\n",
       "      <td>35000.0</td>\n",
       "      <td>0.0</td>\n",
       "      <td>0.000000e+00</td>\n",
       "      <td>55.6051</td>\n",
       "      <td>64.939799</td>\n",
       "    </tr>\n",
       "    <tr>\n",
       "      <th>5105</th>\n",
       "      <td>Red 11</td>\n",
       "      <td>67.000000</td>\n",
       "      <td>67.00000</td>\n",
       "      <td>['Roby Attal', 'Lauren Hatfield', 'Carlos Gall...</td>\n",
       "      <td>['Robert Rodriguez']</td>\n",
       "      <td>['Horror', 'Sci-Fi', 'Mystery &amp; Thriller']</td>\n",
       "      <td>Unknown</td>\n",
       "      <td>Double R Productions</td>\n",
       "      <td>2022-01-01</td>\n",
       "      <td>7000.0</td>\n",
       "      <td>0.0</td>\n",
       "      <td>0.000000e+00</td>\n",
       "      <td>51.0000</td>\n",
       "      <td>67.250000</td>\n",
       "    </tr>\n",
       "  </tbody>\n",
       "</table>\n",
       "<p>5106 rows × 14 columns</p>\n",
       "</div>"
      ],
      "text/plain": [
       "                         Title  Tomatoes CriticScore  Tomatoes UserScore  \\\n",
       "0            L.A. Confidential             99.000000            94.00000   \n",
       "1                The Godfather             97.000000            98.00000   \n",
       "2                   Casablanca             99.000000            95.00000   \n",
       "3                     Parasite             99.000000            90.00000   \n",
       "4            Top Gun: Maverick             96.000000            99.00000   \n",
       "...                        ...                   ...                 ...   \n",
       "5101  Antarctic Edge: 70 South             57.000000            50.00000   \n",
       "5102            8 Days to Hell             58.367886            62.45744   \n",
       "5103                  20 Dates             35.000000            47.00000   \n",
       "5104                Happy 40th             58.367886            62.45744   \n",
       "5105                    Red 11             67.000000            67.00000   \n",
       "\n",
       "                                                   Cast  \\\n",
       "0     ['Kevin Spacey', 'Russell Crowe', 'Guy Pearce'...   \n",
       "1     ['Marlon Brando', 'Al Pacino', 'James Caan', '...   \n",
       "2     ['Humphrey Bogart', 'Ingrid Bergman', 'Paul He...   \n",
       "3     ['Song Kang-ho', 'Lee Sun-kyun', 'Jo Yeo-jeong...   \n",
       "4     ['Tom Cruise', 'Miles Teller', 'Jennifer Conne...   \n",
       "...                                                 ...   \n",
       "5101  ['Dena Seidel', 'Richard Ludescher', 'Dena Sei...   \n",
       "5102  ['Eric Roberts', 'Shane Woodson', 'Drew Hale',...   \n",
       "5103  ['Myles Berkowitz', 'Elisabeth Wagner', 'Richa...   \n",
       "5104  ['Fernando Acosta', 'Jenni Blong', 'Robyn Cohe...   \n",
       "5105  ['Roby Attal', 'Lauren Hatfield', 'Carlos Gall...   \n",
       "\n",
       "                      Director                                       Genre  \\\n",
       "0            ['Curtis Hanson']                          ['Crime', 'Drama']   \n",
       "1     ['Francis Ford Coppola']                          ['Crime', 'Drama']   \n",
       "2           ['Michael Curtiz']                                   ['Drama']   \n",
       "3             ['Bong Joon Ho']   ['Comedy', 'Mystery & Thriller', 'Drama']   \n",
       "4          ['Joseph Kosinski']                     ['Action', 'Adventure']   \n",
       "...                        ...                                         ...   \n",
       "5101           ['Dena Seidel']                ['Documentary', 'Adventure']   \n",
       "5102         ['Shane Woodson']                                  ['Horror']   \n",
       "5103       ['Myles Berkowitz']                       ['Comedy', 'Romance']   \n",
       "5104          ['Madoka Raine']                                   ['Drama']   \n",
       "5105      ['Robert Rodriguez']  ['Horror', 'Sci-Fi', 'Mystery & Thriller']   \n",
       "\n",
       "       Rating                 Studio Release Date  Production Budget  \\\n",
       "0           R      Warner Home Vídeo   1997-01-01         35000000.0   \n",
       "1           R     Paramount Pictures   1972-01-01          7000000.0   \n",
       "2          PG  Warner Bros. Pictures   1943-01-01          1039000.0   \n",
       "3           R                   Neon   2019-01-01         11800000.0   \n",
       "4       PG-13     Paramount Pictures   2022-01-01        170000000.0   \n",
       "...       ...                    ...          ...                ...   \n",
       "5101  Unknown              First Run   2015-01-01           150000.0   \n",
       "5102  Unknown   Pegasus Flying Films   2021-01-01           100000.0   \n",
       "5103        R                    Fox   1999-01-01            66000.0   \n",
       "5104  Unknown                English   2015-01-01            35000.0   \n",
       "5105  Unknown   Double R Productions   2022-01-01             7000.0   \n",
       "\n",
       "      Domestic Gross  Worldwide Gross  Metascore  Meta UserScore  \n",
       "0         64604977.0     1.262050e+08    91.0000       86.000000  \n",
       "1        136479994.0     2.700074e+08   100.0000       93.000000  \n",
       "2         10462500.0     1.056718e+07   100.0000       87.000000  \n",
       "3         53369745.0     2.532679e+08    97.0000       89.000000  \n",
       "4        718732821.0     1.464400e+09    78.0000       84.000000  \n",
       "...              ...              ...        ...             ...  \n",
       "5101          7193.0     7.193000e+03    62.0000       67.400000  \n",
       "5102             0.0     0.000000e+00    55.6051       64.939799  \n",
       "5103        541636.0     6.029200e+05    35.0000       56.400000  \n",
       "5104             0.0     0.000000e+00    55.6051       64.939799  \n",
       "5105             0.0     0.000000e+00    51.0000       67.250000  \n",
       "\n",
       "[5106 rows x 14 columns]"
      ]
     },
     "execution_count": 5,
     "metadata": {},
     "output_type": "execute_result"
    }
   ],
   "source": [
    "data = pd.read_csv('../Data/preprocessed_data.csv')\n",
    "data"
   ]
  },
  {
   "cell_type": "markdown",
   "metadata": {},
   "source": [
    "<h1 id = \"questions\"> 2. Questions </h1>"
   ]
  },
  {
   "cell_type": "markdown",
   "metadata": {},
   "source": [
    "<h2 id = \"question1\"> 2.1 Question 1 </h2>\n",
    "\n",
    "**A Question:** \n",
    "What are the primary factors influencing critic and user scores?\n",
    "\n",
    "**Answering this question will help us:**\n",
    "- Identify key attributes that contribute to the success or failure of a movie.\n",
    "- Provide actionable insights for filmmakers to focus on elements that resonate with audiences and critics.\n",
    "- Guide marketing strategies by highlighting factors that improve reception, such as popular genres or directors.\n",
    "\n",
    "**How to answer:**\n",
    "    \n",
    "- This question seeks to identify the key variables or attributes that impact how critics and users rate movies. Factors may include:\n",
    "    - **Director and Cast:** Investigate whether specific directors or actors contribute to higher ratings.\n",
    "    - **Genre:** Determine if certain genres, such as drama or thriller, are more critically acclaimed.\n",
    "    - **Production Budget:** Explore whether higher budgets correlate with better ratings.\n",
    "    - **Release Time:** Assess seasonal trends, such as whether movies released during holidays tend to score higher.\n",
    "    - **Marketing and Promotion:** Examine if heavily marketed movies receive higher initial ratings.\n",
    "\n"
   ]
  },
  {
   "cell_type": "markdown",
   "metadata": {},
   "source": [
    "<h3 id = \"preprocessing1\">2.1.1 Preprocessing </h3>"
   ]
  },
  {
   "cell_type": "code",
   "execution_count": null,
   "metadata": {},
   "outputs": [],
   "source": []
  },
  {
   "cell_type": "markdown",
   "metadata": {},
   "source": [
    "<h3 id = \"analysis1\">2.1.2 Analysis </h3>"
   ]
  },
  {
   "cell_type": "code",
   "execution_count": null,
   "metadata": {},
   "outputs": [],
   "source": []
  },
  {
   "cell_type": "markdown",
   "metadata": {},
   "source": [
    "<h3 id = \"conclusion1\">2.1.3 Conclusion </h3>"
   ]
  },
  {
   "cell_type": "markdown",
   "metadata": {},
   "source": []
  },
  {
   "cell_type": "markdown",
   "metadata": {},
   "source": [
    "<h2 id = \"question2\"> 2.2 Question 2 </h2>\n",
    "\n",
    "**A Question:** \n",
    "How do financial metrics like budget and gross revenue correlate with ratings?\n",
    "\n",
    "**Answering this question will help us:**\n",
    "- Understand the financial aspects of movie success and how they align with audience and critic perceptions.\n",
    "- Determine whether investing in larger budgets leads to better reception or if profitability is independent of ratings.\n",
    "- Assist studios in balancing budget allocations with expectations for critical and commercial success.\n",
    "\n",
    "\n",
    "**How to answer:**\n",
    "    \n",
    "- This question aims to explore the relationship between a movie’s financial success and its ratings:\n",
    "    - **Budget vs. Ratings:** Investigate if higher production budgets lead to better critic or user scores.\n",
    "    - **Gross Revenue vs. Ratings:** Examine whether movies with higher box office earnings also receive higher scores.\n",
    "    - **Profitability (Revenue-to-Budget Ratio):** Determine if movies that are more profitable have better reception.\n",
    "    - **Variance Between Critics and Users:** Identify if financial success affects critic and user scores differently.\n"
   ]
  },
  {
   "cell_type": "markdown",
   "metadata": {},
   "source": [
    "<h3 id = \"preprocessing2\">2.2.1 Preprocessing </h3>"
   ]
  },
  {
   "cell_type": "code",
   "execution_count": null,
   "metadata": {},
   "outputs": [],
   "source": []
  },
  {
   "cell_type": "markdown",
   "metadata": {},
   "source": [
    "<h3 id = \"analysis2\">2.2.2 Analysis </h3>"
   ]
  },
  {
   "cell_type": "code",
   "execution_count": null,
   "metadata": {},
   "outputs": [],
   "source": []
  },
  {
   "cell_type": "markdown",
   "metadata": {},
   "source": [
    "<h3 id = \"conclusion2\">2.2.3 Conclusion </h3>"
   ]
  },
  {
   "cell_type": "markdown",
   "metadata": {},
   "source": []
  },
  {
   "cell_type": "markdown",
   "metadata": {},
   "source": [
    "<h2 id = \"question3\"> 2.3 Question 3 </h2>\n",
    "\n",
    "**A Question:** \n",
    "What genres tend to perform better in terms of critic and user scores?\n",
    "\n",
    "**Answering this question will help us:**\n",
    "- Identify which genres are most likely to be critically acclaimed or popular with audiences.\n",
    "- Provide insights into genre trends to inform production and marketing decisions.\n",
    "- Understand differences in tastes between critics and audiences for specific genres\n",
    "\n",
    "\n",
    "\n",
    "**How to answer:**\n",
    "    \n",
    "- This question focuses on genre-specific performance:\n",
    "    - **Critic Preference:** Determine which genres are more favored by critics.\n",
    "    - **User Preference:** Compare how user ratings differ from critic ratings for specific genres.\n",
    "    - **Consistency:** Identify genres with consistently high scores across multiple movies.\n",
    "    - **Cross-genre Analysis:** Explore if hybrid genres (e.g., sci-fi thrillers) tend to perform better than single-genre movies.\n"
   ]
  },
  {
   "cell_type": "markdown",
   "metadata": {},
   "source": [
    "<h3 id = \"preprocessing3\">2.3.1 Preprocessing </h3>"
   ]
  },
  {
   "cell_type": "code",
   "execution_count": null,
   "metadata": {},
   "outputs": [],
   "source": []
  },
  {
   "cell_type": "markdown",
   "metadata": {},
   "source": [
    "<h3 id = \"analysis3\">2.3.2 Analysis </h3>"
   ]
  },
  {
   "cell_type": "code",
   "execution_count": null,
   "metadata": {},
   "outputs": [],
   "source": []
  },
  {
   "cell_type": "markdown",
   "metadata": {},
   "source": [
    "<h3 id = \"conclusion3\">2.3.3 Conclusion </h3>"
   ]
  },
  {
   "cell_type": "markdown",
   "metadata": {},
   "source": []
  },
  {
   "cell_type": "markdown",
   "metadata": {},
   "source": [
    "<h2 id = \"question4\"> 2.4 Question 4 </h2>\n",
    "\n",
    "**A Question:** \n",
    "Are there trends in movie production and performance over time?\n",
    "\n",
    "**Answering this question will help us:**\n",
    "- Explore how the movie industry has evolved, including changes in production values and audience preferences.\n",
    "- Highlight patterns that can predict future trends in filmmaking and reception.\n",
    "- Understand the impact of technological and cultural shifts on movie ratings and performance.\n",
    "\n",
    "\n",
    "\n",
    "**How to answer:**\n",
    "    \n",
    "- This question examines the evolution of movies over years or decades:\n",
    "    - **Rating Trends:** Analyze how average critic and user scores have changed over time.\n",
    "    - **Genre Popularity:** Investigate shifts in the popularity of different genres.\n",
    "    - **Production Costs:** Study changes in average budgets and their impact on ratings.\n",
    "    - **Cultural and Social Trends:** Determine if societal changes influence movie themes and their reception."
   ]
  },
  {
   "cell_type": "markdown",
   "metadata": {},
   "source": [
    "<h3 id = \"preprocessing4\">2.4.1 Preprocessing </h3>"
   ]
  },
  {
   "cell_type": "code",
   "execution_count": null,
   "metadata": {},
   "outputs": [],
   "source": []
  },
  {
   "cell_type": "markdown",
   "metadata": {},
   "source": [
    "<h3 id = \"analysis4\">2.4.2 Analysis </h3>"
   ]
  },
  {
   "cell_type": "code",
   "execution_count": null,
   "metadata": {},
   "outputs": [],
   "source": []
  },
  {
   "cell_type": "markdown",
   "metadata": {},
   "source": [
    "<h3 id = \"conclusion4\">2.4.3 Conclusion </h3>"
   ]
  },
  {
   "cell_type": "markdown",
   "metadata": {},
   "source": []
  },
  {
   "cell_type": "markdown",
   "metadata": {},
   "source": [
    "<h2 id = \"question5\"> 2.5 Question 5 </h2>\n",
    "\n",
    "**A Question:** \n",
    "What genres tend to perform better in terms of critic and user scores?\n",
    "\n",
    "**Answering this question will help us:**\n",
    "- Understand how societal and cultural factors have shaped age ratings over the decades.\n",
    "- Identify patterns in how different genres are rated for audiences of various age groups.\n",
    "\n",
    "**How to answer:**\n",
    "    \n",
    "- This question explores the temporal changes and influences on movie age ratings:\n",
    "    - **Trends in Age Ratings:** Analyze whether movies have become more or less restricted over the years (e.g., shifts from G to PG-13 or R ratings).\n",
    "    - **Era-Specific Patterns:** Identify periods with stricter or more lenient age-rating standards.\n",
    "    - **Impact of Societal Norms:** Examine how changes in societal values and cultural sensitivity have influenced age ratings.\n",
    "    - **Genre-Specific Ratings:** Investigate whether certain genres (e.g., action, horror) have seen shifts toward stricter or looser ratings over time.\n"
   ]
  },
  {
   "cell_type": "markdown",
   "metadata": {},
   "source": [
    "<h3 id = \"preprocessing5\">2.5.1 Preprocessing </h3>"
   ]
  },
  {
   "cell_type": "code",
   "execution_count": null,
   "metadata": {},
   "outputs": [],
   "source": []
  },
  {
   "cell_type": "markdown",
   "metadata": {},
   "source": [
    "<h3 id = \"analysis5\">2.5.2 Analysis </h3>"
   ]
  },
  {
   "cell_type": "code",
   "execution_count": null,
   "metadata": {},
   "outputs": [],
   "source": []
  },
  {
   "cell_type": "markdown",
   "metadata": {},
   "source": [
    "<h3 id = \"conclusion4\">2.5.3 Conclusion </h3>"
   ]
  },
  {
   "cell_type": "markdown",
   "metadata": {},
   "source": []
  }
 ],
 "metadata": {
  "kernelspec": {
   "display_name": "Python 3",
   "language": "python",
   "name": "python3"
  },
  "language_info": {
   "codemirror_mode": {
    "name": "ipython",
    "version": 3
   },
   "file_extension": ".py",
   "mimetype": "text/x-python",
   "name": "python",
   "nbconvert_exporter": "python",
   "pygments_lexer": "ipython3",
   "version": "3.11.9"
  }
 },
 "nbformat": 4,
 "nbformat_minor": 2
}
