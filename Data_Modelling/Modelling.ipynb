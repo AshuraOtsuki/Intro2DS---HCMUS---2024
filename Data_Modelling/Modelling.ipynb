{
 "cells": [
  {
   "cell_type": "markdown",
   "metadata": {},
   "source": [
    "# Table of contents\n",
    "1. [Libraries](#libraries)\n",
    "2. [Question](#quesion)\n",
    "3. [Data Preparation](#preparation)\n",
    "4. [Modelling](#modelling)\n",
    "5. [Evaluation](#evaluation)"
   ]
  },
  {
   "cell_type": "markdown",
   "metadata": {},
   "source": [
    "<h1 id =\"libraries\">1. Libraries </h1>"
   ]
  },
  {
   "cell_type": "code",
   "execution_count": 1,
   "metadata": {},
   "outputs": [],
   "source": [
    "import numpy as np\n",
    "import matplotlib.pyplot as plt\n",
    "import pandas as pd\n",
    "import seaborn as sns\n",
    "from sklearn.model_selection import train_test_split\n",
    "from sklearn.feature_selection import SelectKBest, chi2, f_classif, f_regression\n"
   ]
  },
  {
   "cell_type": "markdown",
   "metadata": {},
   "source": [
    "<h1 id = \"question\">2. Question </h1>\n",
    "\n",
    "**A question:** Predict the gross of movies\n",
    "\n",
    "**Answering this question will help us:**"
   ]
  },
  {
   "cell_type": "markdown",
   "metadata": {},
   "source": [
    "<h1 id = 'preparation'>3. Data Preparation </h1>"
   ]
  },
  {
   "cell_type": "code",
   "execution_count": 2,
   "metadata": {},
   "outputs": [],
   "source": [
    "data = pd.read_csv('../Data/preprocessed_data.csv')"
   ]
  },
  {
   "cell_type": "code",
   "execution_count": 3,
   "metadata": {},
   "outputs": [],
   "source": [
    "data['Total Gross'] = data['Worldwide Gross'] + data['Domestic Gross']"
   ]
  },
  {
   "cell_type": "markdown",
   "metadata": {},
   "source": [
    "- Check the null values of economic column"
   ]
  },
  {
   "cell_type": "code",
   "execution_count": 4,
   "metadata": {},
   "outputs": [],
   "source": [
    "data.loc[data['Title'] == 'BenHur: A Tale of the Christ', 'Production Budget'] = 15000000\n",
    "data.loc[data['Title'] == 'BenHur: A Tale of the Christ', 'Total Gross'] = 3900000\n",
    "\n",
    "data.loc[data['Title'] == 'Wings', 'Production Budget'] = 2000000\n",
    "data.loc[data['Title'] == 'Wings', 'Total Gross'] = 1750000\n",
    "\n",
    "data.loc[data['Title'] == 'The Big Parade', 'Production Budget'] = 382000\n",
    "data.loc[data['Title'] == 'The Big Parade', 'Total Gross'] = 22000000\n"
   ]
  },
  {
   "cell_type": "markdown",
   "metadata": {},
   "source": [
    "- Check for skewness"
   ]
  },
  {
   "cell_type": "code",
   "execution_count": 5,
   "metadata": {},
   "outputs": [
    {
     "name": "stdout",
     "output_type": "stream",
     "text": [
      "Production Budget:  2.716845989217062\n",
      "Worldwide Gross:  4.833655536153712\n",
      "Domestic Gross:  3.845856866276893\n",
      "Total Gross:  4.528601604463278\n"
     ]
    }
   ],
   "source": [
    "# Check the skewness of production budget and worldwide/domestic gross\n",
    "print('Production Budget: ',data['Production Budget'].skew())\n",
    "print('Worldwide Gross: ', data['Worldwide Gross'].skew())\n",
    "print('Domestic Gross: ', data['Domestic Gross'].skew())\n",
    "print('Total Gross: ', data['Total Gross'].skew())"
   ]
  },
  {
   "cell_type": "markdown",
   "metadata": {},
   "source": [
    "As can be seen, the skewness in 3 economic features is heavily positively skewed, therefore we need to **log transform** these features. \n",
    "\n",
    "However, before log transform we will need to multiply the inflation rate of each year to have the accurate calculation and analysis"
   ]
  },
  {
   "cell_type": "markdown",
   "metadata": {},
   "source": [
    "- Multiply the inflation rate"
   ]
  },
  {
   "cell_type": "code",
   "execution_count": 6,
   "metadata": {},
   "outputs": [],
   "source": [
    "# Read the inflation data into a DataFrame\n",
    "inflation_data = pd.read_csv('../Data/inflation_rate.csv')\n",
    "\n",
    "# Create DataFrame for inflation data\n",
    "inflation_df = pd.DataFrame(inflation_data)\n",
    "\n",
    "data['Year'] = pd.to_datetime(data['Release Date']).dt.year\n",
    "\n",
    "# Merge inflation data with your movie data on 'Year'\n",
    "data = data.merge(inflation_df, on='Year', how='left')\n",
    "\n",
    "# Adjust the economic columns by dividing them by the 'Unit' (inflation adjustment factor)\n",
    "economic_features = ['Production Budget', 'Domestic Gross', 'Worldwide Gross', 'Total Gross']\n",
    "\n",
    "for feature in economic_features:\n",
    "    data[feature] = data[feature] * (data['Unit'] / data['Unit'].iloc[-1])\n",
    "\n",
    "# The adjusted columns will now reflect the true values after inflation adjustment"
   ]
  },
  {
   "cell_type": "markdown",
   "metadata": {},
   "source": [
    "- Apply log transformation"
   ]
  },
  {
   "cell_type": "code",
   "execution_count": 7,
   "metadata": {},
   "outputs": [],
   "source": [
    "data['Production Budget'] = (data['Production Budget'] + 1).apply(np.log)\n",
    "data['Worldwide Gross'] = (data['Worldwide Gross'] + 1).apply(np.log)\n",
    "data['Domestic Gross'] = (data['Domestic Gross'] + 1).apply(np.log)\n",
    "data['Total Gross'] = (data['Total Gross'] + 1).apply(np.log)"
   ]
  },
  {
   "cell_type": "code",
   "execution_count": 8,
   "metadata": {},
   "outputs": [
    {
     "name": "stdout",
     "output_type": "stream",
     "text": [
      "Production Budget:  -1.241663317451469\n",
      "Worldwide Gross:  -2.3151114555660994\n",
      "Domestic Gross:  -1.9259857971548238\n",
      "Total Gross:  -2.3703920346053122\n"
     ]
    }
   ],
   "source": [
    "# Check the skewness of production budget and worldwide/domestic gross\n",
    "print('Production Budget: ',data['Production Budget'].skew())\n",
    "print('Worldwide Gross: ', data['Worldwide Gross'].skew())\n",
    "print('Domestic Gross: ', data['Domestic Gross'].skew())\n",
    "print('Total Gross: ', data['Total Gross'].skew())"
   ]
  },
  {
   "cell_type": "markdown",
   "metadata": {},
   "source": [
    "After the transformation, the features now exhibit negative skewness, which is still acceptable for many regression models."
   ]
  },
  {
   "cell_type": "markdown",
   "metadata": {},
   "source": [
    "- One hot encoding for **`Genres`** and **`Rating`**"
   ]
  },
  {
   "cell_type": "code",
   "execution_count": 9,
   "metadata": {},
   "outputs": [],
   "source": [
    "import ast\n",
    "# One-hot encode the genre column\n",
    "data['Genre'] =  data['Genre'].apply(lambda x: ast.literal_eval(x) if isinstance(x, str) and x.startswith('[') else None)\n",
    "\n",
    "# Drop rows with missing values in the 'Genre' column\n",
    "data = data.dropna(subset=['Genre'])\n",
    "\n",
    "# One-hot encode the 'Genre' column and retain \"Genre_\" as a prefix\n",
    "genre_dummies = data['Genre'].str.join('|').str.get_dummies()\n",
    "genre_dummies.columns = ['Genre_' + col for col in genre_dummies.columns]  # Add \"Genre_\" prefix\n",
    "\n",
    "# Merge the one-hot encoded genres back into the dataframe\n",
    "data = data.drop('Genre', axis=1).join(genre_dummies)\n",
    "\n",
    "# One-hot encode the MPAA Rating column\n",
    "data = pd.get_dummies(data, columns=['Rating'], dtype=int)\n",
    "\n",
    "# One-hot encode the Studio column\n",
    "data = pd.get_dummies(data, columns=['Studio'], dtype=int)"
   ]
  },
  {
   "cell_type": "code",
   "execution_count": 10,
   "metadata": {},
   "outputs": [],
   "source": [
    "data['Mean UserScore'] = (data['Tomatoes UserScore']+data['Meta UserScore'])/2\n",
    "data['Mean CriticScore'] = (data['Tomatoes CriticScore']+data['Metascore'])/2\n",
    "\n",
    "data['Year'] = pd.to_datetime(data['Release Date']).dt.year\n",
    "data['Month'] = pd.to_datetime(data['Release Date']).dt.month\n",
    "\n",
    "X_train, X_test, y_train, y_test = train_test_split(data.drop('Total Gross', axis=1), data['Total Gross'], test_size=0.2, random_state=0)\n",
    "\n",
    "X_train = X_train[y_train.notna()]\n",
    "y_train = y_train[y_train.notna()]\n"
   ]
  },
  {
   "cell_type": "markdown",
   "metadata": {},
   "source": [
    "- **`Cast and Director`**\n",
    "    - As the domain information collected, the cost of these features are already included in **`Production Budget`**, therefore, we can remove these columns out of our current data"
   ]
  },
  {
   "cell_type": "code",
   "execution_count": 11,
   "metadata": {},
   "outputs": [
    {
     "data": {
      "text/html": [
       "<div>\n",
       "<style scoped>\n",
       "    .dataframe tbody tr th:only-of-type {\n",
       "        vertical-align: middle;\n",
       "    }\n",
       "\n",
       "    .dataframe tbody tr th {\n",
       "        vertical-align: top;\n",
       "    }\n",
       "\n",
       "    .dataframe thead th {\n",
       "        text-align: right;\n",
       "    }\n",
       "</style>\n",
       "<table border=\"1\" class=\"dataframe\">\n",
       "  <thead>\n",
       "    <tr style=\"text-align: right;\">\n",
       "      <th></th>\n",
       "      <th>Title</th>\n",
       "      <th>Tomatoes CriticScore</th>\n",
       "      <th>Tomatoes UserScore</th>\n",
       "      <th>Release Date</th>\n",
       "      <th>Production Budget</th>\n",
       "      <th>Domestic Gross</th>\n",
       "      <th>Worldwide Gross</th>\n",
       "      <th>Metascore</th>\n",
       "      <th>Meta UserScore</th>\n",
       "      <th>Total Gross</th>\n",
       "      <th>...</th>\n",
       "      <th>Studio_Zephyr Films</th>\n",
       "      <th>Studio_Zion Films, Inc.</th>\n",
       "      <th>Studio_eOne Films</th>\n",
       "      <th>Studio_here! Films</th>\n",
       "      <th>Studio_root</th>\n",
       "      <th>Studio_truTV</th>\n",
       "      <th>Studio_unafilm</th>\n",
       "      <th>Mean UserScore</th>\n",
       "      <th>Mean CriticScore</th>\n",
       "      <th>Month</th>\n",
       "    </tr>\n",
       "  </thead>\n",
       "  <tbody>\n",
       "    <tr>\n",
       "      <th>0</th>\n",
       "      <td>L.A. Confidential</td>\n",
       "      <td>99.000000</td>\n",
       "      <td>94.00000</td>\n",
       "      <td>1997-09-19</td>\n",
       "      <td>17.980850</td>\n",
       "      <td>18.593793</td>\n",
       "      <td>19.263409</td>\n",
       "      <td>91.0000</td>\n",
       "      <td>86.000000</td>\n",
       "      <td>19.676780</td>\n",
       "      <td>...</td>\n",
       "      <td>0</td>\n",
       "      <td>0</td>\n",
       "      <td>0</td>\n",
       "      <td>0</td>\n",
       "      <td>0</td>\n",
       "      <td>0</td>\n",
       "      <td>0</td>\n",
       "      <td>90.00000</td>\n",
       "      <td>95.000000</td>\n",
       "      <td>9</td>\n",
       "    </tr>\n",
       "    <tr>\n",
       "      <th>1</th>\n",
       "      <td>The Godfather</td>\n",
       "      <td>97.000000</td>\n",
       "      <td>98.00000</td>\n",
       "      <td>1972-03-15</td>\n",
       "      <td>17.702056</td>\n",
       "      <td>20.672324</td>\n",
       "      <td>21.354595</td>\n",
       "      <td>100.0000</td>\n",
       "      <td>93.000000</td>\n",
       "      <td>21.763699</td>\n",
       "      <td>...</td>\n",
       "      <td>0</td>\n",
       "      <td>0</td>\n",
       "      <td>0</td>\n",
       "      <td>0</td>\n",
       "      <td>0</td>\n",
       "      <td>0</td>\n",
       "      <td>0</td>\n",
       "      <td>95.50000</td>\n",
       "      <td>98.500000</td>\n",
       "      <td>3</td>\n",
       "    </tr>\n",
       "    <tr>\n",
       "      <th>2</th>\n",
       "      <td>Casablanca</td>\n",
       "      <td>99.000000</td>\n",
       "      <td>95.00000</td>\n",
       "      <td>1943-01-23</td>\n",
       "      <td>16.686983</td>\n",
       "      <td>18.996521</td>\n",
       "      <td>19.006477</td>\n",
       "      <td>100.0000</td>\n",
       "      <td>87.000000</td>\n",
       "      <td>19.694659</td>\n",
       "      <td>...</td>\n",
       "      <td>0</td>\n",
       "      <td>0</td>\n",
       "      <td>0</td>\n",
       "      <td>0</td>\n",
       "      <td>0</td>\n",
       "      <td>0</td>\n",
       "      <td>0</td>\n",
       "      <td>91.00000</td>\n",
       "      <td>99.500000</td>\n",
       "      <td>1</td>\n",
       "    </tr>\n",
       "    <tr>\n",
       "      <th>3</th>\n",
       "      <td>Parasite</td>\n",
       "      <td>99.000000</td>\n",
       "      <td>90.00000</td>\n",
       "      <td>2019-05-30</td>\n",
       "      <td>16.428409</td>\n",
       "      <td>17.937554</td>\n",
       "      <td>19.494757</td>\n",
       "      <td>97.0000</td>\n",
       "      <td>89.000000</td>\n",
       "      <td>19.685976</td>\n",
       "      <td>...</td>\n",
       "      <td>0</td>\n",
       "      <td>0</td>\n",
       "      <td>0</td>\n",
       "      <td>0</td>\n",
       "      <td>0</td>\n",
       "      <td>0</td>\n",
       "      <td>0</td>\n",
       "      <td>89.50000</td>\n",
       "      <td>98.000000</td>\n",
       "      <td>5</td>\n",
       "    </tr>\n",
       "    <tr>\n",
       "      <th>4</th>\n",
       "      <td>Top Gun: Maverick</td>\n",
       "      <td>96.000000</td>\n",
       "      <td>99.00000</td>\n",
       "      <td>2022-05-20</td>\n",
       "      <td>18.951309</td>\n",
       "      <td>20.393000</td>\n",
       "      <td>21.104712</td>\n",
       "      <td>78.0000</td>\n",
       "      <td>84.000000</td>\n",
       "      <td>21.504027</td>\n",
       "      <td>...</td>\n",
       "      <td>0</td>\n",
       "      <td>0</td>\n",
       "      <td>0</td>\n",
       "      <td>0</td>\n",
       "      <td>0</td>\n",
       "      <td>0</td>\n",
       "      <td>0</td>\n",
       "      <td>91.50000</td>\n",
       "      <td>87.000000</td>\n",
       "      <td>5</td>\n",
       "    </tr>\n",
       "    <tr>\n",
       "      <th>...</th>\n",
       "      <td>...</td>\n",
       "      <td>...</td>\n",
       "      <td>...</td>\n",
       "      <td>...</td>\n",
       "      <td>...</td>\n",
       "      <td>...</td>\n",
       "      <td>...</td>\n",
       "      <td>...</td>\n",
       "      <td>...</td>\n",
       "      <td>...</td>\n",
       "      <td>...</td>\n",
       "      <td>...</td>\n",
       "      <td>...</td>\n",
       "      <td>...</td>\n",
       "      <td>...</td>\n",
       "      <td>...</td>\n",
       "      <td>...</td>\n",
       "      <td>...</td>\n",
       "      <td>...</td>\n",
       "      <td>...</td>\n",
       "      <td>...</td>\n",
       "    </tr>\n",
       "    <tr>\n",
       "      <th>5101</th>\n",
       "      <td>Antarctic Edge: 70 South</td>\n",
       "      <td>57.000000</td>\n",
       "      <td>50.00000</td>\n",
       "      <td>2015-04-17</td>\n",
       "      <td>12.146250</td>\n",
       "      <td>9.108828</td>\n",
       "      <td>9.108828</td>\n",
       "      <td>62.0000</td>\n",
       "      <td>67.400000</td>\n",
       "      <td>9.801920</td>\n",
       "      <td>...</td>\n",
       "      <td>0</td>\n",
       "      <td>0</td>\n",
       "      <td>0</td>\n",
       "      <td>0</td>\n",
       "      <td>0</td>\n",
       "      <td>0</td>\n",
       "      <td>0</td>\n",
       "      <td>58.70000</td>\n",
       "      <td>59.500000</td>\n",
       "      <td>4</td>\n",
       "    </tr>\n",
       "    <tr>\n",
       "      <th>5102</th>\n",
       "      <td>8 Days to Hell</td>\n",
       "      <td>58.367886</td>\n",
       "      <td>62.45744</td>\n",
       "      <td>2021-07-30</td>\n",
       "      <td>11.576056</td>\n",
       "      <td>0.000000</td>\n",
       "      <td>0.000000</td>\n",
       "      <td>55.6051</td>\n",
       "      <td>64.939799</td>\n",
       "      <td>0.000000</td>\n",
       "      <td>...</td>\n",
       "      <td>0</td>\n",
       "      <td>0</td>\n",
       "      <td>0</td>\n",
       "      <td>0</td>\n",
       "      <td>0</td>\n",
       "      <td>0</td>\n",
       "      <td>0</td>\n",
       "      <td>63.69862</td>\n",
       "      <td>56.986493</td>\n",
       "      <td>7</td>\n",
       "    </tr>\n",
       "    <tr>\n",
       "      <th>5103</th>\n",
       "      <td>20 Dates</td>\n",
       "      <td>35.000000</td>\n",
       "      <td>47.00000</td>\n",
       "      <td>1999-02-26</td>\n",
       "      <td>11.664962</td>\n",
       "      <td>13.769894</td>\n",
       "      <td>13.877084</td>\n",
       "      <td>35.0000</td>\n",
       "      <td>56.400000</td>\n",
       "      <td>14.518071</td>\n",
       "      <td>...</td>\n",
       "      <td>0</td>\n",
       "      <td>0</td>\n",
       "      <td>0</td>\n",
       "      <td>0</td>\n",
       "      <td>0</td>\n",
       "      <td>0</td>\n",
       "      <td>0</td>\n",
       "      <td>51.70000</td>\n",
       "      <td>35.000000</td>\n",
       "      <td>2</td>\n",
       "    </tr>\n",
       "    <tr>\n",
       "      <th>5104</th>\n",
       "      <td>Happy 40th</td>\n",
       "      <td>58.367886</td>\n",
       "      <td>62.45744</td>\n",
       "      <td>2015-03-01</td>\n",
       "      <td>10.690980</td>\n",
       "      <td>0.000000</td>\n",
       "      <td>0.000000</td>\n",
       "      <td>55.6051</td>\n",
       "      <td>64.939799</td>\n",
       "      <td>0.000000</td>\n",
       "      <td>...</td>\n",
       "      <td>0</td>\n",
       "      <td>0</td>\n",
       "      <td>0</td>\n",
       "      <td>0</td>\n",
       "      <td>0</td>\n",
       "      <td>0</td>\n",
       "      <td>0</td>\n",
       "      <td>63.69862</td>\n",
       "      <td>56.986493</td>\n",
       "      <td>3</td>\n",
       "    </tr>\n",
       "    <tr>\n",
       "      <th>5105</th>\n",
       "      <td>Red 11</td>\n",
       "      <td>67.000000</td>\n",
       "      <td>67.00000</td>\n",
       "      <td>2022-03-01</td>\n",
       "      <td>8.853808</td>\n",
       "      <td>0.000000</td>\n",
       "      <td>0.000000</td>\n",
       "      <td>51.0000</td>\n",
       "      <td>67.250000</td>\n",
       "      <td>0.000000</td>\n",
       "      <td>...</td>\n",
       "      <td>0</td>\n",
       "      <td>0</td>\n",
       "      <td>0</td>\n",
       "      <td>0</td>\n",
       "      <td>0</td>\n",
       "      <td>0</td>\n",
       "      <td>0</td>\n",
       "      <td>67.12500</td>\n",
       "      <td>59.000000</td>\n",
       "      <td>3</td>\n",
       "    </tr>\n",
       "  </tbody>\n",
       "</table>\n",
       "<p>5065 rows × 1209 columns</p>\n",
       "</div>"
      ],
      "text/plain": [
       "                         Title  Tomatoes CriticScore  Tomatoes UserScore  \\\n",
       "0            L.A. Confidential             99.000000            94.00000   \n",
       "1                The Godfather             97.000000            98.00000   \n",
       "2                   Casablanca             99.000000            95.00000   \n",
       "3                     Parasite             99.000000            90.00000   \n",
       "4            Top Gun: Maverick             96.000000            99.00000   \n",
       "...                        ...                   ...                 ...   \n",
       "5101  Antarctic Edge: 70 South             57.000000            50.00000   \n",
       "5102            8 Days to Hell             58.367886            62.45744   \n",
       "5103                  20 Dates             35.000000            47.00000   \n",
       "5104                Happy 40th             58.367886            62.45744   \n",
       "5105                    Red 11             67.000000            67.00000   \n",
       "\n",
       "     Release Date  Production Budget  Domestic Gross  Worldwide Gross  \\\n",
       "0      1997-09-19          17.980850       18.593793        19.263409   \n",
       "1      1972-03-15          17.702056       20.672324        21.354595   \n",
       "2      1943-01-23          16.686983       18.996521        19.006477   \n",
       "3      2019-05-30          16.428409       17.937554        19.494757   \n",
       "4      2022-05-20          18.951309       20.393000        21.104712   \n",
       "...           ...                ...             ...              ...   \n",
       "5101   2015-04-17          12.146250        9.108828         9.108828   \n",
       "5102   2021-07-30          11.576056        0.000000         0.000000   \n",
       "5103   1999-02-26          11.664962       13.769894        13.877084   \n",
       "5104   2015-03-01          10.690980        0.000000         0.000000   \n",
       "5105   2022-03-01           8.853808        0.000000         0.000000   \n",
       "\n",
       "      Metascore  Meta UserScore  Total Gross  ...  Studio_Zephyr Films  \\\n",
       "0       91.0000       86.000000    19.676780  ...                    0   \n",
       "1      100.0000       93.000000    21.763699  ...                    0   \n",
       "2      100.0000       87.000000    19.694659  ...                    0   \n",
       "3       97.0000       89.000000    19.685976  ...                    0   \n",
       "4       78.0000       84.000000    21.504027  ...                    0   \n",
       "...         ...             ...          ...  ...                  ...   \n",
       "5101    62.0000       67.400000     9.801920  ...                    0   \n",
       "5102    55.6051       64.939799     0.000000  ...                    0   \n",
       "5103    35.0000       56.400000    14.518071  ...                    0   \n",
       "5104    55.6051       64.939799     0.000000  ...                    0   \n",
       "5105    51.0000       67.250000     0.000000  ...                    0   \n",
       "\n",
       "      Studio_Zion Films, Inc.  Studio_eOne Films  Studio_here! Films  \\\n",
       "0                           0                  0                   0   \n",
       "1                           0                  0                   0   \n",
       "2                           0                  0                   0   \n",
       "3                           0                  0                   0   \n",
       "4                           0                  0                   0   \n",
       "...                       ...                ...                 ...   \n",
       "5101                        0                  0                   0   \n",
       "5102                        0                  0                   0   \n",
       "5103                        0                  0                   0   \n",
       "5104                        0                  0                   0   \n",
       "5105                        0                  0                   0   \n",
       "\n",
       "      Studio_root  Studio_truTV  Studio_unafilm  Mean UserScore  \\\n",
       "0               0             0               0        90.00000   \n",
       "1               0             0               0        95.50000   \n",
       "2               0             0               0        91.00000   \n",
       "3               0             0               0        89.50000   \n",
       "4               0             0               0        91.50000   \n",
       "...           ...           ...             ...             ...   \n",
       "5101            0             0               0        58.70000   \n",
       "5102            0             0               0        63.69862   \n",
       "5103            0             0               0        51.70000   \n",
       "5104            0             0               0        63.69862   \n",
       "5105            0             0               0        67.12500   \n",
       "\n",
       "      Mean CriticScore  Month  \n",
       "0            95.000000      9  \n",
       "1            98.500000      3  \n",
       "2            99.500000      1  \n",
       "3            98.000000      5  \n",
       "4            87.000000      5  \n",
       "...                ...    ...  \n",
       "5101         59.500000      4  \n",
       "5102         56.986493      7  \n",
       "5103         35.000000      2  \n",
       "5104         56.986493      3  \n",
       "5105         59.000000      3  \n",
       "\n",
       "[5065 rows x 1209 columns]"
      ]
     },
     "execution_count": 11,
     "metadata": {},
     "output_type": "execute_result"
    }
   ],
   "source": [
    "data.drop(columns=['Cast', 'Director'])"
   ]
  },
  {
   "cell_type": "markdown",
   "metadata": {},
   "source": [
    "- Feature selection for numerical columns"
   ]
  },
  {
   "cell_type": "code",
   "execution_count": 12,
   "metadata": {},
   "outputs": [
    {
     "data": {
      "image/png": "[encoded data removed]",
      "text/plain": [
       "<Figure size 1000x600 with 1 Axes>"
      ]
     },
     "metadata": {},
     "output_type": "display_data"
    }
   ],
   "source": [
    "from sklearn.feature_selection import f_classif\n",
    "\n",
    "\n",
    "numerical_columns = ['Production Budget', 'Mean UserScore', 'Mean CriticScore', 'Year', 'Month']\n",
    "X_numerical = X_train[numerical_columns]  # Use column names directly\n",
    "\n",
    "# Fit SelectKBest with chi2\n",
    "selector = SelectKBest(f_classif, k=3)\n",
    "selector.fit(X_numerical, y_train)\n",
    "\n",
    "# Get Chi2 scores\n",
    "scores = pd.DataFrame(data=selector.scores_, index=numerical_columns, columns=['score'])\n",
    "scores = scores.sort_values(by='score', ascending=False)\n",
    "\n",
    "# Plotting the scores using a barplot\n",
    "plt.figure(figsize=(10, 6))\n",
    "sns.heatmap(scores, annot=True, cmap='coolwarm', cbar=False, linewidths=0.5)\n",
    "plt.title('ANOVA Test Feature Selection Scores')\n",
    "plt.xlabel('ANOVA Score')\n",
    "plt.ylabel('Features')\n",
    "plt.tight_layout()\n",
    "plt.show()\n"
   ]
  },
  {
   "cell_type": "markdown",
   "metadata": {},
   "source": [
    "Since **`Mean CriticScore`**, **`Month`** and **`Mean UserScore`** have high values, so we will use it form modelling"
   ]
  },
  {
   "cell_type": "markdown",
   "metadata": {},
   "source": [
    "- Feature selection for categorical columns"
   ]
  },
  {
   "cell_type": "code",
   "execution_count": 13,
   "metadata": {},
   "outputs": [
    {
     "data": {
      "image/png": "[encoded data removed]",
      "text/plain": [
       "<Figure size 1000x1000 with 1 Axes>"
      ]
     },
     "metadata": {},
     "output_type": "display_data"
    }
   ],
   "source": [
    "# # Loại bỏ các hàng trong X_train và y_train mà y_train chứa NaN\n",
    "\n",
    "# Get all genre columns\n",
    "genre_columns = [col for col in X_train.columns if 'Genre' in col]\n",
    "\n",
    "# Get all rating columns\n",
    "rating_columns = [col for col in X_train.columns if 'Rating' in col]\n",
    "\n",
    "studio_columns = [col for col in X_train.columns if 'Studio' in col]\n",
    "\n",
    "# Put all genre and rating columns together\n",
    "categorical_columns = genre_columns + rating_columns + studio_columns\n",
    "\n",
    "X_categorical = X_train[categorical_columns]  # Use column names directly\n",
    "X_categorical = X_categorical.fillna(0)\n",
    "\n",
    "# Fit SelectKBest with chi2\n",
    "selector = SelectKBest(f_regression, k=5)\n",
    "selector.fit(X_categorical, y_train)\n",
    "\n",
    "# Get Chi2 scores\n",
    "scores = pd.DataFrame(data=selector.scores_, index=categorical_columns, columns=['score'])\n",
    "scores = scores.sort_values(by='score', ascending=False)\n",
    "\n",
    "# Get the top 5 categorical features\n",
    "top_5_categorical = scores.index[:5].tolist()\n",
    "\n",
    "# Plotting the scores using a barplot\n",
    "plt.figure(figsize=(10, 10))\n",
    "sns.heatmap(scores.head(5), annot=True, cmap='coolwarm', cbar=False, linewidths=0.5)\n",
    "plt.title('F-Regression Test Feature Selection Scores')\n",
    "plt.xlabel('F-Regression Score')\n",
    "plt.ylabel('Features')\n",
    "plt.tight_layout()\n",
    "plt.show()\n"
   ]
  },
  {
   "cell_type": "markdown",
   "metadata": {},
   "source": [
    "As can be seen from the plot, some members of 3 chosen categorical columns shows up in top 5 F-Regression Score, therefor we will need to include all these columns for modelling"
   ]
  },
  {
   "cell_type": "code",
   "execution_count": 14,
   "metadata": {},
   "outputs": [],
   "source": [
    "X_train = X_train[numerical_columns + categorical_columns]\n",
    "X_test = X_test[numerical_columns + categorical_columns]"
   ]
  },
  {
   "cell_type": "markdown",
   "metadata": {},
   "source": [
    "<h1 id =\"modelling\">4. Modelling </h1>"
   ]
  },
  {
   "cell_type": "code",
   "execution_count": 15,
   "metadata": {},
   "outputs": [],
   "source": [
    "from sklearn.preprocessing import StandardScaler\n",
    "from sklearn.pipeline import Pipeline\n",
    "from sklearn.linear_model import LinearRegression\n",
    "from sklearn.metrics import mean_squared_error, r2_score, mean_absolute_error\n",
    "from xgboost import XGBRegressor\n",
    "from sklearn.model_selection import KFold, cross_val_score\n",
    "from sklearn.metrics import accuracy_score\n",
    "from sklearn.tree import DecisionTreeRegressor\n",
    "from sklearn.model_selection import GridSearchCV"
   ]
  },
  {
   "cell_type": "markdown",
   "metadata": {},
   "source": [
    "- XGBoost"
   ]
  },
  {
   "cell_type": "code",
   "execution_count": 16,
   "metadata": {},
   "outputs": [
    {
     "name": "stdout",
     "output_type": "stream",
     "text": [
      "MSE:  11.467656258223657\n",
      "R2:  0.4492656170387286\n",
      "MAE:  1.8787186910236067\n"
     ]
    }
   ],
   "source": [
    "xgb = XGBRegressor(n_estimators=100, learning_rate=0.1, random_state=0)\n",
    "pipeline_xgb = Pipeline(steps=[('scaler', StandardScaler()), ('model', xgb)])\n",
    "pipeline_xgb.fit(X_train, y_train)\n",
    "# Using k-fold cross-validation to evaluate the model\n",
    "y_pred = pipeline_xgb.predict(X_test)\n",
    "mse = mean_squared_error(y_test, y_pred)\n",
    "r2 = r2_score(y_test, y_pred)\n",
    "mae = mean_absolute_error(y_test, y_pred)\n",
    "print('MSE: ', mse)\n",
    "print('R2: ', r2)\n",
    "print('MAE: ', mae)\n"
   ]
  },
  {
   "cell_type": "markdown",
   "metadata": {},
   "source": [
    "- XGBoost with GridSearchCV"
   ]
  },
  {
   "cell_type": "code",
   "execution_count": 18,
   "metadata": {},
   "outputs": [
    {
     "name": "stdout",
     "output_type": "stream",
     "text": [
      "Fitting 3 folds for each of 5 candidates, totalling 15 fits\n",
      "Best Hyperparameters:  {'model__colsample_bytree': 0.8434229951084112, 'model__learning_rate': 0.03322664705781082, 'model__max_depth': 5, 'model__n_estimators': 500, 'model__reg_alpha': 0, 'model__reg_lambda': 0.1, 'model__subsample': 0.9894814746931637}\n",
      "Cross-Validation MSE scores: [-12.25800207 -11.59620658 -12.98642509 -14.08812392 -12.30526846]\n",
      "Mean Cross-Validation MSE: -12.646805223192347\n",
      "Test MSE:  11.344477133054301\n",
      "Test R2:  0.4551812965783213\n",
      "Test MAE:  1.8646733369946173\n"
     ]
    }
   ],
   "source": [
    "from sklearn.model_selection import GridSearchCV, cross_val_score, train_test_split\n",
    "from sklearn.metrics import mean_squared_error, r2_score, mean_absolute_error\n",
    "from sklearn.pipeline import Pipeline\n",
    "from sklearn.preprocessing import StandardScaler\n",
    "from xgboost import XGBRegressor\n",
    "import numpy as np\n",
    "\n",
    "# Define the model\n",
    "xgb = XGBRegressor(random_state=0, objective='reg:squarederror')\n",
    "\n",
    "# Create the pipeline\n",
    "pipeline_xgb = Pipeline(steps=[('scaler', StandardScaler()), ('model', xgb)])\n",
    "\n",
    "# Hyperparameter tuning with GridSearchCV\n",
    "from sklearn.model_selection import RandomizedSearchCV\n",
    "from scipy.stats import uniform\n",
    "\n",
    "# Define the parameter grid with random distributions\n",
    "param_dist = {\n",
    "    'model__n_estimators': [100, 200, 500],\n",
    "    'model__learning_rate': uniform(0.01, 0.1),\n",
    "    'model__max_depth': [3, 5, 7],\n",
    "    'model__subsample': uniform(0.7, 0.3),\n",
    "    'model__colsample_bytree': uniform(0.7, 0.3),\n",
    "    'model__reg_alpha': [0, 0.1],\n",
    "    'model__reg_lambda': [0, 0.1]\n",
    "}\n",
    "\n",
    "# Run RandomizedSearchCV with 5 iterations\n",
    "random_search = RandomizedSearchCV(pipeline_xgb, param_distributions=param_dist, n_iter=5, cv=3, scoring='neg_mean_squared_error', verbose=1)\n",
    "random_search.fit(X_train, y_train)\n",
    "\n",
    "\n",
    "# Best parameters found by GridSearchCV\n",
    "print(\"Best Hyperparameters: \", random_search.best_params_)\n",
    "\n",
    "# Get the best model\n",
    "best_model = random_search.best_estimator_\n",
    "\n",
    "# Use k-fold cross-validation to evaluate the model\n",
    "cv_scores = cross_val_score(best_model, X_train, y_train, cv=5, scoring='neg_mean_squared_error')\n",
    "print(f'Cross-Validation MSE scores: {cv_scores}')\n",
    "print(f'Mean Cross-Validation MSE: {np.mean(cv_scores)}')\n",
    "\n",
    "# Using the model to predict on the test set\n",
    "y_pred = best_model.predict(X_test)\n",
    "\n",
    "# Evaluate the model\n",
    "mse = mean_squared_error(y_test, y_pred)\n",
    "r2 = r2_score(y_test, y_pred)\n",
    "mae = mean_absolute_error(y_test, y_pred)\n",
    "\n",
    "print('Test MSE: ', mse)\n",
    "print('Test R2: ', r2)\n",
    "print('Test MAE: ', mae)\n"
   ]
  },
  {
   "cell_type": "markdown",
   "metadata": {},
   "source": [
    "- Decision Tree Regressor"
   ]
  },
  {
   "cell_type": "code",
   "execution_count": null,
   "metadata": {},
   "outputs": [
    {
     "name": "stdout",
     "output_type": "stream",
     "text": [
      "MSE:  20.403991510278388\n",
      "R2:  0.020097967594572053\n",
      "MAE:  2.372480506249262\n"
     ]
    }
   ],
   "source": [
    "dcs = DecisionTreeRegressor(random_state=0)\n",
    "pipeline = Pipeline(steps=[('scaler', StandardScaler()), ('model', dcs)])\n",
    "pipeline.fit(X_train, y_train)\n",
    "# Using k-fold cross-validation to evaluate the model\n",
    "y_pred = pipeline.predict(X_test)\n",
    "mse = mean_squared_error(y_test, y_pred)\n",
    "r2 = r2_score(y_test, y_pred)\n",
    "mae = mean_absolute_error(y_test, y_pred)\n",
    "print('MSE: ', mse)\n",
    "print('R2: ', r2)\n",
    "print('MAE: ', mae)"
   ]
  }
 ],
 "metadata": {
  "kernelspec": {
   "display_name": "Python 3",
   "language": "python",
   "name": "python3"
  },
  "language_info": {
   "codemirror_mode": {
    "name": "ipython",
    "version": 3
   },
   "file_extension": ".py",
   "mimetype": "text/x-python",
   "name": "python",
   "nbconvert_exporter": "python",
   "pygments_lexer": "ipython3",
   "version": "3.11.9"
  }
 },
 "nbformat": 4,
 "nbformat_minor": 2
}
