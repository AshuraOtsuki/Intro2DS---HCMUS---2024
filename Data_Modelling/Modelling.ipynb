{
  "cells": [
    {
      "cell_type": "markdown",
      "metadata": {
        "id": "-yZGKAZheOFm"
      },
      "source": [
        "# Table of contents\n",
        "1. [Libraries](#libraries)\n",
        "2. [Question](#quesion)\n",
        "3. [Data Preparation](#preparation)\n",
        "4. [Modelling](#modelling)\n",
        "5. [Evaluation](#evaluation)"
      ]
    },
    {
      "cell_type": "markdown",
      "metadata": {
        "id": "7HoTNE89eOFo"
      },
      "source": [
        "<h1 id =\"libraries\">1. Libraries </h1>"
      ]
    },
    {
      "cell_type": "code",
      "execution_count": 357,
      "metadata": {
        "id": "CdWGOC7ZeOFp"
      },
      "outputs": [],
      "source": [
        "import numpy as np\n",
        "import matplotlib.pyplot as plt\n",
        "import pandas as pd\n",
        "import seaborn as sns\n",
        "from sklearn.model_selection import train_test_split\n",
        "from sklearn.feature_selection import SelectKBest, chi2, f_classif, f_regression\n",
        "from sklearn.compose import ColumnTransformer\n",
        "from sklearn.pipeline import Pipeline\n",
        "from sklearn.preprocessing import StandardScaler, OneHotEncoder\n",
        "from sklearn.metrics import mean_squared_error, r2_score, mean_absolute_error\n",
        "from xgboost import XGBRegressor\n",
        "from sklearn.model_selection import KFold, cross_val_score\n",
        "from sklearn.metrics import accuracy_score\n",
        "from sklearn.impute import SimpleImputer\n",
        "\n",
        "from sklearn.neighbors import KNeighborsRegressor\n",
        "from sklearn.tree import DecisionTreeRegressor\n",
        "from sklearn.ensemble import RandomForestRegressor"
      ]
    },
    {
      "cell_type": "markdown",
      "metadata": {
        "id": "20_VnvbJeOFp"
      },
      "source": [
        "<h1 id = \"question\">2. Question </h1>\n",
        "\n",
        "**A question:** Predict the gross of movies\n",
        "\n",
        "**Answering this question will help us:**"
      ]
    },
    {
      "cell_type": "markdown",
      "metadata": {
        "id": "s0ED9g6qeOFq"
      },
      "source": [
        "<h1 id = 'preparation'>3. Data Preparation </h1>"
      ]
    },
    {
      "cell_type": "code",
      "execution_count": 358,
      "metadata": {
        "id": "jSk-ZC1beOFq"
      },
      "outputs": [],
      "source": [
        "data = pd.read_csv('/content/preprocessed_data.csv')"
      ]
    },
    {
      "cell_type": "code",
      "execution_count": 359,
      "metadata": {
        "id": "GgvwbRqKeOFq"
      },
      "outputs": [],
      "source": [
        "data['Total Gross'] = data['Worldwide Gross'] + data['Domestic Gross']"
      ]
    },
    {
      "cell_type": "markdown",
      "metadata": {
        "id": "LqNFBKU2ZCfI"
      },
      "source": [
        "- Check for skewness"
      ]
    },
    {
      "cell_type": "code",
      "execution_count": 360,
      "metadata": {
        "colab": {
          "base_uri": "https://localhost:8080/"
        },
        "id": "7JBSM8g8ZCfI",
        "outputId": "c8501f31-58ea-4dac-eb78-0952632bd1a9"
      },
      "outputs": [
        {
          "name": "stdout",
          "output_type": "stream",
          "text": [
            "Production Budget:  2.716733700616222\n",
            "Worldwide Gross:  4.833655536153712\n",
            "Domestic Gross:  3.845856866276893\n",
            "Total Gross:  4.528670983843642\n"
          ]
        }
      ],
      "source": [
        "# Check the skewness of production budget and worldwide/domestic gross\n",
        "print('Production Budget: ',data['Production Budget'].skew())\n",
        "print('Worldwide Gross: ', data['Worldwide Gross'].skew())\n",
        "print('Domestic Gross: ', data['Domestic Gross'].skew())\n",
        "print('Total Gross: ', data['Total Gross'].skew())"
      ]
    },
    {
      "cell_type": "markdown",
      "metadata": {
        "id": "26F5jqBZZCfJ"
      },
      "source": [
        "As can be seen, the skewness in 3 economic features is heavily positively skewed, therefore we need to **log transform** these features.\n",
        "\n",
        "However, before log transform we will need to multiply the inflation rate of each year to have the accurate calculation and analysis"
      ]
    },
    {
      "cell_type": "markdown",
      "metadata": {
        "id": "ogscpFLFZCfJ"
      },
      "source": [
        "- Multiply the inflation rate"
      ]
    },
    {
      "cell_type": "code",
      "execution_count": 361,
      "metadata": {
        "id": "VoryM06cZCfJ"
      },
      "outputs": [],
      "source": [
        "inflation_data = pd.read_csv('/content/inflation_rate.csv')\n",
        "def get_unit(year):\n",
        "    if year in inflation_data['Year'].values:\n",
        "        return float(inflation_data[inflation_data['Year'] == year]['Unit'].iloc[0])\n",
        "    else:\n",
        "        return 1\n",
        "\n",
        "data['Year'] = pd.to_datetime(data['Release Date']).dt.year\n",
        "data['Month'] = pd.to_datetime(data['Release Date']).dt.month\n",
        "data['Unit'] = data['Year'].apply(get_unit)\n",
        "\n",
        "# Adjust the economic columns by dividing them by the 'Unit' (inflation adjustment factor)\n",
        "economic_features = ['Production Budget', 'Domestic Gross', 'Worldwide Gross', 'Total Gross']\n",
        "\n",
        "for feature in economic_features:\n",
        "    data[feature] = data[feature] * (data['Unit'] / data['Unit'].iloc[-1])"
      ]
    },
    {
      "cell_type": "markdown",
      "metadata": {
        "id": "LF2C2teOeOFs"
      },
      "source": [
        "- Apply log transformation"
      ]
    },
    {
      "cell_type": "code",
      "execution_count": 362,
      "metadata": {
        "id": "7bsLQr56eOFs"
      },
      "outputs": [],
      "source": [
        "data['Production Budget'] = (data['Production Budget'] + 1).apply(np.log)\n",
        "data['Worldwide Gross'] = (data['Worldwide Gross'] + 1).apply(np.log)\n",
        "data['Domestic Gross'] = (data['Domestic Gross'] + 1).apply(np.log)\n",
        "data['Total Gross'] = (data['Total Gross'] + 1).apply(np.log)"
      ]
    },
    {
      "cell_type": "code",
      "execution_count": 363,
      "metadata": {
        "colab": {
          "base_uri": "https://localhost:8080/"
        },
        "id": "hsdXPv7VZCfK",
        "outputId": "8709ae0c-c1b4-4420-8816-a02fd0b65eb9"
      },
      "outputs": [
        {
          "name": "stdout",
          "output_type": "stream",
          "text": [
            "Production Budget:  -1.2385073021159054\n",
            "Worldwide Gross:  -2.309653698508934\n",
            "Domestic Gross:  -1.9215609957312432\n",
            "Total Gross:  -2.3645574880844813\n"
          ]
        }
      ],
      "source": [
        "# Check the skewness of production budget and worldwide/domestic gross\n",
        "print('Production Budget: ',data['Production Budget'].skew())\n",
        "print('Worldwide Gross: ', data['Worldwide Gross'].skew())\n",
        "print('Domestic Gross: ', data['Domestic Gross'].skew())\n",
        "print('Total Gross: ', data['Total Gross'].skew())"
      ]
    },
    {
      "cell_type": "markdown",
      "metadata": {
        "id": "cIQTfwSYZCfK"
      },
      "source": [
        "After the transformation, the features now exhibit negative skewness, which is still acceptable for many regression models."
      ]
    },
    {
      "cell_type": "markdown",
      "metadata": {
        "id": "wIvmtv6UZCfK"
      },
      "source": [
        "- **`Cast and Director`**\n",
        "    - As the domain information collected, the cost of these features are already included in **`Production Budget`**, therefore, we can remove these columns out of our current data"
      ]
    },
    {
      "cell_type": "code",
      "execution_count": 364,
      "metadata": {
        "id": "QKRU3VPsfhYQ"
      },
      "outputs": [],
      "source": [
        "# data = data.drop(columns=['Cast', 'Director'])\n"
      ]
    },
    {
      "cell_type": "markdown",
      "metadata": {
        "id": "vfpnD-IkZCfK"
      },
      "source": [
        "- Check the distribution of Total Gross"
      ]
    },
    {
      "cell_type": "code",
      "execution_count": 365,
      "metadata": {
        "colab": {
          "base_uri": "https://localhost:8080/",
          "height": 582
        },
        "id": "qYx1pRbaZCfK",
        "outputId": "6462b239-f3c5-4d57-8b82-94d56de8c614"
      },
      "outputs": [
        {
          "data": {
            "text/plain": [
              "Text(0, 0.5, 'Frequency')"
            ]
          },
          "execution_count": 365,
          "metadata": {},
          "output_type": "execute_result"
        },
        {
          "data": {
            "image/png": "[encoded data removed]",
            "text/plain": [
              "<Figure size 1000x600 with 1 Axes>"
            ]
          },
          "metadata": {},
          "output_type": "display_data"
        }
      ],
      "source": [
        "# Plot the distribution of total gross revenue\n",
        "plt.figure(figsize=(10, 6))\n",
        "sns.histplot(data['Total Gross'], bins=30, kde=True)\n",
        "plt.title('Distribution of Total Gross Revenue')\n",
        "plt.xlabel('Total Gross Revenue')\n",
        "plt.ylabel('Frequency')"
      ]
    },
    {
      "cell_type": "markdown",
      "metadata": {
        "id": "4EG-c5b2ZCfK"
      },
      "source": [
        "Unexpectedly, there are a huge number of films that have revenue is 0, this can be because, some of films' revenues were not recorded. Therefore, we decided to delete movies having revenue equals to 0"
      ]
    },
    {
      "cell_type": "code",
      "execution_count": 366,
      "metadata": {
        "id": "1VIi6HXyZCfL"
      },
      "outputs": [],
      "source": [
        "data = data[data['Total Gross'] > 0]\n",
        "\n",
        "data = data.reset_index(drop=True)"
      ]
    },
    {
      "cell_type": "code",
      "execution_count": 367,
      "metadata": {
        "id": "rbLzoz_gZCfL"
      },
      "outputs": [],
      "source": [
        "numerical_features = ['Tomatoes CriticScore', 'Tomatoes UserScore',\n",
        "                      'Production Budget', 'Metascore', 'Meta UserScore', 'Month', 'Year']\n",
        "categorical_features = ['Genre', 'Rating', 'Studio', 'Cast', 'Director']\n",
        "\n",
        "\n",
        "X = data[numerical_features+categorical_features].copy()\n",
        "y = data['Total Gross'].copy()\n",
        "X_train, X_test, y_train, y_test = train_test_split(X, y, test_size=0.2, random_state=42)"
      ]
    },
    {
      "cell_type": "markdown",
      "metadata": {
        "id": "ta9MC8sPZCfL"
      },
      "source": [
        "- Feature selection for numerical columns"
      ]
    },
    {
      "cell_type": "code",
      "execution_count": 368,
      "metadata": {
        "colab": {
          "base_uri": "https://localhost:8080/",
          "height": 643
        },
        "id": "F6hmY0OoZCfL",
        "outputId": "7df7da7e-8ccf-4b0d-b25e-31c3a99c8550"
      },
      "outputs": [
        {
          "name": "stderr",
          "output_type": "stream",
          "text": [
            "/usr/local/lib/python3.10/dist-packages/sklearn/feature_selection/_univariate_selection.py:113: RuntimeWarning: divide by zero encountered in divide\n",
            "  f = msb / msw\n"
          ]
        },
        {
          "data": {
            "image/png": "[encoded data removed]",
            "text/plain": [
              "<Figure size 1000x600 with 1 Axes>"
            ]
          },
          "metadata": {},
          "output_type": "display_data"
        }
      ],
      "source": [
        "from sklearn.feature_selection import f_classif\n",
        "\n",
        "X_numerical = X_train[numerical_features]  # Use column names directly\n",
        "\n",
        "# Fit SelectKBest with chi2\n",
        "selector = SelectKBest(f_classif, k=5)\n",
        "selector.fit(X_numerical, y_train)\n",
        "\n",
        "# Get Chi2 scores\n",
        "scores = pd.DataFrame(data=selector.scores_, index=numerical_features, columns=['score'])\n",
        "scores = scores.sort_values(by='score', ascending=False)\n",
        "\n",
        "# Barplot for better visualization\n",
        "plt.figure(figsize=(10, 6))\n",
        "sns.barplot(x=scores['score'], hue=scores.index, palette='coolwarm')\n",
        "plt.title('ANOVA Test Feature Selection Scores')\n",
        "plt.xlabel('ANOVA Score')\n",
        "plt.ylabel('Features')\n",
        "plt.tight_layout()\n",
        "plt.show()\n"
      ]
    },
    {
      "cell_type": "code",
      "execution_count": 369,
      "metadata": {
        "id": "eY7mc-JMZCfL"
      },
      "outputs": [],
      "source": [
        "# Ensure no missing values in `y`\n",
        "X = X.reset_index(drop=True)  # Reset index to match\n",
        "y = y.reset_index(drop=True)  # Reset index to match\n",
        "\n",
        "# Drop rows with NaN in either X or y\n",
        "X, y = X.align(y, join='inner', axis=0)\n"
      ]
    },
    {
      "cell_type": "code",
      "execution_count": 370,
      "metadata": {
        "id": "i1rx_3x2ZCfL"
      },
      "outputs": [],
      "source": [
        "data = data.dropna(subset=['Total Gross'])\n",
        "\n",
        "numerical_transformer = Pipeline(steps=[\n",
        "    ('imputer', SimpleImputer(strategy='mean')),\n",
        "    ('scaler', StandardScaler())\n",
        "])\n",
        "\n",
        "def reformat_genre(genre_string):\n",
        "    genre_string = genre_string.replace('[','').replace(']','').replace('\"','')\n",
        "    genre_list = [genre.strip().strip(\"'\") for genre in genre_string.split(',')]\n",
        "    return genre_list\n",
        "\n",
        "X['Genre'] = X['Genre'].apply(reformat_genre)\n",
        "\n",
        "#Get unique\n",
        "unique_genres = set(genre for sublist in X['Genre'] for genre in sublist)\n",
        "\n",
        "#One hot encoding Genre\n",
        "for genre in unique_genres:\n",
        "    X[f'Genre_{genre}'] = X['Genre'].apply(lambda x: 1 if genre in x else 0)\n",
        "\n",
        "X = X.drop(columns=['Genre'])\n",
        "\n",
        "#One hot encoding Rating\n",
        "encoder = OneHotEncoder(sparse_output=False, handle_unknown='ignore')\n",
        "encoded_features = encoder.fit_transform(X[['Rating']])\n",
        "encoded_df = pd.DataFrame(encoded_features, columns=encoder.get_feature_names_out(['Rating']))\n",
        "\n",
        "X = pd.concat([X, encoded_df], axis=1).drop(['Rating'], axis=1)\n",
        "\n",
        "n_studio = 50 # One hot encoding for top 50 studio with most movies\n",
        "\n",
        "if 'Studio' in X.columns:\n",
        "\n",
        "  n_tops = n_studio\n",
        "\n",
        "  top_studios = X['Studio'].value_counts().nlargest(n_tops)\n",
        "  X['Studio'] = X['Studio'].apply(lambda x: x if x in top_studios else 'Studio Other')\n",
        "  encoder = OneHotEncoder(sparse_output=False, handle_unknown='ignore')\n",
        "  encoded_features = encoder.fit_transform(X[['Studio']])\n",
        "  encoded_df = pd.DataFrame(encoded_features, columns=encoder.get_feature_names_out(['Studio']))\n",
        "  X = pd.concat([X, encoded_df], axis=1).drop(['Studio'], axis=1)\n",
        "\n"
      ]
    },
    {
      "cell_type": "markdown",
      "metadata": {
        "id": "XRGyrSzbZCfL"
      },
      "source": [
        "- Feature selection for categorical columns"
      ]
    },
    {
      "cell_type": "code",
      "execution_count": 371,
      "metadata": {
        "colab": {
          "base_uri": "https://localhost:8080/",
          "height": 598
        },
        "id": "CidmfFOFZCfM",
        "outputId": "8c587dcf-ffc9-415d-a6c1-d1a3474f2154"
      },
      "outputs": [
        {
          "name": "stderr",
          "output_type": "stream",
          "text": [
            "<ipython-input-371-1caf67043ed5>:23: FutureWarning: \n",
            "\n",
            "Passing `palette` without assigning `hue` is deprecated and will be removed in v0.14.0. Assign the `y` variable to `hue` and set `legend=False` for the same effect.\n",
            "\n",
            "  sns.barplot(y=scores.head(5).index, x=scores.head(5)['score'], palette='coolwarm')\n"
          ]
        },
        {
          "data": {
            "image/png": "[encoded data removed]",
            "text/plain": [
              "<Figure size 1000x500 with 1 Axes>"
            ]
          },
          "metadata": {},
          "output_type": "display_data"
        }
      ],
      "source": [
        "# One-hot encode categorical features\n",
        "\n",
        "X_categorical = X_train[categorical_features]  # Use column names directly\n",
        "X_categorical = X_categorical.fillna(0)\n",
        "\n",
        "X_categorical_encoded = pd.get_dummies(X_categorical, drop_first=True)\n",
        "\n",
        "# Fit SelectKBest with f_regression\n",
        "selector = SelectKBest(f_regression, k=5)\n",
        "selector.fit(X_categorical_encoded, y_train)\n",
        "\n",
        "# Get scores\n",
        "scores = pd.DataFrame(data=selector.scores_,\n",
        "                      index=X_categorical_encoded.columns,\n",
        "                      columns=['score'])\n",
        "scores = scores.sort_values(by='score', ascending=False)\n",
        "\n",
        "# Get the top 5 features\n",
        "top_5_categorical = scores.head(5).index.tolist()\n",
        "\n",
        "# Plot the top 5 scores\n",
        "plt.figure(figsize=(10, 5))\n",
        "sns.barplot(y=scores.head(5).index, x=scores.head(5)['score'], palette='coolwarm')\n",
        "plt.title('Top 5 Features by F-Regression Score')\n",
        "plt.xlabel('Score')\n",
        "plt.ylabel('Feature')\n",
        "plt.tight_layout()\n",
        "plt.show()\n"
      ]
    },
    {
      "cell_type": "markdown",
      "metadata": {
        "id": "_PtXFQf_ZCfM"
      },
      "source": [
        "As can be seen from the plot, some members of **`Genre`** and **`Rating`** shows up in top 5 F-Regression Score, therefore we will need to include these columns for modelling"
      ]
    },
    {
      "cell_type": "code",
      "execution_count": 372,
      "metadata": {
        "id": "vZZmtEUWZCfM"
      },
      "outputs": [],
      "source": [
        "preprocessor = ColumnTransformer(\n",
        "    transformers=[\n",
        "        ('num', numerical_transformer, numerical_features)\n",
        "        ])\n",
        "\n",
        "feature_selector = SelectKBest(score_func=f_regression, k=7)\n"
      ]
    },
    {
      "cell_type": "markdown",
      "metadata": {
        "id": "AmDN9QecZCfM"
      },
      "source": [
        "- XGBoost"
      ]
    },
    {
      "cell_type": "code",
      "execution_count": 373,
      "metadata": {
        "colab": {
          "base_uri": "https://localhost:8080/"
        },
        "id": "T8-I7lHZZCfM",
        "outputId": "80c0bccc-f4cb-410d-cb3c-402e938f7a0a"
      },
      "outputs": [
        {
          "name": "stdout",
          "output_type": "stream",
          "text": [
            "MAE: 1.2064204778508953\n",
            "MSE: 3.006304373429371\n",
            "R2: 0.541534793312336\n"
          ]
        }
      ],
      "source": [
        "xgb = XGBRegressor(n_estimators=100, learning_rate=0.1, max_depth=3,\n",
        "                   random_state=42, objective='reg:squarederror')\n",
        "\n",
        "pipeline = Pipeline(steps=[\n",
        "    ('preprocessor', preprocessor),\n",
        "    ('feature_selector', feature_selector),\n",
        "    ('model', xgb)\n",
        "])\n",
        "\n",
        "X_train, X_test, y_train, y_test = train_test_split(X, y, test_size=0.2, random_state=42)\n",
        "\n",
        "pipeline.fit(X_train, y_train)\n",
        "y_pred = pipeline.predict(X_test)\n",
        "\n",
        "# 8. Đánh giá kết quả\n",
        "mae = mean_absolute_error(y_test, y_pred)\n",
        "mse = mean_squared_error(y_test, y_pred)\n",
        "r2 = r2_score(y_test, y_pred)\n",
        "\n",
        "print('MAE:', mae)\n",
        "print('MSE:', mse)\n",
        "print('R2:', r2)"
      ]
    },
    {
      "cell_type": "markdown",
      "metadata": {
        "id": "heDjeOE8ZCfM"
      },
      "source": [
        "- XGBoost with GridSearchCV"
      ]
    },
    {
      "cell_type": "code",
      "execution_count": 374,
      "metadata": {
        "id": "7o25__BOlZdf"
      },
      "outputs": [],
      "source": [
        "# from sklearn.model_selection import GridSearchCV, cross_val_score\n",
        "\n",
        "# param_grid = {\n",
        "#     'model__n_estimators': [50, 100, 200],         # Số lượng cây\n",
        "#     'model__max_depth': [3, 6, 9],                 # Độ sâu tối đa của cây\n",
        "#     'model__learning_rate': [0.01, 0.1, 0.2],     # Tốc độ học\n",
        "#     'model__subsample': [0.8, 1.0],                # Tỷ lệ mẫu\n",
        "#     'model__colsample_bytree': [0.8, 1.0]          # Tỷ lệ cột\n",
        "# }\n",
        "\n",
        "# grid_search = GridSearchCV(estimator=pipeline, param_grid=param_grid, cv=5, scoring='neg_mean_squared_error', n_jobs=-1, verbose=1)\n",
        "\n",
        "# grid_search.fit(X_train, y_train)\n",
        "# best_model = grid_search.best_estimator_\n",
        "# y_pred = best_model.predict(X_test)\n",
        "\n",
        "# mse = mean_squared_error(y_test, y_pred)\n",
        "# r2 = best_model.score(X_test, y_test)\n",
        "# mae = mean_absolute_error(y_test, y_pred)\n",
        "# print(f'MAE: {mae}')\n",
        "# print(f'MSE: {mse}')\n",
        "# print(f'R2: {r2}')"
      ]
    },
    {
      "cell_type": "markdown",
      "metadata": {
        "id": "CTacVVAIZCfN"
      },
      "source": [
        "- Gradient Boosting Regressor"
      ]
    },
    {
      "cell_type": "code",
      "execution_count": 375,
      "metadata": {
        "colab": {
          "base_uri": "https://localhost:8080/"
        },
        "id": "TDXL-Mg5l6OD",
        "outputId": "61ff302b-fc01-4f48-8595-57f7c88c896c"
      },
      "outputs": [
        {
          "name": "stdout",
          "output_type": "stream",
          "text": [
            "MAE: 1.206426775045822\n",
            "MSE: 3.031765297528064\n",
            "R2: 0.5376519702913088\n"
          ]
        }
      ],
      "source": [
        "from sklearn.ensemble import GradientBoostingRegressor\n",
        "\n",
        "gbg = GradientBoostingRegressor(random_state=42)\n",
        "\n",
        "pipeline = Pipeline(steps=[\n",
        "    ('preprocessor', preprocessor),\n",
        "    ('feature_selector', feature_selector),\n",
        "    ('model', gbg)\n",
        "])\n",
        "\n",
        "pipeline.fit(X_train, y_train)\n",
        "y_pred = pipeline.predict(X_test)\n",
        "\n",
        "# 8. Đánh giá kết quả\n",
        "mae = mean_absolute_error(y_test, y_pred)\n",
        "mse = mean_squared_error(y_test, y_pred)\n",
        "r2 = r2_score(y_test, y_pred)\n",
        "\n",
        "print('MAE:', mae)\n",
        "print('MSE:', mse)\n",
        "print('R2:', r2)"
      ]
    },
    {
      "cell_type": "markdown",
      "metadata": {
        "id": "aMAbfxjDZCfN"
      },
      "source": [
        "- Gradient Boosting Regressor with GridSearchCV"
      ]
    },
    {
      "cell_type": "code",
      "execution_count": 376,
      "metadata": {
        "id": "VhbN3WWUmeHG"
      },
      "outputs": [],
      "source": [
        "# from sklearn.model_selection import GridSearchCV, cross_val_score\n",
        "\n",
        "# param_grid = {\n",
        "#     'model__n_estimators': [50, 100, 200],          # Số lượng cây trong mô hình\n",
        "#     'model__max_depth': [3, 5, 7],                  # Độ sâu của mỗi cây\n",
        "#     'model__learning_rate': [0.01, 0.05, 0.1],      # Tốc độ học\n",
        "#     'model__subsample': [0.8, 1.0],                 # Tỷ lệ mẫu\n",
        "# }\n",
        "\n",
        "# grid_search = GridSearchCV(estimator=pipeline, param_grid=param_grid, cv=5, scoring='neg_mean_squared_error', n_jobs=-1, verbose=1)\n",
        "\n",
        "# grid_search.fit(X_train, y_train)\n",
        "# best_model = grid_search.best_estimator_\n",
        "# y_pred = best_model.predict(X_test)\n",
        "# mse = mean_squared_error(y_test, y_pred)\n",
        "# r2 = best_model.score(X_test, y_test)\n",
        "# print(f'Mean Squared Error: {mse}')\n",
        "# print(f'R²: {r2}')"
      ]
    },
    {
      "cell_type": "markdown",
      "metadata": {
        "id": "2020mkDgiJ2H"
      },
      "source": [
        "ML Model with Director and Cast and Studio added"
      ]
    },
    {
      "cell_type": "markdown",
      "metadata": {
        "id": "F9hP1mrw5TpG"
      },
      "source": [
        "Let's try with Director and Cast and Studio added, will the score improve"
      ]
    },
    {
      "cell_type": "code",
      "execution_count": 377,
      "metadata": {
        "id": "hAiiL84rnFkW"
      },
      "outputs": [],
      "source": [
        "n_director = 10 # One hot encoding for top 10 director with most movies\n",
        "n_cast = 20 # One hot encoding for top 20 cast with most movies\n",
        "n_studio = 50 # One hot encoding for top 50 studio with most movies"
      ]
    },
    {
      "cell_type": "code",
      "execution_count": 378,
      "metadata": {
        "id": "3j3IfjmIiuN1"
      },
      "outputs": [],
      "source": [
        "\n",
        "numerical_features = ['Tomatoes CriticScore', 'Tomatoes UserScore',\n",
        "                      'Production Budget', 'Metascore', 'Meta UserScore']\n",
        "\n",
        "categorical_features = ['Year', 'Rating', 'Studio', 'Genre', 'Cast', 'Director']\n",
        "\n",
        "\n",
        "X = data[numerical_features+categorical_features].copy()\n",
        "\n",
        "y = data['Total Gross'].copy()\n",
        "\n",
        "\n",
        "\n"
      ]
    },
    {
      "cell_type": "markdown",
      "metadata": {
        "id": "B5_wIQ0XiyGr"
      },
      "source": [
        "One Hot Encoding Director"
      ]
    },
    {
      "cell_type": "code",
      "execution_count": 379,
      "metadata": {
        "id": "iMwYXFt3iw-V"
      },
      "outputs": [],
      "source": [
        "if 'Director' in X.columns:\n",
        "\n",
        "  n_top = n_director\n",
        "\n",
        "  top_directors = X['Director'].value_counts().nlargest(n_top)\n",
        "  X['Director'] = X['Director'].apply(lambda x: x if x in top_directors else 'Director Other')\n",
        "  encoder = OneHotEncoder(sparse_output=False, handle_unknown='ignore')\n",
        "  encoded_features = encoder.fit_transform(X[['Director']])\n",
        "  encoded_df = pd.DataFrame(encoded_features, columns=encoder.get_feature_names_out(['Director']))\n",
        "  X = pd.concat([X, encoded_df], axis=1).drop(['Director'], axis=1)\n",
        "\n"
      ]
    },
    {
      "cell_type": "markdown",
      "metadata": {
        "id": "GW4ATi3kjKId"
      },
      "source": [
        "One Hot Encoding Year"
      ]
    },
    {
      "cell_type": "code",
      "execution_count": 380,
      "metadata": {
        "id": "EAgGtQWXjMQs"
      },
      "outputs": [],
      "source": [
        "def bin_years(data, column, bins=10):\n",
        "\n",
        "    min_year = data[column].min()\n",
        "    max_year = data[column].max()\n",
        "    bin_edges = np.linspace(min_year, max_year, bins + 1)\n",
        "    bin_labels = [f\"{int(bin_edges[i])}-{int(bin_edges[i+1]) - 1}\" for i in range(len(bin_edges) - 1)]\n",
        "    binned_years = pd.cut(data[column], bins=bin_edges, labels=bin_labels, include_lowest=True)\n",
        "    return binned_years\n",
        "\n",
        "if 'Year' in X.columns:\n",
        "\n",
        "  #Year are binned into 10 bins, each bins about 10 years\n",
        "  n_bins = 10\n",
        "\n",
        "  #Perform one hot encoding\n",
        "  X['Year'] = bin_years(X, 'Year', bins = n_bins)\n",
        "  encoder = OneHotEncoder(sparse_output=False, handle_unknown='ignore')\n",
        "  encoded_features = encoder.fit_transform(X[['Year']])\n",
        "  encoded_df = pd.DataFrame(encoded_features, columns=encoder.get_feature_names_out(['Year']))\n",
        "  X = pd.concat([X, encoded_df], axis=1).drop(['Year'], axis=1)\n"
      ]
    },
    {
      "cell_type": "markdown",
      "metadata": {
        "id": "azqWNxjXjeMJ"
      },
      "source": [
        "One Hot Encoding Cast"
      ]
    },
    {
      "cell_type": "code",
      "execution_count": 381,
      "metadata": {
        "id": "8ncfxb43jgT-"
      },
      "outputs": [],
      "source": [
        "#Reformat cast string into list\n",
        "def reformat_cast(cast_string):\n",
        "    if pd.isna(cast_string):\n",
        "        return []\n",
        "    cast_string = cast_string.replace('[','').replace(']','').replace('\"','')\n",
        "    cast_list = [cast.strip().strip(\"'\") for cast in cast_string.split(',')]\n",
        "    return cast_list\n",
        "\n",
        "if 'Cast' in X.columns:\n",
        "\n",
        "  n_top = n_cast  #Perform one hot for n_cast with most movies\n",
        "\n",
        "  X['Cast'] = X['Cast'].apply(reformat_cast)\n",
        "  top_cast = X['Cast'].explode().value_counts().nlargest(n_top)\n",
        "  for cast in top_cast.index:\n",
        "      X[f'Cast_{cast}'] = X['Cast'].apply(lambda x: 1 if cast in x else 0)\n",
        "  X = X.drop(columns=['Cast'])"
      ]
    },
    {
      "cell_type": "markdown",
      "metadata": {
        "id": "b0KxrN5Mr1ZN"
      },
      "source": [
        "One Hot Encoding Genre"
      ]
    },
    {
      "cell_type": "code",
      "execution_count": 382,
      "metadata": {
        "id": "4r3yjILsr3e3"
      },
      "outputs": [],
      "source": [
        "#One Hot Encoding Genre\n",
        "def reformat_genre(genre_string):\n",
        "    genre_string = genre_string.replace('[','').replace(']','').replace('\"','')\n",
        "    genre_list = [genre.strip().strip(\"'\") for genre in genre_string.split(',')]\n",
        "    return genre_list\n",
        "\n",
        "if 'Genre' in X.columns:\n",
        "  X['Genre'] = X['Genre'].apply(reformat_genre)\n",
        "  #Get unique\n",
        "  unique_genres = set(genre for sublist in X['Genre'] for genre in sublist)\n",
        "  #One hot encoding Genre\n",
        "  for genre in unique_genres:\n",
        "      X[f'Genre_{genre}'] = X['Genre'].apply(lambda x: 1 if genre in x else 0)\n",
        "  X = X.drop(columns=['Genre'])\n"
      ]
    },
    {
      "cell_type": "markdown",
      "metadata": {
        "id": "Q1vEAriMr7WA"
      },
      "source": [
        "One Hot Encoding Rating"
      ]
    },
    {
      "cell_type": "code",
      "execution_count": 383,
      "metadata": {
        "id": "8VPg5o9Ur-I8"
      },
      "outputs": [],
      "source": [
        "#One hot encoding Rating\n",
        "if 'Rating' in X.columns:\n",
        "  encoder = OneHotEncoder(sparse_output=False, handle_unknown='ignore')\n",
        "  encoded_features = encoder.fit_transform(X[['Rating']])\n",
        "  encoded_df = pd.DataFrame(encoded_features, columns=encoder.get_feature_names_out(['Rating']))\n",
        "  X = pd.concat([X, encoded_df], axis=1).drop(['Rating'], axis=1)"
      ]
    },
    {
      "cell_type": "markdown",
      "metadata": {
        "id": "9rGRVl0TsAPM"
      },
      "source": [
        "One Hot Encoding Studio\n"
      ]
    },
    {
      "cell_type": "code",
      "execution_count": 384,
      "metadata": {
        "id": "qpQRdb3LsCj0"
      },
      "outputs": [],
      "source": [
        "#One hot encoding Studio\n",
        "if 'Studio' in X.columns:\n",
        "\n",
        "  n_tops = n_studio\n",
        "\n",
        "  top_studios = X['Studio'].value_counts().nlargest(n_tops)\n",
        "  X['Studio'] = X['Studio'].apply(lambda x: x if x in top_studios else 'Studio Other')\n",
        "  encoder = OneHotEncoder(sparse_output=False, handle_unknown='ignore')\n",
        "  encoded_features = encoder.fit_transform(X[['Studio']])\n",
        "  encoded_df = pd.DataFrame(encoded_features, columns=encoder.get_feature_names_out(['Studio']))\n",
        "  X = pd.concat([X, encoded_df], axis=1).drop(['Studio'], axis=1)\n"
      ]
    },
    {
      "cell_type": "code",
      "execution_count": 385,
      "metadata": {
        "colab": {
          "base_uri": "https://localhost:8080/",
          "height": 478
        },
        "id": "FFQuAWZK2G8Y",
        "outputId": "1323a786-9237-4aec-86ab-a4684b05760b"
      },
      "outputs": [
        {
          "data": {
            "application/vnd.google.colaboratory.intrinsic+json": {
              "type": "dataframe",
              "variable_name": "X"
            },
            "text/html": [
              "\n",
              "  <div id=\"df-b13633c6-e602-4363-b67d-6127874e847a\" class=\"colab-df-container\">\n",
              "    <div>\n",
              "<style scoped>\n",
              "    .dataframe tbody tr th:only-of-type {\n",
              "        vertical-align: middle;\n",
              "    }\n",
              "\n",
              "    .dataframe tbody tr th {\n",
              "        vertical-align: top;\n",
              "    }\n",
              "\n",
              "    .dataframe thead th {\n",
              "        text-align: right;\n",
              "    }\n",
              "</style>\n",
              "<table border=\"1\" class=\"dataframe\">\n",
              "  <thead>\n",
              "    <tr style=\"text-align: right;\">\n",
              "      <th></th>\n",
              "      <th>Tomatoes CriticScore</th>\n",
              "      <th>Tomatoes UserScore</th>\n",
              "      <th>Production Budget</th>\n",
              "      <th>Metascore</th>\n",
              "      <th>Meta UserScore</th>\n",
              "      <th>Director_Director Other</th>\n",
              "      <th>Director_['Clint Eastwood']</th>\n",
              "      <th>Director_['Martin Scorsese']</th>\n",
              "      <th>Director_['Michael Curtiz']</th>\n",
              "      <th>Director_['Ridley Scott']</th>\n",
              "      <th>...</th>\n",
              "      <th>Studio_TriStar Pictures</th>\n",
              "      <th>Studio_United Artists</th>\n",
              "      <th>Studio_Universal Pictures</th>\n",
              "      <th>Studio_Unknown</th>\n",
              "      <th>Studio_Walt Disney</th>\n",
              "      <th>Studio_Walt Disney Pictures</th>\n",
              "      <th>Studio_Warner Bros.</th>\n",
              "      <th>Studio_Warner Bros. Pictures</th>\n",
              "      <th>Studio_Warner Home Vídeo</th>\n",
              "      <th>Studio_Weinstein Co.</th>\n",
              "    </tr>\n",
              "  </thead>\n",
              "  <tbody>\n",
              "    <tr>\n",
              "      <th>0</th>\n",
              "      <td>99.0</td>\n",
              "      <td>94.0</td>\n",
              "      <td>17.980850</td>\n",
              "      <td>91.00</td>\n",
              "      <td>86.00</td>\n",
              "      <td>1.0</td>\n",
              "      <td>0.0</td>\n",
              "      <td>0.0</td>\n",
              "      <td>0.0</td>\n",
              "      <td>0.0</td>\n",
              "      <td>...</td>\n",
              "      <td>0.0</td>\n",
              "      <td>0.0</td>\n",
              "      <td>0.0</td>\n",
              "      <td>0.0</td>\n",
              "      <td>0.0</td>\n",
              "      <td>0.0</td>\n",
              "      <td>0.0</td>\n",
              "      <td>0.0</td>\n",
              "      <td>1.0</td>\n",
              "      <td>0.0</td>\n",
              "    </tr>\n",
              "    <tr>\n",
              "      <th>1</th>\n",
              "      <td>97.0</td>\n",
              "      <td>98.0</td>\n",
              "      <td>17.702056</td>\n",
              "      <td>100.00</td>\n",
              "      <td>93.00</td>\n",
              "      <td>1.0</td>\n",
              "      <td>0.0</td>\n",
              "      <td>0.0</td>\n",
              "      <td>0.0</td>\n",
              "      <td>0.0</td>\n",
              "      <td>...</td>\n",
              "      <td>0.0</td>\n",
              "      <td>0.0</td>\n",
              "      <td>0.0</td>\n",
              "      <td>0.0</td>\n",
              "      <td>0.0</td>\n",
              "      <td>0.0</td>\n",
              "      <td>0.0</td>\n",
              "      <td>0.0</td>\n",
              "      <td>0.0</td>\n",
              "      <td>0.0</td>\n",
              "    </tr>\n",
              "    <tr>\n",
              "      <th>2</th>\n",
              "      <td>99.0</td>\n",
              "      <td>95.0</td>\n",
              "      <td>16.686983</td>\n",
              "      <td>100.00</td>\n",
              "      <td>87.00</td>\n",
              "      <td>0.0</td>\n",
              "      <td>0.0</td>\n",
              "      <td>0.0</td>\n",
              "      <td>1.0</td>\n",
              "      <td>0.0</td>\n",
              "      <td>...</td>\n",
              "      <td>0.0</td>\n",
              "      <td>0.0</td>\n",
              "      <td>0.0</td>\n",
              "      <td>0.0</td>\n",
              "      <td>0.0</td>\n",
              "      <td>0.0</td>\n",
              "      <td>0.0</td>\n",
              "      <td>1.0</td>\n",
              "      <td>0.0</td>\n",
              "      <td>0.0</td>\n",
              "    </tr>\n",
              "    <tr>\n",
              "      <th>3</th>\n",
              "      <td>99.0</td>\n",
              "      <td>90.0</td>\n",
              "      <td>16.428409</td>\n",
              "      <td>97.00</td>\n",
              "      <td>89.00</td>\n",
              "      <td>1.0</td>\n",
              "      <td>0.0</td>\n",
              "      <td>0.0</td>\n",
              "      <td>0.0</td>\n",
              "      <td>0.0</td>\n",
              "      <td>...</td>\n",
              "      <td>0.0</td>\n",
              "      <td>0.0</td>\n",
              "      <td>0.0</td>\n",
              "      <td>0.0</td>\n",
              "      <td>0.0</td>\n",
              "      <td>0.0</td>\n",
              "      <td>0.0</td>\n",
              "      <td>0.0</td>\n",
              "      <td>0.0</td>\n",
              "      <td>0.0</td>\n",
              "    </tr>\n",
              "    <tr>\n",
              "      <th>4</th>\n",
              "      <td>96.0</td>\n",
              "      <td>99.0</td>\n",
              "      <td>18.951309</td>\n",
              "      <td>78.00</td>\n",
              "      <td>84.00</td>\n",
              "      <td>1.0</td>\n",
              "      <td>0.0</td>\n",
              "      <td>0.0</td>\n",
              "      <td>0.0</td>\n",
              "      <td>0.0</td>\n",
              "      <td>...</td>\n",
              "      <td>0.0</td>\n",
              "      <td>0.0</td>\n",
              "      <td>0.0</td>\n",
              "      <td>0.0</td>\n",
              "      <td>0.0</td>\n",
              "      <td>0.0</td>\n",
              "      <td>0.0</td>\n",
              "      <td>0.0</td>\n",
              "      <td>0.0</td>\n",
              "      <td>0.0</td>\n",
              "    </tr>\n",
              "    <tr>\n",
              "      <th>...</th>\n",
              "      <td>...</td>\n",
              "      <td>...</td>\n",
              "      <td>...</td>\n",
              "      <td>...</td>\n",
              "      <td>...</td>\n",
              "      <td>...</td>\n",
              "      <td>...</td>\n",
              "      <td>...</td>\n",
              "      <td>...</td>\n",
              "      <td>...</td>\n",
              "      <td>...</td>\n",
              "      <td>...</td>\n",
              "      <td>...</td>\n",
              "      <td>...</td>\n",
              "      <td>...</td>\n",
              "      <td>...</td>\n",
              "      <td>...</td>\n",
              "      <td>...</td>\n",
              "      <td>...</td>\n",
              "      <td>...</td>\n",
              "      <td>...</td>\n",
              "    </tr>\n",
              "    <tr>\n",
              "      <th>4791</th>\n",
              "      <td>13.0</td>\n",
              "      <td>52.0</td>\n",
              "      <td>12.846138</td>\n",
              "      <td>22.00</td>\n",
              "      <td>55.85</td>\n",
              "      <td>1.0</td>\n",
              "      <td>0.0</td>\n",
              "      <td>0.0</td>\n",
              "      <td>0.0</td>\n",
              "      <td>0.0</td>\n",
              "      <td>...</td>\n",
              "      <td>0.0</td>\n",
              "      <td>0.0</td>\n",
              "      <td>0.0</td>\n",
              "      <td>0.0</td>\n",
              "      <td>0.0</td>\n",
              "      <td>0.0</td>\n",
              "      <td>0.0</td>\n",
              "      <td>0.0</td>\n",
              "      <td>0.0</td>\n",
              "      <td>0.0</td>\n",
              "    </tr>\n",
              "    <tr>\n",
              "      <th>4792</th>\n",
              "      <td>87.0</td>\n",
              "      <td>81.0</td>\n",
              "      <td>12.429220</td>\n",
              "      <td>59.00</td>\n",
              "      <td>64.00</td>\n",
              "      <td>1.0</td>\n",
              "      <td>0.0</td>\n",
              "      <td>0.0</td>\n",
              "      <td>0.0</td>\n",
              "      <td>0.0</td>\n",
              "      <td>...</td>\n",
              "      <td>0.0</td>\n",
              "      <td>0.0</td>\n",
              "      <td>0.0</td>\n",
              "      <td>0.0</td>\n",
              "      <td>0.0</td>\n",
              "      <td>0.0</td>\n",
              "      <td>0.0</td>\n",
              "      <td>0.0</td>\n",
              "      <td>0.0</td>\n",
              "      <td>0.0</td>\n",
              "    </tr>\n",
              "    <tr>\n",
              "      <th>4793</th>\n",
              "      <td>91.0</td>\n",
              "      <td>68.0</td>\n",
              "      <td>14.654045</td>\n",
              "      <td>60.55</td>\n",
              "      <td>68.75</td>\n",
              "      <td>1.0</td>\n",
              "      <td>0.0</td>\n",
              "      <td>0.0</td>\n",
              "      <td>0.0</td>\n",
              "      <td>0.0</td>\n",
              "      <td>...</td>\n",
              "      <td>0.0</td>\n",
              "      <td>0.0</td>\n",
              "      <td>0.0</td>\n",
              "      <td>0.0</td>\n",
              "      <td>0.0</td>\n",
              "      <td>0.0</td>\n",
              "      <td>1.0</td>\n",
              "      <td>0.0</td>\n",
              "      <td>0.0</td>\n",
              "      <td>0.0</td>\n",
              "    </tr>\n",
              "    <tr>\n",
              "      <th>4794</th>\n",
              "      <td>57.0</td>\n",
              "      <td>50.0</td>\n",
              "      <td>12.146250</td>\n",
              "      <td>62.00</td>\n",
              "      <td>67.40</td>\n",
              "      <td>1.0</td>\n",
              "      <td>0.0</td>\n",
              "      <td>0.0</td>\n",
              "      <td>0.0</td>\n",
              "      <td>0.0</td>\n",
              "      <td>...</td>\n",
              "      <td>0.0</td>\n",
              "      <td>0.0</td>\n",
              "      <td>0.0</td>\n",
              "      <td>0.0</td>\n",
              "      <td>0.0</td>\n",
              "      <td>0.0</td>\n",
              "      <td>0.0</td>\n",
              "      <td>0.0</td>\n",
              "      <td>0.0</td>\n",
              "      <td>0.0</td>\n",
              "    </tr>\n",
              "    <tr>\n",
              "      <th>4795</th>\n",
              "      <td>35.0</td>\n",
              "      <td>47.0</td>\n",
              "      <td>11.664962</td>\n",
              "      <td>35.00</td>\n",
              "      <td>56.40</td>\n",
              "      <td>1.0</td>\n",
              "      <td>0.0</td>\n",
              "      <td>0.0</td>\n",
              "      <td>0.0</td>\n",
              "      <td>0.0</td>\n",
              "      <td>...</td>\n",
              "      <td>0.0</td>\n",
              "      <td>0.0</td>\n",
              "      <td>0.0</td>\n",
              "      <td>0.0</td>\n",
              "      <td>0.0</td>\n",
              "      <td>0.0</td>\n",
              "      <td>0.0</td>\n",
              "      <td>0.0</td>\n",
              "      <td>0.0</td>\n",
              "      <td>0.0</td>\n",
              "    </tr>\n",
              "  </tbody>\n",
              "</table>\n",
              "<p>4796 rows × 133 columns</p>\n",
              "</div>\n",
              "    <div class=\"colab-df-buttons\">\n",
              "\n",
              "  <div class=\"colab-df-container\">\n",
              "    <button class=\"colab-df-convert\" onclick=\"convertToInteractive('df-b13633c6-e602-4363-b67d-6127874e847a')\"\n",
              "            title=\"Convert this dataframe to an interactive table.\"\n",
              "            style=\"display:none;\">\n",
              "\n",
              "  <svg xmlns=\"http://www.w3.org/2000/svg\" height=\"24px\" viewBox=\"0 -960 960 960\">\n",
              "    <path d=\"M120-120v-720h720v720H120Zm60-500h600v-160H180v160Zm220 220h160v-160H400v160Zm0 220h160v-160H400v160ZM180-400h160v-160H180v160Zm440 0h160v-160H620v160ZM180-180h160v-160H180v160Zm440 0h160v-160H620v160Z\"/>\n",
              "  </svg>\n",
              "    </button>\n",
              "\n",
              "  <style>\n",
              "    .colab-df-container {\n",
              "      display:flex;\n",
              "      gap: 12px;\n",
              "    }\n",
              "\n",
              "    .colab-df-convert {\n",
              "      background-color: #E8F0FE;\n",
              "      border: none;\n",
              "      border-radius: 50%;\n",
              "      cursor: pointer;\n",
              "      display: none;\n",
              "      fill: #1967D2;\n",
              "      height: 32px;\n",
              "      padding: 0 0 0 0;\n",
              "      width: 32px;\n",
              "    }\n",
              "\n",
              "    .colab-df-convert:hover {\n",
              "      background-color: #E2EBFA;\n",
              "      box-shadow: 0px 1px 2px rgba(60, 64, 67, 0.3), 0px 1px 3px 1px rgba(60, 64, 67, 0.15);\n",
              "      fill: #174EA6;\n",
              "    }\n",
              "\n",
              "    .colab-df-buttons div {\n",
              "      margin-bottom: 4px;\n",
              "    }\n",
              "\n",
              "    [theme=dark] .colab-df-convert {\n",
              "      background-color: #3B4455;\n",
              "      fill: #D2E3FC;\n",
              "    }\n",
              "\n",
              "    [theme=dark] .colab-df-convert:hover {\n",
              "      background-color: #434B5C;\n",
              "      box-shadow: 0px 1px 3px 1px rgba(0, 0, 0, 0.15);\n",
              "      filter: drop-shadow(0px 1px 2px rgba(0, 0, 0, 0.3));\n",
              "      fill: #FFFFFF;\n",
              "    }\n",
              "  </style>\n",
              "\n",
              "    <script>\n",
              "      const buttonEl =\n",
              "        document.querySelector('#df-b13633c6-e602-4363-b67d-6127874e847a button.colab-df-convert');\n",
              "      buttonEl.style.display =\n",
              "        google.colab.kernel.accessAllowed ? 'block' : 'none';\n",
              "\n",
              "      async function convertToInteractive(key) {\n",
              "        const element = document.querySelector('#df-b13633c6-e602-4363-b67d-6127874e847a');\n",
              "        const dataTable =\n",
              "          await google.colab.kernel.invokeFunction('convertToInteractive',\n",
              "                                                    [key], {});\n",
              "        if (!dataTable) return;\n",
              "\n",
              "        const docLinkHtml = 'Like what you see? Visit the ' +\n",
              "          '<a target=\"_blank\" href=https://colab.research.google.com/notebooks/data_table.ipynb>data table notebook</a>'\n",
              "          + ' to learn more about interactive tables.';\n",
              "        element.innerHTML = '';\n",
              "        dataTable['output_type'] = 'display_data';\n",
              "        await google.colab.output.renderOutput(dataTable, element);\n",
              "        const docLink = document.createElement('div');\n",
              "        docLink.innerHTML = docLinkHtml;\n",
              "        element.appendChild(docLink);\n",
              "      }\n",
              "    </script>\n",
              "  </div>\n",
              "\n",
              "\n",
              "<div id=\"df-3a6087fe-a79f-4ae9-bfaa-12dc7a6c302c\">\n",
              "  <button class=\"colab-df-quickchart\" onclick=\"quickchart('df-3a6087fe-a79f-4ae9-bfaa-12dc7a6c302c')\"\n",
              "            title=\"Suggest charts\"\n",
              "            style=\"display:none;\">\n",
              "\n",
              "<svg xmlns=\"http://www.w3.org/2000/svg\" height=\"24px\"viewBox=\"0 0 24 24\"\n",
              "     width=\"24px\">\n",
              "    <g>\n",
              "        <path d=\"M19 3H5c-1.1 0-2 .9-2 2v14c0 1.1.9 2 2 2h14c1.1 0 2-.9 2-2V5c0-1.1-.9-2-2-2zM9 17H7v-7h2v7zm4 0h-2V7h2v10zm4 0h-2v-4h2v4z\"/>\n",
              "    </g>\n",
              "</svg>\n",
              "  </button>\n",
              "\n",
              "<style>\n",
              "  .colab-df-quickchart {\n",
              "      --bg-color: #E8F0FE;\n",
              "      --fill-color: #1967D2;\n",
              "      --hover-bg-color: #E2EBFA;\n",
              "      --hover-fill-color: #174EA6;\n",
              "      --disabled-fill-color: #AAA;\n",
              "      --disabled-bg-color: #DDD;\n",
              "  }\n",
              "\n",
              "  [theme=dark] .colab-df-quickchart {\n",
              "      --bg-color: #3B4455;\n",
              "      --fill-color: #D2E3FC;\n",
              "      --hover-bg-color: #434B5C;\n",
              "      --hover-fill-color: #FFFFFF;\n",
              "      --disabled-bg-color: #3B4455;\n",
              "      --disabled-fill-color: #666;\n",
              "  }\n",
              "\n",
              "  .colab-df-quickchart {\n",
              "    background-color: var(--bg-color);\n",
              "    border: none;\n",
              "    border-radius: 50%;\n",
              "    cursor: pointer;\n",
              "    display: none;\n",
              "    fill: var(--fill-color);\n",
              "    height: 32px;\n",
              "    padding: 0;\n",
              "    width: 32px;\n",
              "  }\n",
              "\n",
              "  .colab-df-quickchart:hover {\n",
              "    background-color: var(--hover-bg-color);\n",
              "    box-shadow: 0 1px 2px rgba(60, 64, 67, 0.3), 0 1px 3px 1px rgba(60, 64, 67, 0.15);\n",
              "    fill: var(--button-hover-fill-color);\n",
              "  }\n",
              "\n",
              "  .colab-df-quickchart-complete:disabled,\n",
              "  .colab-df-quickchart-complete:disabled:hover {\n",
              "    background-color: var(--disabled-bg-color);\n",
              "    fill: var(--disabled-fill-color);\n",
              "    box-shadow: none;\n",
              "  }\n",
              "\n",
              "  .colab-df-spinner {\n",
              "    border: 2px solid var(--fill-color);\n",
              "    border-color: transparent;\n",
              "    border-bottom-color: var(--fill-color);\n",
              "    animation:\n",
              "      spin 1s steps(1) infinite;\n",
              "  }\n",
              "\n",
              "  @keyframes spin {\n",
              "    0% {\n",
              "      border-color: transparent;\n",
              "      border-bottom-color: var(--fill-color);\n",
              "      border-left-color: var(--fill-color);\n",
              "    }\n",
              "    20% {\n",
              "      border-color: transparent;\n",
              "      border-left-color: var(--fill-color);\n",
              "      border-top-color: var(--fill-color);\n",
              "    }\n",
              "    30% {\n",
              "      border-color: transparent;\n",
              "      border-left-color: var(--fill-color);\n",
              "      border-top-color: var(--fill-color);\n",
              "      border-right-color: var(--fill-color);\n",
              "    }\n",
              "    40% {\n",
              "      border-color: transparent;\n",
              "      border-right-color: var(--fill-color);\n",
              "      border-top-color: var(--fill-color);\n",
              "    }\n",
              "    60% {\n",
              "      border-color: transparent;\n",
              "      border-right-color: var(--fill-color);\n",
              "    }\n",
              "    80% {\n",
              "      border-color: transparent;\n",
              "      border-right-color: var(--fill-color);\n",
              "      border-bottom-color: var(--fill-color);\n",
              "    }\n",
              "    90% {\n",
              "      border-color: transparent;\n",
              "      border-bottom-color: var(--fill-color);\n",
              "    }\n",
              "  }\n",
              "</style>\n",
              "\n",
              "  <script>\n",
              "    async function quickchart(key) {\n",
              "      const quickchartButtonEl =\n",
              "        document.querySelector('#' + key + ' button');\n",
              "      quickchartButtonEl.disabled = true;  // To prevent multiple clicks.\n",
              "      quickchartButtonEl.classList.add('colab-df-spinner');\n",
              "      try {\n",
              "        const charts = await google.colab.kernel.invokeFunction(\n",
              "            'suggestCharts', [key], {});\n",
              "      } catch (error) {\n",
              "        console.error('Error during call to suggestCharts:', error);\n",
              "      }\n",
              "      quickchartButtonEl.classList.remove('colab-df-spinner');\n",
              "      quickchartButtonEl.classList.add('colab-df-quickchart-complete');\n",
              "    }\n",
              "    (() => {\n",
              "      let quickchartButtonEl =\n",
              "        document.querySelector('#df-3a6087fe-a79f-4ae9-bfaa-12dc7a6c302c button');\n",
              "      quickchartButtonEl.style.display =\n",
              "        google.colab.kernel.accessAllowed ? 'block' : 'none';\n",
              "    })();\n",
              "  </script>\n",
              "</div>\n",
              "\n",
              "  <div id=\"id_d66a7bbd-3c48-494b-9b36-69ea7d64731d\">\n",
              "    <style>\n",
              "      .colab-df-generate {\n",
              "        background-color: #E8F0FE;\n",
              "        border: none;\n",
              "        border-radius: 50%;\n",
              "        cursor: pointer;\n",
              "        display: none;\n",
              "        fill: #1967D2;\n",
              "        height: 32px;\n",
              "        padding: 0 0 0 0;\n",
              "        width: 32px;\n",
              "      }\n",
              "\n",
              "      .colab-df-generate:hover {\n",
              "        background-color: #E2EBFA;\n",
              "        box-shadow: 0px 1px 2px rgba(60, 64, 67, 0.3), 0px 1px 3px 1px rgba(60, 64, 67, 0.15);\n",
              "        fill: #174EA6;\n",
              "      }\n",
              "\n",
              "      [theme=dark] .colab-df-generate {\n",
              "        background-color: #3B4455;\n",
              "        fill: #D2E3FC;\n",
              "      }\n",
              "\n",
              "      [theme=dark] .colab-df-generate:hover {\n",
              "        background-color: #434B5C;\n",
              "        box-shadow: 0px 1px 3px 1px rgba(0, 0, 0, 0.15);\n",
              "        filter: drop-shadow(0px 1px 2px rgba(0, 0, 0, 0.3));\n",
              "        fill: #FFFFFF;\n",
              "      }\n",
              "    </style>\n",
              "    <button class=\"colab-df-generate\" onclick=\"generateWithVariable('X')\"\n",
              "            title=\"Generate code using this dataframe.\"\n",
              "            style=\"display:none;\">\n",
              "\n",
              "  <svg xmlns=\"http://www.w3.org/2000/svg\" height=\"24px\"viewBox=\"0 0 24 24\"\n",
              "       width=\"24px\">\n",
              "    <path d=\"M7,19H8.4L18.45,9,17,7.55,7,17.6ZM5,21V16.75L18.45,3.32a2,2,0,0,1,2.83,0l1.4,1.43a1.91,1.91,0,0,1,.58,1.4,1.91,1.91,0,0,1-.58,1.4L9.25,21ZM18.45,9,17,7.55Zm-12,3A5.31,5.31,0,0,0,4.9,8.1,5.31,5.31,0,0,0,1,6.5,5.31,5.31,0,0,0,4.9,4.9,5.31,5.31,0,0,0,6.5,1,5.31,5.31,0,0,0,8.1,4.9,5.31,5.31,0,0,0,12,6.5,5.46,5.46,0,0,0,6.5,12Z\"/>\n",
              "  </svg>\n",
              "    </button>\n",
              "    <script>\n",
              "      (() => {\n",
              "      const buttonEl =\n",
              "        document.querySelector('#id_d66a7bbd-3c48-494b-9b36-69ea7d64731d button.colab-df-generate');\n",
              "      buttonEl.style.display =\n",
              "        google.colab.kernel.accessAllowed ? 'block' : 'none';\n",
              "\n",
              "      buttonEl.onclick = () => {\n",
              "        google.colab.notebook.generateWithVariable('X');\n",
              "      }\n",
              "      })();\n",
              "    </script>\n",
              "  </div>\n",
              "\n",
              "    </div>\n",
              "  </div>\n"
            ],
            "text/plain": [
              "      Tomatoes CriticScore  Tomatoes UserScore  Production Budget  Metascore  \\\n",
              "0                     99.0                94.0          17.980850      91.00   \n",
              "1                     97.0                98.0          17.702056     100.00   \n",
              "2                     99.0                95.0          16.686983     100.00   \n",
              "3                     99.0                90.0          16.428409      97.00   \n",
              "4                     96.0                99.0          18.951309      78.00   \n",
              "...                    ...                 ...                ...        ...   \n",
              "4791                  13.0                52.0          12.846138      22.00   \n",
              "4792                  87.0                81.0          12.429220      59.00   \n",
              "4793                  91.0                68.0          14.654045      60.55   \n",
              "4794                  57.0                50.0          12.146250      62.00   \n",
              "4795                  35.0                47.0          11.664962      35.00   \n",
              "\n",
              "      Meta UserScore  Director_Director Other  Director_['Clint Eastwood']  \\\n",
              "0              86.00                      1.0                          0.0   \n",
              "1              93.00                      1.0                          0.0   \n",
              "2              87.00                      0.0                          0.0   \n",
              "3              89.00                      1.0                          0.0   \n",
              "4              84.00                      1.0                          0.0   \n",
              "...              ...                      ...                          ...   \n",
              "4791           55.85                      1.0                          0.0   \n",
              "4792           64.00                      1.0                          0.0   \n",
              "4793           68.75                      1.0                          0.0   \n",
              "4794           67.40                      1.0                          0.0   \n",
              "4795           56.40                      1.0                          0.0   \n",
              "\n",
              "      Director_['Martin Scorsese']  Director_['Michael Curtiz']  \\\n",
              "0                              0.0                          0.0   \n",
              "1                              0.0                          0.0   \n",
              "2                              0.0                          1.0   \n",
              "3                              0.0                          0.0   \n",
              "4                              0.0                          0.0   \n",
              "...                            ...                          ...   \n",
              "4791                           0.0                          0.0   \n",
              "4792                           0.0                          0.0   \n",
              "4793                           0.0                          0.0   \n",
              "4794                           0.0                          0.0   \n",
              "4795                           0.0                          0.0   \n",
              "\n",
              "      Director_['Ridley Scott']  ...  Studio_TriStar Pictures  \\\n",
              "0                           0.0  ...                      0.0   \n",
              "1                           0.0  ...                      0.0   \n",
              "2                           0.0  ...                      0.0   \n",
              "3                           0.0  ...                      0.0   \n",
              "4                           0.0  ...                      0.0   \n",
              "...                         ...  ...                      ...   \n",
              "4791                        0.0  ...                      0.0   \n",
              "4792                        0.0  ...                      0.0   \n",
              "4793                        0.0  ...                      0.0   \n",
              "4794                        0.0  ...                      0.0   \n",
              "4795                        0.0  ...                      0.0   \n",
              "\n",
              "      Studio_United Artists  Studio_Universal Pictures  Studio_Unknown  \\\n",
              "0                       0.0                        0.0             0.0   \n",
              "1                       0.0                        0.0             0.0   \n",
              "2                       0.0                        0.0             0.0   \n",
              "3                       0.0                        0.0             0.0   \n",
              "4                       0.0                        0.0             0.0   \n",
              "...                     ...                        ...             ...   \n",
              "4791                    0.0                        0.0             0.0   \n",
              "4792                    0.0                        0.0             0.0   \n",
              "4793                    0.0                        0.0             0.0   \n",
              "4794                    0.0                        0.0             0.0   \n",
              "4795                    0.0                        0.0             0.0   \n",
              "\n",
              "      Studio_Walt Disney  Studio_Walt Disney Pictures  Studio_Warner Bros.  \\\n",
              "0                    0.0                          0.0                  0.0   \n",
              "1                    0.0                          0.0                  0.0   \n",
              "2                    0.0                          0.0                  0.0   \n",
              "3                    0.0                          0.0                  0.0   \n",
              "4                    0.0                          0.0                  0.0   \n",
              "...                  ...                          ...                  ...   \n",
              "4791                 0.0                          0.0                  0.0   \n",
              "4792                 0.0                          0.0                  0.0   \n",
              "4793                 0.0                          0.0                  1.0   \n",
              "4794                 0.0                          0.0                  0.0   \n",
              "4795                 0.0                          0.0                  0.0   \n",
              "\n",
              "      Studio_Warner Bros. Pictures  Studio_Warner Home Vídeo  \\\n",
              "0                              0.0                       1.0   \n",
              "1                              0.0                       0.0   \n",
              "2                              1.0                       0.0   \n",
              "3                              0.0                       0.0   \n",
              "4                              0.0                       0.0   \n",
              "...                            ...                       ...   \n",
              "4791                           0.0                       0.0   \n",
              "4792                           0.0                       0.0   \n",
              "4793                           0.0                       0.0   \n",
              "4794                           0.0                       0.0   \n",
              "4795                           0.0                       0.0   \n",
              "\n",
              "      Studio_Weinstein Co.  \n",
              "0                      0.0  \n",
              "1                      0.0  \n",
              "2                      0.0  \n",
              "3                      0.0  \n",
              "4                      0.0  \n",
              "...                    ...  \n",
              "4791                   0.0  \n",
              "4792                   0.0  \n",
              "4793                   0.0  \n",
              "4794                   0.0  \n",
              "4795                   0.0  \n",
              "\n",
              "[4796 rows x 133 columns]"
            ]
          },
          "execution_count": 385,
          "metadata": {},
          "output_type": "execute_result"
        }
      ],
      "source": [
        "X"
      ]
    },
    {
      "cell_type": "markdown",
      "metadata": {
        "id": "F1lnA_4U27U1"
      },
      "source": [
        "Standard Scaling"
      ]
    },
    {
      "cell_type": "code",
      "execution_count": 386,
      "metadata": {
        "id": "fL9Q_asC28th"
      },
      "outputs": [],
      "source": [
        "scaler_X = StandardScaler()\n",
        "scaler_y = StandardScaler()\n",
        "columns_to_scale = numerical_features\n",
        "\n",
        "X[columns_to_scale] = scaler_X.fit_transform(X[columns_to_scale])\n",
        "y = scaler_y.fit_transform(y.values.reshape(-1, 1))\n",
        "\n",
        "y = y.flatten()\n",
        "X = X.values\n"
      ]
    },
    {
      "cell_type": "markdown",
      "metadata": {
        "id": "K06nineo2_EO"
      },
      "source": [
        "Train Test Split"
      ]
    },
    {
      "cell_type": "code",
      "execution_count": 387,
      "metadata": {
        "id": "EDFmvhP93Aq_"
      },
      "outputs": [],
      "source": [
        "X_train, X_test, y_train, y_test = train_test_split(X, y, test_size=0.3, random_state=42)"
      ]
    },
    {
      "cell_type": "markdown",
      "metadata": {
        "id": "7vuq-x1D3Ck-"
      },
      "source": [
        "XGBoots"
      ]
    },
    {
      "cell_type": "code",
      "execution_count": 388,
      "metadata": {
        "colab": {
          "base_uri": "https://localhost:8080/"
        },
        "id": "OYSylZwn3D74",
        "outputId": "9a8789ff-6331-42b4-fa3b-89b99dbee538"
      },
      "outputs": [
        {
          "name": "stdout",
          "output_type": "stream",
          "text": [
            "Individual Fold R² Scores: [0.62554788 0.61809597 0.58748999 0.5892082  0.61252865]\n",
            "Mean R² Score: 0.6065741379020683\n",
            "Standard Deviation of R² Score: 0.01545310566814579\n"
          ]
        }
      ],
      "source": [
        "model = XGBRegressor(n_estimators=100, learning_rate=0.1, max_depth=3, random_state=42, objective='reg:squarederror')\n",
        "\n",
        "model.fit(X_train, y_train)\n",
        "\n",
        "y_pred = model.predict(X_test)\n",
        "\n",
        "mae = mean_absolute_error(y_test, y_pred)\n",
        "mse = mean_squared_error(y_test, y_pred)\n",
        "r2 = r2_score(y_test, y_pred)\n",
        "\n",
        "\n",
        "# Perform k-fold cross-validation with R² scoring\n",
        "kfold = KFold(n_splits=5, shuffle=True, random_state=42)\n",
        "\n",
        "# Perform cross-validation\n",
        "cv_scores = cross_val_score(model, X, y, cv=kfold, scoring='r2')\n",
        "\n",
        "# Print individual fold scores and average R² score\n",
        "print(\"Individual Fold R² Scores:\", cv_scores)\n",
        "print(\"Mean R² Score:\", np.mean(cv_scores))\n",
        "print(\"Standard Deviation of R² Score:\", np.std(cv_scores))"
      ]
    },
    {
      "cell_type": "markdown",
      "metadata": {
        "id": "v_ZySkCj3OhZ"
      },
      "source": [
        "KNN"
      ]
    },
    {
      "cell_type": "code",
      "execution_count": 389,
      "metadata": {
        "colab": {
          "base_uri": "https://localhost:8080/"
        },
        "id": "DbcgnbqH3QOf",
        "outputId": "3938673f-c1c2-4bd8-ac2e-74e99cb73422"
      },
      "outputs": [
        {
          "name": "stdout",
          "output_type": "stream",
          "text": [
            "Individual Fold R² Scores: [0.57136125 0.60157361 0.57793571 0.55061497 0.53665034]\n",
            "Mean R² Score: 0.5676271759513233\n",
            "Standard Deviation of R² Score: 0.02245684275876875\n"
          ]
        }
      ],
      "source": [
        "model = KNeighborsRegressor(n_neighbors=20)\n",
        "\n",
        "model.fit(X_train, y_train)\n",
        "\n",
        "y_pred = model.predict(X_test)\n",
        "\n",
        "mae = mean_absolute_error(y_test, y_pred)\n",
        "mse = mean_squared_error(y_test, y_pred)\n",
        "r2 = r2_score(y_test, y_pred)\n",
        "\n",
        "# Perform k-fold cross-validation with R² scoring\n",
        "kfold = KFold(n_splits=5, shuffle=True, random_state=42)\n",
        "\n",
        "# Perform cross-validation\n",
        "cv_scores = cross_val_score(model, X, y, cv=kfold, scoring='r2')\n",
        "\n",
        "# Print individual fold scores and average R² score\n",
        "print(\"Individual Fold R² Scores:\", cv_scores)\n",
        "print(\"Mean R² Score:\", np.mean(cv_scores))\n",
        "print(\"Standard Deviation of R² Score:\", np.std(cv_scores))"
      ]
    },
    {
      "cell_type": "markdown",
      "metadata": {
        "id": "8KW4X7sg3nfd"
      },
      "source": [
        "Decision Tree"
      ]
    },
    {
      "cell_type": "code",
      "execution_count": 390,
      "metadata": {
        "colab": {
          "base_uri": "https://localhost:8080/"
        },
        "id": "-xhF0DKn3pT8",
        "outputId": "e9cab94c-e98e-4f95-8917-f3de63163ba4"
      },
      "outputs": [
        {
          "name": "stdout",
          "output_type": "stream",
          "text": [
            "Individual Fold R² Scores: [0.1702308  0.25536195 0.28126695 0.26350135 0.13030971]\n",
            "Mean R² Score: 0.22013415198246694\n",
            "Standard Deviation of R² Score: 0.05902153179557012\n"
          ]
        }
      ],
      "source": [
        "model = DecisionTreeRegressor(random_state=42)\n",
        "\n",
        "model.fit(X_train, y_train)\n",
        "\n",
        "y_pred = model.predict(X_test)\n",
        "\n",
        "mae = mean_absolute_error(y_test, y_pred)\n",
        "mse = mean_squared_error(y_test, y_pred)\n",
        "r2 = r2_score(y_test, y_pred)\n",
        "\n",
        "# Perform k-fold cross-validation with R² scoring\n",
        "kfold = KFold(n_splits=5, shuffle=True, random_state=42)\n",
        "\n",
        "# Perform cross-validation\n",
        "cv_scores = cross_val_score(model, X, y, cv=kfold, scoring='r2')\n",
        "\n",
        "# Print individual fold scores and average R² score\n",
        "print(\"Individual Fold R² Scores:\", cv_scores)\n",
        "print(\"Mean R² Score:\", np.mean(cv_scores))\n",
        "print(\"Standard Deviation of R² Score:\", np.std(cv_scores))"
      ]
    },
    {
      "cell_type": "markdown",
      "metadata": {
        "id": "ABYU98Sq4FYz"
      },
      "source": [
        "Random Forest"
      ]
    },
    {
      "cell_type": "code",
      "execution_count": 391,
      "metadata": {
        "colab": {
          "base_uri": "https://localhost:8080/"
        },
        "id": "bqQzFo0e4GvG",
        "outputId": "99ac9528-edae-44c0-cdc4-7bcd44b2b5a1"
      },
      "outputs": [
        {
          "name": "stdout",
          "output_type": "stream",
          "text": [
            "Individual Fold R² Scores: [0.60229957 0.5957133  0.58929816 0.57089896 0.56866733]\n",
            "Mean R² Score: 0.5853754637348194\n",
            "Standard Deviation of R² Score: 0.013397124440563407\n"
          ]
        }
      ],
      "source": [
        "model = RandomForestRegressor(n_estimators=100, random_state=42)\n",
        "\n",
        "model.fit(X_train, y_train)\n",
        "\n",
        "y_pred = model.predict(X_test)\n",
        "\n",
        "mae = mean_absolute_error(y_test, y_pred)\n",
        "mse = mean_squared_error(y_test, y_pred)\n",
        "r2 = r2_score(y_test, y_pred)\n",
        "\n",
        "# Perform k-fold cross-validation with R² scoring\n",
        "kfold = KFold(n_splits=5, shuffle=True, random_state=42)\n",
        "\n",
        "# Perform cross-validation\n",
        "cv_scores = cross_val_score(model, X, y, cv=kfold, scoring='r2')\n",
        "\n",
        "# Print individual fold scores and average R² score\n",
        "print(\"Individual Fold R² Scores:\", cv_scores)\n",
        "print(\"Mean R² Score:\", np.mean(cv_scores))\n",
        "print(\"Standard Deviation of R² Score:\", np.std(cv_scores))"
      ]
    },
    {
      "cell_type": "markdown",
      "metadata": {
        "id": "3-PH43jP4V0G"
      },
      "source": [
        "Neural Network"
      ]
    },
    {
      "cell_type": "code",
      "execution_count": 392,
      "metadata": {
        "id": "vRyVSLpX4iTM"
      },
      "outputs": [],
      "source": [
        "import torch\n",
        "from torch import nn"
      ]
    },
    {
      "cell_type": "markdown",
      "metadata": {
        "id": "4q6SfXhY4boZ"
      },
      "source": [
        "Convert Numpy Array To Tensor"
      ]
    },
    {
      "cell_type": "code",
      "execution_count": 393,
      "metadata": {
        "id": "1_oYoln64Zap"
      },
      "outputs": [],
      "source": [
        "X_train = torch.from_numpy(X_train).type(torch.float32)\n",
        "X_test = torch.from_numpy(X_test).type(torch.float32)\n",
        "y_train = torch.from_numpy(y_train).type(torch.float32).squeeze()\n",
        "y_test = torch.from_numpy(y_test).type(torch.float32)"
      ]
    },
    {
      "cell_type": "markdown",
      "metadata": {
        "id": "fTKGhbyF4pAy"
      },
      "source": [
        "Setup Device Agnostic Code"
      ]
    },
    {
      "cell_type": "code",
      "execution_count": 394,
      "metadata": {
        "colab": {
          "base_uri": "https://localhost:8080/",
          "height": 36
        },
        "id": "CWjZDNQk4tQy",
        "outputId": "9e65ff4d-943c-4dd5-89b9-96e2b788534d"
      },
      "outputs": [
        {
          "data": {
            "application/vnd.google.colaboratory.intrinsic+json": {
              "type": "string"
            },
            "text/plain": [
              "'cpu'"
            ]
          },
          "execution_count": 394,
          "metadata": {},
          "output_type": "execute_result"
        }
      ],
      "source": [
        "device = 'cuda' if torch.cuda.is_available() else 'cpu'\n",
        "device"
      ]
    },
    {
      "cell_type": "markdown",
      "metadata": {
        "id": "_RnQufjR4vvg"
      },
      "source": [
        "Define Model"
      ]
    },
    {
      "cell_type": "code",
      "execution_count": 395,
      "metadata": {
        "id": "cYTKpfzD43Zt"
      },
      "outputs": [],
      "source": [
        "class Regression_NN(nn.Module):\n",
        "  def __init__(self):\n",
        "    super().__init__()\n",
        "    self.layer_1 = nn.Sequential(\n",
        "        nn.Linear(in_features = 133, out_features = 128),\n",
        "        nn.ReLU(),\n",
        "        nn.Linear(in_features = 128, out_features = 64),\n",
        "        nn.ReLU(),\n",
        "        nn.Linear(in_features = 64, out_features = 32),\n",
        "        nn.ReLU(),\n",
        "        nn.Linear(in_features = 32, out_features = 16),\n",
        "        nn.ReLU(),\n",
        "\n",
        "    )\n",
        "    self.layer_2 = nn.Sequential(\n",
        "        nn.Linear(in_features = 16, out_features = 1),\n",
        "\n",
        "    )\n",
        "  def forward(self, x):\n",
        "    x = self.layer_1(x)\n",
        "    x = self.layer_2(x)\n",
        "    return x"
      ]
    },
    {
      "cell_type": "markdown",
      "metadata": {
        "id": "-dpWli8c49xC"
      },
      "source": [
        "Loss Function And Optimizer"
      ]
    },
    {
      "cell_type": "code",
      "execution_count": 396,
      "metadata": {
        "id": "Ut4YavCc46JO"
      },
      "outputs": [],
      "source": [
        "model = Regression_NN().to(device)\n",
        "loss_function = nn.SmoothL1Loss()\n",
        "\n",
        "optimizer = torch.optim.SGD(params = model.parameters(), lr = 0.01, momentum = 0.9)\n"
      ]
    },
    {
      "cell_type": "markdown",
      "metadata": {
        "id": "zBeI8SR75CCa"
      },
      "source": [
        "Train Model"
      ]
    },
    {
      "cell_type": "code",
      "execution_count": 397,
      "metadata": {
        "colab": {
          "base_uri": "https://localhost:8080/"
        },
        "id": "bBl3Hy_K4__a",
        "outputId": "bdd1d045-dd02-4a56-c8cb-d0d78dc3db1b"
      },
      "outputs": [
        {
          "name": "stdout",
          "output_type": "stream",
          "text": [
            "Epoch: 1, Loss: 0.3765, Test Loss: 0.3867, Test Accuracy (R2): -0.0082\n",
            "Epoch: 100, Loss: 0.3718, Test Loss: 0.3805, Test Accuracy (R2): -0.0026\n",
            "Epoch: 200, Loss: 0.3324, Test Loss: 0.3379, Test Accuracy (R2): 0.1173\n",
            "Epoch: 300, Loss: 0.1797, Test Loss: 0.1901, Test Accuracy (R2): 0.5636\n",
            "Epoch: 400, Loss: 0.1683, Test Loss: 0.1806, Test Accuracy (R2): 0.5904\n",
            "Epoch: 500, Loss: 0.1615, Test Loss: 0.1748, Test Accuracy (R2): 0.6049\n",
            "Epoch: 600, Loss: 0.1555, Test Loss: 0.1701, Test Accuracy (R2): 0.6170\n",
            "Epoch: 700, Loss: 0.1495, Test Loss: 0.1662, Test Accuracy (R2): 0.6270\n",
            "Epoch: 800, Loss: 0.1434, Test Loss: 0.1626, Test Accuracy (R2): 0.6361\n",
            "Epoch: 900, Loss: 0.1371, Test Loss: 0.1599, Test Accuracy (R2): 0.6431\n",
            "Epoch: 1000, Loss: 0.1306, Test Loss: 0.1584, Test Accuracy (R2): 0.6474\n"
          ]
        }
      ],
      "source": [
        "torch.manual_seed(42)\n",
        "\n",
        "epochs = 1000\n",
        "\n",
        "X_train = X_train.to(device)\n",
        "X_test = X_test.to(device)\n",
        "y_train = y_train.to(device)\n",
        "y_test = y_test.to(device)\n",
        "\n",
        "for epoch in range(epochs):\n",
        "  model.train()\n",
        "  y_pred = model(X_train).squeeze()\n",
        "\n",
        "  loss = loss_function(y_pred, y_train)\n",
        "\n",
        "  optimizer.zero_grad()\n",
        "\n",
        "  loss.backward()\n",
        "\n",
        "  optimizer.step()\n",
        "\n",
        "  model.eval()\n",
        "\n",
        "  with torch.inference_mode():\n",
        "    test_pred = model(X_test).squeeze()\n",
        "    test_loss = loss_function(test_pred, y_test)\n",
        "    test_accuracy = r2_score(y_test.cpu().numpy(), test_pred.cpu().numpy())\n",
        "  if epoch == 0 or (epoch + 1)  % 100 == 0:\n",
        "    print(f\"Epoch: {epoch + 1}, Loss: {loss.item():.4f}, Test Loss: {test_loss.item():.4f}, Test Accuracy (R2): {test_accuracy:.4f}\")\n"
      ]
    },
    {
      "cell_type": "markdown",
      "metadata": {
        "id": "PTnuxtLP5Kxi"
      },
      "source": [
        "Evaluation"
      ]
    },
    {
      "cell_type": "code",
      "execution_count": 398,
      "metadata": {
        "colab": {
          "base_uri": "https://localhost:8080/"
        },
        "id": "E6t78-NS5MB5",
        "outputId": "a2de2216-701a-4d67-b508-ea0930a1d3d1"
      },
      "outputs": [
        {
          "name": "stdout",
          "output_type": "stream",
          "text": [
            "Neural Network Report\n",
            "MAE: 0.4181346\n",
            "MSE: 0.3650739\n",
            "R2: 0.647369833017033\n"
          ]
        }
      ],
      "source": [
        "with torch.inference_mode():\n",
        "    y_pred = model(X_test).squeeze()\n",
        "\n",
        "mae = mean_absolute_error(y_test, y_pred)\n",
        "mse = mean_squared_error(y_test, y_pred)\n",
        "r2 = r2_score(y_test, y_pred)\n",
        "\n",
        "print(\"Neural Network Report\")\n",
        "print('MAE:', mae)\n",
        "print('MSE:', mse)\n",
        "print('R2:', r2)\n"
      ]
    }
  ],
  "metadata": {
    "colab": {
      "machine_shape": "hm",
      "provenance": []
    },
    "kernelspec": {
      "display_name": "Python 3",
      "name": "python3"
    },
    "language_info": {
      "codemirror_mode": {
        "name": "ipython",
        "version": 3
      },
      "file_extension": ".py",
      "mimetype": "text/x-python",
      "name": "python",
      "nbconvert_exporter": "python",
      "pygments_lexer": "ipython3",
      "version": "3.11.9"
    }
  },
  "nbformat": 4,
  "nbformat_minor": 0
}
