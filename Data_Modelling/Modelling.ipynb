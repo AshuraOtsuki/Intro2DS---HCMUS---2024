{
  "cells": [
    {
      "cell_type": "markdown",
      "metadata": {
        "id": "-yZGKAZheOFm"
      },
      "source": [
        "# Table of contents\n",
        "1. [Libraries](#libraries)\n",
        "2. [Question](#quesion)\n",
        "3. [Data Preparation](#preparation)\n",
        "4. [Modelling](#modelling)\n",
        "5. [Evaluation](#evaluation)"
      ]
    },
    {
      "cell_type": "markdown",
      "metadata": {
        "id": "7HoTNE89eOFo"
      },
      "source": [
        "<h1 id =\"libraries\">1. Libraries </h1>"
      ]
    },
    {
      "cell_type": "code",
      "execution_count": 102,
      "metadata": {
        "id": "CdWGOC7ZeOFp"
      },
      "outputs": [],
      "source": [
        "import numpy as np\n",
        "import matplotlib.pyplot as plt\n",
        "import pandas as pd\n",
        "import seaborn as sns\n",
        "from sklearn.model_selection import train_test_split\n",
        "from sklearn.feature_selection import SelectKBest, chi2, f_classif, f_regression\n",
        "from sklearn.compose import ColumnTransformer\n",
        "from sklearn.pipeline import Pipeline\n",
        "from sklearn.preprocessing import StandardScaler, OneHotEncoder\n",
        "from sklearn.metrics import mean_squared_error, r2_score, mean_absolute_error\n",
        "from xgboost import XGBRegressor\n",
        "from sklearn.model_selection import KFold, cross_val_score\n",
        "from sklearn.metrics import accuracy_score\n",
        "from sklearn.impute import SimpleImputer"
      ]
    },
    {
      "cell_type": "markdown",
      "metadata": {
        "id": "20_VnvbJeOFp"
      },
      "source": [
        "<h1 id = \"question\">2. Question </h1>\n",
        "\n",
        "**A question:** Predict the gross of movies\n",
        "\n",
        "**Answering this question will help us:**"
      ]
    },
    {
      "cell_type": "markdown",
      "metadata": {
        "id": "s0ED9g6qeOFq"
      },
      "source": [
        "<h1 id = 'preparation'>3. Data Preparation </h1>"
      ]
    },
    {
      "cell_type": "code",
      "execution_count": 91,
      "metadata": {
        "id": "jSk-ZC1beOFq"
      },
      "outputs": [],
      "source": [
        "data = pd.read_csv('/content/preprocessed_data.csv')"
      ]
    },
    {
      "cell_type": "code",
      "execution_count": 92,
      "metadata": {
        "id": "GgvwbRqKeOFq"
      },
      "outputs": [],
      "source": [
        "data['Total Gross'] = data['Worldwide Gross'] + data['Domestic Gross']"
      ]
    },
    {
      "cell_type": "code",
      "execution_count": 93,
      "metadata": {
        "id": "xY9uFMCSeOFs"
      },
      "outputs": [],
      "source": [
        "# Read the inflation data into a DataFrame\n",
        "inflation_data = pd.read_csv('inflation_rate.csv')\n",
        "\n",
        "# Create DataFrame for inflation data\n",
        "inflation_df = pd.DataFrame(inflation_data)\n",
        "\n",
        "data['Year'] = pd.to_datetime(data['Release Date']).dt.year\n",
        "\n",
        "# Merge inflation data with your movie data on 'Year'\n",
        "data = data.merge(inflation_df, on='Year', how='left')\n",
        "\n",
        "# Adjust the economic columns by dividing them by the 'Unit' (inflation adjustment factor)\n",
        "economic_features = ['Production Budget', 'Domestic Gross', 'Worldwide Gross', 'Total Gross']\n",
        "\n",
        "for feature in economic_features:\n",
        "    data[feature] = data[feature] * (data['Unit'] / data['Unit'].iloc[-1])\n",
        "\n",
        "# The adjusted columns will now reflect the true values after inflation adjustment"
      ]
    },
    {
      "cell_type": "markdown",
      "metadata": {
        "id": "LF2C2teOeOFs"
      },
      "source": [
        "- Apply log transformation"
      ]
    },
    {
      "cell_type": "code",
      "execution_count": 94,
      "metadata": {
        "id": "7bsLQr56eOFs"
      },
      "outputs": [],
      "source": [
        "data['Production Budget'] = (data['Production Budget'] + 1).apply(np.log)\n",
        "data['Worldwide Gross'] = (data['Worldwide Gross'] + 1).apply(np.log)\n",
        "data['Domestic Gross'] = (data['Domestic Gross'] + 1).apply(np.log)\n",
        "data['Total Gross'] = (data['Total Gross'] + 1).apply(np.log)"
      ]
    },
    {
      "cell_type": "markdown",
      "source": [
        "columns\n"
      ],
      "metadata": {
        "id": "M69YoavofVWF"
      }
    },
    {
      "cell_type": "code",
      "source": [
        "data = data.drop(columns=['Cast', 'Director'])"
      ],
      "metadata": {
        "id": "QKRU3VPsfhYQ"
      },
      "execution_count": 95,
      "outputs": []
    },
    {
      "cell_type": "code",
      "source": [
        "# data['Mean UserScore'] = (data['Tomatoes UserScore']+data['Meta UserScore'])/2\n",
        "# data['Mean CriticScore'] = (data['Tomatoes CriticScore']+data['Metascore'])/2\n",
        "\n",
        "data = data.drop(columns = 'Year')\n",
        "\n",
        "data['Year'] = pd.to_datetime(data['Release Date']).dt.year\n",
        "data['Month'] = pd.to_datetime(data['Release Date']).dt.month"
      ],
      "metadata": {
        "id": "XPDi8xWsfm5O"
      },
      "execution_count": 96,
      "outputs": []
    },
    {
      "cell_type": "code",
      "source": [
        "data = data.drop(columns = 'Release Date')\n",
        "data = data.drop(columns = 'Year')"
      ],
      "metadata": {
        "id": "UVgId3BOfrkg"
      },
      "execution_count": 97,
      "outputs": []
    },
    {
      "cell_type": "code",
      "source": [
        "data.columns"
      ],
      "metadata": {
        "colab": {
          "base_uri": "https://localhost:8080/"
        },
        "id": "9OXuesnrfU8s",
        "outputId": "4e41d946-b4eb-415d-d5b0-af2f7171af42"
      },
      "execution_count": 98,
      "outputs": [
        {
          "output_type": "execute_result",
          "data": {
            "text/plain": [
              "Index(['Title', 'Tomatoes CriticScore', 'Tomatoes UserScore', 'Genre',\n",
              "       'Rating', 'Studio', 'Production Budget', 'Domestic Gross',\n",
              "       'Worldwide Gross', 'Metascore', 'Meta UserScore', 'Total Gross', 'Rate',\n",
              "       'Unit', 'Month'],\n",
              "      dtype='object')"
            ]
          },
          "metadata": {},
          "execution_count": 98
        }
      ]
    },
    {
      "cell_type": "code",
      "source": [
        "data.head(5)"
      ],
      "metadata": {
        "colab": {
          "base_uri": "https://localhost:8080/",
          "height": 399
        },
        "id": "XfkdpzgpgtMS",
        "outputId": "b8ddf8de-9999-4b3d-847c-b4a5946cbd7f"
      },
      "execution_count": 99,
      "outputs": [
        {
          "output_type": "execute_result",
          "data": {
            "text/plain": [
              "               Title  Tomatoes CriticScore  Tomatoes UserScore  \\\n",
              "0  L.A. Confidential                  99.0                94.0   \n",
              "1      The Godfather                  97.0                98.0   \n",
              "2         Casablanca                  99.0                95.0   \n",
              "3           Parasite                  99.0                90.0   \n",
              "4  Top Gun: Maverick                  96.0                99.0   \n",
              "\n",
              "                                       Genre Rating                 Studio  \\\n",
              "0                         ['Crime', 'Drama']      R      Warner Home Vídeo   \n",
              "1                         ['Crime', 'Drama']      R     Paramount Pictures   \n",
              "2                                  ['Drama']     PG  Warner Bros. Pictures   \n",
              "3  ['Comedy', 'Mystery & Thriller', 'Drama']      R                   Neon   \n",
              "4                    ['Action', 'Adventure']  PG-13     Paramount Pictures   \n",
              "\n",
              "   Production Budget  Domestic Gross  Worldwide Gross  Metascore  \\\n",
              "0          17.980850       18.593793        19.263409       91.0   \n",
              "1          17.702056       20.672324        21.354595      100.0   \n",
              "2          16.686983       18.996521        19.006477      100.0   \n",
              "3          16.428409       17.937554        19.494757       97.0   \n",
              "4          18.951309       20.393000        21.104712       78.0   \n",
              "\n",
              "   Meta UserScore  Total Gross  Rate    Unit  Month  \n",
              "0            86.0    19.676780   1.7   1.949      9  \n",
              "1            93.0    21.763699   3.4   7.374      3  \n",
              "2            87.0    19.694659   3.0  18.003      1  \n",
              "3            89.0    19.685976   2.3   1.224      5  \n",
              "4            84.0    21.504027   6.5   1.059      5  "
            ],
            "text/html": [
              "\n",
              "  <div id=\"df-f7695da1-11b8-41dd-a667-17a1f32e2c8d\" class=\"colab-df-container\">\n",
              "    <div>\n",
              "<style scoped>\n",
              "    .dataframe tbody tr th:only-of-type {\n",
              "        vertical-align: middle;\n",
              "    }\n",
              "\n",
              "    .dataframe tbody tr th {\n",
              "        vertical-align: top;\n",
              "    }\n",
              "\n",
              "    .dataframe thead th {\n",
              "        text-align: right;\n",
              "    }\n",
              "</style>\n",
              "<table border=\"1\" class=\"dataframe\">\n",
              "  <thead>\n",
              "    <tr style=\"text-align: right;\">\n",
              "      <th></th>\n",
              "      <th>Title</th>\n",
              "      <th>Tomatoes CriticScore</th>\n",
              "      <th>Tomatoes UserScore</th>\n",
              "      <th>Genre</th>\n",
              "      <th>Rating</th>\n",
              "      <th>Studio</th>\n",
              "      <th>Production Budget</th>\n",
              "      <th>Domestic Gross</th>\n",
              "      <th>Worldwide Gross</th>\n",
              "      <th>Metascore</th>\n",
              "      <th>Meta UserScore</th>\n",
              "      <th>Total Gross</th>\n",
              "      <th>Rate</th>\n",
              "      <th>Unit</th>\n",
              "      <th>Month</th>\n",
              "    </tr>\n",
              "  </thead>\n",
              "  <tbody>\n",
              "    <tr>\n",
              "      <th>0</th>\n",
              "      <td>L.A. Confidential</td>\n",
              "      <td>99.0</td>\n",
              "      <td>94.0</td>\n",
              "      <td>['Crime', 'Drama']</td>\n",
              "      <td>R</td>\n",
              "      <td>Warner Home Vídeo</td>\n",
              "      <td>17.980850</td>\n",
              "      <td>18.593793</td>\n",
              "      <td>19.263409</td>\n",
              "      <td>91.0</td>\n",
              "      <td>86.0</td>\n",
              "      <td>19.676780</td>\n",
              "      <td>1.7</td>\n",
              "      <td>1.949</td>\n",
              "      <td>9</td>\n",
              "    </tr>\n",
              "    <tr>\n",
              "      <th>1</th>\n",
              "      <td>The Godfather</td>\n",
              "      <td>97.0</td>\n",
              "      <td>98.0</td>\n",
              "      <td>['Crime', 'Drama']</td>\n",
              "      <td>R</td>\n",
              "      <td>Paramount Pictures</td>\n",
              "      <td>17.702056</td>\n",
              "      <td>20.672324</td>\n",
              "      <td>21.354595</td>\n",
              "      <td>100.0</td>\n",
              "      <td>93.0</td>\n",
              "      <td>21.763699</td>\n",
              "      <td>3.4</td>\n",
              "      <td>7.374</td>\n",
              "      <td>3</td>\n",
              "    </tr>\n",
              "    <tr>\n",
              "      <th>2</th>\n",
              "      <td>Casablanca</td>\n",
              "      <td>99.0</td>\n",
              "      <td>95.0</td>\n",
              "      <td>['Drama']</td>\n",
              "      <td>PG</td>\n",
              "      <td>Warner Bros. Pictures</td>\n",
              "      <td>16.686983</td>\n",
              "      <td>18.996521</td>\n",
              "      <td>19.006477</td>\n",
              "      <td>100.0</td>\n",
              "      <td>87.0</td>\n",
              "      <td>19.694659</td>\n",
              "      <td>3.0</td>\n",
              "      <td>18.003</td>\n",
              "      <td>1</td>\n",
              "    </tr>\n",
              "    <tr>\n",
              "      <th>3</th>\n",
              "      <td>Parasite</td>\n",
              "      <td>99.0</td>\n",
              "      <td>90.0</td>\n",
              "      <td>['Comedy', 'Mystery &amp; Thriller', 'Drama']</td>\n",
              "      <td>R</td>\n",
              "      <td>Neon</td>\n",
              "      <td>16.428409</td>\n",
              "      <td>17.937554</td>\n",
              "      <td>19.494757</td>\n",
              "      <td>97.0</td>\n",
              "      <td>89.0</td>\n",
              "      <td>19.685976</td>\n",
              "      <td>2.3</td>\n",
              "      <td>1.224</td>\n",
              "      <td>5</td>\n",
              "    </tr>\n",
              "    <tr>\n",
              "      <th>4</th>\n",
              "      <td>Top Gun: Maverick</td>\n",
              "      <td>96.0</td>\n",
              "      <td>99.0</td>\n",
              "      <td>['Action', 'Adventure']</td>\n",
              "      <td>PG-13</td>\n",
              "      <td>Paramount Pictures</td>\n",
              "      <td>18.951309</td>\n",
              "      <td>20.393000</td>\n",
              "      <td>21.104712</td>\n",
              "      <td>78.0</td>\n",
              "      <td>84.0</td>\n",
              "      <td>21.504027</td>\n",
              "      <td>6.5</td>\n",
              "      <td>1.059</td>\n",
              "      <td>5</td>\n",
              "    </tr>\n",
              "  </tbody>\n",
              "</table>\n",
              "</div>\n",
              "    <div class=\"colab-df-buttons\">\n",
              "\n",
              "  <div class=\"colab-df-container\">\n",
              "    <button class=\"colab-df-convert\" onclick=\"convertToInteractive('df-f7695da1-11b8-41dd-a667-17a1f32e2c8d')\"\n",
              "            title=\"Convert this dataframe to an interactive table.\"\n",
              "            style=\"display:none;\">\n",
              "\n",
              "  <svg xmlns=\"http://www.w3.org/2000/svg\" height=\"24px\" viewBox=\"0 -960 960 960\">\n",
              "    <path d=\"M120-120v-720h720v720H120Zm60-500h600v-160H180v160Zm220 220h160v-160H400v160Zm0 220h160v-160H400v160ZM180-400h160v-160H180v160Zm440 0h160v-160H620v160ZM180-180h160v-160H180v160Zm440 0h160v-160H620v160Z\"/>\n",
              "  </svg>\n",
              "    </button>\n",
              "\n",
              "  <style>\n",
              "    .colab-df-container {\n",
              "      display:flex;\n",
              "      gap: 12px;\n",
              "    }\n",
              "\n",
              "    .colab-df-convert {\n",
              "      background-color: #E8F0FE;\n",
              "      border: none;\n",
              "      border-radius: 50%;\n",
              "      cursor: pointer;\n",
              "      display: none;\n",
              "      fill: #1967D2;\n",
              "      height: 32px;\n",
              "      padding: 0 0 0 0;\n",
              "      width: 32px;\n",
              "    }\n",
              "\n",
              "    .colab-df-convert:hover {\n",
              "      background-color: #E2EBFA;\n",
              "      box-shadow: 0px 1px 2px rgba(60, 64, 67, 0.3), 0px 1px 3px 1px rgba(60, 64, 67, 0.15);\n",
              "      fill: #174EA6;\n",
              "    }\n",
              "\n",
              "    .colab-df-buttons div {\n",
              "      margin-bottom: 4px;\n",
              "    }\n",
              "\n",
              "    [theme=dark] .colab-df-convert {\n",
              "      background-color: #3B4455;\n",
              "      fill: #D2E3FC;\n",
              "    }\n",
              "\n",
              "    [theme=dark] .colab-df-convert:hover {\n",
              "      background-color: #434B5C;\n",
              "      box-shadow: 0px 1px 3px 1px rgba(0, 0, 0, 0.15);\n",
              "      filter: drop-shadow(0px 1px 2px rgba(0, 0, 0, 0.3));\n",
              "      fill: #FFFFFF;\n",
              "    }\n",
              "  </style>\n",
              "\n",
              "    <script>\n",
              "      const buttonEl =\n",
              "        document.querySelector('#df-f7695da1-11b8-41dd-a667-17a1f32e2c8d button.colab-df-convert');\n",
              "      buttonEl.style.display =\n",
              "        google.colab.kernel.accessAllowed ? 'block' : 'none';\n",
              "\n",
              "      async function convertToInteractive(key) {\n",
              "        const element = document.querySelector('#df-f7695da1-11b8-41dd-a667-17a1f32e2c8d');\n",
              "        const dataTable =\n",
              "          await google.colab.kernel.invokeFunction('convertToInteractive',\n",
              "                                                    [key], {});\n",
              "        if (!dataTable) return;\n",
              "\n",
              "        const docLinkHtml = 'Like what you see? Visit the ' +\n",
              "          '<a target=\"_blank\" href=https://colab.research.google.com/notebooks/data_table.ipynb>data table notebook</a>'\n",
              "          + ' to learn more about interactive tables.';\n",
              "        element.innerHTML = '';\n",
              "        dataTable['output_type'] = 'display_data';\n",
              "        await google.colab.output.renderOutput(dataTable, element);\n",
              "        const docLink = document.createElement('div');\n",
              "        docLink.innerHTML = docLinkHtml;\n",
              "        element.appendChild(docLink);\n",
              "      }\n",
              "    </script>\n",
              "  </div>\n",
              "\n",
              "\n",
              "<div id=\"df-5effd7ba-708e-4ddf-b329-c08d93040a4b\">\n",
              "  <button class=\"colab-df-quickchart\" onclick=\"quickchart('df-5effd7ba-708e-4ddf-b329-c08d93040a4b')\"\n",
              "            title=\"Suggest charts\"\n",
              "            style=\"display:none;\">\n",
              "\n",
              "<svg xmlns=\"http://www.w3.org/2000/svg\" height=\"24px\"viewBox=\"0 0 24 24\"\n",
              "     width=\"24px\">\n",
              "    <g>\n",
              "        <path d=\"M19 3H5c-1.1 0-2 .9-2 2v14c0 1.1.9 2 2 2h14c1.1 0 2-.9 2-2V5c0-1.1-.9-2-2-2zM9 17H7v-7h2v7zm4 0h-2V7h2v10zm4 0h-2v-4h2v4z\"/>\n",
              "    </g>\n",
              "</svg>\n",
              "  </button>\n",
              "\n",
              "<style>\n",
              "  .colab-df-quickchart {\n",
              "      --bg-color: #E8F0FE;\n",
              "      --fill-color: #1967D2;\n",
              "      --hover-bg-color: #E2EBFA;\n",
              "      --hover-fill-color: #174EA6;\n",
              "      --disabled-fill-color: #AAA;\n",
              "      --disabled-bg-color: #DDD;\n",
              "  }\n",
              "\n",
              "  [theme=dark] .colab-df-quickchart {\n",
              "      --bg-color: #3B4455;\n",
              "      --fill-color: #D2E3FC;\n",
              "      --hover-bg-color: #434B5C;\n",
              "      --hover-fill-color: #FFFFFF;\n",
              "      --disabled-bg-color: #3B4455;\n",
              "      --disabled-fill-color: #666;\n",
              "  }\n",
              "\n",
              "  .colab-df-quickchart {\n",
              "    background-color: var(--bg-color);\n",
              "    border: none;\n",
              "    border-radius: 50%;\n",
              "    cursor: pointer;\n",
              "    display: none;\n",
              "    fill: var(--fill-color);\n",
              "    height: 32px;\n",
              "    padding: 0;\n",
              "    width: 32px;\n",
              "  }\n",
              "\n",
              "  .colab-df-quickchart:hover {\n",
              "    background-color: var(--hover-bg-color);\n",
              "    box-shadow: 0 1px 2px rgba(60, 64, 67, 0.3), 0 1px 3px 1px rgba(60, 64, 67, 0.15);\n",
              "    fill: var(--button-hover-fill-color);\n",
              "  }\n",
              "\n",
              "  .colab-df-quickchart-complete:disabled,\n",
              "  .colab-df-quickchart-complete:disabled:hover {\n",
              "    background-color: var(--disabled-bg-color);\n",
              "    fill: var(--disabled-fill-color);\n",
              "    box-shadow: none;\n",
              "  }\n",
              "\n",
              "  .colab-df-spinner {\n",
              "    border: 2px solid var(--fill-color);\n",
              "    border-color: transparent;\n",
              "    border-bottom-color: var(--fill-color);\n",
              "    animation:\n",
              "      spin 1s steps(1) infinite;\n",
              "  }\n",
              "\n",
              "  @keyframes spin {\n",
              "    0% {\n",
              "      border-color: transparent;\n",
              "      border-bottom-color: var(--fill-color);\n",
              "      border-left-color: var(--fill-color);\n",
              "    }\n",
              "    20% {\n",
              "      border-color: transparent;\n",
              "      border-left-color: var(--fill-color);\n",
              "      border-top-color: var(--fill-color);\n",
              "    }\n",
              "    30% {\n",
              "      border-color: transparent;\n",
              "      border-left-color: var(--fill-color);\n",
              "      border-top-color: var(--fill-color);\n",
              "      border-right-color: var(--fill-color);\n",
              "    }\n",
              "    40% {\n",
              "      border-color: transparent;\n",
              "      border-right-color: var(--fill-color);\n",
              "      border-top-color: var(--fill-color);\n",
              "    }\n",
              "    60% {\n",
              "      border-color: transparent;\n",
              "      border-right-color: var(--fill-color);\n",
              "    }\n",
              "    80% {\n",
              "      border-color: transparent;\n",
              "      border-right-color: var(--fill-color);\n",
              "      border-bottom-color: var(--fill-color);\n",
              "    }\n",
              "    90% {\n",
              "      border-color: transparent;\n",
              "      border-bottom-color: var(--fill-color);\n",
              "    }\n",
              "  }\n",
              "</style>\n",
              "\n",
              "  <script>\n",
              "    async function quickchart(key) {\n",
              "      const quickchartButtonEl =\n",
              "        document.querySelector('#' + key + ' button');\n",
              "      quickchartButtonEl.disabled = true;  // To prevent multiple clicks.\n",
              "      quickchartButtonEl.classList.add('colab-df-spinner');\n",
              "      try {\n",
              "        const charts = await google.colab.kernel.invokeFunction(\n",
              "            'suggestCharts', [key], {});\n",
              "      } catch (error) {\n",
              "        console.error('Error during call to suggestCharts:', error);\n",
              "      }\n",
              "      quickchartButtonEl.classList.remove('colab-df-spinner');\n",
              "      quickchartButtonEl.classList.add('colab-df-quickchart-complete');\n",
              "    }\n",
              "    (() => {\n",
              "      let quickchartButtonEl =\n",
              "        document.querySelector('#df-5effd7ba-708e-4ddf-b329-c08d93040a4b button');\n",
              "      quickchartButtonEl.style.display =\n",
              "        google.colab.kernel.accessAllowed ? 'block' : 'none';\n",
              "    })();\n",
              "  </script>\n",
              "</div>\n",
              "\n",
              "    </div>\n",
              "  </div>\n"
            ],
            "application/vnd.google.colaboratory.intrinsic+json": {
              "type": "dataframe",
              "variable_name": "data",
              "summary": "{\n  \"name\": \"data\",\n  \"rows\": 5106,\n  \"fields\": [\n    {\n      \"column\": \"Title\",\n      \"properties\": {\n        \"dtype\": \"string\",\n        \"num_unique_values\": 5106,\n        \"samples\": [\n          \"American Splendor\",\n          \"The Impossible\",\n          \"The Devil Wears Prada\"\n        ],\n        \"semantic_type\": \"\",\n        \"description\": \"\"\n      }\n    },\n    {\n      \"column\": \"Tomatoes CriticScore\",\n      \"properties\": {\n        \"dtype\": \"number\",\n        \"std\": 26.875167971831484,\n        \"min\": 0.0,\n        \"max\": 100.0,\n        \"num_unique_values\": 648,\n        \"samples\": [\n          35.2,\n          55.45,\n          85.3\n        ],\n        \"semantic_type\": \"\",\n        \"description\": \"\"\n      }\n    },\n    {\n      \"column\": \"Tomatoes UserScore\",\n      \"properties\": {\n        \"dtype\": \"number\",\n        \"std\": 19.978180764653764,\n        \"min\": 0.0,\n        \"max\": 100.0,\n        \"num_unique_values\": 414,\n        \"samples\": [\n          70.3,\n          68.7,\n          35.5\n        ],\n        \"semantic_type\": \"\",\n        \"description\": \"\"\n      }\n    },\n    {\n      \"column\": \"Genre\",\n      \"properties\": {\n        \"dtype\": \"category\",\n        \"num_unique_values\": 682,\n        \"samples\": [\n          \"['Kids & Family', 'Adventure', 'Romance', 'Animation']\",\n          \"['Kids & Family', 'Drama', 'Animation']\",\n          \"['Fantasy', 'Adventure', 'Action']\"\n        ],\n        \"semantic_type\": \"\",\n        \"description\": \"\"\n      }\n    },\n    {\n      \"column\": \"Rating\",\n      \"properties\": {\n        \"dtype\": \"category\",\n        \"num_unique_values\": 10,\n        \"samples\": [\n          \"TV-14\",\n          \"PG\",\n          \"TV-PG\"\n        ],\n        \"semantic_type\": \"\",\n        \"description\": \"\"\n      }\n    },\n    {\n      \"column\": \"Studio\",\n      \"properties\": {\n        \"dtype\": \"category\",\n        \"num_unique_values\": 1160,\n        \"samples\": [\n          \"Selznick International Pictures\",\n          \"Duck Farm Films\",\n          \"Serendipity\"\n        ],\n        \"semantic_type\": \"\",\n        \"description\": \"\"\n      }\n    },\n    {\n      \"column\": \"Production Budget\",\n      \"properties\": {\n        \"dtype\": \"number\",\n        \"std\": 1.7068069082779556,\n        \"min\": 4.528325851922448,\n        \"max\": 20.478164364127974,\n        \"num_unique_values\": 2722,\n        \"samples\": [\n          18.35919705281837,\n          16.389786596492787,\n          13.205497503937433\n        ],\n        \"semantic_type\": \"\",\n        \"description\": \"\"\n      }\n    },\n    {\n      \"column\": \"Domestic Gross\",\n      \"properties\": {\n        \"dtype\": \"number\",\n        \"std\": 5.55446470079095,\n        \"min\": 0.0,\n        \"max\": 22.157514713484098,\n        \"num_unique_values\": 4569,\n        \"samples\": [\n          18.296637746419737,\n          19.068459148230847,\n          17.01639575616858\n        ],\n        \"semantic_type\": \"\",\n        \"description\": \"\"\n      }\n    },\n    {\n      \"column\": \"Worldwide Gross\",\n      \"properties\": {\n        \"dtype\": \"number\",\n        \"std\": 4.808787430986378,\n        \"min\": 0.0,\n        \"max\": 22.833287112715098,\n        \"num_unique_values\": 4775,\n        \"samples\": [\n          19.49856613479245,\n          19.227973838031772,\n          18.83462536234814\n        ],\n        \"semantic_type\": \"\",\n        \"description\": \"\"\n      }\n    },\n    {\n      \"column\": \"Metascore\",\n      \"properties\": {\n        \"dtype\": \"number\",\n        \"std\": 17.498627342102914,\n        \"min\": 1.0,\n        \"max\": 100.0,\n        \"num_unique_values\": 447,\n        \"samples\": [\n          49.9,\n          48.35,\n          40.5\n        ],\n        \"semantic_type\": \"\",\n        \"description\": \"\"\n      }\n    },\n    {\n      \"column\": \"Meta UserScore\",\n      \"properties\": {\n        \"dtype\": \"number\",\n        \"std\": 11.5558502063291,\n        \"min\": 8.0,\n        \"max\": 100.0,\n        \"num_unique_values\": 465,\n        \"samples\": [\n          61.25,\n          52.0,\n          78.8\n        ],\n        \"semantic_type\": \"\",\n        \"description\": \"\"\n      }\n    },\n    {\n      \"column\": \"Total Gross\",\n      \"properties\": {\n        \"dtype\": \"number\",\n        \"std\": 4.8947607692464565,\n        \"min\": 0.0,\n        \"max\": 23.24457742154975,\n        \"num_unique_values\": 4775,\n        \"samples\": [\n          19.967856979249742,\n          19.66998937020622,\n          19.194756617222996\n        ],\n        \"semantic_type\": \"\",\n        \"description\": \"\"\n      }\n    },\n    {\n      \"column\": \"Rate\",\n      \"properties\": {\n        \"dtype\": \"number\",\n        \"std\": 1.802227036873474,\n        \"min\": -9.3,\n        \"max\": 18.1,\n        \"num_unique_values\": 54,\n        \"samples\": [\n          6.1,\n          -2.1,\n          5.9\n        ],\n        \"semantic_type\": \"\",\n        \"description\": \"\"\n      }\n    },\n    {\n      \"column\": \"Unit\",\n      \"properties\": {\n        \"dtype\": \"number\",\n        \"std\": 1.9090176248724788,\n        \"min\": 1.0,\n        \"max\": 23.718,\n        \"num_unique_values\": 91,\n        \"samples\": [\n          1.339,\n          1.918,\n          8.318\n        ],\n        \"semantic_type\": \"\",\n        \"description\": \"\"\n      }\n    },\n    {\n      \"column\": \"Month\",\n      \"properties\": {\n        \"dtype\": \"int32\",\n        \"num_unique_values\": 12,\n        \"samples\": [\n          12,\n          10,\n          9\n        ],\n        \"semantic_type\": \"\",\n        \"description\": \"\"\n      }\n    }\n  ]\n}"
            }
          },
          "metadata": {},
          "execution_count": 99
        }
      ]
    },
    {
      "cell_type": "code",
      "source": [
        "numerical_features = ['Tomatoes CriticScore', 'Tomatoes UserScore',\n",
        "                      'Production Budget', 'Metascore', 'Meta UserScore']\n",
        "categorical_features = ['Genre', 'Rating', 'Studio', 'Month']\n",
        "\n",
        "numerical_transformer = Pipeline(steps=[\n",
        "    ('imputer', SimpleImputer(strategy='mean')),\n",
        "    ('scaler', StandardScaler())\n",
        "])\n",
        "\n",
        "categorical_transformer = Pipeline(steps=[\n",
        "    ('imputer', SimpleImputer(strategy='most_frequent')),\n",
        "    ('onehot', OneHotEncoder(handle_unknown='ignore'))\n",
        "])\n",
        "\n",
        "preprocessor = ColumnTransformer(\n",
        "    transformers=[\n",
        "        ('num', numerical_transformer, numerical_features),\n",
        "        ('cat', categorical_transformer, categorical_features)\n",
        "    ])\n",
        "\n",
        "feature_selector = SelectKBest(score_func=f_regression, k=15)\n",
        "\n",
        "xgb = XGBRegressor(n_estimators=100, learning_rate=0.1, max_depth=3,\n",
        "                   random_state=42, objective='reg:squarederror')\n",
        "\n",
        "pipeline = Pipeline(steps=[\n",
        "    ('preprocessor', preprocessor),\n",
        "    ('feature_selector', feature_selector),\n",
        "    ('model', xgb)\n",
        "])\n",
        "\n",
        "X = data[numerical_features+categorical_features]\n",
        "y = data['Total Gross']\n",
        "\n",
        "X_train, X_test, y_train, y_test = train_test_split(X, y, test_size=0.2, random_state=42)\n",
        "\n",
        "pipeline.fit(X_train, y_train)\n",
        "y_pred = pipeline.predict(X_test)\n",
        "\n",
        "# 8. Đánh giá kết quả\n",
        "mae = mean_absolute_error(y_test, y_pred)\n",
        "mse = mean_squared_error(y_test, y_pred)\n",
        "r2 = r2_score(y_test, y_pred)\n",
        "\n",
        "print('MAE:', mae)\n",
        "print('MSE:', mse)\n",
        "print('R2:', r2)"
      ],
      "metadata": {
        "colab": {
          "base_uri": "https://localhost:8080/"
        },
        "id": "TmFcVRd9g_yk",
        "outputId": "0ea49e6a-b7ff-425d-f57c-4d7e9d2dace1"
      },
      "execution_count": 115,
      "outputs": [
        {
          "output_type": "stream",
          "name": "stdout",
          "text": [
            "MAE: 1.9210003880601692\n",
            "MSE: 11.822507957482562\n",
            "R2: 0.5252887964233888\n"
          ]
        }
      ]
    },
    {
      "cell_type": "code",
      "source": [
        "from sklearn.model_selection import GridSearchCV, cross_val_score\n",
        "\n",
        "param_grid = {\n",
        "    'model__n_estimators': [50, 100, 200],         # Số lượng cây\n",
        "    'model__max_depth': [3, 6, 9],                 # Độ sâu tối đa của cây\n",
        "    'model__learning_rate': [0.01, 0.1, 0.2],     # Tốc độ học\n",
        "    'model__subsample': [0.8, 1.0],                # Tỷ lệ mẫu\n",
        "    'model__colsample_bytree': [0.8, 1.0]          # Tỷ lệ cột\n",
        "}\n",
        "\n",
        "grid_search = GridSearchCV(estimator=pipeline, param_grid=param_grid, cv=5, scoring='neg_mean_squared_error', n_jobs=-1, verbose=1)\n",
        "\n",
        "grid_search.fit(X_train, y_train)\n",
        "best_model = grid_search.best_estimator_\n",
        "y_pred = best_model.predict(X_test)\n",
        "mse = mean_squared_error(y_test, y_pred)\n",
        "r2 = best_model.score(X_test, y_test)\n",
        "print(f'Mean Squared Error: {mse}')\n",
        "print(f'R²: {r2}')"
      ],
      "metadata": {
        "colab": {
          "base_uri": "https://localhost:8080/"
        },
        "id": "7o25__BOlZdf",
        "outputId": "8165edd0-e738-4a91-f92d-eb88269cd9c7"
      },
      "execution_count": 118,
      "outputs": [
        {
          "output_type": "stream",
          "name": "stdout",
          "text": [
            "Fitting 5 folds for each of 108 candidates, totalling 540 fits\n",
            "Mean Squared Error: 11.877197690462554\n",
            "R²: 0.5230928301309927\n"
          ]
        }
      ]
    },
    {
      "cell_type": "code",
      "source": [
        "from sklearn.ensemble import GradientBoostingRegressor\n",
        "\n",
        "numerical_features = ['Tomatoes CriticScore', 'Tomatoes UserScore',\n",
        "                      'Production Budget', 'Metascore', 'Meta UserScore']\n",
        "categorical_features = ['Genre', 'Rating', 'Studio', 'Month']\n",
        "\n",
        "numerical_transformer = Pipeline(steps=[\n",
        "    ('imputer', SimpleImputer(strategy='mean')),\n",
        "    ('scaler', StandardScaler())\n",
        "])\n",
        "\n",
        "categorical_transformer = Pipeline(steps=[\n",
        "    ('imputer', SimpleImputer(strategy='most_frequent')),\n",
        "    ('onehot', OneHotEncoder(handle_unknown='ignore'))\n",
        "])\n",
        "\n",
        "preprocessor = ColumnTransformer(\n",
        "    transformers=[\n",
        "        ('num', numerical_transformer, numerical_features),\n",
        "        ('cat', categorical_transformer, categorical_features)\n",
        "    ])\n",
        "\n",
        "feature_selector = SelectKBest(score_func=f_regression, k=15)\n",
        "\n",
        "model = GradientBoostingRegressor(random_state=42)\n",
        "\n",
        "pipeline = Pipeline(steps=[\n",
        "    ('preprocessor', preprocessor),\n",
        "    ('feature_selector', feature_selector),\n",
        "    ('model', model)\n",
        "])\n",
        "\n",
        "X = data[numerical_features+categorical_features]\n",
        "y = data['Total Gross']\n",
        "\n",
        "X_train, X_test, y_train, y_test = train_test_split(X, y, test_size=0.2, random_state=42)\n",
        "\n",
        "pipeline.fit(X_train, y_train)\n",
        "y_pred = pipeline.predict(X_test)\n",
        "\n",
        "# 8. Đánh giá kết quả\n",
        "mae = mean_absolute_error(y_test, y_pred)\n",
        "mse = mean_squared_error(y_test, y_pred)\n",
        "r2 = r2_score(y_test, y_pred)\n",
        "\n",
        "print('MAE:', mae)\n",
        "print('MSE:', mse)\n",
        "print('R2:', r2)"
      ],
      "metadata": {
        "colab": {
          "base_uri": "https://localhost:8080/"
        },
        "id": "TDXL-Mg5l6OD",
        "outputId": "750ed187-931e-4711-dd74-ac8e55bc2ca4"
      },
      "execution_count": 120,
      "outputs": [
        {
          "output_type": "stream",
          "name": "stdout",
          "text": [
            "MAE: 1.9395402531587906\n",
            "MSE: 11.920507402381471\n",
            "R2: 0.5213538077894113\n"
          ]
        }
      ]
    },
    {
      "cell_type": "code",
      "source": [
        "from sklearn.model_selection import GridSearchCV, cross_val_score\n",
        "\n",
        "param_grid = {\n",
        "    'model__n_estimators': [50, 100, 200],          # Số lượng cây trong mô hình\n",
        "    'model__max_depth': [3, 5, 7],                  # Độ sâu của mỗi cây\n",
        "    'model__learning_rate': [0.01, 0.05, 0.1],      # Tốc độ học\n",
        "    'model__subsample': [0.8, 1.0],                 # Tỷ lệ mẫu\n",
        "}\n",
        "\n",
        "grid_search = GridSearchCV(estimator=pipeline, param_grid=param_grid, cv=5, scoring='neg_mean_squared_error', n_jobs=-1, verbose=1)\n",
        "\n",
        "grid_search.fit(X_train, y_train)\n",
        "best_model = grid_search.best_estimator_\n",
        "y_pred = best_model.predict(X_test)\n",
        "mse = mean_squared_error(y_test, y_pred)\n",
        "r2 = best_model.score(X_test, y_test)\n",
        "print(f'Mean Squared Error: {mse}')\n",
        "print(f'R²: {r2}')"
      ],
      "metadata": {
        "colab": {
          "base_uri": "https://localhost:8080/"
        },
        "id": "VhbN3WWUmeHG",
        "outputId": "254eb512-2672-4427-840b-53dce8d387c6"
      },
      "execution_count": 124,
      "outputs": [
        {
          "output_type": "stream",
          "name": "stdout",
          "text": [
            "Fitting 5 folds for each of 54 candidates, totalling 270 fits\n",
            "Mean Squared Error: 12.114641458467931\n",
            "R²: 0.5135587095114961\n"
          ]
        }
      ]
    },
    {
      "cell_type": "code",
      "source": [],
      "metadata": {
        "id": "hAiiL84rnFkW"
      },
      "execution_count": null,
      "outputs": []
    }
  ],
  "metadata": {
    "kernelspec": {
      "display_name": "Python 3",
      "name": "python3"
    },
    "language_info": {
      "codemirror_mode": {
        "name": "ipython",
        "version": 3
      },
      "file_extension": ".py",
      "mimetype": "text/x-python",
      "name": "python",
      "nbconvert_exporter": "python",
      "pygments_lexer": "ipython3",
      "version": "3.11.9"
    },
    "colab": {
      "provenance": [],
      "machine_shape": "hm"
    }
  },
  "nbformat": 4,
  "nbformat_minor": 0
}