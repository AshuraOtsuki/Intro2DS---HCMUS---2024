{
 "cells": [
  {
   "cell_type": "markdown",
   "metadata": {},
   "source": [
    "# Table of contents\n",
    "1. [Libraries](#libraries)\n",
    "2. [Numerical columns](#numerical)\n",
    "3. [Categorical columns](#categorical)\n",
    "\n"
   ]
  },
  {
   "cell_type": "markdown",
   "metadata": {},
   "source": [
    "<h1 id = \"libraries\"> 1. Libraries </h1>"
   ]
  },
  {
   "cell_type": "code",
   "execution_count": 6,
   "metadata": {},
   "outputs": [],
   "source": [
    "import numpy as np\n",
    "import matplotlib.pyplot as plt\n",
    "import pandas as pd\n",
    "import re\n",
    "import seaborn as sns\n",
    "from scipy.stats import sem\n",
    "\n",
    "from sklearn.impute import KNNImputer\n",
    "from sklearn.metrics import mean_absolute_error, mean_squared_error, r2_score\n",
    "from collections import Counter"
   ]
  },
  {
   "cell_type": "code",
   "execution_count": 7,
   "metadata": {},
   "outputs": [],
   "source": [
    "raw_data = pd.read_csv('../Data/retyped_data.csv')"
   ]
  },
  {
   "cell_type": "markdown",
   "metadata": {},
   "source": [
    "<div id = \"numerical\"> <h1> 2. Numerical columns </h1> </div>"
   ]
  },
  {
   "cell_type": "markdown",
   "metadata": {},
   "source": [
    "- Impute missing values using KNN strategy"
   ]
  },
  {
   "cell_type": "code",
   "execution_count": 8,
   "metadata": {},
   "outputs": [
    {
     "data": {
      "text/plain": [
       "Title                      0\n",
       "Tomatoes CriticScore       0\n",
       "Tomatoes UserScore         0\n",
       "Link                       0\n",
       "PlatformReleased           0\n",
       "Cast                      32\n",
       "Director                  35\n",
       "Genre                     46\n",
       "Rating                  1091\n",
       "Runtime                   70\n",
       "Studio                    47\n",
       "Release Date              75\n",
       "Production Budget          0\n",
       "Domestic Gross             0\n",
       "Worldwide Gross            0\n",
       "Metascore                  0\n",
       "Meta UserScore             0\n",
       "dtype: int64"
      ]
     },
     "execution_count": 8,
     "metadata": {},
     "output_type": "execute_result"
    }
   ],
   "source": [
    "# Prepare the data (numeric columns only)\n",
    "columns = ['Tomatoes CriticScore', 'Tomatoes UserScore', 'Metascore', 'Meta UserScore']\n",
    "\n",
    "# Copy raw data and scale 'Meta UserScore'\n",
    "data_tmp_2 = raw_data.copy()\n",
    "data_tmp_2['Meta UserScore'] = data_tmp_2['Meta UserScore'] * 10\n",
    "\n",
    "# Create an imputer\n",
    "knn_imputer = KNNImputer(n_neighbors=20, weights=\"uniform\")\n",
    "\n",
    "# Step 1: Apply KNN Imputation\n",
    "# Impute all missing values\n",
    "imputed_data = knn_imputer.fit_transform(data_tmp_2[columns])\n",
    "\n",
    "# Reconstruct the DataFrame with imputed values\n",
    "imputed_df = pd.DataFrame(imputed_data, columns=columns)\n",
    "\n",
    "# Step 2: Fill missing values only\n",
    "for col in columns:\n",
    "    # Update only rows where the value is NaN\n",
    "    data_tmp_2[col] = data_tmp_2[col].combine_first(imputed_df[col])\n",
    "\n",
    "data_tmp_2.isnull().sum()"
   ]
  },
  {
   "cell_type": "markdown",
   "metadata": {},
   "source": [
    "<div id = \"categorical\"> <h1> 3. Categorical columns </h1> </div>"
   ]
  },
  {
   "cell_type": "code",
   "execution_count": 9,
   "metadata": {},
   "outputs": [],
   "source": [
    "columns = ['Cast', 'Director', 'Genre', 'Rating', 'Studio', 'Release Date']"
   ]
  },
  {
   "cell_type": "markdown",
   "metadata": {},
   "source": [
    "<h3>Cast Column<h3>"
   ]
  },
  {
   "cell_type": "code",
   "execution_count": 10,
   "metadata": {},
   "outputs": [
    {
     "name": "stdout",
     "output_type": "stream",
     "text": [
      "Number of missing values in Cast: 32\n",
      "Number of missing values in Cast after Preprocess: 0\n"
     ]
    }
   ],
   "source": [
    "# First, let's look at the distribution of Cast data\n",
    "print(\"Number of missing values in Cast:\", data_tmp_2['Cast'].isnull().sum())\n",
    "\n",
    "# Create helper functions to process Cast\n",
    "def process_cast(cast_string):\n",
    "    \"\"\"Normalize Cast string\"\"\"\n",
    "    if pd.isna(cast_string):\n",
    "        return []\n",
    "    # Handle incorrect format cases\n",
    "    cast_string = str(cast_string)\n",
    "    cast_string = cast_string.replace('[', '').replace(']', '')  # Remove square brackets\n",
    "    # Split actors and remove extra whitespace\n",
    "    return [actor.strip() for actor in cast_string.split(',')]\n",
    "\n",
    "def get_similar_movies_for_cast(row, data, n_similar=5):\n",
    "    \"\"\"Find similar movies based on Director and Genre\"\"\"\n",
    "    # If both Director and Genre are missing, return random sample\n",
    "    if pd.isna(row['Director']) and pd.isna(row['Genre']):\n",
    "        return data.sample(n=n_similar)\n",
    "    \n",
    "    # Create initial mask for all rows\n",
    "    mask = pd.Series(True, index=data.index)\n",
    "    \n",
    "    # Filter by Director if available\n",
    "    if not pd.isna(row['Director']):\n",
    "        mask &= (data['Director'] == row['Director'])\n",
    "    # Filter by Genre if available  \n",
    "    if not pd.isna(row['Genre']):\n",
    "        mask &= (data['Genre'] == row['Genre'])\n",
    "    \n",
    "    # Get movies matching both filters\n",
    "    similar_movies = data[mask]\n",
    "\n",
    "    # If not enough similar movies, get more movies with same Director\n",
    "    if len(similar_movies) < n_similar and not pd.isna(row['Director']):\n",
    "        director_movies = data[data['Director'] == row['Director']]\n",
    "        # Combine and remove duplicates\n",
    "        similar_movies = pd.concat([similar_movies, director_movies]).drop_duplicates()\n",
    "    \n",
    "    # Return top n similar movies\n",
    "    return similar_movies.head(n_similar)\n",
    "\n",
    "def fill_cast(row, data):\n",
    "    \"\"\"Fill missing Cast based on similar movies\"\"\"\n",
    "    if pd.isna(row['Cast']):\n",
    "        similar_movies = get_similar_movies_for_cast(row, data)\n",
    "        # Get all casts from similar movies\n",
    "        all_casts = []\n",
    "        for _, movie in similar_movies.iterrows():\n",
    "            if not pd.isna(movie['Cast']):\n",
    "                all_casts.extend(process_cast(movie['Cast']))\n",
    "        \n",
    "        # Get the most frequent actors\n",
    "        if all_casts:\n",
    "            most_common = Counter(all_casts).most_common(3)\n",
    "            # Create string list with correct format\n",
    "            actors = [actor for actor, _ in most_common]\n",
    "            return f\"[{', '.join(f'{actor}' for actor in actors)}]\"\n",
    "        return 'Unknown Cast'\n",
    "    return row['Cast']\n",
    "\n",
    "# Save index of rows with missing Cast before filling\n",
    "missing_cast_idx = data_tmp_2[data_tmp_2['Cast'].isnull()].index\n",
    "\n",
    "# Apply missing values filling\n",
    "data_tmp_2['Cast'] = data_tmp_2.apply(lambda row: fill_cast(row, data_tmp_2), axis=1)\n",
    "\n",
    "print(\"Number of missing values in Cast after Preprocess:\", data_tmp_2['Cast'].isnull().sum())"
   ]
  },
  {
   "cell_type": "markdown",
   "metadata": {},
   "source": [
    "<h3>Director Column<h3>"
   ]
  },
  {
   "cell_type": "code",
   "execution_count": 11,
   "metadata": {},
   "outputs": [
    {
     "name": "stdout",
     "output_type": "stream",
     "text": [
      "Number of missing values in Director: 35\n",
      "Number of missing values in Director after Preprocess: 0\n"
     ]
    }
   ],
   "source": [
    "# First look at the distribution of Director\n",
    "print(\"Number of missing values in Director:\", data_tmp_2['Director'].isnull().sum())\n",
    "\n",
    "def get_similar_movies_for_director(row, data, n_similar=5):\n",
    "    \"\"\"Find similar movies based on Cast and Genre\"\"\"\n",
    "    if pd.isna(row['Cast']) and pd.isna(row['Genre']):\n",
    "        return data.sample(n=n_similar)\n",
    "    \n",
    "    mask = pd.Series(True, index=data.index)\n",
    "    \n",
    "    # Use filled Cast\n",
    "    if not pd.isna(row['Cast']):\n",
    "        # Get list of actors\n",
    "        row_cast = set(process_cast(row['Cast']))\n",
    "        # Find movies with at least 1 matching actor\n",
    "        cast_mask = data['Cast'].apply(lambda x: bool(row_cast.intersection(set(process_cast(x)))))\n",
    "        mask &= cast_mask\n",
    "    \n",
    "    if not pd.isna(row['Genre']):\n",
    "        mask &= (data['Genre'] == row['Genre'])\n",
    "    \n",
    "    similar_movies = data[mask]\n",
    "    \n",
    "    # If not enough similar movies, expand by Genre\n",
    "    if len(similar_movies) < n_similar and not pd.isna(row['Genre']):\n",
    "        genre_movies = data[data['Genre'] == row['Genre']]\n",
    "        similar_movies = pd.concat([similar_movies, genre_movies]).drop_duplicates()\n",
    "    \n",
    "    return similar_movies.head(n_similar)\n",
    "\n",
    "def fill_director(row, data):\n",
    "    \"\"\"Fill missing Director based on similar movies\"\"\"\n",
    "    if pd.isna(row['Director']):\n",
    "        similar_movies = get_similar_movies_for_director(row, data)\n",
    "        # Get directors from similar movies\n",
    "        directors = []\n",
    "        for _, movie in similar_movies.iterrows():\n",
    "            if not pd.isna(movie['Director']):\n",
    "                directors.append(movie['Director'])\n",
    "        \n",
    "        # Get most frequent director\n",
    "        if directors:\n",
    "            most_common = Counter(directors).most_common(1)\n",
    "            return most_common[0][0]\n",
    "        return 'Unknown Director'\n",
    "    return row['Director']\n",
    "\n",
    "# Save indices of rows with missing Director\n",
    "missing_director_idx = data_tmp_2[data_tmp_2['Director'].isnull()].index\n",
    "\n",
    "# Apply fill_director\n",
    "data_tmp_2['Director'] = data_tmp_2.apply(lambda row: fill_director(row, data_tmp_2), axis=1)\n",
    "\n",
    "# Print number of missing values after filling\n",
    "print(\"Number of missing values in Director after Preprocess:\", data_tmp_2['Director'].isnull().sum())"
   ]
  },
  {
   "cell_type": "markdown",
   "metadata": {},
   "source": [
    "<h3>Genre Column<h3>"
   ]
  },
  {
   "cell_type": "code",
   "execution_count": 12,
   "metadata": {},
   "outputs": [
    {
     "name": "stdout",
     "output_type": "stream",
     "text": [
      "Number of missing values in Genre: 46\n",
      "Number of missing values in Genre after Preprocess: 0\n"
     ]
    }
   ],
   "source": [
    "# First, let's look at the distribution of Genre data\n",
    "print(\"Number of missing values in Genre:\", data_tmp_2['Genre'].isnull().sum())\n",
    "\n",
    "# Create helper functions to process Genre\n",
    "def process_genre(genre_string):\n",
    "    \"\"\"Normalize Genre string\"\"\"\n",
    "    if pd.isna(genre_string):\n",
    "        return []\n",
    "    # Handle incorrect format cases\n",
    "    genre_string = str(genre_string)\n",
    "    genre_string = genre_string.replace('[', '').replace(']', '')  # Remove square brackets\n",
    "    # Split genres and remove extra whitespace\n",
    "    return [genre.strip() for genre in genre_string.split(',')]\n",
    "\n",
    "def get_similar_movies_for_genre(row, data, n_similar=5):\n",
    "    \"\"\"Find similar movies based on Cast and Director\"\"\"\n",
    "    if pd.isna(row['Cast']) and pd.isna(row['Director']):\n",
    "        return data.sample(n=n_similar)\n",
    "    \n",
    "    mask = pd.Series(True, index=data.index)\n",
    "    \n",
    "    # Filter by Cast if available\n",
    "    if not pd.isna(row['Cast']):\n",
    "        mask &= (data['Cast'] == row['Cast'])\n",
    "    \n",
    "    # Filter by Director if available\n",
    "    if not pd.isna(row['Director']):\n",
    "        mask &= (data['Director'] == row['Director'])\n",
    "    \n",
    "    similar_movies = data[mask]\n",
    "    \n",
    "    # If not enough similar movies, get more movies with same Director\n",
    "    if len(similar_movies) < n_similar and not pd.isna(row['Director']):\n",
    "        director_movies = data[data['Director'] == row['Director']]\n",
    "        similar_movies = pd.concat([similar_movies, director_movies]).drop_duplicates()\n",
    "    \n",
    "    return similar_movies.head(n_similar)\n",
    "\n",
    "\n",
    "def fill_genre(row, data):\n",
    "    \"\"\"Fill missing Genre based on similar movies\"\"\"\n",
    "    if pd.isna(row['Genre']):\n",
    "        similar_movies = get_similar_movies_for_genre(row, data)\n",
    "        # Get all genres from similar movies\n",
    "        all_genres = []\n",
    "        for _, movie in similar_movies.iterrows():\n",
    "            if not pd.isna(movie['Genre']):\n",
    "                all_genres.extend(process_genre(movie['Genre']))\n",
    "        \n",
    "        # Get the most frequent genres\n",
    "        if all_genres:\n",
    "            most_common = Counter(all_genres).most_common(2)  # Get 2 most common genres\n",
    "            # Create string list with correct format\n",
    "            genres = [genre for genre, _ in most_common]\n",
    "            return f\"[{', '.join(f'{genre}' for genre in genres)}]\"\n",
    "        return 'Unknown Genre'\n",
    "    return row['Genre']\n",
    "\n",
    "# Save index of rows with missing Genre before filling\n",
    "missing_genre_idx = data_tmp_2[data_tmp_2['Genre'].isnull()].index\n",
    "\n",
    "# Apply missing values filling\n",
    "data_tmp_2['Genre'] = data_tmp_2.apply(lambda row: fill_genre(row, data_tmp_2), axis=1)\n",
    "\n",
    "print(\"Number of missing values in Genre after Preprocess:\", data_tmp_2['Genre'].isnull().sum())"
   ]
  },
  {
   "cell_type": "code",
   "execution_count": 14,
   "metadata": {},
   "outputs": [
    {
     "name": "stdout",
     "output_type": "stream",
     "text": [
      "<class 'pandas.core.frame.DataFrame'>\n",
      "RangeIndex: 5106 entries, 0 to 5105\n",
      "Data columns (total 17 columns):\n",
      " #   Column                Non-Null Count  Dtype  \n",
      "---  ------                --------------  -----  \n",
      " 0   Title                 5106 non-null   object \n",
      " 1   Tomatoes CriticScore  5106 non-null   float64\n",
      " 2   Tomatoes UserScore    5106 non-null   float64\n",
      " 3   Link                  5106 non-null   object \n",
      " 4   PlatformReleased      5106 non-null   object \n",
      " 5   Cast                  5106 non-null   object \n",
      " 6   Director              5106 non-null   object \n",
      " 7   Genre                 5106 non-null   object \n",
      " 8   Rating                4015 non-null   object \n",
      " 9   Runtime               5036 non-null   object \n",
      " 10  Studio                5059 non-null   object \n",
      " 11  Release Date          5031 non-null   object \n",
      " 12  Production Budget     5106 non-null   float64\n",
      " 13  Domestic Gross        5106 non-null   float64\n",
      " 14  Worldwide Gross       5106 non-null   float64\n",
      " 15  Metascore             5106 non-null   float64\n",
      " 16  Meta UserScore        5106 non-null   float64\n",
      "dtypes: float64(7), object(10)\n",
      "memory usage: 678.3+ KB\n"
     ]
    }
   ],
   "source": [
    "data_tmp_2.info()"
   ]
  },
  {
   "cell_type": "code",
   "execution_count": 15,
   "metadata": {},
   "outputs": [
    {
     "data": {
      "text/plain": [
       "Title                      0\n",
       "Tomatoes CriticScore       0\n",
       "Tomatoes UserScore         0\n",
       "Link                       0\n",
       "PlatformReleased           0\n",
       "Cast                       0\n",
       "Director                   0\n",
       "Genre                      0\n",
       "Rating                  1091\n",
       "Runtime                   70\n",
       "Studio                    47\n",
       "Release Date              75\n",
       "Production Budget          0\n",
       "Domestic Gross             0\n",
       "Worldwide Gross            0\n",
       "Metascore                  0\n",
       "Meta UserScore             0\n",
       "dtype: int64"
      ]
     },
     "execution_count": 15,
     "metadata": {},
     "output_type": "execute_result"
    }
   ],
   "source": [
    "data_tmp_2.isnull().sum()"
   ]
  }
 ],
 "metadata": {
  "kernelspec": {
   "display_name": "min_ds-env",
   "language": "python",
   "name": "python3"
  },
  "language_info": {
   "codemirror_mode": {
    "name": "ipython",
    "version": 3
   },
   "file_extension": ".py",
   "mimetype": "text/x-python",
   "name": "python",
   "nbconvert_exporter": "python",
   "pygments_lexer": "ipython3",
   "version": "3.12.7"
  }
 },
 "nbformat": 4,
 "nbformat_minor": 2
}
