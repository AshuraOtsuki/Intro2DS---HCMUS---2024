{
 "cells": [
  {
   "cell_type": "markdown",
   "metadata": {},
   "source": [
    "# Table of contents\n",
    "1. [Libraries](#libraries)\n",
    "2. [Numerical columns](#numerical)\n",
    "3. [Categorical columns](#categorical)\n",
    "\n"
   ]
  },
  {
   "cell_type": "markdown",
   "metadata": {},
   "source": [
    "<h1 id = \"libraries\"> 1. Libraries </h1>"
   ]
  },
  {
   "cell_type": "code",
   "execution_count": 7,
   "metadata": {},
   "outputs": [],
   "source": [
    "import numpy as np\n",
    "import matplotlib.pyplot as plt\n",
    "import pandas as pd\n",
    "from scipy.stats import sem\n",
    "\n",
    "from sklearn.impute import KNNImputer\n",
    "from sklearn.metrics import mean_absolute_error, mean_squared_error, r2_score\n"
   ]
  },
  {
   "cell_type": "code",
   "execution_count": 8,
   "metadata": {},
   "outputs": [],
   "source": [
    "raw_data = pd.read_csv('../Data/retyped_data.csv')"
   ]
  },
  {
   "cell_type": "markdown",
   "metadata": {},
   "source": [
    "<div id = \"numerical\"> <h1> 2. Numerical columns </h1> </div>"
   ]
  },
  {
   "cell_type": "markdown",
   "metadata": {},
   "source": [
    "+ Impute missing value using KNN strategy"
   ]
  },
  {
   "cell_type": "code",
   "execution_count": 11,
   "metadata": {},
   "outputs": [
    {
     "data": {
      "text/plain": [
       "Title                      0\n",
       "Tomatoes CriticScore       0\n",
       "Tomatoes UserScore         0\n",
       "Link                       0\n",
       "PlatformReleased           0\n",
       "Cast                      32\n",
       "Director                  35\n",
       "Genre                     46\n",
       "Rating                  1091\n",
       "Runtime                   70\n",
       "Studio                    47\n",
       "Release Date              75\n",
       "Production Budget          0\n",
       "Domestic Gross             0\n",
       "Worldwide Gross            0\n",
       "Metascore                  0\n",
       "Meta UserScore             0\n",
       "dtype: int64"
      ]
     },
     "execution_count": 11,
     "metadata": {},
     "output_type": "execute_result"
    }
   ],
   "source": [
    "\n",
    "\n",
    "# Prepare the data (numeric columns only)\n",
    "columns = ['Tomatoes CriticScore', 'Tomatoes UserScore', 'Metascore', 'Meta UserScore']\n",
    "\n",
    "# Copy raw data and scale 'Meta UserScore'\n",
    "data_tmp_2 = raw_data.copy()\n",
    "data_tmp_2['Meta UserScore'] = data_tmp_2['Meta UserScore'] * 10\n",
    "\n",
    "# Create an imputer\n",
    "knn_imputer = KNNImputer(n_neighbors=20, weights=\"uniform\")\n",
    "\n",
    "# Step 1: Apply KNN Imputation\n",
    "# Impute all missing values\n",
    "imputed_data = knn_imputer.fit_transform(data_tmp_2[columns])\n",
    "\n",
    "# Reconstruct the DataFrame with imputed values\n",
    "imputed_df = pd.DataFrame(imputed_data, columns=columns)\n",
    "\n",
    "# Step 2: Fill missing values only\n",
    "for col in columns:\n",
    "    # Update only rows where the value is NaN\n",
    "    data_tmp_2[col] = data_tmp_2[col].combine_first(imputed_df[col])\n",
    "\n",
    "data_tmp_2.isnull().sum()"
   ]
  },
  {
   "cell_type": "markdown",
   "metadata": {},
   "source": [
    "Phew! No more missing Scores"
   ]
  },
  {
   "cell_type": "markdown",
   "metadata": {},
   "source": [
    "<div id = \"categorical\"> <h1> 3. Categorical columns </h1> </div>"
   ]
  },
  {
   "cell_type": "code",
   "execution_count": null,
   "metadata": {},
   "outputs": [],
   "source": []
  }
 ],
 "metadata": {
  "kernelspec": {
   "display_name": "base",
   "language": "python",
   "name": "python3"
  },
  "language_info": {
   "codemirror_mode": {
    "name": "ipython",
    "version": 3
   },
   "file_extension": ".py",
   "mimetype": "text/x-python",
   "name": "python",
   "nbconvert_exporter": "python",
   "pygments_lexer": "ipython3",
   "version": "3.12.4"
  }
 },
 "nbformat": 4,
 "nbformat_minor": 2
}
