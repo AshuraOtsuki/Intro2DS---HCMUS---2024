{
 "cells": [
  {
   "cell_type": "markdown",
   "metadata": {},
   "source": [
    "# Table of contents\n",
    "1. [Libraries](#libraries)\n",
    "2. [Numerical columns](#numerical)\n",
    "3. [Categorical columns](#categorical)\n",
    "\n"
   ]
  },
  {
   "cell_type": "markdown",
   "metadata": {},
   "source": [
    "<h1 id = \"libraries\"> 1. Libraries </h1>"
   ]
  },
  {
   "cell_type": "code",
   "execution_count": 1,
   "metadata": {},
   "outputs": [],
   "source": [
    "import numpy as np\n",
    "import matplotlib.pyplot as plt\n",
    "import pandas as pd\n",
    "import re\n",
    "import seaborn as sns\n",
    "from scipy.stats import sem\n",
    "\n",
    "from sklearn.impute import KNNImputer\n",
    "from sklearn.metrics import mean_absolute_error, mean_squared_error, r2_score"
   ]
  },
  {
   "cell_type": "code",
   "execution_count": 2,
   "metadata": {},
   "outputs": [],
   "source": [
    "raw_data = pd.read_csv('../Data/retyped_data.csv')"
   ]
  },
  {
   "cell_type": "markdown",
   "metadata": {},
   "source": [
    "<div id = \"numerical\"> <h1> 2. Numerical columns </h1> </div>"
   ]
  },
  {
   "cell_type": "markdown",
   "metadata": {},
   "source": [
    "- Impute missing values using KNN strategy"
   ]
  },
  {
   "cell_type": "code",
   "execution_count": 3,
   "metadata": {},
   "outputs": [
    {
     "data": {
      "text/plain": [
       "Title                      0\n",
       "Tomatoes CriticScore       0\n",
       "Tomatoes UserScore         0\n",
       "Link                       0\n",
       "PlatformReleased           0\n",
       "Cast                      32\n",
       "Director                  35\n",
       "Genre                     46\n",
       "Rating                  1091\n",
       "Runtime                   70\n",
       "Studio                    47\n",
       "Release Date              75\n",
       "Production Budget          0\n",
       "Domestic Gross             0\n",
       "Worldwide Gross            0\n",
       "Metascore                  0\n",
       "Meta UserScore             0\n",
       "dtype: int64"
      ]
     },
     "execution_count": 3,
     "metadata": {},
     "output_type": "execute_result"
    }
   ],
   "source": [
    "# Prepare the data (numeric columns only)\n",
    "columns = ['Tomatoes CriticScore', 'Tomatoes UserScore', 'Metascore', 'Meta UserScore']\n",
    "\n",
    "# Copy raw data and scale 'Meta UserScore'\n",
    "data_tmp_2 = raw_data.copy()\n",
    "data_tmp_2['Meta UserScore'] = data_tmp_2['Meta UserScore'] * 10\n",
    "\n",
    "# Create an imputer\n",
    "knn_imputer = KNNImputer(n_neighbors=20, weights=\"uniform\")\n",
    "\n",
    "# Step 1: Apply KNN Imputation\n",
    "# Impute all missing values\n",
    "imputed_data = knn_imputer.fit_transform(data_tmp_2[columns])\n",
    "\n",
    "# Reconstruct the DataFrame with imputed values\n",
    "imputed_df = pd.DataFrame(imputed_data, columns=columns)\n",
    "\n",
    "# Step 2: Fill missing values only\n",
    "for col in columns:\n",
    "    # Update only rows where the value is NaN\n",
    "    data_tmp_2[col] = data_tmp_2[col].combine_first(imputed_df[col])\n",
    "\n",
    "data_tmp_2.isnull().sum()"
   ]
  },
  {
   "cell_type": "markdown",
   "metadata": {},
   "source": [
    "<div id = \"categorical\"> <h1> 3. Categorical columns </h1> </div>"
   ]
  },
  {
   "cell_type": "code",
   "execution_count": null,
   "metadata": {},
   "outputs": [],
   "source": []
  }
 ],
 "metadata": {
  "kernelspec": {
   "display_name": "min_ds-env",
   "language": "python",
   "name": "python3"
  },
  "language_info": {
   "codemirror_mode": {
    "name": "ipython",
    "version": 3
   },
   "file_extension": ".py",
   "mimetype": "text/x-python",
   "name": "python",
   "nbconvert_exporter": "python",
   "pygments_lexer": "ipython3",
   "version": "3.10.8"
  }
 },
 "nbformat": 4,
 "nbformat_minor": 2
}
