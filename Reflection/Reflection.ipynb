{
 "cells": [
  {
   "cell_type": "markdown",
   "metadata": {},
   "source": [
    "# Table of contents\n",
    "1. [Difficulties and Lessons learned](#difandles)\n",
    "2. [Plans to improve if have more time](#plans)\n",
    "3. [References](#references)"
   ]
  },
  {
   "cell_type": "markdown",
   "metadata": {},
   "source": [
    "<h1 id = \"difandles\">1. Difficulties and Lessons learned </h1>"
   ]
  },
  {
   "cell_type": "markdown",
   "metadata": {},
   "source": [
    "|Name |Difficulties|Useful Things Learned| \n",
    "|-----|------------|---------------|\n",
    "|Dương Nhật Huy|- Various techniques must be employed to effectively crawl data from sources, overcoming the inherent limitations.<br>- Columns like Cast, Director, and Genre often contain a multitude of values, making it challenging to analyze and preprocess effectively.|- Demonstrates proficiency in utilizing a variety of techniques for efficient data crawling.<br>- Skilled in leveraging feature relationships to effectively handle and fill missing values.<br>- Proficient in creating interactive form interfaces within Jupyter Notebook for seamless model input.|\n",
    "|Trương Thuận Kiệt|- Had difficulty in distributing tasks for each members. <br>- Resolving conflicts of notebook on GitHub. <br>- Decision to choose which approach to handle missing data of numerical columns.|- Got to know the process of data science. <br> - Know how to model data and how to hyper-tune models|\n",
    "|Phạm Minh Mẫn|- Dataset is heavily missing, require complicating imputation technique. <br>- Model involves heavy one-hot encoding because there are many categorical variables.|- How to deal with real world data<br>- Different imputation technique : KNN, Decision Tree. <br>- How to one-hot encoding complicated datasets.<br>- How attributes like genres, ratings, release date, studio,... affect a movie|\n",
    "|Hồ Đăng Phúc|- Crawling data wasn’t as straightforward as expected. The website had anti-scraping measures like CAPTCHA and dynamic content loading, which made things more complicated.<br>- Dealt with inconsistencies and irrelevant categories.<br>- Categorical data came with inconsistencies, like different spellings, capitalization issues, and irrelevant categories, which could negatively impact the model’s performance.|- Using the right tools, like Selenium for dynamic content or Scrapy for large-scale scraping.<br>- Important to handle missing values and outliers carefully to ensure the data was clean and reliable."
   ]
  },
  {
   "cell_type": "markdown",
   "metadata": {},
   "source": [
    "<h1 id = \"plans\">2. Plans to improve if have more time </h1>"
   ]
  },
  {
   "cell_type": "markdown",
   "metadata": {},
   "source": [
    "- Models improvement through better hyper-parameters.\n",
    "- Find a more optimal method to handle missing data in categorical and numerical columns.\n",
    "- Giving more meaningful questions for a better comprehension of data.\n"
   ]
  },
  {
   "cell_type": "markdown",
   "metadata": {},
   "source": [
    "<h1 id = \"references\">3. References </h1>"
   ]
  },
  {
   "cell_type": "markdown",
   "metadata": {},
   "source": [
    "#### Preprocessing\n",
    "- [KNN for Handling Missing Data](https://www.geeksforgeeks.org/python-imputation-using-the-knnimputer/)\n",
    "- [T-test](https://www.researchgate.net/post/How-to-handle-missing-data-for-a-paired-t-test)\n",
    "- [Kind of missingness](https://www.theanalysisfactor.com/missing-data-mechanism/)\n",
    "\n",
    "#### Questioning\n",
    "- [P-value](https://www.investopedia.com/terms/p/p-value.asp)\n",
    "- [Visualization](https://drive.google.com/drive/folders/11fikObyneBg5JV9Vc903kGqjAwUprU8a)\n",
    "- [Movie Rating System](https://en.wikipedia.org/wiki/Motion_Picture_Association_film_rating_system)\n",
    "#### Modelling\n",
    "- [Cross Validation](https://www.geeksforgeeks.org/cross-validation-machine-learning/)\n",
    "- [Underfitting and Overfitting](https://www.geeksforgeeks.org/underfitting-and-overfitting-in-machine-learning/)\n",
    "- [XGBoost](https://www.geeksforgeeks.org/xgboost/)\n",
    "- [Gradient Boosting Regressor](https://www.geeksforgeeks.org/gradientboosting-vs-adaboost-vs-xgboost-vs-catboost-vs-lightgbm/)\n",
    "- [Gradient Boosting Models](https://viblo.asia/p/gradient-boosting-tat-tan-tat-ve-thuat-toan-manh-me-nhat-trong-machine-learning-YWOZrN7vZQ0)"
   ]
  }
 ],
 "metadata": {
  "language_info": {
   "name": "python"
  }
 },
 "nbformat": 4,
 "nbformat_minor": 2
}
