{
 "cells": [
  {
   "cell_type": "markdown",
   "metadata": {},
   "source": [
    "# 1. Introduction to file\n",
    "The same as the crawler file, but this file is used to crawl some movies that have been missed in the current data."
   ]
  },
  {
   "cell_type": "markdown",
   "metadata": {},
   "source": [
    "# 2. Libraries"
   ]
  },
  {
   "cell_type": "code",
   "execution_count": null,
   "metadata": {},
   "outputs": [],
   "source": [
    "import requests\n",
    "from bs4 import BeautifulSoup\n",
    "import csv\n",
    "import os"
   ]
  },
  {
   "cell_type": "markdown",
   "metadata": {},
   "source": [
    "# 3. Data Collection"
   ]
  },
  {
   "cell_type": "markdown",
   "metadata": {},
   "source": [
    "- Get data from MetaCritic, but we add crawl_failed_films to check missing films"
   ]
  },
  {
   "cell_type": "code",
   "execution_count": null,
   "metadata": {},
   "outputs": [],
   "source": [
    "def get_metacritic(url):\n",
    "    headers = {\n",
    "        'User-Agent': 'Mozilla/5.0 (Windows NT 10.0; Win64; x64) AppleWebKit/537.36 (KHTML, like Gecko) Chrome/'\n",
    "    }\n",
    "    \n",
    "    try:\n",
    "        soup = fetch_movies(url, headers)\n",
    "        \n",
    "        # Find div containing metascore\n",
    "        divMeta = soup.find('div', class_=\"c-siteReviewScore_background c-siteReviewScore_background-critic_medium\")\n",
    "        metascore = divMeta.find('span', {'data-v-e408cafe': True}).text if divMeta else \"N/A\"\n",
    "        \n",
    "        # Find div containing userscore\n",
    "        divUser = soup.find('div', class_=\"c-siteReviewScore_background c-siteReviewScore_background-user\")\n",
    "        userscore = divUser.find('span', {'data-v-e408cafe': True}).text if divUser else \"N/A\"\n",
    "        \n",
    "        return metascore, userscore\n",
    "    except Exception as e:\n",
    "        print(f\"Error fetching data from {url}: {e}\")\n",
    "        return \"N/A\", \"N/A\"\n",
    "\n",
    "def from_film_name_to_metacritic_url(film_name):\n",
    "    film_name = film_name.lower()\n",
    "    film_name = film_name.replace(\" \", \"-\")\n",
    "    film_name = film_name.replace(\":\", \"\")\n",
    "    film_name = film_name.replace(\"'\", \"\")\n",
    "    film_name = film_name.replace(\".\", \"\")\n",
    "    url = f\"https://www.metacritic.com/movie/{film_name}\"\n",
    "    \n",
    "    return url\n",
    "\n",
    "def fetch_movies(url, headers):\n",
    "    response = requests.get(url, headers=headers)\n",
    "    soup = BeautifulSoup(response.content, \"html.parser\")\n",
    "    return soup\n",
    "\n",
    "def check_film_exists(film_name, failedPath):\n",
    "    film_url = from_film_name_to_metacritic_url(film_name)\n",
    "    headers = {\n",
    "        'User-Agent': 'Mozilla/5.0 (Windows NT 10.0; Win64; x64) AppleWebKit/537.36 (KHTML, like Gecko) Chrome/'\n",
    "    }\n",
    "    response = requests.get(film_url, headers=headers)\n",
    "    if response.status_code == 200:\n",
    "        return True\n",
    "    else:\n",
    "        with open(failedPath, mode='a') as file:\n",
    "            file.write(f\"{film_name}\\n\")\n",
    "        return False\n",
    "\n",
    "def crawl_failed_films(failedPath, outputPath):\n",
    "    # Initialize updated data list\n",
    "    updated_data = []\n",
    "\n",
    "    # Open the original CSV file for reading\n",
    "    with open(failedPath, 'r', newline='') as csv_file:\n",
    "        reader = csv.reader(csv_file)\n",
    "        header = next(reader)\n",
    "        \n",
    "        updated_header = header + [\"metascore\", \"userscore\"]\n",
    "        updated_data.append(updated_header)\n",
    "        \n",
    "        # Read each row, access the second column (identifier), and add new fields\n",
    "        for row in reader:\n",
    "            identifier = row[1]  \n",
    "            metascore, userscore = get_metacritic(from_film_name_to_metacritic_url(identifier))\n",
    "            \n",
    "            row_with_new_fields = row + [metascore, userscore]\n",
    "            updated_data.append(row_with_new_fields)\n",
    "\n",
    "            print(\"Updated data for\", identifier)\n",
    "\n",
    "    # Write the updated data back into a new CSV file\n",
    "    with open(outputPath, 'w', newline='') as updated_csv_file:\n",
    "        writer = csv.writer(updated_csv_file)\n",
    "        writer.writerows(updated_data)\n",
    "\n",
    "    print(f'Data has been updated and saved to {outputPath}')\n"
   ]
  },
  {
   "cell_type": "markdown",
   "metadata": {},
   "source": [
    "- Save to file csv"
   ]
  },
  {
   "cell_type": "code",
   "execution_count": null,
   "metadata": {},
   "outputs": [],
   "source": [
    "# Specify the file paths\n",
    "failedPath = '../../Data/output.csv'  # Input CSV file\n",
    "outputPath = '../../Data/updated_output.csv'  # Output CSV file with additional columns\n",
    "\n",
    "crawl_failed_films(failedPath, outputPath)"
   ]
  }
 ],
 "metadata": {
  "kernelspec": {
   "display_name": "Python 3",
   "language": "python",
   "name": "python3"
  },
  "language_info": {
   "name": "python",
   "version": "3.11.9"
  }
 },
 "nbformat": 4,
 "nbformat_minor": 2
}
