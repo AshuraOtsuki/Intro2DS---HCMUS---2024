{
 "cells": [
  {
   "cell_type": "markdown",
   "metadata": {},
   "source": [
    "# 1. Introduction to Inflation data\n",
    "- Inflation data refers to the collection of economic metrics that measure the rate at which the general price level of goods and services in an economy increases over a specific period. Inflation reflects a decline in purchasing power, as consumers can buy fewer goods with the same amount of money over time.\n",
    "- In order to have an accurate view of economic features of movies over time, we will use rate of inflation to have an exact number in features like:\n",
    "    - Budget\n",
    "    - WorldWide/Domestic Gross\n",
    "    "
   ]
  },
  {
   "cell_type": "markdown",
   "metadata": {},
   "source": [
    "# 2. Libraries"
   ]
  },
  {
   "cell_type": "code",
   "execution_count": 6,
   "metadata": {},
   "outputs": [],
   "source": [
    "import requests\n",
    "from bs4 import BeautifulSoup\n",
    "import pandas as pd"
   ]
  },
  {
   "cell_type": "markdown",
   "metadata": {},
   "source": [
    "# 3. Data Collection\n",
    "- We will collect the rate of inflation through api https://www.investopedia.com/inflation-rate-by-year-7253832#toc-historical-us-inflation-rates-from-1929-to-2024\n",
    "- Since the api does not allow default requests, we will use `User-Agent` header for web protection (Without commercial use, therefore we are safe to do this)\n"
   ]
  },
  {
   "cell_type": "code",
   "execution_count": 7,
   "metadata": {},
   "outputs": [],
   "source": [
    "url = 'https://www.investopedia.com/inflation-rate-by-year-7253832#toc-historical-us-inflation-rates-from-1929-to-2024'\n",
    "\n",
    "headers = {\n",
    "    'User-Agent': 'Mozilla/5.0 (Linux; Android 6.0.1; Nexus 5X Build/MMB29P) AppleWebKit/537.36 (KHTML, like Gecko) Chrome/128.0.6613.119 Mobile Safari/537.36 (compatible; Googlebot/2.1;  http://www.google.com/bot.html)'\n",
    "}\n",
    "\n",
    "response = requests.get(url=url, headers=headers)\n",
    "\n",
    "soup = BeautifulSoup(response.text, 'html.parser')"
   ]
  },
  {
   "cell_type": "markdown",
   "metadata": {},
   "source": [
    "- Information collected:\n",
    "    - Year: Ranging from 1929 to 2024.\n",
    "    - Rate: Inflation rate of that year compared to the year before it.\n",
    "    - Unit: Default value in 2024 will be 1, values of other years will be calculated based on the inflation rate "
   ]
  },
  {
   "cell_type": "code",
   "execution_count": 8,
   "metadata": {},
   "outputs": [],
   "source": [
    "table = soup.find('table', class_='mntl-sc-block-table__table')\n",
    "\n",
    "data = table.find_all('tr')[1:]\n",
    "data = [info.text.strip().split('\\n') for info in data]\n",
    "\n",
    "years, rates, units = [], [], []\n",
    "\n",
    "new_data = {\n",
    "    'Year': years,\n",
    "    'Rate': rates,\n",
    "    'Unit': units\n",
    "}\n",
    "\n",
    "for item in data:\n",
    "    years.append(int(item[0]))\n",
    "    rates.append(float(item[1].replace('%', '')))\n",
    "\n",
    "\n",
    "years.append(2024)\n",
    "rates.append(2.4)\n",
    "\n",
    "years.reverse()\n",
    "rates.reverse()"
   ]
  },
  {
   "cell_type": "markdown",
   "metadata": {},
   "source": [
    "- Unit of other years is calculated by this equation:\n",
    "    - $U_n = U_{n-1} \\times (1 + \\frac{r}{100})$"
   ]
  },
  {
   "cell_type": "code",
   "execution_count": 9,
   "metadata": {},
   "outputs": [],
   "source": [
    "units.append(1.0)\n",
    "\n",
    "for rate in rates[:-1]:\n",
    "    units.append(round(units[-1] * (1 + rate / 100),3))"
   ]
  },
  {
   "cell_type": "markdown",
   "metadata": {},
   "source": [
    "- After finishing the collection, put the data into DataFrame and save it to file csv"
   ]
  },
  {
   "cell_type": "code",
   "execution_count": 10,
   "metadata": {},
   "outputs": [],
   "source": [
    "df = pd.DataFrame.from_dict(new_data)"
   ]
  },
  {
   "cell_type": "code",
   "execution_count": 11,
   "metadata": {},
   "outputs": [],
   "source": [
    "df.to_csv('../../Data/inflation_rate.csv', index=False)"
   ]
  }
 ],
 "metadata": {
  "kernelspec": {
   "display_name": "Python 3",
   "language": "python",
   "name": "python3"
  },
  "language_info": {
   "codemirror_mode": {
    "name": "ipython",
    "version": 3
   },
   "file_extension": ".py",
   "mimetype": "text/x-python",
   "name": "python",
   "nbconvert_exporter": "python",
   "pygments_lexer": "ipython3",
   "version": "3.12.7"
  }
 },
 "nbformat": 4,
 "nbformat_minor": 2
}
